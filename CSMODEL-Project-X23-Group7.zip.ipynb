{
 "cells": [
  {
   "cell_type": "markdown",
   "id": "4a754d0e",
   "metadata": {
    "id": "lq-jDrkmr4fM"
   },
   "source": [
    "# Spotify - All Time Top 2000s Mega Dataset\n",
    "by: Bondoc, Alyana; Dalisay, Andres; To, Justin\n",
    "\n",
    "We will be using the dataset [Spotify - All Time Top 2000s Mega Dataset](https://www.kaggle.com/datasets/iamsumat/spotify-top-2000s-mega-dataset) for this project. "
   ]
  },
  {
   "cell_type": "markdown",
   "id": "f72affc6",
   "metadata": {},
   "source": [
    "# Phase 1"
   ]
  },
  {
   "cell_type": "markdown",
   "id": "d0635d2e",
   "metadata": {
    "id": "odsSi-Igr4fU"
   },
   "source": [
    "## Import Libraries"
   ]
  },
  {
   "cell_type": "code",
   "execution_count": 1,
   "id": "06c94b47",
   "metadata": {},
   "outputs": [],
   "source": [
    "import numpy as np\n",
    "import pandas as pd\n",
    "import matplotlib.pyplot as plt\n",
    "import scipy.stats as stats\n",
    "from scipy.stats import norm\n",
    "from scipy.stats import chi2_contingency\n",
    "from scipy.stats import f_oneway\n",
    "\n",
    "%load_ext autoreload\n",
    "%autoreload 2"
   ]
  },
  {
   "cell_type": "markdown",
   "id": "09973cbb",
   "metadata": {
    "id": "wAP6wrLfr4fV"
   },
   "source": [
    "## The Dataset\n",
    "\n",
    "The dataset consists of a list of the top tracks to have come out between 1956 and 2019 that are available on Spotify. It contains information about the track and how it scales across multiple sound features. The dataset was extracted from the playlist, “Top 2000s”, on Spotify. The data was then passed to PlaylistMachinery(@plamere), which was then able to retrieve attributes per song in the playlist. Sumat Singh then scraped the data from the site using Python with Selenium to form the dataset that the group will be using for the analysis.\n",
    "\n",
    "The dataset contains 15 different columns that represent an attribute as well as 1995 different rows wherein 1994 of them represent an observation with 1 representing the column names, thus giving it a shape of (1995,15).\n",
    "\n",
    "The column/variables consist of: \n",
    "\n",
    "- **`Title`**: Title of the track.\n",
    "- **`Artist`**: Artist/group who made the track.\n",
    "- **`Top Genre`**: Genre of the track.\n",
    "- **`Year`**: Year the track was released.\n",
    "- **`Length`**: Duration of the track in seconds.\n",
    "- **`Beats Per Minute`**: Average count of beats per 1 minute interval of the track.\n",
    "- **`Energy`**: Scale measuring how energetic and upbeat the track is. The higher the value, the more energetic.\n",
    "- **`Danceability`**: Scale measuring how usable the track is for dancing. The higher the value, the more danceable.\n",
    "- **`Loudness`**: Scale measuring how loud the track is, measured in decibels. The higher the value, the louder.\n",
    "- **`Valence`**: Scale measuring the mood of the song, whether it be positive or negative. The higher the value, the more positive.\n",
    "- **`Accoustic`**: Scale measuring how acoustic the track is. The higher the value, the more acoustic.\n",
    "- **`Speechiness`**: Scale measuring the track’s word count. The higher the value, the more words were used.\n",
    "- **`Liveliness`**: Scale measuring the likeliness that it is a live recording. The higher the value, the more likely it is that the track was recorded live.\n",
    "- **`Popularity`**: Scale measuring how popular the song is. The higher the value, the more popular the song is as of 2019.\n",
    "\n",
    "All of this data was taken by PlaylistMachinery from the Spotify API. More detailed descriptions of the audio features can be seen in [Spotify's Web API Documentation.](https://developer.spotify.com/documentation/web-api/reference/#/operations/get-audio-features)\n",
    "\n",
    "The dataset was provided as a `.csv` file."
   ]
  },
  {
   "cell_type": "code",
   "execution_count": 2,
   "id": "932245e3",
   "metadata": {},
   "outputs": [
    {
     "data": {
      "text/html": [
       "<div>\n",
       "<style scoped>\n",
       "    .dataframe tbody tr th:only-of-type {\n",
       "        vertical-align: middle;\n",
       "    }\n",
       "\n",
       "    .dataframe tbody tr th {\n",
       "        vertical-align: top;\n",
       "    }\n",
       "\n",
       "    .dataframe thead th {\n",
       "        text-align: right;\n",
       "    }\n",
       "</style>\n",
       "<table border=\"1\" class=\"dataframe\">\n",
       "  <thead>\n",
       "    <tr style=\"text-align: right;\">\n",
       "      <th></th>\n",
       "      <th>Index</th>\n",
       "      <th>Title</th>\n",
       "      <th>Artist</th>\n",
       "      <th>Top Genre</th>\n",
       "      <th>Year</th>\n",
       "      <th>Beats Per Minute (BPM)</th>\n",
       "      <th>Energy</th>\n",
       "      <th>Danceability</th>\n",
       "      <th>Loudness (dB)</th>\n",
       "      <th>Liveness</th>\n",
       "      <th>Valence</th>\n",
       "      <th>Length (Duration)</th>\n",
       "      <th>Acousticness</th>\n",
       "      <th>Speechiness</th>\n",
       "      <th>Popularity</th>\n",
       "    </tr>\n",
       "  </thead>\n",
       "  <tbody>\n",
       "    <tr>\n",
       "      <th>0</th>\n",
       "      <td>1</td>\n",
       "      <td>Sunrise</td>\n",
       "      <td>Norah Jones</td>\n",
       "      <td>adult standards</td>\n",
       "      <td>2004</td>\n",
       "      <td>157</td>\n",
       "      <td>30</td>\n",
       "      <td>53</td>\n",
       "      <td>-14</td>\n",
       "      <td>11</td>\n",
       "      <td>68</td>\n",
       "      <td>201</td>\n",
       "      <td>94</td>\n",
       "      <td>3</td>\n",
       "      <td>71</td>\n",
       "    </tr>\n",
       "    <tr>\n",
       "      <th>1</th>\n",
       "      <td>2</td>\n",
       "      <td>Black Night</td>\n",
       "      <td>Deep Purple</td>\n",
       "      <td>album rock</td>\n",
       "      <td>2000</td>\n",
       "      <td>135</td>\n",
       "      <td>79</td>\n",
       "      <td>50</td>\n",
       "      <td>-11</td>\n",
       "      <td>17</td>\n",
       "      <td>81</td>\n",
       "      <td>207</td>\n",
       "      <td>17</td>\n",
       "      <td>7</td>\n",
       "      <td>39</td>\n",
       "    </tr>\n",
       "    <tr>\n",
       "      <th>2</th>\n",
       "      <td>3</td>\n",
       "      <td>Clint Eastwood</td>\n",
       "      <td>Gorillaz</td>\n",
       "      <td>alternative hip hop</td>\n",
       "      <td>2001</td>\n",
       "      <td>168</td>\n",
       "      <td>69</td>\n",
       "      <td>66</td>\n",
       "      <td>-9</td>\n",
       "      <td>7</td>\n",
       "      <td>52</td>\n",
       "      <td>341</td>\n",
       "      <td>2</td>\n",
       "      <td>17</td>\n",
       "      <td>69</td>\n",
       "    </tr>\n",
       "    <tr>\n",
       "      <th>3</th>\n",
       "      <td>4</td>\n",
       "      <td>The Pretender</td>\n",
       "      <td>Foo Fighters</td>\n",
       "      <td>alternative metal</td>\n",
       "      <td>2007</td>\n",
       "      <td>173</td>\n",
       "      <td>96</td>\n",
       "      <td>43</td>\n",
       "      <td>-4</td>\n",
       "      <td>3</td>\n",
       "      <td>37</td>\n",
       "      <td>269</td>\n",
       "      <td>0</td>\n",
       "      <td>4</td>\n",
       "      <td>76</td>\n",
       "    </tr>\n",
       "    <tr>\n",
       "      <th>4</th>\n",
       "      <td>5</td>\n",
       "      <td>Waitin' On A Sunny Day</td>\n",
       "      <td>Bruce Springsteen</td>\n",
       "      <td>classic rock</td>\n",
       "      <td>2002</td>\n",
       "      <td>106</td>\n",
       "      <td>82</td>\n",
       "      <td>58</td>\n",
       "      <td>-5</td>\n",
       "      <td>10</td>\n",
       "      <td>87</td>\n",
       "      <td>256</td>\n",
       "      <td>1</td>\n",
       "      <td>3</td>\n",
       "      <td>59</td>\n",
       "    </tr>\n",
       "    <tr>\n",
       "      <th>...</th>\n",
       "      <td>...</td>\n",
       "      <td>...</td>\n",
       "      <td>...</td>\n",
       "      <td>...</td>\n",
       "      <td>...</td>\n",
       "      <td>...</td>\n",
       "      <td>...</td>\n",
       "      <td>...</td>\n",
       "      <td>...</td>\n",
       "      <td>...</td>\n",
       "      <td>...</td>\n",
       "      <td>...</td>\n",
       "      <td>...</td>\n",
       "      <td>...</td>\n",
       "      <td>...</td>\n",
       "    </tr>\n",
       "    <tr>\n",
       "      <th>1989</th>\n",
       "      <td>1990</td>\n",
       "      <td>Heartbreak Hotel</td>\n",
       "      <td>Elvis Presley</td>\n",
       "      <td>adult standards</td>\n",
       "      <td>1958</td>\n",
       "      <td>94</td>\n",
       "      <td>21</td>\n",
       "      <td>70</td>\n",
       "      <td>-12</td>\n",
       "      <td>11</td>\n",
       "      <td>72</td>\n",
       "      <td>128</td>\n",
       "      <td>84</td>\n",
       "      <td>7</td>\n",
       "      <td>63</td>\n",
       "    </tr>\n",
       "    <tr>\n",
       "      <th>1990</th>\n",
       "      <td>1991</td>\n",
       "      <td>Hound Dog</td>\n",
       "      <td>Elvis Presley</td>\n",
       "      <td>adult standards</td>\n",
       "      <td>1958</td>\n",
       "      <td>175</td>\n",
       "      <td>76</td>\n",
       "      <td>36</td>\n",
       "      <td>-8</td>\n",
       "      <td>76</td>\n",
       "      <td>95</td>\n",
       "      <td>136</td>\n",
       "      <td>73</td>\n",
       "      <td>6</td>\n",
       "      <td>69</td>\n",
       "    </tr>\n",
       "    <tr>\n",
       "      <th>1991</th>\n",
       "      <td>1992</td>\n",
       "      <td>Johnny B. Goode</td>\n",
       "      <td>Chuck Berry</td>\n",
       "      <td>blues rock</td>\n",
       "      <td>1959</td>\n",
       "      <td>168</td>\n",
       "      <td>80</td>\n",
       "      <td>53</td>\n",
       "      <td>-9</td>\n",
       "      <td>31</td>\n",
       "      <td>97</td>\n",
       "      <td>162</td>\n",
       "      <td>74</td>\n",
       "      <td>7</td>\n",
       "      <td>74</td>\n",
       "    </tr>\n",
       "    <tr>\n",
       "      <th>1992</th>\n",
       "      <td>1993</td>\n",
       "      <td>Take Five</td>\n",
       "      <td>The Dave Brubeck Quartet</td>\n",
       "      <td>bebop</td>\n",
       "      <td>1959</td>\n",
       "      <td>174</td>\n",
       "      <td>26</td>\n",
       "      <td>45</td>\n",
       "      <td>-13</td>\n",
       "      <td>7</td>\n",
       "      <td>60</td>\n",
       "      <td>324</td>\n",
       "      <td>54</td>\n",
       "      <td>4</td>\n",
       "      <td>65</td>\n",
       "    </tr>\n",
       "    <tr>\n",
       "      <th>1993</th>\n",
       "      <td>1994</td>\n",
       "      <td>Blueberry Hill</td>\n",
       "      <td>Fats Domino</td>\n",
       "      <td>adult standards</td>\n",
       "      <td>1959</td>\n",
       "      <td>133</td>\n",
       "      <td>50</td>\n",
       "      <td>49</td>\n",
       "      <td>-10</td>\n",
       "      <td>16</td>\n",
       "      <td>83</td>\n",
       "      <td>148</td>\n",
       "      <td>74</td>\n",
       "      <td>3</td>\n",
       "      <td>56</td>\n",
       "    </tr>\n",
       "  </tbody>\n",
       "</table>\n",
       "<p>1994 rows × 15 columns</p>\n",
       "</div>"
      ],
      "text/plain": [
       "      Index                   Title                    Artist  \\\n",
       "0         1                 Sunrise               Norah Jones   \n",
       "1         2             Black Night               Deep Purple   \n",
       "2         3          Clint Eastwood                  Gorillaz   \n",
       "3         4           The Pretender              Foo Fighters   \n",
       "4         5  Waitin' On A Sunny Day         Bruce Springsteen   \n",
       "...     ...                     ...                       ...   \n",
       "1989   1990        Heartbreak Hotel             Elvis Presley   \n",
       "1990   1991               Hound Dog             Elvis Presley   \n",
       "1991   1992         Johnny B. Goode               Chuck Berry   \n",
       "1992   1993               Take Five  The Dave Brubeck Quartet   \n",
       "1993   1994          Blueberry Hill               Fats Domino   \n",
       "\n",
       "                Top Genre  Year  Beats Per Minute (BPM)  Energy  Danceability  \\\n",
       "0         adult standards  2004                     157      30            53   \n",
       "1              album rock  2000                     135      79            50   \n",
       "2     alternative hip hop  2001                     168      69            66   \n",
       "3       alternative metal  2007                     173      96            43   \n",
       "4            classic rock  2002                     106      82            58   \n",
       "...                   ...   ...                     ...     ...           ...   \n",
       "1989      adult standards  1958                      94      21            70   \n",
       "1990      adult standards  1958                     175      76            36   \n",
       "1991           blues rock  1959                     168      80            53   \n",
       "1992                bebop  1959                     174      26            45   \n",
       "1993      adult standards  1959                     133      50            49   \n",
       "\n",
       "      Loudness (dB)  Liveness  Valence Length (Duration)  Acousticness  \\\n",
       "0               -14        11       68               201            94   \n",
       "1               -11        17       81               207            17   \n",
       "2                -9         7       52               341             2   \n",
       "3                -4         3       37               269             0   \n",
       "4                -5        10       87               256             1   \n",
       "...             ...       ...      ...               ...           ...   \n",
       "1989            -12        11       72               128            84   \n",
       "1990             -8        76       95               136            73   \n",
       "1991             -9        31       97               162            74   \n",
       "1992            -13         7       60               324            54   \n",
       "1993            -10        16       83               148            74   \n",
       "\n",
       "      Speechiness  Popularity  \n",
       "0               3          71  \n",
       "1               7          39  \n",
       "2              17          69  \n",
       "3               4          76  \n",
       "4               3          59  \n",
       "...           ...         ...  \n",
       "1989            7          63  \n",
       "1990            6          69  \n",
       "1991            7          74  \n",
       "1992            4          65  \n",
       "1993            3          56  \n",
       "\n",
       "[1994 rows x 15 columns]"
      ]
     },
     "execution_count": 2,
     "metadata": {},
     "output_type": "execute_result"
    }
   ],
   "source": [
    "df = pd.read_csv(\"Spotify-2000.csv\")\n",
    "df"
   ]
  },
  {
   "cell_type": "code",
   "execution_count": 3,
   "id": "0c893338",
   "metadata": {},
   "outputs": [
    {
     "data": {
      "text/html": [
       "<div>\n",
       "<style scoped>\n",
       "    .dataframe tbody tr th:only-of-type {\n",
       "        vertical-align: middle;\n",
       "    }\n",
       "\n",
       "    .dataframe tbody tr th {\n",
       "        vertical-align: top;\n",
       "    }\n",
       "\n",
       "    .dataframe thead th {\n",
       "        text-align: right;\n",
       "    }\n",
       "</style>\n",
       "<table border=\"1\" class=\"dataframe\">\n",
       "  <thead>\n",
       "    <tr style=\"text-align: right;\">\n",
       "      <th></th>\n",
       "      <th>Index</th>\n",
       "      <th>Year</th>\n",
       "      <th>Beats Per Minute (BPM)</th>\n",
       "      <th>Energy</th>\n",
       "      <th>Danceability</th>\n",
       "      <th>Loudness (dB)</th>\n",
       "      <th>Liveness</th>\n",
       "      <th>Valence</th>\n",
       "      <th>Acousticness</th>\n",
       "      <th>Speechiness</th>\n",
       "      <th>Popularity</th>\n",
       "    </tr>\n",
       "  </thead>\n",
       "  <tbody>\n",
       "    <tr>\n",
       "      <th>count</th>\n",
       "      <td>1994.000000</td>\n",
       "      <td>1994.000000</td>\n",
       "      <td>1994.000000</td>\n",
       "      <td>1994.000000</td>\n",
       "      <td>1994.000000</td>\n",
       "      <td>1994.000000</td>\n",
       "      <td>1994.000000</td>\n",
       "      <td>1994.000000</td>\n",
       "      <td>1994.000000</td>\n",
       "      <td>1994.000000</td>\n",
       "      <td>1994.00000</td>\n",
       "    </tr>\n",
       "    <tr>\n",
       "      <th>mean</th>\n",
       "      <td>997.500000</td>\n",
       "      <td>1992.992979</td>\n",
       "      <td>120.215647</td>\n",
       "      <td>59.679539</td>\n",
       "      <td>53.238215</td>\n",
       "      <td>-9.008526</td>\n",
       "      <td>19.012036</td>\n",
       "      <td>49.408726</td>\n",
       "      <td>28.858074</td>\n",
       "      <td>4.994985</td>\n",
       "      <td>59.52658</td>\n",
       "    </tr>\n",
       "    <tr>\n",
       "      <th>std</th>\n",
       "      <td>575.762538</td>\n",
       "      <td>16.116048</td>\n",
       "      <td>28.028096</td>\n",
       "      <td>22.154322</td>\n",
       "      <td>15.351507</td>\n",
       "      <td>3.647876</td>\n",
       "      <td>16.727378</td>\n",
       "      <td>24.858212</td>\n",
       "      <td>29.011986</td>\n",
       "      <td>4.401566</td>\n",
       "      <td>14.35160</td>\n",
       "    </tr>\n",
       "    <tr>\n",
       "      <th>min</th>\n",
       "      <td>1.000000</td>\n",
       "      <td>1956.000000</td>\n",
       "      <td>37.000000</td>\n",
       "      <td>3.000000</td>\n",
       "      <td>10.000000</td>\n",
       "      <td>-27.000000</td>\n",
       "      <td>2.000000</td>\n",
       "      <td>3.000000</td>\n",
       "      <td>0.000000</td>\n",
       "      <td>2.000000</td>\n",
       "      <td>11.00000</td>\n",
       "    </tr>\n",
       "    <tr>\n",
       "      <th>25%</th>\n",
       "      <td>499.250000</td>\n",
       "      <td>1979.000000</td>\n",
       "      <td>99.000000</td>\n",
       "      <td>42.000000</td>\n",
       "      <td>43.000000</td>\n",
       "      <td>-11.000000</td>\n",
       "      <td>9.000000</td>\n",
       "      <td>29.000000</td>\n",
       "      <td>3.000000</td>\n",
       "      <td>3.000000</td>\n",
       "      <td>49.25000</td>\n",
       "    </tr>\n",
       "    <tr>\n",
       "      <th>50%</th>\n",
       "      <td>997.500000</td>\n",
       "      <td>1993.000000</td>\n",
       "      <td>119.000000</td>\n",
       "      <td>61.000000</td>\n",
       "      <td>53.000000</td>\n",
       "      <td>-8.000000</td>\n",
       "      <td>12.000000</td>\n",
       "      <td>47.000000</td>\n",
       "      <td>18.000000</td>\n",
       "      <td>4.000000</td>\n",
       "      <td>62.00000</td>\n",
       "    </tr>\n",
       "    <tr>\n",
       "      <th>75%</th>\n",
       "      <td>1495.750000</td>\n",
       "      <td>2007.000000</td>\n",
       "      <td>136.000000</td>\n",
       "      <td>78.000000</td>\n",
       "      <td>64.000000</td>\n",
       "      <td>-6.000000</td>\n",
       "      <td>23.000000</td>\n",
       "      <td>69.750000</td>\n",
       "      <td>50.000000</td>\n",
       "      <td>5.000000</td>\n",
       "      <td>71.00000</td>\n",
       "    </tr>\n",
       "    <tr>\n",
       "      <th>max</th>\n",
       "      <td>1994.000000</td>\n",
       "      <td>2019.000000</td>\n",
       "      <td>206.000000</td>\n",
       "      <td>100.000000</td>\n",
       "      <td>96.000000</td>\n",
       "      <td>-2.000000</td>\n",
       "      <td>99.000000</td>\n",
       "      <td>99.000000</td>\n",
       "      <td>99.000000</td>\n",
       "      <td>55.000000</td>\n",
       "      <td>100.00000</td>\n",
       "    </tr>\n",
       "  </tbody>\n",
       "</table>\n",
       "</div>"
      ],
      "text/plain": [
       "             Index         Year  Beats Per Minute (BPM)       Energy  \\\n",
       "count  1994.000000  1994.000000             1994.000000  1994.000000   \n",
       "mean    997.500000  1992.992979              120.215647    59.679539   \n",
       "std     575.762538    16.116048               28.028096    22.154322   \n",
       "min       1.000000  1956.000000               37.000000     3.000000   \n",
       "25%     499.250000  1979.000000               99.000000    42.000000   \n",
       "50%     997.500000  1993.000000              119.000000    61.000000   \n",
       "75%    1495.750000  2007.000000              136.000000    78.000000   \n",
       "max    1994.000000  2019.000000              206.000000   100.000000   \n",
       "\n",
       "       Danceability  Loudness (dB)     Liveness      Valence  Acousticness  \\\n",
       "count   1994.000000    1994.000000  1994.000000  1994.000000   1994.000000   \n",
       "mean      53.238215      -9.008526    19.012036    49.408726     28.858074   \n",
       "std       15.351507       3.647876    16.727378    24.858212     29.011986   \n",
       "min       10.000000     -27.000000     2.000000     3.000000      0.000000   \n",
       "25%       43.000000     -11.000000     9.000000    29.000000      3.000000   \n",
       "50%       53.000000      -8.000000    12.000000    47.000000     18.000000   \n",
       "75%       64.000000      -6.000000    23.000000    69.750000     50.000000   \n",
       "max       96.000000      -2.000000    99.000000    99.000000     99.000000   \n",
       "\n",
       "       Speechiness  Popularity  \n",
       "count  1994.000000  1994.00000  \n",
       "mean      4.994985    59.52658  \n",
       "std       4.401566    14.35160  \n",
       "min       2.000000    11.00000  \n",
       "25%       3.000000    49.25000  \n",
       "50%       4.000000    62.00000  \n",
       "75%       5.000000    71.00000  \n",
       "max      55.000000   100.00000  "
      ]
     },
     "execution_count": 3,
     "metadata": {},
     "output_type": "execute_result"
    }
   ],
   "source": [
    "df.describe()"
   ]
  },
  {
   "cell_type": "markdown",
   "id": "0d4c2243",
   "metadata": {},
   "source": [
    "Let's check the data types of the variables."
   ]
  },
  {
   "cell_type": "code",
   "execution_count": 4,
   "id": "812c2bc9",
   "metadata": {},
   "outputs": [
    {
     "name": "stdout",
     "output_type": "stream",
     "text": [
      "Index                      int64\n",
      "Title                     object\n",
      "Artist                    object\n",
      "Top Genre                 object\n",
      "Year                       int64\n",
      "Beats Per Minute (BPM)     int64\n",
      "Energy                     int64\n",
      "Danceability               int64\n",
      "Loudness (dB)              int64\n",
      "Liveness                   int64\n",
      "Valence                    int64\n",
      "Length (Duration)         object\n",
      "Acousticness               int64\n",
      "Speechiness                int64\n",
      "Popularity                 int64\n",
      "dtype: object\n"
     ]
    }
   ],
   "source": [
    "print(df.dtypes);"
   ]
  },
  {
   "cell_type": "markdown",
   "id": "76d1f713",
   "metadata": {},
   "source": [
    "### Cleaning the Dataset\n",
    "\n",
    "Before we can start exploring our dataset, we had to first preprocess the data by cleaning and formatting it into a more usable and ideal form."
   ]
  },
  {
   "cell_type": "markdown",
   "id": "ca6f65fd",
   "metadata": {},
   "source": [
    "First, let's check if there are any null values in the dataset that need to be taken care of."
   ]
  },
  {
   "cell_type": "code",
   "execution_count": 5,
   "id": "97362579",
   "metadata": {},
   "outputs": [
    {
     "data": {
      "text/plain": [
       "False"
      ]
     },
     "execution_count": 5,
     "metadata": {},
     "output_type": "execute_result"
    }
   ],
   "source": [
    "df.isnull().values.any()"
   ]
  },
  {
   "cell_type": "markdown",
   "id": "0b3b9a3c",
   "metadata": {},
   "source": [
    "We can conclude there aren't any missing or null values in our dataset."
   ]
  },
  {
   "cell_type": "markdown",
   "id": "05f28f80",
   "metadata": {},
   "source": [
    "Let us then look for duplicate values in the dataset, and if there are, understand the context behind them and decided on how to deal with them.\n",
    "\n",
    "The field that requires investigation is the `Title`, as it is the one that is commonly used to identify its record."
   ]
  },
  {
   "cell_type": "code",
   "execution_count": 6,
   "id": "73e87c77",
   "metadata": {},
   "outputs": [
    {
     "data": {
      "text/plain": [
       "One                                          3\n",
       "Feeling Good                                 3\n",
       "Hallelujah                                   3\n",
       "Suzanne                                      2\n",
       "Memories                                     2\n",
       "                                            ..\n",
       "Once Upon a Time in the West - Main Theme    1\n",
       "Bridges                                      1\n",
       "You Want It Darker                           1\n",
       "Dark Necessities                             1\n",
       "Blueberry Hill                               1\n",
       "Name: Title, Length: 1958, dtype: int64"
      ]
     },
     "execution_count": 6,
     "metadata": {},
     "output_type": "execute_result"
    }
   ],
   "source": [
    "df['Title'].value_counts()"
   ]
  },
  {
   "cell_type": "markdown",
   "id": "9047bb05",
   "metadata": {},
   "source": [
    "As we can see here, we have detected multiple iterations of certain track `Titles`. Let's investigate further by including the `Artist's` name in the value count."
   ]
  },
  {
   "cell_type": "code",
   "execution_count": 7,
   "id": "549157bf",
   "metadata": {},
   "outputs": [
    {
     "data": {
      "text/plain": [
       "Sunrise Norah Jones                         1\n",
       "Eye of the Tiger Survivor                   1\n",
       "In Between Days - 2006 Remaster The Cure    1\n",
       "Greatest Love of All Whitney Houston        1\n",
       "Josephine Chris Rea                         1\n",
       "                                           ..\n",
       "You Want It Darker Leonard Cohen            1\n",
       "Dark Necessities Red Hot Chili Peppers      1\n",
       "Million Years Ago Adele                     1\n",
       "Lazarus David Bowie                         1\n",
       "Blueberry Hill Fats Domino                  1\n",
       "Length: 1994, dtype: int64"
      ]
     },
     "execution_count": 7,
     "metadata": {},
     "output_type": "execute_result"
    }
   ],
   "source": [
    "(df['Title']+\" \"+df['Artist']).value_counts()"
   ]
  },
  {
   "cell_type": "markdown",
   "id": "daea8567",
   "metadata": {},
   "source": [
    "Thus, we conclude that the duplicate entities in the title field actually belong to different `Artists`. With that said, we can also say that there are no duplicate song entries in the database"
   ]
  },
  {
   "cell_type": "markdown",
   "id": "2153f7a7",
   "metadata": {},
   "source": [
    "Now, we are going to be looking at categorical values to see if they happen to have duplicate iterations.\n",
    "\n",
    "The two columns that contain categorical values are `Year` and `Top Genre`"
   ]
  },
  {
   "cell_type": "code",
   "execution_count": 8,
   "id": "cc4b2660",
   "metadata": {},
   "outputs": [
    {
     "name": "stdout",
     "output_type": "stream",
     "text": [
      "2008    54\n",
      "1991    52\n",
      "2018    52\n",
      "1977    51\n",
      "2002    47\n",
      "        ..\n",
      "1962     3\n",
      "1959     3\n",
      "1961     1\n",
      "1960     1\n",
      "1956     1\n",
      "Name: Year, Length: 63, dtype: int64\n"
     ]
    }
   ],
   "source": [
    "print(df['Year'].value_counts())"
   ]
  },
  {
   "cell_type": "markdown",
   "id": "23f14364",
   "metadata": {},
   "source": [
    "We can see that there aren't really any categorical duplicates or different iterations of similar categorical values for the field `Year`"
   ]
  },
  {
   "cell_type": "code",
   "execution_count": 9,
   "id": "99f00f82",
   "metadata": {},
   "outputs": [
    {
     "name": "stdout",
     "output_type": "stream",
     "text": [
      "album rock           413\n",
      "adult standards      123\n",
      "dutch pop             88\n",
      "alternative rock      86\n",
      "dance pop             83\n",
      "                    ... \n",
      "streektaal             1\n",
      "indie anthem-folk      1\n",
      "la pop                 1\n",
      "ccm                    1\n",
      "bebop                  1\n",
      "Name: Top Genre, Length: 149, dtype: int64\n"
     ]
    }
   ],
   "source": [
    "print(df['Top Genre'].value_counts())"
   ]
  },
  {
   "cell_type": "markdown",
   "id": "cf1ac234",
   "metadata": {},
   "source": [
    "We can see that there also aren't really any categorical duplicates or different iterations of similar categorical values for the field `Top Genre`"
   ]
  },
  {
   "cell_type": "markdown",
   "id": "2ed40e07",
   "metadata": {},
   "source": [
    "Next, we want to convert each column name into snake_case format so that it'll be much easier to refer to them in our code."
   ]
  },
  {
   "cell_type": "code",
   "execution_count": 10,
   "id": "0d5b7455",
   "metadata": {},
   "outputs": [
    {
     "data": {
      "text/plain": [
       "['Index',\n",
       " 'Title',\n",
       " 'Artist',\n",
       " 'Top Genre',\n",
       " 'Year',\n",
       " 'Beats Per Minute (BPM)',\n",
       " 'Energy',\n",
       " 'Danceability',\n",
       " 'Loudness (dB)',\n",
       " 'Liveness',\n",
       " 'Valence',\n",
       " 'Length (Duration)',\n",
       " 'Acousticness',\n",
       " 'Speechiness',\n",
       " 'Popularity']"
      ]
     },
     "execution_count": 10,
     "metadata": {},
     "output_type": "execute_result"
    }
   ],
   "source": [
    "list(df.columns)"
   ]
  },
  {
   "cell_type": "code",
   "execution_count": 11,
   "id": "e4167844",
   "metadata": {},
   "outputs": [
    {
     "data": {
      "text/plain": [
       "['index',\n",
       " 'title',\n",
       " 'artist',\n",
       " 'top_genre',\n",
       " 'year',\n",
       " 'bpm',\n",
       " 'energy',\n",
       " 'danceability',\n",
       " 'loudness',\n",
       " 'liveness',\n",
       " 'valence',\n",
       " 'length',\n",
       " 'acousticness',\n",
       " 'speechiness',\n",
       " 'popularity']"
      ]
     },
     "execution_count": 11,
     "metadata": {},
     "output_type": "execute_result"
    }
   ],
   "source": [
    "df.rename(columns = {\n",
    "    'Index':'index',\n",
    "    'Title': 'title',\n",
    "    'Artist': 'artist',\n",
    "    'Top Genre': 'top_genre',\n",
    "    'Year': 'year',\n",
    "    'Beats Per Minute (BPM)': 'bpm',\n",
    "    'Energy': 'energy',\n",
    "    'Danceability': 'danceability',\n",
    "    'Loudness (dB)': 'loudness',\n",
    "    'Liveness': 'liveness',\n",
    "    'Valence': 'valence',\n",
    "    'Length (Duration)': 'length',\n",
    "    'Acousticness': 'acousticness',\n",
    "    'Speechiness': 'speechiness',\n",
    "    'Popularity': 'popularity'\n",
    "}, inplace=True)\n",
    "\n",
    "list(df.columns)"
   ]
  },
  {
   "cell_type": "markdown",
   "id": "fec0a765",
   "metadata": {},
   "source": [
    "Looking at the datatypes of each column, the `title`, `artist`, `top_genre`, and `length` columns all had the Object datatype, while the rest of the columns had proper datatypes as integers."
   ]
  },
  {
   "cell_type": "code",
   "execution_count": 12,
   "id": "beb05c48",
   "metadata": {},
   "outputs": [
    {
     "name": "stdout",
     "output_type": "stream",
     "text": [
      "index            int64\n",
      "title           object\n",
      "artist          object\n",
      "top_genre       object\n",
      "year             int64\n",
      "bpm              int64\n",
      "energy           int64\n",
      "danceability     int64\n",
      "loudness         int64\n",
      "liveness         int64\n",
      "valence          int64\n",
      "length          object\n",
      "acousticness     int64\n",
      "speechiness      int64\n",
      "popularity       int64\n",
      "dtype: object\n"
     ]
    }
   ],
   "source": [
    "print(df.dtypes);"
   ]
  },
  {
   "cell_type": "markdown",
   "id": "eb58692f",
   "metadata": {},
   "source": [
    "The former three mentioned were converted into Strings, while the `length` column had to be converted into integers. However, the `length` column had some values with 4 digits that were formatted with a comma as seen in the example below:\n",
    "\n",
    "$$ 1,412 $$\n",
    "\n",
    "The column couldn’t be converted into an integer datatype with the commas in its values, so the commas were removed before being converted into an integer."
   ]
  },
  {
   "cell_type": "code",
   "execution_count": 13,
   "id": "4cdf112a",
   "metadata": {},
   "outputs": [],
   "source": [
    "df['title'] = df['title'].astype('string');\n",
    "df['artist'] = df['artist'].astype('string');\n",
    "df['top_genre'] = df['top_genre'].astype('string');\n",
    "\n",
    "# Some length values have commas in them, so remove the first before converting to int.\n",
    "df['length'] = df['length'].str.replace(',','');\n",
    "df['length'] = df['length'].astype(str).astype('int64');"
   ]
  },
  {
   "cell_type": "markdown",
   "id": "1212518c",
   "metadata": {},
   "source": [
    "To check that the proper datatypes were used, the datatypes were printed out."
   ]
  },
  {
   "cell_type": "code",
   "execution_count": 14,
   "id": "84ae5ac1",
   "metadata": {},
   "outputs": [
    {
     "name": "stdout",
     "output_type": "stream",
     "text": [
      "index            int64\n",
      "title           string\n",
      "artist          string\n",
      "top_genre       string\n",
      "year             int64\n",
      "bpm              int64\n",
      "energy           int64\n",
      "danceability     int64\n",
      "loudness         int64\n",
      "liveness         int64\n",
      "valence          int64\n",
      "length           int64\n",
      "acousticness     int64\n",
      "speechiness      int64\n",
      "popularity       int64\n",
      "dtype: object\n"
     ]
    }
   ],
   "source": [
    "print(df.dtypes);"
   ]
  },
  {
   "cell_type": "markdown",
   "id": "8bd7cc4c",
   "metadata": {},
   "source": [
    "Next, we thought that specific years wouldn't be too useful in our analysis, so we decided to bin them into decades; that is, year ranges such as 1960-1969, 2000-2009, etc. The only bin that wouldn't be complete would be the 1950-1959 bin, since the earliest year recorded in the data was 1956. We decided to make it into a 1956-1959 bin instead of dropping all records with those years altogether because we thought the song attributes for those songs could still be useful."
   ]
  },
  {
   "cell_type": "code",
   "execution_count": 15,
   "id": "181f2e31",
   "metadata": {},
   "outputs": [
    {
     "data": {
      "text/html": [
       "<div>\n",
       "<style scoped>\n",
       "    .dataframe tbody tr th:only-of-type {\n",
       "        vertical-align: middle;\n",
       "    }\n",
       "\n",
       "    .dataframe tbody tr th {\n",
       "        vertical-align: top;\n",
       "    }\n",
       "\n",
       "    .dataframe thead th {\n",
       "        text-align: right;\n",
       "    }\n",
       "</style>\n",
       "<table border=\"1\" class=\"dataframe\">\n",
       "  <thead>\n",
       "    <tr style=\"text-align: right;\">\n",
       "      <th></th>\n",
       "      <th>index</th>\n",
       "      <th>title</th>\n",
       "      <th>artist</th>\n",
       "      <th>top_genre</th>\n",
       "      <th>period</th>\n",
       "      <th>year</th>\n",
       "      <th>bpm</th>\n",
       "      <th>energy</th>\n",
       "      <th>danceability</th>\n",
       "      <th>loudness</th>\n",
       "      <th>liveness</th>\n",
       "      <th>valence</th>\n",
       "      <th>length</th>\n",
       "      <th>acousticness</th>\n",
       "      <th>speechiness</th>\n",
       "      <th>popularity</th>\n",
       "    </tr>\n",
       "  </thead>\n",
       "  <tbody>\n",
       "    <tr>\n",
       "      <th>0</th>\n",
       "      <td>1</td>\n",
       "      <td>Sunrise</td>\n",
       "      <td>Norah Jones</td>\n",
       "      <td>adult standards</td>\n",
       "      <td>2000-2009</td>\n",
       "      <td>2004</td>\n",
       "      <td>157</td>\n",
       "      <td>30</td>\n",
       "      <td>53</td>\n",
       "      <td>-14</td>\n",
       "      <td>11</td>\n",
       "      <td>68</td>\n",
       "      <td>201</td>\n",
       "      <td>94</td>\n",
       "      <td>3</td>\n",
       "      <td>71</td>\n",
       "    </tr>\n",
       "    <tr>\n",
       "      <th>1</th>\n",
       "      <td>2</td>\n",
       "      <td>Black Night</td>\n",
       "      <td>Deep Purple</td>\n",
       "      <td>album rock</td>\n",
       "      <td>1990-1999</td>\n",
       "      <td>2000</td>\n",
       "      <td>135</td>\n",
       "      <td>79</td>\n",
       "      <td>50</td>\n",
       "      <td>-11</td>\n",
       "      <td>17</td>\n",
       "      <td>81</td>\n",
       "      <td>207</td>\n",
       "      <td>17</td>\n",
       "      <td>7</td>\n",
       "      <td>39</td>\n",
       "    </tr>\n",
       "    <tr>\n",
       "      <th>2</th>\n",
       "      <td>3</td>\n",
       "      <td>Clint Eastwood</td>\n",
       "      <td>Gorillaz</td>\n",
       "      <td>alternative hip hop</td>\n",
       "      <td>2000-2009</td>\n",
       "      <td>2001</td>\n",
       "      <td>168</td>\n",
       "      <td>69</td>\n",
       "      <td>66</td>\n",
       "      <td>-9</td>\n",
       "      <td>7</td>\n",
       "      <td>52</td>\n",
       "      <td>341</td>\n",
       "      <td>2</td>\n",
       "      <td>17</td>\n",
       "      <td>69</td>\n",
       "    </tr>\n",
       "    <tr>\n",
       "      <th>3</th>\n",
       "      <td>4</td>\n",
       "      <td>The Pretender</td>\n",
       "      <td>Foo Fighters</td>\n",
       "      <td>alternative metal</td>\n",
       "      <td>2000-2009</td>\n",
       "      <td>2007</td>\n",
       "      <td>173</td>\n",
       "      <td>96</td>\n",
       "      <td>43</td>\n",
       "      <td>-4</td>\n",
       "      <td>3</td>\n",
       "      <td>37</td>\n",
       "      <td>269</td>\n",
       "      <td>0</td>\n",
       "      <td>4</td>\n",
       "      <td>76</td>\n",
       "    </tr>\n",
       "    <tr>\n",
       "      <th>4</th>\n",
       "      <td>5</td>\n",
       "      <td>Waitin' On A Sunny Day</td>\n",
       "      <td>Bruce Springsteen</td>\n",
       "      <td>classic rock</td>\n",
       "      <td>2000-2009</td>\n",
       "      <td>2002</td>\n",
       "      <td>106</td>\n",
       "      <td>82</td>\n",
       "      <td>58</td>\n",
       "      <td>-5</td>\n",
       "      <td>10</td>\n",
       "      <td>87</td>\n",
       "      <td>256</td>\n",
       "      <td>1</td>\n",
       "      <td>3</td>\n",
       "      <td>59</td>\n",
       "    </tr>\n",
       "    <tr>\n",
       "      <th>...</th>\n",
       "      <td>...</td>\n",
       "      <td>...</td>\n",
       "      <td>...</td>\n",
       "      <td>...</td>\n",
       "      <td>...</td>\n",
       "      <td>...</td>\n",
       "      <td>...</td>\n",
       "      <td>...</td>\n",
       "      <td>...</td>\n",
       "      <td>...</td>\n",
       "      <td>...</td>\n",
       "      <td>...</td>\n",
       "      <td>...</td>\n",
       "      <td>...</td>\n",
       "      <td>...</td>\n",
       "      <td>...</td>\n",
       "    </tr>\n",
       "    <tr>\n",
       "      <th>1989</th>\n",
       "      <td>1990</td>\n",
       "      <td>Heartbreak Hotel</td>\n",
       "      <td>Elvis Presley</td>\n",
       "      <td>adult standards</td>\n",
       "      <td>1956-1959</td>\n",
       "      <td>1958</td>\n",
       "      <td>94</td>\n",
       "      <td>21</td>\n",
       "      <td>70</td>\n",
       "      <td>-12</td>\n",
       "      <td>11</td>\n",
       "      <td>72</td>\n",
       "      <td>128</td>\n",
       "      <td>84</td>\n",
       "      <td>7</td>\n",
       "      <td>63</td>\n",
       "    </tr>\n",
       "    <tr>\n",
       "      <th>1990</th>\n",
       "      <td>1991</td>\n",
       "      <td>Hound Dog</td>\n",
       "      <td>Elvis Presley</td>\n",
       "      <td>adult standards</td>\n",
       "      <td>1956-1959</td>\n",
       "      <td>1958</td>\n",
       "      <td>175</td>\n",
       "      <td>76</td>\n",
       "      <td>36</td>\n",
       "      <td>-8</td>\n",
       "      <td>76</td>\n",
       "      <td>95</td>\n",
       "      <td>136</td>\n",
       "      <td>73</td>\n",
       "      <td>6</td>\n",
       "      <td>69</td>\n",
       "    </tr>\n",
       "    <tr>\n",
       "      <th>1991</th>\n",
       "      <td>1992</td>\n",
       "      <td>Johnny B. Goode</td>\n",
       "      <td>Chuck Berry</td>\n",
       "      <td>blues rock</td>\n",
       "      <td>1956-1959</td>\n",
       "      <td>1959</td>\n",
       "      <td>168</td>\n",
       "      <td>80</td>\n",
       "      <td>53</td>\n",
       "      <td>-9</td>\n",
       "      <td>31</td>\n",
       "      <td>97</td>\n",
       "      <td>162</td>\n",
       "      <td>74</td>\n",
       "      <td>7</td>\n",
       "      <td>74</td>\n",
       "    </tr>\n",
       "    <tr>\n",
       "      <th>1992</th>\n",
       "      <td>1993</td>\n",
       "      <td>Take Five</td>\n",
       "      <td>The Dave Brubeck Quartet</td>\n",
       "      <td>bebop</td>\n",
       "      <td>1956-1959</td>\n",
       "      <td>1959</td>\n",
       "      <td>174</td>\n",
       "      <td>26</td>\n",
       "      <td>45</td>\n",
       "      <td>-13</td>\n",
       "      <td>7</td>\n",
       "      <td>60</td>\n",
       "      <td>324</td>\n",
       "      <td>54</td>\n",
       "      <td>4</td>\n",
       "      <td>65</td>\n",
       "    </tr>\n",
       "    <tr>\n",
       "      <th>1993</th>\n",
       "      <td>1994</td>\n",
       "      <td>Blueberry Hill</td>\n",
       "      <td>Fats Domino</td>\n",
       "      <td>adult standards</td>\n",
       "      <td>1956-1959</td>\n",
       "      <td>1959</td>\n",
       "      <td>133</td>\n",
       "      <td>50</td>\n",
       "      <td>49</td>\n",
       "      <td>-10</td>\n",
       "      <td>16</td>\n",
       "      <td>83</td>\n",
       "      <td>148</td>\n",
       "      <td>74</td>\n",
       "      <td>3</td>\n",
       "      <td>56</td>\n",
       "    </tr>\n",
       "  </tbody>\n",
       "</table>\n",
       "<p>1994 rows × 16 columns</p>\n",
       "</div>"
      ],
      "text/plain": [
       "      index                   title                    artist  \\\n",
       "0         1                 Sunrise               Norah Jones   \n",
       "1         2             Black Night               Deep Purple   \n",
       "2         3          Clint Eastwood                  Gorillaz   \n",
       "3         4           The Pretender              Foo Fighters   \n",
       "4         5  Waitin' On A Sunny Day         Bruce Springsteen   \n",
       "...     ...                     ...                       ...   \n",
       "1989   1990        Heartbreak Hotel             Elvis Presley   \n",
       "1990   1991               Hound Dog             Elvis Presley   \n",
       "1991   1992         Johnny B. Goode               Chuck Berry   \n",
       "1992   1993               Take Five  The Dave Brubeck Quartet   \n",
       "1993   1994          Blueberry Hill               Fats Domino   \n",
       "\n",
       "                top_genre     period  year  bpm  energy  danceability  \\\n",
       "0         adult standards  2000-2009  2004  157      30            53   \n",
       "1              album rock  1990-1999  2000  135      79            50   \n",
       "2     alternative hip hop  2000-2009  2001  168      69            66   \n",
       "3       alternative metal  2000-2009  2007  173      96            43   \n",
       "4            classic rock  2000-2009  2002  106      82            58   \n",
       "...                   ...        ...   ...  ...     ...           ...   \n",
       "1989      adult standards  1956-1959  1958   94      21            70   \n",
       "1990      adult standards  1956-1959  1958  175      76            36   \n",
       "1991           blues rock  1956-1959  1959  168      80            53   \n",
       "1992                bebop  1956-1959  1959  174      26            45   \n",
       "1993      adult standards  1956-1959  1959  133      50            49   \n",
       "\n",
       "      loudness  liveness  valence  length  acousticness  speechiness  \\\n",
       "0          -14        11       68     201            94            3   \n",
       "1          -11        17       81     207            17            7   \n",
       "2           -9         7       52     341             2           17   \n",
       "3           -4         3       37     269             0            4   \n",
       "4           -5        10       87     256             1            3   \n",
       "...        ...       ...      ...     ...           ...          ...   \n",
       "1989       -12        11       72     128            84            7   \n",
       "1990        -8        76       95     136            73            6   \n",
       "1991        -9        31       97     162            74            7   \n",
       "1992       -13         7       60     324            54            4   \n",
       "1993       -10        16       83     148            74            3   \n",
       "\n",
       "      popularity  \n",
       "0             71  \n",
       "1             39  \n",
       "2             69  \n",
       "3             76  \n",
       "4             59  \n",
       "...          ...  \n",
       "1989          63  \n",
       "1990          69  \n",
       "1991          74  \n",
       "1992          65  \n",
       "1993          56  \n",
       "\n",
       "[1994 rows x 16 columns]"
      ]
     },
     "execution_count": 15,
     "metadata": {},
     "output_type": "execute_result"
    }
   ],
   "source": [
    "df['period'] = pd.cut(x = df['year'], bins = [1956, 1960, 1970, 1980, 1990, 2000, 2010, 2019], labels = ['1956-1959', '1960-1969', '1970-1979', '1980-1989', '1990-1999', '2000-2009','2010-2019'], include_lowest = True)\n",
    "df = df[['index', 'title', 'artist', 'top_genre', 'period', 'year', 'bpm', 'energy', 'danceability', 'loudness', 'liveness', 'valence', 'length', 'acousticness', 'speechiness', 'popularity']]\n",
    "df"
   ]
  },
  {
   "cell_type": "markdown",
   "id": "f9b4bdc6",
   "metadata": {},
   "source": [
    "## Exploratory Data Analysis"
   ]
  },
  {
   "cell_type": "markdown",
   "id": "eacdc7ca",
   "metadata": {},
   "source": [
    "### What is the average danceability of each genre?"
   ]
  },
  {
   "cell_type": "markdown",
   "id": "5b0821bf",
   "metadata": {},
   "source": [
    "To answer this question, the variables of interest are:\n",
    "- **`top_genre`**: Genre of the track.\n",
    "- **`danceability`**: Scale measuring how usable the track is for dancing. The higher the value, the more danceable."
   ]
  },
  {
   "cell_type": "markdown",
   "id": "514d756a",
   "metadata": {},
   "source": [
    "First, we make a sliced copy of the main DataFrame with only the `top_genre` and `danceability` columns."
   ]
  },
  {
   "cell_type": "code",
   "execution_count": 16,
   "id": "0e2b74f3",
   "metadata": {},
   "outputs": [
    {
     "data": {
      "text/html": [
       "<div>\n",
       "<style scoped>\n",
       "    .dataframe tbody tr th:only-of-type {\n",
       "        vertical-align: middle;\n",
       "    }\n",
       "\n",
       "    .dataframe tbody tr th {\n",
       "        vertical-align: top;\n",
       "    }\n",
       "\n",
       "    .dataframe thead th {\n",
       "        text-align: right;\n",
       "    }\n",
       "</style>\n",
       "<table border=\"1\" class=\"dataframe\">\n",
       "  <thead>\n",
       "    <tr style=\"text-align: right;\">\n",
       "      <th></th>\n",
       "      <th>top_genre</th>\n",
       "      <th>danceability</th>\n",
       "    </tr>\n",
       "  </thead>\n",
       "  <tbody>\n",
       "    <tr>\n",
       "      <th>0</th>\n",
       "      <td>adult standards</td>\n",
       "      <td>53</td>\n",
       "    </tr>\n",
       "    <tr>\n",
       "      <th>1</th>\n",
       "      <td>album rock</td>\n",
       "      <td>50</td>\n",
       "    </tr>\n",
       "    <tr>\n",
       "      <th>2</th>\n",
       "      <td>alternative hip hop</td>\n",
       "      <td>66</td>\n",
       "    </tr>\n",
       "    <tr>\n",
       "      <th>3</th>\n",
       "      <td>alternative metal</td>\n",
       "      <td>43</td>\n",
       "    </tr>\n",
       "    <tr>\n",
       "      <th>4</th>\n",
       "      <td>classic rock</td>\n",
       "      <td>58</td>\n",
       "    </tr>\n",
       "    <tr>\n",
       "      <th>...</th>\n",
       "      <td>...</td>\n",
       "      <td>...</td>\n",
       "    </tr>\n",
       "    <tr>\n",
       "      <th>1989</th>\n",
       "      <td>adult standards</td>\n",
       "      <td>70</td>\n",
       "    </tr>\n",
       "    <tr>\n",
       "      <th>1990</th>\n",
       "      <td>adult standards</td>\n",
       "      <td>36</td>\n",
       "    </tr>\n",
       "    <tr>\n",
       "      <th>1991</th>\n",
       "      <td>blues rock</td>\n",
       "      <td>53</td>\n",
       "    </tr>\n",
       "    <tr>\n",
       "      <th>1992</th>\n",
       "      <td>bebop</td>\n",
       "      <td>45</td>\n",
       "    </tr>\n",
       "    <tr>\n",
       "      <th>1993</th>\n",
       "      <td>adult standards</td>\n",
       "      <td>49</td>\n",
       "    </tr>\n",
       "  </tbody>\n",
       "</table>\n",
       "<p>1994 rows × 2 columns</p>\n",
       "</div>"
      ],
      "text/plain": [
       "                top_genre  danceability\n",
       "0         adult standards            53\n",
       "1              album rock            50\n",
       "2     alternative hip hop            66\n",
       "3       alternative metal            43\n",
       "4            classic rock            58\n",
       "...                   ...           ...\n",
       "1989      adult standards            70\n",
       "1990      adult standards            36\n",
       "1991           blues rock            53\n",
       "1992                bebop            45\n",
       "1993      adult standards            49\n",
       "\n",
       "[1994 rows x 2 columns]"
      ]
     },
     "execution_count": 16,
     "metadata": {},
     "output_type": "execute_result"
    }
   ],
   "source": [
    "genre_dance = df[['top_genre', 'danceability']].copy()\n",
    "genre_dance"
   ]
  },
  {
   "cell_type": "markdown",
   "id": "ba41ff64",
   "metadata": {},
   "source": [
    "Let's take a look at the distribution of danceability values."
   ]
  },
  {
   "cell_type": "code",
   "execution_count": 17,
   "id": "c60b6d56",
   "metadata": {},
   "outputs": [
    {
     "data": {
      "text/plain": [
       "array([[<AxesSubplot:title={'center':'danceability'}>]], dtype=object)"
      ]
     },
     "execution_count": 17,
     "metadata": {},
     "output_type": "execute_result"
    },
    {
     "data": {
      "image/png": "[encoded data removed]",
      "text/plain": [
       "<Figure size 576x288 with 1 Axes>"
      ]
     },
     "metadata": {
      "needs_background": "light"
     },
     "output_type": "display_data"
    }
   ],
   "source": [
    "genre_dance.hist('danceability', edgecolor='w', figsize=(8,4))"
   ]
  },
  {
   "cell_type": "code",
   "execution_count": 18,
   "id": "c814787b",
   "metadata": {},
   "outputs": [
    {
     "data": {
      "text/plain": [
       "0.015471834815003006"
      ]
     },
     "execution_count": 18,
     "metadata": {},
     "output_type": "execute_result"
    }
   ],
   "source": [
    "genre_dance['danceability'].skew()"
   ]
  },
  {
   "cell_type": "markdown",
   "id": "1b838b39",
   "metadata": {},
   "source": [
    "As we can see from the histogram and the skew value, the distribution is very close to normal. This means we can confidently use the mean to get the average for danceability across all the genres."
   ]
  },
  {
   "cell_type": "code",
   "execution_count": 19,
   "id": "e8d46913",
   "metadata": {},
   "outputs": [
    {
     "data": {
      "text/html": [
       "<div>\n",
       "<style scoped>\n",
       "    .dataframe tbody tr th:only-of-type {\n",
       "        vertical-align: middle;\n",
       "    }\n",
       "\n",
       "    .dataframe tbody tr th {\n",
       "        vertical-align: top;\n",
       "    }\n",
       "\n",
       "    .dataframe thead th {\n",
       "        text-align: right;\n",
       "    }\n",
       "</style>\n",
       "<table border=\"1\" class=\"dataframe\">\n",
       "  <thead>\n",
       "    <tr style=\"text-align: right;\">\n",
       "      <th></th>\n",
       "      <th>danceability</th>\n",
       "    </tr>\n",
       "  </thead>\n",
       "  <tbody>\n",
       "    <tr>\n",
       "      <th>mean</th>\n",
       "      <td>53.238215</td>\n",
       "    </tr>\n",
       "    <tr>\n",
       "      <th>median</th>\n",
       "      <td>53.000000</td>\n",
       "    </tr>\n",
       "    <tr>\n",
       "      <th>std</th>\n",
       "      <td>15.351507</td>\n",
       "    </tr>\n",
       "  </tbody>\n",
       "</table>\n",
       "</div>"
      ],
      "text/plain": [
       "        danceability\n",
       "mean       53.238215\n",
       "median     53.000000\n",
       "std        15.351507"
      ]
     },
     "execution_count": 19,
     "metadata": {},
     "output_type": "execute_result"
    }
   ],
   "source": [
    "genre_dance.agg({'danceability' : ['mean', 'median', 'std']})"
   ]
  },
  {
   "cell_type": "markdown",
   "id": "4838a636",
   "metadata": {},
   "source": [
    "The average danceability of all the songs in the dataset is a value of **53.24**."
   ]
  },
  {
   "cell_type": "markdown",
   "id": "75947af6",
   "metadata": {},
   "source": [
    "Next, let's group all the records by genre, and take some summary statistics from them"
   ]
  },
  {
   "cell_type": "code",
   "execution_count": 20,
   "id": "1e02fad4",
   "metadata": {},
   "outputs": [
    {
     "data": {
      "text/html": [
       "<div>\n",
       "<style scoped>\n",
       "    .dataframe tbody tr th:only-of-type {\n",
       "        vertical-align: middle;\n",
       "    }\n",
       "\n",
       "    .dataframe tbody tr th {\n",
       "        vertical-align: top;\n",
       "    }\n",
       "\n",
       "    .dataframe thead tr th {\n",
       "        text-align: left;\n",
       "    }\n",
       "\n",
       "    .dataframe thead tr:last-of-type th {\n",
       "        text-align: right;\n",
       "    }\n",
       "</style>\n",
       "<table border=\"1\" class=\"dataframe\">\n",
       "  <thead>\n",
       "    <tr>\n",
       "      <th></th>\n",
       "      <th colspan=\"5\" halign=\"left\">danceability</th>\n",
       "    </tr>\n",
       "    <tr>\n",
       "      <th></th>\n",
       "      <th>skew</th>\n",
       "      <th>mean</th>\n",
       "      <th>median</th>\n",
       "      <th>std</th>\n",
       "      <th>count</th>\n",
       "    </tr>\n",
       "    <tr>\n",
       "      <th>top_genre</th>\n",
       "      <th></th>\n",
       "      <th></th>\n",
       "      <th></th>\n",
       "      <th></th>\n",
       "      <th></th>\n",
       "    </tr>\n",
       "  </thead>\n",
       "  <tbody>\n",
       "    <tr>\n",
       "      <th>contemporary vocal jazz</th>\n",
       "      <td>NaN</td>\n",
       "      <td>88.000000</td>\n",
       "      <td>88.0</td>\n",
       "      <td>NaN</td>\n",
       "      <td>1</td>\n",
       "    </tr>\n",
       "    <tr>\n",
       "      <th>reggae fusion</th>\n",
       "      <td>-0.182226</td>\n",
       "      <td>86.250000</td>\n",
       "      <td>86.5</td>\n",
       "      <td>8.180261</td>\n",
       "      <td>4</td>\n",
       "    </tr>\n",
       "    <tr>\n",
       "      <th>gangster rap</th>\n",
       "      <td>NaN</td>\n",
       "      <td>85.000000</td>\n",
       "      <td>85.0</td>\n",
       "      <td>NaN</td>\n",
       "      <td>1</td>\n",
       "    </tr>\n",
       "    <tr>\n",
       "      <th>detroit hip hop</th>\n",
       "      <td>-0.566956</td>\n",
       "      <td>84.142857</td>\n",
       "      <td>87.0</td>\n",
       "      <td>9.352871</td>\n",
       "      <td>7</td>\n",
       "    </tr>\n",
       "    <tr>\n",
       "      <th>electronica</th>\n",
       "      <td>NaN</td>\n",
       "      <td>79.000000</td>\n",
       "      <td>79.0</td>\n",
       "      <td>NaN</td>\n",
       "      <td>1</td>\n",
       "    </tr>\n",
       "    <tr>\n",
       "      <th>g funk</th>\n",
       "      <td>0.141855</td>\n",
       "      <td>77.400000</td>\n",
       "      <td>77.0</td>\n",
       "      <td>12.136721</td>\n",
       "      <td>5</td>\n",
       "    </tr>\n",
       "    <tr>\n",
       "      <th>reggae</th>\n",
       "      <td>0.559779</td>\n",
       "      <td>77.125000</td>\n",
       "      <td>75.5</td>\n",
       "      <td>10.920982</td>\n",
       "      <td>8</td>\n",
       "    </tr>\n",
       "    <tr>\n",
       "      <th>danish pop</th>\n",
       "      <td>NaN</td>\n",
       "      <td>77.000000</td>\n",
       "      <td>77.0</td>\n",
       "      <td>NaN</td>\n",
       "      <td>1</td>\n",
       "    </tr>\n",
       "    <tr>\n",
       "      <th>rock-and-roll</th>\n",
       "      <td>NaN</td>\n",
       "      <td>76.000000</td>\n",
       "      <td>76.0</td>\n",
       "      <td>NaN</td>\n",
       "      <td>1</td>\n",
       "    </tr>\n",
       "    <tr>\n",
       "      <th>diva house</th>\n",
       "      <td>NaN</td>\n",
       "      <td>76.000000</td>\n",
       "      <td>76.0</td>\n",
       "      <td>NaN</td>\n",
       "      <td>1</td>\n",
       "    </tr>\n",
       "  </tbody>\n",
       "</table>\n",
       "</div>"
      ],
      "text/plain": [
       "                        danceability                                   \n",
       "                                skew       mean median        std count\n",
       "top_genre                                                              \n",
       "contemporary vocal jazz          NaN  88.000000   88.0        NaN     1\n",
       "reggae fusion              -0.182226  86.250000   86.5   8.180261     4\n",
       "gangster rap                     NaN  85.000000   85.0        NaN     1\n",
       "detroit hip hop            -0.566956  84.142857   87.0   9.352871     7\n",
       "electronica                      NaN  79.000000   79.0        NaN     1\n",
       "g funk                      0.141855  77.400000   77.0  12.136721     5\n",
       "reggae                      0.559779  77.125000   75.5  10.920982     8\n",
       "danish pop                       NaN  77.000000   77.0        NaN     1\n",
       "rock-and-roll                    NaN  76.000000   76.0        NaN     1\n",
       "diva house                       NaN  76.000000   76.0        NaN     1"
      ]
     },
     "execution_count": 20,
     "metadata": {},
     "output_type": "execute_result"
    }
   ],
   "source": [
    "genre_dance_summary = genre_dance.groupby('top_genre').agg({'danceability': ['skew', 'mean', 'median', 'std', 'count']})\n",
    "\n",
    "genre_dance_summary.sort_values(('danceability', 'mean'), ascending=False).head(10)"
   ]
  },
  {
   "cell_type": "markdown",
   "id": "c9b3abcb",
   "metadata": {},
   "source": [
    "As there are some genres in the dataset that are represented by one song only, they may not be a very good representation of other songs in that genre. So let's remove those first by using `.dropna()` to take out all the records with `NaN` values in the `std` and `skew` columns (They're `NaN` because they cannot compute without more than one value.)"
   ]
  },
  {
   "cell_type": "code",
   "execution_count": 21,
   "id": "d09af892",
   "metadata": {},
   "outputs": [
    {
     "data": {
      "text/html": [
       "<div>\n",
       "<style scoped>\n",
       "    .dataframe tbody tr th:only-of-type {\n",
       "        vertical-align: middle;\n",
       "    }\n",
       "\n",
       "    .dataframe tbody tr th {\n",
       "        vertical-align: top;\n",
       "    }\n",
       "\n",
       "    .dataframe thead tr th {\n",
       "        text-align: left;\n",
       "    }\n",
       "\n",
       "    .dataframe thead tr:last-of-type th {\n",
       "        text-align: right;\n",
       "    }\n",
       "</style>\n",
       "<table border=\"1\" class=\"dataframe\">\n",
       "  <thead>\n",
       "    <tr>\n",
       "      <th></th>\n",
       "      <th colspan=\"5\" halign=\"left\">danceability</th>\n",
       "    </tr>\n",
       "    <tr>\n",
       "      <th></th>\n",
       "      <th>skew</th>\n",
       "      <th>mean</th>\n",
       "      <th>median</th>\n",
       "      <th>std</th>\n",
       "      <th>count</th>\n",
       "    </tr>\n",
       "    <tr>\n",
       "      <th>top_genre</th>\n",
       "      <th></th>\n",
       "      <th></th>\n",
       "      <th></th>\n",
       "      <th></th>\n",
       "      <th></th>\n",
       "    </tr>\n",
       "  </thead>\n",
       "  <tbody>\n",
       "    <tr>\n",
       "      <th>reggae fusion</th>\n",
       "      <td>-0.182226</td>\n",
       "      <td>86.250000</td>\n",
       "      <td>86.5</td>\n",
       "      <td>8.180261</td>\n",
       "      <td>4</td>\n",
       "    </tr>\n",
       "    <tr>\n",
       "      <th>detroit hip hop</th>\n",
       "      <td>-0.566956</td>\n",
       "      <td>84.142857</td>\n",
       "      <td>87.0</td>\n",
       "      <td>9.352871</td>\n",
       "      <td>7</td>\n",
       "    </tr>\n",
       "    <tr>\n",
       "      <th>g funk</th>\n",
       "      <td>0.141855</td>\n",
       "      <td>77.400000</td>\n",
       "      <td>77.0</td>\n",
       "      <td>12.136721</td>\n",
       "      <td>5</td>\n",
       "    </tr>\n",
       "    <tr>\n",
       "      <th>reggae</th>\n",
       "      <td>0.559779</td>\n",
       "      <td>77.125000</td>\n",
       "      <td>75.5</td>\n",
       "      <td>10.920982</td>\n",
       "      <td>8</td>\n",
       "    </tr>\n",
       "    <tr>\n",
       "      <th>east coast hip hop</th>\n",
       "      <td>-1.014230</td>\n",
       "      <td>73.500000</td>\n",
       "      <td>76.5</td>\n",
       "      <td>13.967820</td>\n",
       "      <td>6</td>\n",
       "    </tr>\n",
       "    <tr>\n",
       "      <th>disco</th>\n",
       "      <td>-0.516956</td>\n",
       "      <td>70.500000</td>\n",
       "      <td>69.0</td>\n",
       "      <td>12.152221</td>\n",
       "      <td>18</td>\n",
       "    </tr>\n",
       "    <tr>\n",
       "      <th>australian rock</th>\n",
       "      <td>1.293343</td>\n",
       "      <td>70.333333</td>\n",
       "      <td>69.0</td>\n",
       "      <td>4.163332</td>\n",
       "      <td>3</td>\n",
       "    </tr>\n",
       "    <tr>\n",
       "      <th>electro</th>\n",
       "      <td>0.597005</td>\n",
       "      <td>68.857143</td>\n",
       "      <td>61.0</td>\n",
       "      <td>16.945290</td>\n",
       "      <td>7</td>\n",
       "    </tr>\n",
       "    <tr>\n",
       "      <th>belgian pop</th>\n",
       "      <td>-1.424103</td>\n",
       "      <td>68.250000</td>\n",
       "      <td>71.5</td>\n",
       "      <td>12.093387</td>\n",
       "      <td>4</td>\n",
       "    </tr>\n",
       "    <tr>\n",
       "      <th>boy band</th>\n",
       "      <td>0.967214</td>\n",
       "      <td>67.666667</td>\n",
       "      <td>64.5</td>\n",
       "      <td>11.570076</td>\n",
       "      <td>6</td>\n",
       "    </tr>\n",
       "  </tbody>\n",
       "</table>\n",
       "</div>"
      ],
      "text/plain": [
       "                   danceability                                   \n",
       "                           skew       mean median        std count\n",
       "top_genre                                                         \n",
       "reggae fusion         -0.182226  86.250000   86.5   8.180261     4\n",
       "detroit hip hop       -0.566956  84.142857   87.0   9.352871     7\n",
       "g funk                 0.141855  77.400000   77.0  12.136721     5\n",
       "reggae                 0.559779  77.125000   75.5  10.920982     8\n",
       "east coast hip hop    -1.014230  73.500000   76.5  13.967820     6\n",
       "disco                 -0.516956  70.500000   69.0  12.152221    18\n",
       "australian rock        1.293343  70.333333   69.0   4.163332     3\n",
       "electro                0.597005  68.857143   61.0  16.945290     7\n",
       "belgian pop           -1.424103  68.250000   71.5  12.093387     4\n",
       "boy band               0.967214  67.666667   64.5  11.570076     6"
      ]
     },
     "execution_count": 21,
     "metadata": {},
     "output_type": "execute_result"
    }
   ],
   "source": [
    "genre_dance_summary.sort_values(('danceability', 'mean'), ascending=False).dropna().head(10)"
   ]
  },
  {
   "cell_type": "markdown",
   "id": "8aec5c3b",
   "metadata": {},
   "source": [
    "Here, we can see the full list of song genres with more than one record. Note that the `skew` value was included in order to determine whether it would be more accurate to use the `mean` or `median` as the measure of central tendency."
   ]
  },
  {
   "cell_type": "markdown",
   "id": "486b2165",
   "metadata": {},
   "source": [
    "From the results, we can see that `reggae fusion` has the highest average `danceability` value. However, it is only represented by a count of 4 songs. \n",
    "\n",
    "The next largest `danceability` average with a genre represented by >=10 songs would be `disco`. Because of its `skew` value of **-0.52**, the `median` may be more accurate to look at, with a value of **69.0**.\n",
    "\n",
    "Now, let's take a look at the genre with the lowest average `danceability` value."
   ]
  },
  {
   "cell_type": "code",
   "execution_count": 22,
   "id": "45643c1b",
   "metadata": {},
   "outputs": [
    {
     "data": {
      "text/html": [
       "<div>\n",
       "<style scoped>\n",
       "    .dataframe tbody tr th:only-of-type {\n",
       "        vertical-align: middle;\n",
       "    }\n",
       "\n",
       "    .dataframe tbody tr th {\n",
       "        vertical-align: top;\n",
       "    }\n",
       "\n",
       "    .dataframe thead tr th {\n",
       "        text-align: left;\n",
       "    }\n",
       "\n",
       "    .dataframe thead tr:last-of-type th {\n",
       "        text-align: right;\n",
       "    }\n",
       "</style>\n",
       "<table border=\"1\" class=\"dataframe\">\n",
       "  <thead>\n",
       "    <tr>\n",
       "      <th></th>\n",
       "      <th colspan=\"5\" halign=\"left\">danceability</th>\n",
       "    </tr>\n",
       "    <tr>\n",
       "      <th></th>\n",
       "      <th>skew</th>\n",
       "      <th>mean</th>\n",
       "      <th>median</th>\n",
       "      <th>std</th>\n",
       "      <th>count</th>\n",
       "    </tr>\n",
       "    <tr>\n",
       "      <th>top_genre</th>\n",
       "      <th></th>\n",
       "      <th></th>\n",
       "      <th></th>\n",
       "      <th></th>\n",
       "      <th></th>\n",
       "    </tr>\n",
       "  </thead>\n",
       "  <tbody>\n",
       "    <tr>\n",
       "      <th>chanson</th>\n",
       "      <td>-0.201373</td>\n",
       "      <td>35.000000</td>\n",
       "      <td>35.0</td>\n",
       "      <td>6.082763</td>\n",
       "      <td>9</td>\n",
       "    </tr>\n",
       "    <tr>\n",
       "      <th>carnaval limburg</th>\n",
       "      <td>1.526787</td>\n",
       "      <td>35.200000</td>\n",
       "      <td>30.5</td>\n",
       "      <td>13.538423</td>\n",
       "      <td>10</td>\n",
       "    </tr>\n",
       "    <tr>\n",
       "      <th>dutch metal</th>\n",
       "      <td>0.319781</td>\n",
       "      <td>36.250000</td>\n",
       "      <td>34.5</td>\n",
       "      <td>12.841988</td>\n",
       "      <td>4</td>\n",
       "    </tr>\n",
       "    <tr>\n",
       "      <th>britpop</th>\n",
       "      <td>-1.463008</td>\n",
       "      <td>40.181818</td>\n",
       "      <td>43.0</td>\n",
       "      <td>12.623931</td>\n",
       "      <td>11</td>\n",
       "    </tr>\n",
       "    <tr>\n",
       "      <th>celtic</th>\n",
       "      <td>0.690697</td>\n",
       "      <td>40.800000</td>\n",
       "      <td>42.0</td>\n",
       "      <td>18.700267</td>\n",
       "      <td>5</td>\n",
       "    </tr>\n",
       "    <tr>\n",
       "      <th>bubblegum pop</th>\n",
       "      <td>-0.852358</td>\n",
       "      <td>41.000000</td>\n",
       "      <td>43.0</td>\n",
       "      <td>10.148892</td>\n",
       "      <td>3</td>\n",
       "    </tr>\n",
       "    <tr>\n",
       "      <th>glam metal</th>\n",
       "      <td>-0.319205</td>\n",
       "      <td>42.000000</td>\n",
       "      <td>45.0</td>\n",
       "      <td>11.084900</td>\n",
       "      <td>17</td>\n",
       "    </tr>\n",
       "    <tr>\n",
       "      <th>canadian folk</th>\n",
       "      <td>0.300439</td>\n",
       "      <td>43.857143</td>\n",
       "      <td>44.0</td>\n",
       "      <td>14.299517</td>\n",
       "      <td>7</td>\n",
       "    </tr>\n",
       "    <tr>\n",
       "      <th>modern folk rock</th>\n",
       "      <td>-0.266258</td>\n",
       "      <td>44.142857</td>\n",
       "      <td>48.0</td>\n",
       "      <td>12.850792</td>\n",
       "      <td>7</td>\n",
       "    </tr>\n",
       "    <tr>\n",
       "      <th>alternative metal</th>\n",
       "      <td>0.040908</td>\n",
       "      <td>45.742857</td>\n",
       "      <td>44.5</td>\n",
       "      <td>13.168568</td>\n",
       "      <td>70</td>\n",
       "    </tr>\n",
       "  </tbody>\n",
       "</table>\n",
       "</div>"
      ],
      "text/plain": [
       "                  danceability                                   \n",
       "                          skew       mean median        std count\n",
       "top_genre                                                        \n",
       "chanson              -0.201373  35.000000   35.0   6.082763     9\n",
       "carnaval limburg      1.526787  35.200000   30.5  13.538423    10\n",
       "dutch metal           0.319781  36.250000   34.5  12.841988     4\n",
       "britpop              -1.463008  40.181818   43.0  12.623931    11\n",
       "celtic                0.690697  40.800000   42.0  18.700267     5\n",
       "bubblegum pop        -0.852358  41.000000   43.0  10.148892     3\n",
       "glam metal           -0.319205  42.000000   45.0  11.084900    17\n",
       "canadian folk         0.300439  43.857143   44.0  14.299517     7\n",
       "modern folk rock     -0.266258  44.142857   48.0  12.850792     7\n",
       "alternative metal     0.040908  45.742857   44.5  13.168568    70"
      ]
     },
     "execution_count": 22,
     "metadata": {},
     "output_type": "execute_result"
    }
   ],
   "source": [
    "genre_dance_summary.sort_values(('danceability', 'mean'), ascending=True).dropna().head(10)"
   ]
  },
  {
   "cell_type": "markdown",
   "id": "f82cb6b9",
   "metadata": {},
   "source": [
    "From the DataFrame above, we can see that `chanson`, a lyric-driven French song genre, has the lowest mean `danceability`, with a value of **35.00**."
   ]
  },
  {
   "cell_type": "markdown",
   "id": "786e3ab5",
   "metadata": {},
   "source": [
    "Let's take a look at the first 10 values sorted by `count` and see what the averages for the high-count genres are."
   ]
  },
  {
   "cell_type": "code",
   "execution_count": 23,
   "id": "13c6e7c1",
   "metadata": {},
   "outputs": [
    {
     "data": {
      "text/html": [
       "<div>\n",
       "<style scoped>\n",
       "    .dataframe tbody tr th:only-of-type {\n",
       "        vertical-align: middle;\n",
       "    }\n",
       "\n",
       "    .dataframe tbody tr th {\n",
       "        vertical-align: top;\n",
       "    }\n",
       "\n",
       "    .dataframe thead tr th {\n",
       "        text-align: left;\n",
       "    }\n",
       "\n",
       "    .dataframe thead tr:last-of-type th {\n",
       "        text-align: right;\n",
       "    }\n",
       "</style>\n",
       "<table border=\"1\" class=\"dataframe\">\n",
       "  <thead>\n",
       "    <tr>\n",
       "      <th></th>\n",
       "      <th colspan=\"5\" halign=\"left\">danceability</th>\n",
       "    </tr>\n",
       "    <tr>\n",
       "      <th></th>\n",
       "      <th>skew</th>\n",
       "      <th>mean</th>\n",
       "      <th>median</th>\n",
       "      <th>std</th>\n",
       "      <th>count</th>\n",
       "    </tr>\n",
       "    <tr>\n",
       "      <th>top_genre</th>\n",
       "      <th></th>\n",
       "      <th></th>\n",
       "      <th></th>\n",
       "      <th></th>\n",
       "      <th></th>\n",
       "    </tr>\n",
       "  </thead>\n",
       "  <tbody>\n",
       "    <tr>\n",
       "      <th>album rock</th>\n",
       "      <td>-0.003513</td>\n",
       "      <td>51.411622</td>\n",
       "      <td>52.0</td>\n",
       "      <td>14.451125</td>\n",
       "      <td>413</td>\n",
       "    </tr>\n",
       "    <tr>\n",
       "      <th>adult standards</th>\n",
       "      <td>-0.018742</td>\n",
       "      <td>49.162602</td>\n",
       "      <td>49.0</td>\n",
       "      <td>16.363381</td>\n",
       "      <td>123</td>\n",
       "    </tr>\n",
       "    <tr>\n",
       "      <th>dutch pop</th>\n",
       "      <td>0.020051</td>\n",
       "      <td>51.147727</td>\n",
       "      <td>51.0</td>\n",
       "      <td>15.013817</td>\n",
       "      <td>88</td>\n",
       "    </tr>\n",
       "    <tr>\n",
       "      <th>alternative rock</th>\n",
       "      <td>0.009093</td>\n",
       "      <td>48.534884</td>\n",
       "      <td>47.5</td>\n",
       "      <td>13.884988</td>\n",
       "      <td>86</td>\n",
       "    </tr>\n",
       "    <tr>\n",
       "      <th>dance pop</th>\n",
       "      <td>-0.515789</td>\n",
       "      <td>60.650602</td>\n",
       "      <td>64.0</td>\n",
       "      <td>14.334364</td>\n",
       "      <td>83</td>\n",
       "    </tr>\n",
       "    <tr>\n",
       "      <th>dutch indie</th>\n",
       "      <td>-0.373096</td>\n",
       "      <td>53.400000</td>\n",
       "      <td>54.0</td>\n",
       "      <td>12.355106</td>\n",
       "      <td>75</td>\n",
       "    </tr>\n",
       "    <tr>\n",
       "      <th>alternative metal</th>\n",
       "      <td>0.040908</td>\n",
       "      <td>45.742857</td>\n",
       "      <td>44.5</td>\n",
       "      <td>13.168568</td>\n",
       "      <td>70</td>\n",
       "    </tr>\n",
       "    <tr>\n",
       "      <th>dance rock</th>\n",
       "      <td>-0.276031</td>\n",
       "      <td>57.903846</td>\n",
       "      <td>58.5</td>\n",
       "      <td>13.137672</td>\n",
       "      <td>52</td>\n",
       "    </tr>\n",
       "    <tr>\n",
       "      <th>dutch cabaret</th>\n",
       "      <td>0.447093</td>\n",
       "      <td>54.137255</td>\n",
       "      <td>53.0</td>\n",
       "      <td>16.230859</td>\n",
       "      <td>51</td>\n",
       "    </tr>\n",
       "    <tr>\n",
       "      <th>classic rock</th>\n",
       "      <td>-0.294344</td>\n",
       "      <td>54.235294</td>\n",
       "      <td>58.0</td>\n",
       "      <td>16.320035</td>\n",
       "      <td>51</td>\n",
       "    </tr>\n",
       "  </tbody>\n",
       "</table>\n",
       "</div>"
      ],
      "text/plain": [
       "                  danceability                                   \n",
       "                          skew       mean median        std count\n",
       "top_genre                                                        \n",
       "album rock           -0.003513  51.411622   52.0  14.451125   413\n",
       "adult standards      -0.018742  49.162602   49.0  16.363381   123\n",
       "dutch pop             0.020051  51.147727   51.0  15.013817    88\n",
       "alternative rock      0.009093  48.534884   47.5  13.884988    86\n",
       "dance pop            -0.515789  60.650602   64.0  14.334364    83\n",
       "dutch indie          -0.373096  53.400000   54.0  12.355106    75\n",
       "alternative metal     0.040908  45.742857   44.5  13.168568    70\n",
       "dance rock           -0.276031  57.903846   58.5  13.137672    52\n",
       "dutch cabaret         0.447093  54.137255   53.0  16.230859    51\n",
       "classic rock         -0.294344  54.235294   58.0  16.320035    51"
      ]
     },
     "execution_count": 23,
     "metadata": {},
     "output_type": "execute_result"
    }
   ],
   "source": [
    "genre_dance_summary.sort_values(('danceability', 'count'), ascending=False).dropna().head(10)"
   ]
  },
  {
   "cell_type": "markdown",
   "id": "ad457fff",
   "metadata": {},
   "source": [
    "As we can see, `album rock` with the highest song count has a mean of **51.41**. `dance pop`, rather appropriately, has a relatively high danceability median of **64.0**."
   ]
  },
  {
   "cell_type": "markdown",
   "id": "59d8e016",
   "metadata": {},
   "source": [
    "### Which Attributes and Sound Features are Correlated?"
   ]
  },
  {
   "cell_type": "markdown",
   "id": "351fbc41",
   "metadata": {},
   "source": [
    "To this, we first slice the dataframe and only incorporate the different sound features per top_genre and their mean. Afterwards, we apply panda's **.corr()** function to get the correlation value between them.\n"
   ]
  },
  {
   "cell_type": "code",
   "execution_count": 24,
   "id": "8d84cf2f",
   "metadata": {},
   "outputs": [
    {
     "data": {
      "text/html": [
       "<div>\n",
       "<style scoped>\n",
       "    .dataframe tbody tr th:only-of-type {\n",
       "        vertical-align: middle;\n",
       "    }\n",
       "\n",
       "    .dataframe tbody tr th {\n",
       "        vertical-align: top;\n",
       "    }\n",
       "\n",
       "    .dataframe thead th {\n",
       "        text-align: right;\n",
       "    }\n",
       "</style>\n",
       "<table border=\"1\" class=\"dataframe\">\n",
       "  <thead>\n",
       "    <tr style=\"text-align: right;\">\n",
       "      <th></th>\n",
       "      <th>bpm</th>\n",
       "      <th>energy</th>\n",
       "      <th>danceability</th>\n",
       "      <th>loudness</th>\n",
       "      <th>liveness</th>\n",
       "      <th>valence</th>\n",
       "      <th>length</th>\n",
       "      <th>acousticness</th>\n",
       "      <th>speechiness</th>\n",
       "    </tr>\n",
       "  </thead>\n",
       "  <tbody>\n",
       "    <tr>\n",
       "      <th>bpm</th>\n",
       "      <td>1.000000</td>\n",
       "      <td>0.172462</td>\n",
       "      <td>-0.141669</td>\n",
       "      <td>0.062181</td>\n",
       "      <td>0.162355</td>\n",
       "      <td>0.052995</td>\n",
       "      <td>0.138210</td>\n",
       "      <td>-0.042385</td>\n",
       "      <td>0.034224</td>\n",
       "    </tr>\n",
       "    <tr>\n",
       "      <th>energy</th>\n",
       "      <td>0.172462</td>\n",
       "      <td>1.000000</td>\n",
       "      <td>0.188497</td>\n",
       "      <td>0.762626</td>\n",
       "      <td>0.203286</td>\n",
       "      <td>0.300656</td>\n",
       "      <td>0.030239</td>\n",
       "      <td>-0.687878</td>\n",
       "      <td>0.267247</td>\n",
       "    </tr>\n",
       "    <tr>\n",
       "      <th>danceability</th>\n",
       "      <td>-0.141669</td>\n",
       "      <td>0.188497</td>\n",
       "      <td>1.000000</td>\n",
       "      <td>0.052810</td>\n",
       "      <td>-0.015855</td>\n",
       "      <td>0.499296</td>\n",
       "      <td>-0.000552</td>\n",
       "      <td>-0.225136</td>\n",
       "      <td>0.309446</td>\n",
       "    </tr>\n",
       "    <tr>\n",
       "      <th>loudness</th>\n",
       "      <td>0.062181</td>\n",
       "      <td>0.762626</td>\n",
       "      <td>0.052810</td>\n",
       "      <td>1.000000</td>\n",
       "      <td>0.031111</td>\n",
       "      <td>0.090537</td>\n",
       "      <td>-0.101308</td>\n",
       "      <td>-0.501563</td>\n",
       "      <td>0.239981</td>\n",
       "    </tr>\n",
       "    <tr>\n",
       "      <th>liveness</th>\n",
       "      <td>0.162355</td>\n",
       "      <td>0.203286</td>\n",
       "      <td>-0.015855</td>\n",
       "      <td>0.031111</td>\n",
       "      <td>1.000000</td>\n",
       "      <td>0.050215</td>\n",
       "      <td>-0.016061</td>\n",
       "      <td>-0.052157</td>\n",
       "      <td>0.110266</td>\n",
       "    </tr>\n",
       "    <tr>\n",
       "      <th>valence</th>\n",
       "      <td>0.052995</td>\n",
       "      <td>0.300656</td>\n",
       "      <td>0.499296</td>\n",
       "      <td>0.090537</td>\n",
       "      <td>0.050215</td>\n",
       "      <td>1.000000</td>\n",
       "      <td>-0.234040</td>\n",
       "      <td>-0.082796</td>\n",
       "      <td>0.163477</td>\n",
       "    </tr>\n",
       "    <tr>\n",
       "      <th>length</th>\n",
       "      <td>0.138210</td>\n",
       "      <td>0.030239</td>\n",
       "      <td>-0.000552</td>\n",
       "      <td>-0.101308</td>\n",
       "      <td>-0.016061</td>\n",
       "      <td>-0.234040</td>\n",
       "      <td>1.000000</td>\n",
       "      <td>-0.213287</td>\n",
       "      <td>-0.105329</td>\n",
       "    </tr>\n",
       "    <tr>\n",
       "      <th>acousticness</th>\n",
       "      <td>-0.042385</td>\n",
       "      <td>-0.687878</td>\n",
       "      <td>-0.225136</td>\n",
       "      <td>-0.501563</td>\n",
       "      <td>-0.052157</td>\n",
       "      <td>-0.082796</td>\n",
       "      <td>-0.213287</td>\n",
       "      <td>1.000000</td>\n",
       "      <td>-0.172209</td>\n",
       "    </tr>\n",
       "    <tr>\n",
       "      <th>speechiness</th>\n",
       "      <td>0.034224</td>\n",
       "      <td>0.267247</td>\n",
       "      <td>0.309446</td>\n",
       "      <td>0.239981</td>\n",
       "      <td>0.110266</td>\n",
       "      <td>0.163477</td>\n",
       "      <td>-0.105329</td>\n",
       "      <td>-0.172209</td>\n",
       "      <td>1.000000</td>\n",
       "    </tr>\n",
       "  </tbody>\n",
       "</table>\n",
       "</div>"
      ],
      "text/plain": [
       "                   bpm    energy  danceability  loudness  liveness   valence  \\\n",
       "bpm           1.000000  0.172462     -0.141669  0.062181  0.162355  0.052995   \n",
       "energy        0.172462  1.000000      0.188497  0.762626  0.203286  0.300656   \n",
       "danceability -0.141669  0.188497      1.000000  0.052810 -0.015855  0.499296   \n",
       "loudness      0.062181  0.762626      0.052810  1.000000  0.031111  0.090537   \n",
       "liveness      0.162355  0.203286     -0.015855  0.031111  1.000000  0.050215   \n",
       "valence       0.052995  0.300656      0.499296  0.090537  0.050215  1.000000   \n",
       "length        0.138210  0.030239     -0.000552 -0.101308 -0.016061 -0.234040   \n",
       "acousticness -0.042385 -0.687878     -0.225136 -0.501563 -0.052157 -0.082796   \n",
       "speechiness   0.034224  0.267247      0.309446  0.239981  0.110266  0.163477   \n",
       "\n",
       "                length  acousticness  speechiness  \n",
       "bpm           0.138210     -0.042385     0.034224  \n",
       "energy        0.030239     -0.687878     0.267247  \n",
       "danceability -0.000552     -0.225136     0.309446  \n",
       "loudness     -0.101308     -0.501563     0.239981  \n",
       "liveness     -0.016061     -0.052157     0.110266  \n",
       "valence      -0.234040     -0.082796     0.163477  \n",
       "length        1.000000     -0.213287    -0.105329  \n",
       "acousticness -0.213287      1.000000    -0.172209  \n",
       "speechiness  -0.105329     -0.172209     1.000000  "
      ]
     },
     "execution_count": 24,
     "metadata": {},
     "output_type": "execute_result"
    }
   ],
   "source": [
    "genre_attributes = df.copy()\n",
    "genre_attributes.drop(['index','period','artist','popularity','title','year'], axis=1, inplace=True)\n",
    "genre_attributes_summary = genre_attributes.groupby('top_genre').agg('mean')\n",
    "genre_attributes_summary.dropna()\n",
    "genre_attributes_summary.corr()"
   ]
  },
  {
   "cell_type": "markdown",
   "id": "762091d3",
   "metadata": {},
   "source": [
    "It has been found that there are a couple of sound features that have correlation between them, such as `energy` and `loudness` which have a positive correlation between them. Let's take a look at the scatterplot for these features."
   ]
  },
  {
   "cell_type": "code",
   "execution_count": 25,
   "id": "0afd8978",
   "metadata": {},
   "outputs": [
    {
     "data": {
      "text/plain": [
       "<AxesSubplot:xlabel='energy', ylabel='loudness'>"
      ]
     },
     "execution_count": 25,
     "metadata": {},
     "output_type": "execute_result"
    },
    {
     "data": {
      "image/png": "[encoded data removed]",
      "text/plain": [
       "<Figure size 432x288 with 1 Axes>"
      ]
     },
     "metadata": {
      "needs_background": "light"
     },
     "output_type": "display_data"
    }
   ],
   "source": [
    "genre_attributes[['energy', 'loudness']].plot.scatter(x='energy', y='loudness', alpha=0.5)"
   ]
  },
  {
   "cell_type": "markdown",
   "id": "e02f1114",
   "metadata": {},
   "source": [
    "As you can see, there is a distinct upwards trend, denoting a positive correlation. This means that, usually, the louder the song is, the more energy it's perceived to have."
   ]
  },
  {
   "cell_type": "markdown",
   "id": "cc60fa60",
   "metadata": {},
   "source": [
    "Another one is `acousticness` and `energy` with a negative correlation. Let's see the scatterplot for these two."
   ]
  },
  {
   "cell_type": "code",
   "execution_count": 26,
   "id": "948892c2",
   "metadata": {},
   "outputs": [
    {
     "data": {
      "text/plain": [
       "<AxesSubplot:xlabel='acousticness', ylabel='energy'>"
      ]
     },
     "execution_count": 26,
     "metadata": {},
     "output_type": "execute_result"
    },
    {
     "data": {
      "image/png": "[encoded data removed]",
      "text/plain": [
       "<Figure size 432x288 with 1 Axes>"
      ]
     },
     "metadata": {
      "needs_background": "light"
     },
     "output_type": "display_data"
    }
   ],
   "source": [
    "genre_attributes[['acousticness', 'energy']].plot.scatter(x='acousticness', y='energy', alpha=0.5)"
   ]
  },
  {
   "cell_type": "markdown",
   "id": "0c763c86",
   "metadata": {},
   "source": [
    "Given this negative correlation, we can say that the perceived energy in a song tends to lower the more it uses more acoustic elements or instruments rather than more electronic elements."
   ]
  },
  {
   "cell_type": "markdown",
   "id": "175162de",
   "metadata": {},
   "source": [
    " `acousticness` and `loudness` also have a negative correlation between them. Let's see the scatterplot."
   ]
  },
  {
   "cell_type": "code",
   "execution_count": 27,
   "id": "569da153",
   "metadata": {},
   "outputs": [
    {
     "data": {
      "text/plain": [
       "<AxesSubplot:xlabel='acousticness', ylabel='loudness'>"
      ]
     },
     "execution_count": 27,
     "metadata": {},
     "output_type": "execute_result"
    },
    {
     "data": {
      "image/png": "[encoded data removed]",
      "text/plain": [
       "<Figure size 432x288 with 1 Axes>"
      ]
     },
     "metadata": {
      "needs_background": "light"
     },
     "output_type": "display_data"
    }
   ],
   "source": [
    "genre_attributes[['acousticness', 'loudness']].plot.scatter(x='acousticness', y='loudness', alpha=0.5)"
   ]
  },
  {
   "cell_type": "markdown",
   "id": "094020e1",
   "metadata": {},
   "source": [
    "From this, similar to the relationship between `acousticness` and `loudness`, the more acoustic elements there are in a song, the more it tends to be louder. This could be because most acoustic instruments are usually limited in terms of how loud a sound they can produce."
   ]
  },
  {
   "cell_type": "markdown",
   "id": "119abe03",
   "metadata": {},
   "source": [
    "Lastly, there is a slightly positive correlation between `valence` and `danceability`."
   ]
  },
  {
   "cell_type": "code",
   "execution_count": 28,
   "id": "ae3532b3",
   "metadata": {},
   "outputs": [
    {
     "data": {
      "text/plain": [
       "<AxesSubplot:xlabel='valence', ylabel='danceability'>"
      ]
     },
     "execution_count": 28,
     "metadata": {},
     "output_type": "execute_result"
    },
    {
     "data": {
      "image/png": "[encoded data removed]",
      "text/plain": [
       "<Figure size 432x288 with 1 Axes>"
      ]
     },
     "metadata": {
      "needs_background": "light"
     },
     "output_type": "display_data"
    }
   ],
   "source": [
    "genre_attributes[['valence', 'danceability']].plot.scatter(x='valence', y='danceability', alpha=0.5)"
   ]
  },
  {
   "cell_type": "markdown",
   "id": "4594619b",
   "metadata": {},
   "source": [
    "We can infer from this that danceable songs tend to be \"happier\" sounding."
   ]
  },
  {
   "cell_type": "markdown",
   "id": "935c3dde",
   "metadata": {},
   "source": [
    "### What are the energy level intervals of all the songs in the dataset?"
   ]
  },
  {
   "cell_type": "markdown",
   "id": "c56cba54",
   "metadata": {},
   "source": [
    "To answer this question, the variables of interest are:\n",
    "- **`energy`**: Scale measuring how energetic and upbeat the track is. The higher the value, the more energetic."
   ]
  },
  {
   "cell_type": "markdown",
   "id": "1703ef67",
   "metadata": {},
   "source": [
    "Since the sample population is independent and is at least 30, the group will find the confidence interval of the energy level of the songs in the dataset."
   ]
  },
  {
   "cell_type": "markdown",
   "id": "f0ae6475",
   "metadata": {},
   "source": [
    "First, let's take a look if the distribution of values in energy is normal."
   ]
  },
  {
   "cell_type": "code",
   "execution_count": 29,
   "id": "4849c32f",
   "metadata": {},
   "outputs": [
    {
     "data": {
      "text/plain": [
       "-0.24811841442289234"
      ]
     },
     "execution_count": 29,
     "metadata": {},
     "output_type": "execute_result"
    }
   ],
   "source": [
    "df['energy'].skew()"
   ]
  },
  {
   "cell_type": "markdown",
   "id": "c00ef53d",
   "metadata": {},
   "source": [
    "Since the value is negative but still close to zero, it can be said that the distribution is slightly negatively skewed. Let's validate this using a histogram."
   ]
  },
  {
   "cell_type": "code",
   "execution_count": 30,
   "id": "e76f7c93",
   "metadata": {},
   "outputs": [
    {
     "data": {
      "text/plain": [
       "array([[<AxesSubplot:title={'center':'energy'}>]], dtype=object)"
      ]
     },
     "execution_count": 30,
     "metadata": {},
     "output_type": "execute_result"
    },
    {
     "data": {
      "image/png": "[encoded data removed]",
      "text/plain": [
       "<Figure size 576x288 with 1 Axes>"
      ]
     },
     "metadata": {
      "needs_background": "light"
     },
     "output_type": "display_data"
    }
   ],
   "source": [
    "df.hist('energy', edgecolor='w', figsize=(8,4))"
   ]
  },
  {
   "cell_type": "markdown",
   "id": "42af8d72",
   "metadata": {},
   "source": [
    "With this, it can be said that the sample is approximately symmetric.\n",
    "\n",
    "Now, let's take a look at energy's mean, meadian, and standard deviation to get the confidence interval."
   ]
  },
  {
   "cell_type": "code",
   "execution_count": 31,
   "id": "b4bbd2ee",
   "metadata": {},
   "outputs": [
    {
     "data": {
      "text/html": [
       "<div>\n",
       "<style scoped>\n",
       "    .dataframe tbody tr th:only-of-type {\n",
       "        vertical-align: middle;\n",
       "    }\n",
       "\n",
       "    .dataframe tbody tr th {\n",
       "        vertical-align: top;\n",
       "    }\n",
       "\n",
       "    .dataframe thead th {\n",
       "        text-align: right;\n",
       "    }\n",
       "</style>\n",
       "<table border=\"1\" class=\"dataframe\">\n",
       "  <thead>\n",
       "    <tr style=\"text-align: right;\">\n",
       "      <th></th>\n",
       "      <th>energy</th>\n",
       "    </tr>\n",
       "  </thead>\n",
       "  <tbody>\n",
       "    <tr>\n",
       "      <th>mean</th>\n",
       "      <td>59.679539</td>\n",
       "    </tr>\n",
       "    <tr>\n",
       "      <th>median</th>\n",
       "      <td>61.000000</td>\n",
       "    </tr>\n",
       "    <tr>\n",
       "      <th>std</th>\n",
       "      <td>22.154322</td>\n",
       "    </tr>\n",
       "  </tbody>\n",
       "</table>\n",
       "</div>"
      ],
      "text/plain": [
       "           energy\n",
       "mean    59.679539\n",
       "median  61.000000\n",
       "std     22.154322"
      ]
     },
     "execution_count": 31,
     "metadata": {},
     "output_type": "execute_result"
    }
   ],
   "source": [
    "energy_agg = df.agg({\"energy\": [\"mean\", \"median\", \"std\"]})\n",
    "\n",
    "sample_mean = energy_agg.loc[\"mean\"][0]\n",
    "sample_median = energy_agg.loc[\"median\"][0]\n",
    "sample_std = energy_agg.loc[\"std\"][0]\n",
    "\n",
    "energy_agg"
   ]
  },
  {
   "cell_type": "markdown",
   "id": "f85f8755",
   "metadata": {},
   "source": [
    "The mean, median, and standard deviation are: **59.68**, **61.00**, and **22.15**."
   ]
  },
  {
   "cell_type": "markdown",
   "id": "421bc217",
   "metadata": {},
   "source": [
    "#### Confidence Interval\n",
    "\n",
    "A confidence interval for a population mean is of the following form:\n",
    "\n",
    "$$\\bar{x} \\pm z^* \\frac{s}{\\sqrt{n}}$$\n",
    "\n",
    "Where $z^*$, also known as the **critical value**, is the z-score that corresponds to the middle 95% of the data."
   ]
  },
  {
   "cell_type": "markdown",
   "id": "754a920a",
   "metadata": {},
   "source": [
    "The z-score of a 95% confidence is **1.96**. Let's validate the critical value of a 95% confidence interval using the formula below. "
   ]
  },
  {
   "cell_type": "code",
   "execution_count": 32,
   "id": "4abec8e4",
   "metadata": {
    "scrolled": true
   },
   "outputs": [
    {
     "name": "stdout",
     "output_type": "stream",
     "text": [
      "1.96\n"
     ]
    }
   ],
   "source": [
    "z_star_95 = norm.ppf(0.975)\n",
    "print('{:.2f}'.format(z_star_95))"
   ]
  },
  {
   "cell_type": "markdown",
   "id": "b18dfc34",
   "metadata": {},
   "source": [
    "#### Margin of Error\n",
    "\n",
    "We can compute the **margin of error** using the formula\n",
    "\n",
    "$$z^* \\frac{s}{\\sqrt{n}}$$\n",
    "\n",
    "Compute and display the margin of error given a 95% confidence level."
   ]
  },
  {
   "cell_type": "code",
   "execution_count": 33,
   "id": "acf0c850",
   "metadata": {
    "scrolled": true
   },
   "outputs": [
    {
     "name": "stdout",
     "output_type": "stream",
     "text": [
      "Margin of Error: 0.97\n"
     ]
    }
   ],
   "source": [
    "n = df['index'].count()\n",
    "\n",
    "margin_of_error = z_star_95 * (sample_std / np.sqrt(n))\n",
    "print('Margin of Error: {:.2f}'.format(margin_of_error))"
   ]
  },
  {
   "cell_type": "markdown",
   "id": "536c2ad7",
   "metadata": {},
   "source": [
    "Now, let's compute for the 95% confidence interval of the dataset. The 95% confidence interval is the sample mean $\\pm$ the margin of error. "
   ]
  },
  {
   "cell_type": "code",
   "execution_count": 34,
   "id": "ffae8db4",
   "metadata": {},
   "outputs": [
    {
     "name": "stdout",
     "output_type": "stream",
     "text": [
      "(58.71, 60.65)\n"
     ]
    }
   ],
   "source": [
    "minimum_value = sample_mean - margin_of_error\n",
    "maximum_value = sample_mean + margin_of_error\n",
    "print('({:.2f},'.format(minimum_value), '{:.2f})'.format(maximum_value))"
   ]
  },
  {
   "cell_type": "markdown",
   "id": "9074a39a",
   "metadata": {},
   "source": [
    "With this, even though we do not have the complete list of the popular songs of spotify, we are 95% confident that the true average energy level is between **58.71** to **60.65**."
   ]
  },
  {
   "cell_type": "markdown",
   "id": "2f2515d8",
   "metadata": {},
   "source": [
    "## Research Question"
   ]
  },
  {
   "cell_type": "markdown",
   "id": "9995cc40",
   "metadata": {},
   "source": [
    "Based on the results of our EDAs, we found that the `danceability` feature had varying averages across different genres, with some genres having similar averages. This leads us to question whether we could possibly find similar average values for other song features across genres, and find out how many features between certain genres are similar.\n",
    "\n",
    "We also found evidence that a couple of sound features had relationships between them. These correlations lead us to believe that these sound features could possibly be utilized to find relationships and similarities between the different genres as well.\n",
    "\n",
    "We also discovered that the the 95% confidence interval for all the songs across all genres in the dataset was between 58.71 and 60.65. To find out if certain genres are similar from another, it would be important to look at their confidence interval. If the intervals overlap, it can be said that the difference between them are not statistically significant.\n",
    "\n",
    "Given all of this information we've acquired about our dataset, we have decided on the research question, **\"Based on the attributes and features of songs, which music genres are similar (or dissimilar) to one another?\"**\n",
    "\n",
    "Music is arguably one of mankind's most significant innovations as it is able to transcend past the visual barriers and limitations by stimulating our imagination and emotions through sound. From Beethoven's Waldstein, to Tupac's All Eyez on Me, to Taylor Swift's Midnight Rain; each and every one of these songs from completely different genre's are able to tell different stories and provoke different emotions. With that said, given the amount of songs and genres available, it can be quite difficult to find the right songs given a certain taste in music. \n",
    "\n",
    "Being able to know which genres go well or are similar with others can definitely help the selection and filtration process. The group plans to answer this question with the use of cossine similarity and data mining techniques, such as clustering, using the given sound feature data per genre. The resulting data may also be used in recommender systems for music platforms, much like Spotify, to boost their efficiency by manipulating the algorithm into looking for suggestions from genres in the same or closest clusters first, instead of searching for recommendations randomly across the different genres."
   ]
  },
  {
   "cell_type": "markdown",
   "id": "a6348e73",
   "metadata": {},
   "source": [
    "# Phase 2"
   ]
  },
  {
   "cell_type": "markdown",
   "id": "7e763497",
   "metadata": {},
   "source": [
    "## Data Pre-processing"
   ]
  },
  {
   "cell_type": "markdown",
   "id": "71110df9",
   "metadata": {},
   "source": [
    "### Limiting Genres"
   ]
  },
  {
   "cell_type": "markdown",
   "id": "70c15167",
   "metadata": {},
   "source": [
    "Since the number of songs per genre in the dataset varies, we decided to get the top 20 genres with the most song counts.\n",
    "\n",
    "We decided to get the top 20 genres instead of setting a threshold number of songs since we also wanted to limit the amount of genres we'd have to analyze once we clustered our dataset."
   ]
  },
  {
   "cell_type": "code",
   "execution_count": 35,
   "id": "85e0f818",
   "metadata": {},
   "outputs": [
    {
     "name": "stdout",
     "output_type": "stream",
     "text": [
      "<class 'pandas.core.frame.DataFrame'>\n",
      "Int64Index: 1465 entries, 0 to 1993\n",
      "Data columns (total 16 columns):\n",
      " #   Column        Non-Null Count  Dtype   \n",
      "---  ------        --------------  -----   \n",
      " 0   index         1465 non-null   int64   \n",
      " 1   title         1465 non-null   string  \n",
      " 2   artist        1465 non-null   string  \n",
      " 3   top_genre     1465 non-null   string  \n",
      " 4   period        1465 non-null   category\n",
      " 5   year          1465 non-null   int64   \n",
      " 6   bpm           1465 non-null   int64   \n",
      " 7   energy        1465 non-null   int64   \n",
      " 8   danceability  1465 non-null   int64   \n",
      " 9   loudness      1465 non-null   int64   \n",
      " 10  liveness      1465 non-null   int64   \n",
      " 11  valence       1465 non-null   int64   \n",
      " 12  length        1465 non-null   int64   \n",
      " 13  acousticness  1465 non-null   int64   \n",
      " 14  speechiness   1465 non-null   int64   \n",
      " 15  popularity    1465 non-null   int64   \n",
      "dtypes: category(1), int64(12), string(3)\n",
      "memory usage: 184.9 KB\n"
     ]
    }
   ],
   "source": [
    "genre_df = df.copy()\n",
    "genre_df = genre_df[genre_df['top_genre'].isin(genre_df['top_genre'].value_counts().loc[lambda x: x>20].reset_index()['index'])]\n",
    "\n",
    "genre_df.info()"
   ]
  },
  {
   "cell_type": "markdown",
   "id": "9b7b9d2e",
   "metadata": {},
   "source": [
    "Here are the 20 genres left after filtering."
   ]
  },
  {
   "cell_type": "code",
   "execution_count": 36,
   "id": "e45ba4c4",
   "metadata": {},
   "outputs": [
    {
     "data": {
      "text/plain": [
       "<StringArray>\n",
       "[  'adult standards',        'album rock', 'alternative metal',\n",
       "      'classic rock',               'pop',       'modern rock',\n",
       "  'alternative rock',       'dutch indie',     'dutch cabaret',\n",
       "    'permanent wave',    'classic uk pop',         'dance pop',\n",
       "         'dutch pop',      'british soul',        'irish rock',\n",
       "          'art rock',  'british invasion',        'dance rock',\n",
       "         'glam rock',           'europop']\n",
       "Length: 20, dtype: string"
      ]
     },
     "execution_count": 36,
     "metadata": {},
     "output_type": "execute_result"
    }
   ],
   "source": [
    "genre_df['top_genre'].unique()"
   ]
  },
  {
   "cell_type": "markdown",
   "id": "4be4543a",
   "metadata": {},
   "source": [
    "### Choosing Columns"
   ]
  },
  {
   "cell_type": "markdown",
   "id": "754c9556",
   "metadata": {},
   "source": [
    "In order to answer our research question, we will employ the use of k-means clustering.\n",
    "\n",
    "But before clustering our data, we want to check which song attributes can be considered factors for data modelling. Let's take a look at the columns available in our DataFrame:"
   ]
  },
  {
   "cell_type": "code",
   "execution_count": 37,
   "id": "54496307",
   "metadata": {},
   "outputs": [
    {
     "name": "stdout",
     "output_type": "stream",
     "text": [
      "index\n",
      "title\n",
      "artist\n",
      "top_genre\n",
      "period\n",
      "year\n",
      "bpm\n",
      "energy\n",
      "danceability\n",
      "loudness\n",
      "liveness\n",
      "valence\n",
      "length\n",
      "acousticness\n",
      "speechiness\n",
      "popularity\n"
     ]
    }
   ],
   "source": [
    "for col in df.columns:\n",
    "    print(col)"
   ]
  },
  {
   "cell_type": "markdown",
   "id": "313bddaf",
   "metadata": {},
   "source": [
    "From these columns, we want to get the ones that refer to each song's musical attributes. These will be `energy`, `danceability`, `liveness`, `valence`, `acousticness`, and `speechiness`. We chose these attributes because these are values that are computed from Spotify's algorithms based on things like a song's key, beats per minute (BPM), loudness, etc., and are good metrics for representing a song's musical and emotional qualities. \n",
    "\n",
    "There are a few columns that we considered to add, but ultimately decided not to for various reasons:\n",
    "\n",
    ">`bpm`: We decided not to add this because this value is already used to compute the other attributes mentioned above. Thus, we feel it would be redundant to consider this as a factor for data modelling by itself.\n",
    ">\n",
    ">`loudness`: Similar to `bpm`, this is also a value already used to compute the attributes mentioned above.\n",
    ">\n",
    ">`length`: We believe that the length of a song isn't necessarily indicative of a song's musical qualities. In addition, there are some outlier songs with abnormally long durations that may affect our data modelling results.\n",
    ">\n",
    ">`popularity`: The popularity of a song is a more subjective metric that isn't really indicative of a song's musical qualities."
   ]
  },
  {
   "cell_type": "code",
   "execution_count": 38,
   "id": "e0fb2d07",
   "metadata": {},
   "outputs": [
    {
     "name": "stdout",
     "output_type": "stream",
     "text": [
      "<class 'pandas.core.frame.DataFrame'>\n",
      "RangeIndex: 1465 entries, 0 to 1464\n",
      "Data columns (total 7 columns):\n",
      " #   Column        Non-Null Count  Dtype \n",
      "---  ------        --------------  ----- \n",
      " 0   energy        1465 non-null   int64 \n",
      " 1   danceability  1465 non-null   int64 \n",
      " 2   liveness      1465 non-null   int64 \n",
      " 3   valence       1465 non-null   int64 \n",
      " 4   acousticness  1465 non-null   int64 \n",
      " 5   speechiness   1465 non-null   int64 \n",
      " 6   top_genre     1465 non-null   string\n",
      "dtypes: int64(6), string(1)\n",
      "memory usage: 80.2 KB\n"
     ]
    }
   ],
   "source": [
    "genre_df = genre_df[[\"energy\", \"danceability\", \"liveness\", \"valence\", \"acousticness\", \"speechiness\", \"top_genre\"]]\n",
    "genre_df.reset_index(drop = True, inplace = True)\n",
    "genre_df.info()"
   ]
  },
  {
   "cell_type": "code",
   "execution_count": 39,
   "id": "14786760",
   "metadata": {},
   "outputs": [
    {
     "data": {
      "text/plain": [
       "album rock           413\n",
       "adult standards      123\n",
       "dutch pop             88\n",
       "alternative rock      86\n",
       "dance pop             83\n",
       "dutch indie           75\n",
       "alternative metal     70\n",
       "dance rock            52\n",
       "dutch cabaret         51\n",
       "classic rock          51\n",
       "modern rock           49\n",
       "glam rock             49\n",
       "pop                   47\n",
       "art rock              40\n",
       "permanent wave        38\n",
       "british invasion      36\n",
       "irish rock            34\n",
       "british soul          31\n",
       "europop               27\n",
       "classic uk pop        22\n",
       "Name: top_genre, dtype: Int64"
      ]
     },
     "execution_count": 39,
     "metadata": {},
     "output_type": "execute_result"
    }
   ],
   "source": [
    "genre_df['top_genre'].value_counts()"
   ]
  },
  {
   "cell_type": "markdown",
   "id": "dc305821",
   "metadata": {},
   "source": [
    "In order for our KMeans code to work later for our data modelling, we have to set `top_genre`'s datatype to an object."
   ]
  },
  {
   "cell_type": "code",
   "execution_count": 40,
   "id": "5bf7da8e",
   "metadata": {},
   "outputs": [
    {
     "name": "stdout",
     "output_type": "stream",
     "text": [
      "<class 'pandas.core.frame.DataFrame'>\n",
      "RangeIndex: 1465 entries, 0 to 1464\n",
      "Data columns (total 7 columns):\n",
      " #   Column        Non-Null Count  Dtype \n",
      "---  ------        --------------  ----- \n",
      " 0   energy        1465 non-null   int64 \n",
      " 1   danceability  1465 non-null   int64 \n",
      " 2   liveness      1465 non-null   int64 \n",
      " 3   valence       1465 non-null   int64 \n",
      " 4   acousticness  1465 non-null   int64 \n",
      " 5   speechiness   1465 non-null   int64 \n",
      " 6   top_genre     1465 non-null   object\n",
      "dtypes: int64(6), object(1)\n",
      "memory usage: 80.2+ KB\n"
     ]
    }
   ],
   "source": [
    "genre_df['top_genre'] = genre_df['top_genre'].astype('object')\n",
    "genre_df.info()"
   ]
  },
  {
   "cell_type": "markdown",
   "id": "47d23ce2",
   "metadata": {},
   "source": [
    "In addition, because these attributes are already set on a scale from 0 to 100, normalization is not needed anymore."
   ]
  },
  {
   "cell_type": "markdown",
   "id": "0763efa0",
   "metadata": {},
   "source": [
    "Before using `energy`, `danceability`, `liveness`, `valence`, `acousticness`, and `speechiness` for clustering though, we first perform statistical inference on these attributes in order to see if they're actually significant enough to be considered factors for data modelling."
   ]
  },
  {
   "cell_type": "markdown",
   "id": "9b3c96db",
   "metadata": {},
   "source": [
    "## Data Cleaning for Statistical Inference"
   ]
  },
  {
   "cell_type": "markdown",
   "id": "d9eaaca7",
   "metadata": {},
   "source": [
    "First, let's check whether all factors to be used, `energy`, `danceability`, `liveness`, `valence`, `acousticness`, and `speechiness`, are normally distributed so that we know whether we can perform ANOVA on them."
   ]
  },
  {
   "cell_type": "code",
   "execution_count": 41,
   "id": "fe3f22ca",
   "metadata": {},
   "outputs": [
    {
     "data": {
      "text/plain": [
       "-0.23955775172582758"
      ]
     },
     "execution_count": 41,
     "metadata": {},
     "output_type": "execute_result"
    }
   ],
   "source": [
    "genre_df['energy'].skew()"
   ]
  },
  {
   "cell_type": "markdown",
   "id": "96386fe6",
   "metadata": {},
   "source": [
    "`energy` is fairly symmetrical."
   ]
  },
  {
   "cell_type": "code",
   "execution_count": 42,
   "id": "cf123e3c",
   "metadata": {},
   "outputs": [
    {
     "data": {
      "text/plain": [
       "-0.01968316756671877"
      ]
     },
     "execution_count": 42,
     "metadata": {},
     "output_type": "execute_result"
    }
   ],
   "source": [
    "genre_df['danceability'].skew()"
   ]
  },
  {
   "cell_type": "markdown",
   "id": "93bb2991",
   "metadata": {},
   "source": [
    "`danceability` is fairly symmetrical."
   ]
  },
  {
   "cell_type": "code",
   "execution_count": 43,
   "id": "b3f509a8",
   "metadata": {},
   "outputs": [
    {
     "data": {
      "text/plain": [
       "2.4434378949946343"
      ]
     },
     "execution_count": 43,
     "metadata": {},
     "output_type": "execute_result"
    }
   ],
   "source": [
    "genre_df['liveness'].skew()"
   ]
  },
  {
   "cell_type": "markdown",
   "id": "79ff78d9",
   "metadata": {},
   "source": [
    "`liveness` has a highly skewed distribution. Let's normalize this using the boxcox transformation which was adapted from [Geeks for Geeks](https://www.geeksforgeeks.org/box-cox-transformation-using-python/)."
   ]
  },
  {
   "cell_type": "code",
   "execution_count": 44,
   "id": "0c577ebd",
   "metadata": {},
   "outputs": [
    {
     "data": {
      "text/plain": [
       "0.002308848886609737"
      ]
     },
     "execution_count": 44,
     "metadata": {},
     "output_type": "execute_result"
    }
   ],
   "source": [
    "genre_df_std = genre_df.copy()\n",
    "\n",
    "fitted_data, fitted_lambda = stats.boxcox(genre_df_std['liveness'])\n",
    "\n",
    "genre_df_std = genre_df.drop(columns=[\"liveness\"]).copy()\n",
    "genre_df_std.insert(2, \"liveness\", fitted_data)\n",
    "genre_df_std['liveness'].skew()"
   ]
  },
  {
   "cell_type": "markdown",
   "id": "7ca475d2",
   "metadata": {},
   "source": [
    "Now `liveness` is fairly symmetrical."
   ]
  },
  {
   "cell_type": "code",
   "execution_count": 45,
   "id": "fbd99da4",
   "metadata": {},
   "outputs": [
    {
     "data": {
      "text/plain": [
       "0.19850970853586294"
      ]
     },
     "execution_count": 45,
     "metadata": {},
     "output_type": "execute_result"
    }
   ],
   "source": [
    "genre_df['valence'].skew()"
   ]
  },
  {
   "cell_type": "markdown",
   "id": "ae299cd3",
   "metadata": {},
   "source": [
    "`valence` is fairly symmetrical."
   ]
  },
  {
   "cell_type": "code",
   "execution_count": 46,
   "id": "668150a1",
   "metadata": {},
   "outputs": [
    {
     "data": {
      "text/plain": [
       "0.8104919367559275"
      ]
     },
     "execution_count": 46,
     "metadata": {},
     "output_type": "execute_result"
    }
   ],
   "source": [
    "genre_df['acousticness'].skew()"
   ]
  },
  {
   "cell_type": "markdown",
   "id": "ae41bc74",
   "metadata": {},
   "source": [
    "`danceability` is only moderately skewed."
   ]
  },
  {
   "cell_type": "code",
   "execution_count": 47,
   "id": "3bbdf4e4",
   "metadata": {},
   "outputs": [
    {
     "data": {
      "text/plain": [
       "4.889709062268053"
      ]
     },
     "execution_count": 47,
     "metadata": {},
     "output_type": "execute_result"
    }
   ],
   "source": [
    "genre_df['speechiness'].skew()"
   ]
  },
  {
   "cell_type": "markdown",
   "id": "3725d272",
   "metadata": {},
   "source": [
    "`speechiness` has a highly skewed distribution. Let's normalize this using the boxcox transformation. "
   ]
  },
  {
   "cell_type": "code",
   "execution_count": 48,
   "id": "868e5a4f",
   "metadata": {},
   "outputs": [
    {
     "data": {
      "text/plain": [
       "0.09071802730917913"
      ]
     },
     "execution_count": 48,
     "metadata": {},
     "output_type": "execute_result"
    }
   ],
   "source": [
    "fitted_data, fitted_lambda = stats.boxcox(genre_df_std['speechiness'])\n",
    "\n",
    "genre_df_std = genre_df_std.drop(columns=[\"speechiness\"])\n",
    "genre_df_std.insert(5, \"speechiness\", fitted_data)\n",
    "genre_df_std['speechiness'].skew()"
   ]
  },
  {
   "cell_type": "markdown",
   "id": "d2c296a7",
   "metadata": {},
   "source": [
    "Now `speechiness` is fairly symmetrical."
   ]
  },
  {
   "cell_type": "markdown",
   "id": "c1ace5d7",
   "metadata": {},
   "source": [
    "## Statistical Inference"
   ]
  },
  {
   "cell_type": "markdown",
   "id": "be0c94ef",
   "metadata": {},
   "source": [
    "Here are the means of the different attributes for each genre."
   ]
  },
  {
   "cell_type": "code",
   "execution_count": 49,
   "id": "a2f7f0d5",
   "metadata": {},
   "outputs": [
    {
     "data": {
      "text/html": [
       "<div>\n",
       "<style scoped>\n",
       "    .dataframe tbody tr th:only-of-type {\n",
       "        vertical-align: middle;\n",
       "    }\n",
       "\n",
       "    .dataframe tbody tr th {\n",
       "        vertical-align: top;\n",
       "    }\n",
       "\n",
       "    .dataframe thead th {\n",
       "        text-align: right;\n",
       "    }\n",
       "</style>\n",
       "<table border=\"1\" class=\"dataframe\">\n",
       "  <thead>\n",
       "    <tr style=\"text-align: right;\">\n",
       "      <th></th>\n",
       "      <th>energy</th>\n",
       "      <th>danceability</th>\n",
       "      <th>liveness</th>\n",
       "      <th>valence</th>\n",
       "      <th>acousticness</th>\n",
       "      <th>speechiness</th>\n",
       "    </tr>\n",
       "    <tr>\n",
       "      <th>top_genre</th>\n",
       "      <th></th>\n",
       "      <th></th>\n",
       "      <th></th>\n",
       "      <th></th>\n",
       "      <th></th>\n",
       "      <th></th>\n",
       "    </tr>\n",
       "  </thead>\n",
       "  <tbody>\n",
       "    <tr>\n",
       "      <th>adult standards</th>\n",
       "      <td>42.658537</td>\n",
       "      <td>49.162602</td>\n",
       "      <td>19.243902</td>\n",
       "      <td>53.398374</td>\n",
       "      <td>51.382114</td>\n",
       "      <td>3.926829</td>\n",
       "    </tr>\n",
       "    <tr>\n",
       "      <th>album rock</th>\n",
       "      <td>59.549637</td>\n",
       "      <td>51.411622</td>\n",
       "      <td>17.924939</td>\n",
       "      <td>52.721550</td>\n",
       "      <td>26.847458</td>\n",
       "      <td>4.818402</td>\n",
       "    </tr>\n",
       "    <tr>\n",
       "      <th>alternative metal</th>\n",
       "      <td>73.885714</td>\n",
       "      <td>45.742857</td>\n",
       "      <td>18.742857</td>\n",
       "      <td>40.314286</td>\n",
       "      <td>10.614286</td>\n",
       "      <td>5.228571</td>\n",
       "    </tr>\n",
       "    <tr>\n",
       "      <th>alternative rock</th>\n",
       "      <td>69.209302</td>\n",
       "      <td>48.534884</td>\n",
       "      <td>19.906977</td>\n",
       "      <td>46.674419</td>\n",
       "      <td>14.732558</td>\n",
       "      <td>4.744186</td>\n",
       "    </tr>\n",
       "    <tr>\n",
       "      <th>art rock</th>\n",
       "      <td>61.350000</td>\n",
       "      <td>54.875000</td>\n",
       "      <td>22.550000</td>\n",
       "      <td>60.500000</td>\n",
       "      <td>20.675000</td>\n",
       "      <td>4.000000</td>\n",
       "    </tr>\n",
       "    <tr>\n",
       "      <th>british invasion</th>\n",
       "      <td>49.583333</td>\n",
       "      <td>50.027778</td>\n",
       "      <td>21.027778</td>\n",
       "      <td>57.583333</td>\n",
       "      <td>39.055556</td>\n",
       "      <td>4.277778</td>\n",
       "    </tr>\n",
       "    <tr>\n",
       "      <th>british soul</th>\n",
       "      <td>57.193548</td>\n",
       "      <td>56.516129</td>\n",
       "      <td>13.258065</td>\n",
       "      <td>43.193548</td>\n",
       "      <td>40.806452</td>\n",
       "      <td>3.838710</td>\n",
       "    </tr>\n",
       "    <tr>\n",
       "      <th>classic rock</th>\n",
       "      <td>58.254902</td>\n",
       "      <td>54.235294</td>\n",
       "      <td>18.647059</td>\n",
       "      <td>58.529412</td>\n",
       "      <td>36.235294</td>\n",
       "      <td>4.686275</td>\n",
       "    </tr>\n",
       "    <tr>\n",
       "      <th>classic uk pop</th>\n",
       "      <td>50.727273</td>\n",
       "      <td>50.454545</td>\n",
       "      <td>15.681818</td>\n",
       "      <td>46.727273</td>\n",
       "      <td>28.318182</td>\n",
       "      <td>3.636364</td>\n",
       "    </tr>\n",
       "    <tr>\n",
       "      <th>dance pop</th>\n",
       "      <td>64.457831</td>\n",
       "      <td>60.650602</td>\n",
       "      <td>16.228916</td>\n",
       "      <td>50.710843</td>\n",
       "      <td>23.325301</td>\n",
       "      <td>6.024096</td>\n",
       "    </tr>\n",
       "    <tr>\n",
       "      <th>dance rock</th>\n",
       "      <td>65.576923</td>\n",
       "      <td>57.903846</td>\n",
       "      <td>21.826923</td>\n",
       "      <td>59.211538</td>\n",
       "      <td>19.826923</td>\n",
       "      <td>4.480769</td>\n",
       "    </tr>\n",
       "    <tr>\n",
       "      <th>dutch cabaret</th>\n",
       "      <td>49.862745</td>\n",
       "      <td>54.137255</td>\n",
       "      <td>20.372549</td>\n",
       "      <td>46.019608</td>\n",
       "      <td>46.549020</td>\n",
       "      <td>5.627451</td>\n",
       "    </tr>\n",
       "    <tr>\n",
       "      <th>dutch indie</th>\n",
       "      <td>56.773333</td>\n",
       "      <td>53.400000</td>\n",
       "      <td>18.200000</td>\n",
       "      <td>50.120000</td>\n",
       "      <td>32.293333</td>\n",
       "      <td>3.893333</td>\n",
       "    </tr>\n",
       "    <tr>\n",
       "      <th>dutch pop</th>\n",
       "      <td>57.045455</td>\n",
       "      <td>51.147727</td>\n",
       "      <td>20.318182</td>\n",
       "      <td>43.909091</td>\n",
       "      <td>30.375000</td>\n",
       "      <td>3.920455</td>\n",
       "    </tr>\n",
       "    <tr>\n",
       "      <th>europop</th>\n",
       "      <td>62.666667</td>\n",
       "      <td>57.777778</td>\n",
       "      <td>19.407407</td>\n",
       "      <td>61.185185</td>\n",
       "      <td>35.555556</td>\n",
       "      <td>3.518519</td>\n",
       "    </tr>\n",
       "    <tr>\n",
       "      <th>glam rock</th>\n",
       "      <td>60.408163</td>\n",
       "      <td>49.918367</td>\n",
       "      <td>20.061224</td>\n",
       "      <td>42.122449</td>\n",
       "      <td>32.163265</td>\n",
       "      <td>5.571429</td>\n",
       "    </tr>\n",
       "    <tr>\n",
       "      <th>irish rock</th>\n",
       "      <td>67.411765</td>\n",
       "      <td>47.411765</td>\n",
       "      <td>22.558824</td>\n",
       "      <td>42.176471</td>\n",
       "      <td>9.970588</td>\n",
       "      <td>3.647059</td>\n",
       "    </tr>\n",
       "    <tr>\n",
       "      <th>modern rock</th>\n",
       "      <td>74.265306</td>\n",
       "      <td>51.306122</td>\n",
       "      <td>19.204082</td>\n",
       "      <td>41.571429</td>\n",
       "      <td>10.510204</td>\n",
       "      <td>5.102041</td>\n",
       "    </tr>\n",
       "    <tr>\n",
       "      <th>permanent wave</th>\n",
       "      <td>55.973684</td>\n",
       "      <td>48.789474</td>\n",
       "      <td>16.368421</td>\n",
       "      <td>28.868421</td>\n",
       "      <td>23.710526</td>\n",
       "      <td>3.578947</td>\n",
       "    </tr>\n",
       "    <tr>\n",
       "      <th>pop</th>\n",
       "      <td>60.361702</td>\n",
       "      <td>65.276596</td>\n",
       "      <td>16.404255</td>\n",
       "      <td>51.553191</td>\n",
       "      <td>36.787234</td>\n",
       "      <td>5.361702</td>\n",
       "    </tr>\n",
       "  </tbody>\n",
       "</table>\n",
       "</div>"
      ],
      "text/plain": [
       "                      energy  danceability   liveness    valence  \\\n",
       "top_genre                                                          \n",
       "adult standards    42.658537     49.162602  19.243902  53.398374   \n",
       "album rock         59.549637     51.411622  17.924939  52.721550   \n",
       "alternative metal  73.885714     45.742857  18.742857  40.314286   \n",
       "alternative rock   69.209302     48.534884  19.906977  46.674419   \n",
       "art rock           61.350000     54.875000  22.550000  60.500000   \n",
       "british invasion   49.583333     50.027778  21.027778  57.583333   \n",
       "british soul       57.193548     56.516129  13.258065  43.193548   \n",
       "classic rock       58.254902     54.235294  18.647059  58.529412   \n",
       "classic uk pop     50.727273     50.454545  15.681818  46.727273   \n",
       "dance pop          64.457831     60.650602  16.228916  50.710843   \n",
       "dance rock         65.576923     57.903846  21.826923  59.211538   \n",
       "dutch cabaret      49.862745     54.137255  20.372549  46.019608   \n",
       "dutch indie        56.773333     53.400000  18.200000  50.120000   \n",
       "dutch pop          57.045455     51.147727  20.318182  43.909091   \n",
       "europop            62.666667     57.777778  19.407407  61.185185   \n",
       "glam rock          60.408163     49.918367  20.061224  42.122449   \n",
       "irish rock         67.411765     47.411765  22.558824  42.176471   \n",
       "modern rock        74.265306     51.306122  19.204082  41.571429   \n",
       "permanent wave     55.973684     48.789474  16.368421  28.868421   \n",
       "pop                60.361702     65.276596  16.404255  51.553191   \n",
       "\n",
       "                   acousticness  speechiness  \n",
       "top_genre                                     \n",
       "adult standards       51.382114     3.926829  \n",
       "album rock            26.847458     4.818402  \n",
       "alternative metal     10.614286     5.228571  \n",
       "alternative rock      14.732558     4.744186  \n",
       "art rock              20.675000     4.000000  \n",
       "british invasion      39.055556     4.277778  \n",
       "british soul          40.806452     3.838710  \n",
       "classic rock          36.235294     4.686275  \n",
       "classic uk pop        28.318182     3.636364  \n",
       "dance pop             23.325301     6.024096  \n",
       "dance rock            19.826923     4.480769  \n",
       "dutch cabaret         46.549020     5.627451  \n",
       "dutch indie           32.293333     3.893333  \n",
       "dutch pop             30.375000     3.920455  \n",
       "europop               35.555556     3.518519  \n",
       "glam rock             32.163265     5.571429  \n",
       "irish rock             9.970588     3.647059  \n",
       "modern rock           10.510204     5.102041  \n",
       "permanent wave        23.710526     3.578947  \n",
       "pop                   36.787234     5.361702  "
      ]
     },
     "execution_count": 49,
     "metadata": {},
     "output_type": "execute_result"
    }
   ],
   "source": [
    "genre_df.groupby('top_genre').agg(\"mean\")"
   ]
  },
  {
   "cell_type": "code",
   "execution_count": 50,
   "id": "63a1f6a6",
   "metadata": {},
   "outputs": [
    {
     "data": {
      "text/html": [
       "<div>\n",
       "<style scoped>\n",
       "    .dataframe tbody tr th:only-of-type {\n",
       "        vertical-align: middle;\n",
       "    }\n",
       "\n",
       "    .dataframe tbody tr th {\n",
       "        vertical-align: top;\n",
       "    }\n",
       "\n",
       "    .dataframe thead th {\n",
       "        text-align: right;\n",
       "    }\n",
       "</style>\n",
       "<table border=\"1\" class=\"dataframe\">\n",
       "  <thead>\n",
       "    <tr style=\"text-align: right;\">\n",
       "      <th></th>\n",
       "      <th>energy</th>\n",
       "      <th>danceability</th>\n",
       "      <th>liveness</th>\n",
       "      <th>valence</th>\n",
       "      <th>acousticness</th>\n",
       "      <th>speechiness</th>\n",
       "    </tr>\n",
       "    <tr>\n",
       "      <th>top_genre</th>\n",
       "      <th></th>\n",
       "      <th></th>\n",
       "      <th></th>\n",
       "      <th></th>\n",
       "      <th></th>\n",
       "      <th></th>\n",
       "    </tr>\n",
       "  </thead>\n",
       "  <tbody>\n",
       "    <tr>\n",
       "      <th>adult standards</th>\n",
       "      <td>42.658537</td>\n",
       "      <td>49.162602</td>\n",
       "      <td>1.814789</td>\n",
       "      <td>53.398374</td>\n",
       "      <td>51.382114</td>\n",
       "      <td>0.601101</td>\n",
       "    </tr>\n",
       "    <tr>\n",
       "      <th>album rock</th>\n",
       "      <td>59.549637</td>\n",
       "      <td>51.411622</td>\n",
       "      <td>1.780813</td>\n",
       "      <td>52.721550</td>\n",
       "      <td>26.847458</td>\n",
       "      <td>0.613304</td>\n",
       "    </tr>\n",
       "    <tr>\n",
       "      <th>alternative metal</th>\n",
       "      <td>73.885714</td>\n",
       "      <td>45.742857</td>\n",
       "      <td>1.816623</td>\n",
       "      <td>40.314286</td>\n",
       "      <td>10.614286</td>\n",
       "      <td>0.623545</td>\n",
       "    </tr>\n",
       "    <tr>\n",
       "      <th>alternative rock</th>\n",
       "      <td>69.209302</td>\n",
       "      <td>48.534884</td>\n",
       "      <td>1.819301</td>\n",
       "      <td>46.674419</td>\n",
       "      <td>14.732558</td>\n",
       "      <td>0.625747</td>\n",
       "    </tr>\n",
       "    <tr>\n",
       "      <th>art rock</th>\n",
       "      <td>61.350000</td>\n",
       "      <td>54.875000</td>\n",
       "      <td>1.848574</td>\n",
       "      <td>60.500000</td>\n",
       "      <td>20.675000</td>\n",
       "      <td>0.606836</td>\n",
       "    </tr>\n",
       "    <tr>\n",
       "      <th>british invasion</th>\n",
       "      <td>49.583333</td>\n",
       "      <td>50.027778</td>\n",
       "      <td>1.806950</td>\n",
       "      <td>57.583333</td>\n",
       "      <td>39.055556</td>\n",
       "      <td>0.604205</td>\n",
       "    </tr>\n",
       "    <tr>\n",
       "      <th>british soul</th>\n",
       "      <td>57.193548</td>\n",
       "      <td>56.516129</td>\n",
       "      <td>1.716208</td>\n",
       "      <td>43.193548</td>\n",
       "      <td>40.806452</td>\n",
       "      <td>0.596123</td>\n",
       "    </tr>\n",
       "    <tr>\n",
       "      <th>classic rock</th>\n",
       "      <td>58.254902</td>\n",
       "      <td>54.235294</td>\n",
       "      <td>1.798678</td>\n",
       "      <td>58.529412</td>\n",
       "      <td>36.235294</td>\n",
       "      <td>0.606870</td>\n",
       "    </tr>\n",
       "    <tr>\n",
       "      <th>classic uk pop</th>\n",
       "      <td>50.727273</td>\n",
       "      <td>50.454545</td>\n",
       "      <td>1.743372</td>\n",
       "      <td>46.727273</td>\n",
       "      <td>28.318182</td>\n",
       "      <td>0.596057</td>\n",
       "    </tr>\n",
       "    <tr>\n",
       "      <th>dance pop</th>\n",
       "      <td>64.457831</td>\n",
       "      <td>60.650602</td>\n",
       "      <td>1.757037</td>\n",
       "      <td>50.710843</td>\n",
       "      <td>23.325301</td>\n",
       "      <td>0.632363</td>\n",
       "    </tr>\n",
       "    <tr>\n",
       "      <th>dance rock</th>\n",
       "      <td>65.576923</td>\n",
       "      <td>57.903846</td>\n",
       "      <td>1.841319</td>\n",
       "      <td>59.211538</td>\n",
       "      <td>19.826923</td>\n",
       "      <td>0.613157</td>\n",
       "    </tr>\n",
       "    <tr>\n",
       "      <th>dutch cabaret</th>\n",
       "      <td>49.862745</td>\n",
       "      <td>54.137255</td>\n",
       "      <td>1.822092</td>\n",
       "      <td>46.019608</td>\n",
       "      <td>46.549020</td>\n",
       "      <td>0.621136</td>\n",
       "    </tr>\n",
       "    <tr>\n",
       "      <th>dutch indie</th>\n",
       "      <td>56.773333</td>\n",
       "      <td>53.400000</td>\n",
       "      <td>1.817506</td>\n",
       "      <td>50.120000</td>\n",
       "      <td>32.293333</td>\n",
       "      <td>0.606225</td>\n",
       "    </tr>\n",
       "    <tr>\n",
       "      <th>dutch pop</th>\n",
       "      <td>57.045455</td>\n",
       "      <td>51.147727</td>\n",
       "      <td>1.839231</td>\n",
       "      <td>43.909091</td>\n",
       "      <td>30.375000</td>\n",
       "      <td>0.601025</td>\n",
       "    </tr>\n",
       "    <tr>\n",
       "      <th>europop</th>\n",
       "      <td>62.666667</td>\n",
       "      <td>57.777778</td>\n",
       "      <td>1.836076</td>\n",
       "      <td>61.185185</td>\n",
       "      <td>35.555556</td>\n",
       "      <td>0.589167</td>\n",
       "    </tr>\n",
       "    <tr>\n",
       "      <th>glam rock</th>\n",
       "      <td>60.408163</td>\n",
       "      <td>49.918367</td>\n",
       "      <td>1.866700</td>\n",
       "      <td>42.122449</td>\n",
       "      <td>32.163265</td>\n",
       "      <td>0.624026</td>\n",
       "    </tr>\n",
       "    <tr>\n",
       "      <th>irish rock</th>\n",
       "      <td>67.411765</td>\n",
       "      <td>47.411765</td>\n",
       "      <td>1.819934</td>\n",
       "      <td>42.176471</td>\n",
       "      <td>9.970588</td>\n",
       "      <td>0.586970</td>\n",
       "    </tr>\n",
       "    <tr>\n",
       "      <th>modern rock</th>\n",
       "      <td>74.265306</td>\n",
       "      <td>51.306122</td>\n",
       "      <td>1.808630</td>\n",
       "      <td>41.571429</td>\n",
       "      <td>10.510204</td>\n",
       "      <td>0.624897</td>\n",
       "    </tr>\n",
       "    <tr>\n",
       "      <th>permanent wave</th>\n",
       "      <td>55.973684</td>\n",
       "      <td>48.789474</td>\n",
       "      <td>1.801479</td>\n",
       "      <td>28.868421</td>\n",
       "      <td>23.710526</td>\n",
       "      <td>0.592709</td>\n",
       "    </tr>\n",
       "    <tr>\n",
       "      <th>pop</th>\n",
       "      <td>60.361702</td>\n",
       "      <td>65.276596</td>\n",
       "      <td>1.784460</td>\n",
       "      <td>51.553191</td>\n",
       "      <td>36.787234</td>\n",
       "      <td>0.634146</td>\n",
       "    </tr>\n",
       "  </tbody>\n",
       "</table>\n",
       "</div>"
      ],
      "text/plain": [
       "                      energy  danceability  liveness    valence  acousticness  \\\n",
       "top_genre                                                                       \n",
       "adult standards    42.658537     49.162602  1.814789  53.398374     51.382114   \n",
       "album rock         59.549637     51.411622  1.780813  52.721550     26.847458   \n",
       "alternative metal  73.885714     45.742857  1.816623  40.314286     10.614286   \n",
       "alternative rock   69.209302     48.534884  1.819301  46.674419     14.732558   \n",
       "art rock           61.350000     54.875000  1.848574  60.500000     20.675000   \n",
       "british invasion   49.583333     50.027778  1.806950  57.583333     39.055556   \n",
       "british soul       57.193548     56.516129  1.716208  43.193548     40.806452   \n",
       "classic rock       58.254902     54.235294  1.798678  58.529412     36.235294   \n",
       "classic uk pop     50.727273     50.454545  1.743372  46.727273     28.318182   \n",
       "dance pop          64.457831     60.650602  1.757037  50.710843     23.325301   \n",
       "dance rock         65.576923     57.903846  1.841319  59.211538     19.826923   \n",
       "dutch cabaret      49.862745     54.137255  1.822092  46.019608     46.549020   \n",
       "dutch indie        56.773333     53.400000  1.817506  50.120000     32.293333   \n",
       "dutch pop          57.045455     51.147727  1.839231  43.909091     30.375000   \n",
       "europop            62.666667     57.777778  1.836076  61.185185     35.555556   \n",
       "glam rock          60.408163     49.918367  1.866700  42.122449     32.163265   \n",
       "irish rock         67.411765     47.411765  1.819934  42.176471      9.970588   \n",
       "modern rock        74.265306     51.306122  1.808630  41.571429     10.510204   \n",
       "permanent wave     55.973684     48.789474  1.801479  28.868421     23.710526   \n",
       "pop                60.361702     65.276596  1.784460  51.553191     36.787234   \n",
       "\n",
       "                   speechiness  \n",
       "top_genre                       \n",
       "adult standards       0.601101  \n",
       "album rock            0.613304  \n",
       "alternative metal     0.623545  \n",
       "alternative rock      0.625747  \n",
       "art rock              0.606836  \n",
       "british invasion      0.604205  \n",
       "british soul          0.596123  \n",
       "classic rock          0.606870  \n",
       "classic uk pop        0.596057  \n",
       "dance pop             0.632363  \n",
       "dance rock            0.613157  \n",
       "dutch cabaret         0.621136  \n",
       "dutch indie           0.606225  \n",
       "dutch pop             0.601025  \n",
       "europop               0.589167  \n",
       "glam rock             0.624026  \n",
       "irish rock            0.586970  \n",
       "modern rock           0.624897  \n",
       "permanent wave        0.592709  \n",
       "pop                   0.634146  "
      ]
     },
     "execution_count": 50,
     "metadata": {},
     "output_type": "execute_result"
    }
   ],
   "source": [
    "genre_df_std.groupby('top_genre').agg(\"mean\")"
   ]
  },
  {
   "cell_type": "markdown",
   "id": "5558231a",
   "metadata": {},
   "source": [
    "For statistical testing, ANOVA will be used. "
   ]
  },
  {
   "cell_type": "markdown",
   "id": "c4aa7994",
   "metadata": {},
   "source": [
    "### First Statistical Test - Energy\n",
    "\n",
    "For the first statistical test, let's check whether there is a significant difference in the mean of `energy`.\n",
    "\n",
    "**Null Hypothesis**: There is no difference in energy per genre.\n",
    "\n",
    "**Alternative Hypothesis**: There is a difference in energy per genre."
   ]
  },
  {
   "cell_type": "markdown",
   "id": "7b9b6929",
   "metadata": {},
   "source": [
    "Let's first visualize the mean using a box plot."
   ]
  },
  {
   "cell_type": "code",
   "execution_count": 51,
   "id": "64091fa2",
   "metadata": {},
   "outputs": [
    {
     "data": {
      "image/png": "[encoded data removed]",
      "text/plain": [
       "<Figure size 1080x720 with 1 Axes>"
      ]
     },
     "metadata": {
      "needs_background": "light"
     },
     "output_type": "display_data"
    }
   ],
   "source": [
    "genre_df_std.boxplot(\"energy\", by=\"top_genre\", figsize=(15,10))\n",
    "plt.show()"
   ]
  },
  {
   "cell_type": "markdown",
   "id": "3ab2c44f",
   "metadata": {},
   "source": [
    "It can be seen that their means do differ with one another, however let's validate this using one-way ANOVA."
   ]
  },
  {
   "cell_type": "code",
   "execution_count": 52,
   "id": "cca4161f",
   "metadata": {},
   "outputs": [
    {
     "data": {
      "text/plain": [
       "F_onewayResult(statistic=10.557396827964492, pvalue=5.3528794334018176e-30)"
      ]
     },
     "execution_count": 52,
     "metadata": {},
     "output_type": "execute_result"
    }
   ],
   "source": [
    "values = []\n",
    "for i in genre_df_std['top_genre'].unique():\n",
    "    _df = genre_df_std[genre_df['top_genre']==i]\n",
    "    values.append(_df['energy'].values)\n",
    "    \n",
    "f_oneway(*values)"
   ]
  },
  {
   "cell_type": "markdown",
   "id": "25654d76",
   "metadata": {},
   "source": [
    "Since the p-value **5.3529e-30** is less than the significance level of 0.05, we can reject the null hypothesis. Therefore, energy has a **significant difference** and will be a factor in clustering."
   ]
  },
  {
   "cell_type": "markdown",
   "id": "383f0a37",
   "metadata": {},
   "source": [
    "### Second Statistical Test - Danceability\n",
    "\n",
    "For the second statistical test, let's check whether there is a significant difference in the mean of `danceability`.\n",
    "\n",
    "**Null Hypothesis**: There is no difference in danceability per genre.\n",
    "\n",
    "**Alternative Hypothesis**: There is a difference in danceability per genre."
   ]
  },
  {
   "cell_type": "markdown",
   "id": "6e6a58cf",
   "metadata": {},
   "source": [
    "Let's first visualize the mean using a box plot."
   ]
  },
  {
   "cell_type": "code",
   "execution_count": 53,
   "id": "bb62b7a5",
   "metadata": {},
   "outputs": [
    {
     "data": {
      "image/png": "[encoded data removed]",
      "text/plain": [
       "<Figure size 1080x720 with 1 Axes>"
      ]
     },
     "metadata": {
      "needs_background": "light"
     },
     "output_type": "display_data"
    }
   ],
   "source": [
    "genre_df_std.boxplot(\"danceability\", by=\"top_genre\", figsize=(15,10))\n",
    "plt.show()"
   ]
  },
  {
   "cell_type": "markdown",
   "id": "32060b79",
   "metadata": {},
   "source": [
    "It can be seen that their means do differ with one another, however let's validate this using one-way ANOVA."
   ]
  },
  {
   "cell_type": "code",
   "execution_count": 54,
   "id": "637963df",
   "metadata": {},
   "outputs": [
    {
     "data": {
      "text/plain": [
       "F_onewayResult(statistic=6.270631547582524, pvalue=8.87691859270297e-16)"
      ]
     },
     "execution_count": 54,
     "metadata": {},
     "output_type": "execute_result"
    }
   ],
   "source": [
    "values = []\n",
    "for i in genre_df_std['top_genre'].unique():\n",
    "    _df = genre_df_std[genre_df['top_genre']==i]\n",
    "    values.append(_df['danceability'].values)\n",
    "    \n",
    "f_oneway(*values)"
   ]
  },
  {
   "cell_type": "markdown",
   "id": "88c847ff",
   "metadata": {},
   "source": [
    "Since the p-value **8.8769e-16** is less than the significance level of 0.05, we can reject the null hypothesis. Therefore, danceability has a **significant difference** and will be a factor in clustering."
   ]
  },
  {
   "cell_type": "markdown",
   "id": "023d3d72",
   "metadata": {},
   "source": [
    "### Third Statistical Test - liveness\n",
    "\n",
    "For the third statistical test, let's check whether there is a significant difference in the mean of `liveness`.\n",
    "\n",
    "**Null Hypothesis**: There is no difference in liveness per genre.\n",
    "\n",
    "**Alternative Hypothesis**: There is a difference in liveness per genre."
   ]
  },
  {
   "cell_type": "markdown",
   "id": "1e39da84",
   "metadata": {},
   "source": [
    "Let's first visualize the mean using a box plot."
   ]
  },
  {
   "cell_type": "code",
   "execution_count": 55,
   "id": "5a3db245",
   "metadata": {},
   "outputs": [
    {
     "data": {
      "image/png": "[encoded data removed]",
      "text/plain": [
       "<Figure size 1080x720 with 1 Axes>"
      ]
     },
     "metadata": {
      "needs_background": "light"
     },
     "output_type": "display_data"
    }
   ],
   "source": [
    "genre_df_std.boxplot(\"liveness\", by=\"top_genre\", figsize=(15,10))\n",
    "plt.show()"
   ]
  },
  {
   "cell_type": "markdown",
   "id": "cbd1f774",
   "metadata": {},
   "source": [
    "It may seem that their means are close to one another in this case. Let's validate this using one-way ANOVA."
   ]
  },
  {
   "cell_type": "code",
   "execution_count": 56,
   "id": "ccf0f1bd",
   "metadata": {},
   "outputs": [
    {
     "data": {
      "text/plain": [
       "F_onewayResult(statistic=0.79272924410441, pvalue=0.7180194377446798)"
      ]
     },
     "execution_count": 56,
     "metadata": {},
     "output_type": "execute_result"
    }
   ],
   "source": [
    "values = []\n",
    "for i in genre_df_std['top_genre'].unique():\n",
    "    _df = genre_df_std[genre_df_std['top_genre']==i]\n",
    "    values.append(_df['liveness'].values)\n",
    "    \n",
    "f_oneway(*values)"
   ]
  },
  {
   "cell_type": "markdown",
   "id": "7da89593",
   "metadata": {},
   "source": [
    "Since the p-value **0.7180** is greater than the significance level of 0.05, we can accept the null hypothesis. Therefore, liveness has **no significant difference** and will not be a factor in clustering."
   ]
  },
  {
   "cell_type": "markdown",
   "id": "f771e300",
   "metadata": {},
   "source": [
    "### Fourth Statistical Test - valence\n",
    "\n",
    "For the fourth statistical test, let's check whether there is a significant difference in the mean of `valence`.\n",
    "\n",
    "**Null Hypothesis**: There is no difference in valence per genre.\n",
    "\n",
    "**Alternative Hypothesis**: There is a difference in valence per genre."
   ]
  },
  {
   "cell_type": "markdown",
   "id": "98f31ff1",
   "metadata": {},
   "source": [
    "Let's first visualize the mean using a box plot."
   ]
  },
  {
   "cell_type": "code",
   "execution_count": 57,
   "id": "ae06f066",
   "metadata": {},
   "outputs": [
    {
     "data": {
      "image/png": "[encoded data removed]",
      "text/plain": [
       "<Figure size 1080x720 with 1 Axes>"
      ]
     },
     "metadata": {
      "needs_background": "light"
     },
     "output_type": "display_data"
    }
   ],
   "source": [
    "genre_df_std.boxplot(\"valence\", by=\"top_genre\", figsize=(15,10))\n",
    "plt.show()"
   ]
  },
  {
   "cell_type": "markdown",
   "id": "0fe197ec",
   "metadata": {},
   "source": [
    "It can be seen that their means do differ with one another, however let's validate this using one-way ANOVA."
   ]
  },
  {
   "cell_type": "code",
   "execution_count": 58,
   "id": "c4c514c2",
   "metadata": {},
   "outputs": [
    {
     "data": {
      "text/plain": [
       "F_onewayResult(statistic=5.434388767587698, pvalue=4.698643995334073e-13)"
      ]
     },
     "execution_count": 58,
     "metadata": {},
     "output_type": "execute_result"
    }
   ],
   "source": [
    "values = []\n",
    "for i in genre_df_std['top_genre'].unique():\n",
    "    _df = genre_df_std[genre_df['top_genre']==i]\n",
    "    values.append(_df['valence'].values)\n",
    "    \n",
    "f_oneway(*values)"
   ]
  },
  {
   "cell_type": "markdown",
   "id": "81519e22",
   "metadata": {},
   "source": [
    "Since the p-value **4.6986e-13** is less than the significance level of 0.05, we can reject the null hypothesis. Therefore, valence has a **significant difference** and will be a factor in clustering."
   ]
  },
  {
   "cell_type": "markdown",
   "id": "c8ee3aa1",
   "metadata": {},
   "source": [
    "### Fifth Statistical Test - acousticness\n",
    "\n",
    "For the fifth statistical test, let's check whether there is a significant difference in the mean of `acousticness`.\n",
    "\n",
    "**Null Hypothesis**: There is no difference in acousticness per genre.\n",
    "\n",
    "**Alternative Hypothesis**: There is a difference in acousticness per genre."
   ]
  },
  {
   "cell_type": "markdown",
   "id": "54b089ee",
   "metadata": {},
   "source": [
    "Let's first visualize the mean using a box plot."
   ]
  },
  {
   "cell_type": "code",
   "execution_count": 59,
   "id": "95bb0cca",
   "metadata": {},
   "outputs": [
    {
     "data": {
      "image/png": "[encoded data removed]",
      "text/plain": [
       "<Figure size 1080x720 with 1 Axes>"
      ]
     },
     "metadata": {
      "needs_background": "light"
     },
     "output_type": "display_data"
    }
   ],
   "source": [
    "genre_df_std.boxplot(\"acousticness\", by=\"top_genre\", figsize=(15,10))\n",
    "plt.show()"
   ]
  },
  {
   "cell_type": "markdown",
   "id": "d808ed56",
   "metadata": {},
   "source": [
    "It can be seen that their means do differ with one another, however let's validate this using one-way ANOVA."
   ]
  },
  {
   "cell_type": "code",
   "execution_count": 60,
   "id": "6bed9d7d",
   "metadata": {},
   "outputs": [
    {
     "data": {
      "text/plain": [
       "F_onewayResult(statistic=13.20783714825448, pvalue=9.508149630057177e-39)"
      ]
     },
     "execution_count": 60,
     "metadata": {},
     "output_type": "execute_result"
    }
   ],
   "source": [
    "values = []\n",
    "for i in genre_df_std['top_genre'].unique():\n",
    "    _df = genre_df_std[genre_df['top_genre']==i]\n",
    "    values.append(_df['acousticness'].values)\n",
    "    \n",
    "f_oneway(*values)"
   ]
  },
  {
   "cell_type": "markdown",
   "id": "13db0f9c",
   "metadata": {},
   "source": [
    "Since the p-value **9.5081e-39** is less than the significance level of 0.05, we can reject the null hypothesis. Therefore, acousticness has a **significant difference** and will be a factor in clustering."
   ]
  },
  {
   "cell_type": "markdown",
   "id": "21a77d19",
   "metadata": {},
   "source": [
    "### Sixth Statistical Test - speechiness\n",
    "\n",
    "For the second statistical test, let's check whether there is a significant difference in the mean of `speechiness`.\n",
    "\n",
    "**Null Hypothesis**: There is no difference in speechiness per genre.\n",
    "\n",
    "**Alternative Hypothesis**: There is a difference in speechiness per genre."
   ]
  },
  {
   "cell_type": "markdown",
   "id": "c9a8dd29",
   "metadata": {},
   "source": [
    "Let's first visualize the mean using a box plot."
   ]
  },
  {
   "cell_type": "code",
   "execution_count": 61,
   "id": "94caa8e2",
   "metadata": {},
   "outputs": [
    {
     "data": {
      "image/png": "[encoded data removed]",
      "text/plain": [
       "<Figure size 1080x720 with 1 Axes>"
      ]
     },
     "metadata": {
      "needs_background": "light"
     },
     "output_type": "display_data"
    }
   ],
   "source": [
    "genre_df_std.boxplot(\"speechiness\", by=\"top_genre\", figsize=(15,10))\n",
    "plt.show()"
   ]
  },
  {
   "cell_type": "markdown",
   "id": "920b464d",
   "metadata": {},
   "source": [
    "In this case, we're not sure whether there is a significant difference in their mean so let's validate this using one-way ANOVA."
   ]
  },
  {
   "cell_type": "code",
   "execution_count": 62,
   "id": "e62d5462",
   "metadata": {},
   "outputs": [
    {
     "data": {
      "text/plain": [
       "F_onewayResult(statistic=4.107171745537807, pvalue=7.557772728575294e-09)"
      ]
     },
     "execution_count": 62,
     "metadata": {},
     "output_type": "execute_result"
    }
   ],
   "source": [
    "values = []\n",
    "for i in genre_df_std['top_genre'].unique():\n",
    "    _df = genre_df_std[genre_df_std['top_genre']==i]\n",
    "    values.append(_df['speechiness'].values)\n",
    "    \n",
    "f_oneway(*values)"
   ]
  },
  {
   "cell_type": "markdown",
   "id": "8d1e1793",
   "metadata": {},
   "source": [
    "Since the p-value **7.5578e-09** is less than the significance level of 0.05, we can reject the null hypothesis. Therefore, speechiness has a **significant difference** and will be a factor in clustering."
   ]
  },
  {
   "cell_type": "markdown",
   "id": "26aaff1c",
   "metadata": {},
   "source": [
    "With this, only the 5 factors `energy`, `danceability`, `valence`, `acousticness`, and `speechiness` would be significant for clustering."
   ]
  },
  {
   "cell_type": "code",
   "execution_count": 63,
   "id": "2b093bb3",
   "metadata": {},
   "outputs": [
    {
     "name": "stdout",
     "output_type": "stream",
     "text": [
      "<class 'pandas.core.frame.DataFrame'>\n",
      "RangeIndex: 1465 entries, 0 to 1464\n",
      "Data columns (total 6 columns):\n",
      " #   Column        Non-Null Count  Dtype \n",
      "---  ------        --------------  ----- \n",
      " 0   energy        1465 non-null   int64 \n",
      " 1   danceability  1465 non-null   int64 \n",
      " 2   valence       1465 non-null   int64 \n",
      " 3   acousticness  1465 non-null   int64 \n",
      " 4   speechiness   1465 non-null   int64 \n",
      " 5   top_genre     1465 non-null   object\n",
      "dtypes: int64(5), object(1)\n",
      "memory usage: 68.8+ KB\n"
     ]
    }
   ],
   "source": [
    "genre_df = genre_df.drop(columns=[\"liveness\"])\n",
    "genre_df.info()"
   ]
  },
  {
   "cell_type": "markdown",
   "id": "9cfc291b",
   "metadata": {},
   "source": [
    "## Data Modelling"
   ]
  },
  {
   "cell_type": "markdown",
   "id": "df97a90c",
   "metadata": {},
   "source": [
    "As stated earlier at the start of the Phase 2 section, we will employ the use of k-means clustering in order to answer our research question. Through clustering, we'll be able to see which genres are clustered together, along with how many songs of each genre there are in each cluster.\n",
    "\n",
    "First, let's take a look at our DataFrame again."
   ]
  },
  {
   "cell_type": "code",
   "execution_count": 64,
   "id": "d6d0d34c",
   "metadata": {},
   "outputs": [
    {
     "name": "stdout",
     "output_type": "stream",
     "text": [
      "<class 'pandas.core.frame.DataFrame'>\n",
      "RangeIndex: 1465 entries, 0 to 1464\n",
      "Data columns (total 6 columns):\n",
      " #   Column        Non-Null Count  Dtype \n",
      "---  ------        --------------  ----- \n",
      " 0   energy        1465 non-null   int64 \n",
      " 1   danceability  1465 non-null   int64 \n",
      " 2   valence       1465 non-null   int64 \n",
      " 3   acousticness  1465 non-null   int64 \n",
      " 4   speechiness   1465 non-null   int64 \n",
      " 5   top_genre     1465 non-null   object\n",
      "dtypes: int64(5), object(1)\n",
      "memory usage: 68.8+ KB\n"
     ]
    }
   ],
   "source": [
    "genre_df.info()"
   ]
  },
  {
   "cell_type": "markdown",
   "id": "920673db",
   "metadata": {},
   "source": [
    "Next, let's check the number of songs per genre."
   ]
  },
  {
   "cell_type": "code",
   "execution_count": 65,
   "id": "bb44a52f",
   "metadata": {},
   "outputs": [
    {
     "data": {
      "text/plain": [
       "album rock           413\n",
       "adult standards      123\n",
       "dutch pop             88\n",
       "alternative rock      86\n",
       "dance pop             83\n",
       "dutch indie           75\n",
       "alternative metal     70\n",
       "dance rock            52\n",
       "dutch cabaret         51\n",
       "classic rock          51\n",
       "glam rock             49\n",
       "modern rock           49\n",
       "pop                   47\n",
       "art rock              40\n",
       "permanent wave        38\n",
       "british invasion      36\n",
       "irish rock            34\n",
       "british soul          31\n",
       "europop               27\n",
       "classic uk pop        22\n",
       "Name: top_genre, dtype: int64"
      ]
     },
     "execution_count": 65,
     "metadata": {},
     "output_type": "execute_result"
    }
   ],
   "source": [
    "genre_df['top_genre'].value_counts()"
   ]
  },
  {
   "cell_type": "markdown",
   "id": "08f54e7f",
   "metadata": {},
   "source": [
    "Now, in order for us to select a good value for `k`, we'll use the elbow method. The following code for visualizing the line graph for the elbow method was adapted from [Geeks for Geeks](https://www.geeksforgeeks.org/determining-the-number-of-clusters-in-data-mining/)."
   ]
  },
  {
   "cell_type": "code",
   "execution_count": 66,
   "id": "0d499127",
   "metadata": {},
   "outputs": [
    {
     "name": "stdout",
     "output_type": "stream",
     "text": [
      "Requirement already satisfied: scikit-learn in c:\\users\\alybee\\anaconda3\\lib\\site-packages (1.0.2)\n",
      "Requirement already satisfied: joblib>=0.11 in c:\\users\\alybee\\anaconda3\\lib\\site-packages (from scikit-learn) (1.1.0)\n",
      "Requirement already satisfied: scipy>=1.1.0 in c:\\users\\alybee\\anaconda3\\lib\\site-packages (from scikit-learn) (1.7.3)\n",
      "Requirement already satisfied: threadpoolctl>=2.0.0 in c:\\users\\alybee\\anaconda3\\lib\\site-packages (from scikit-learn) (2.2.0)\n",
      "Requirement already satisfied: numpy>=1.14.6 in c:\\users\\alybee\\anaconda3\\lib\\site-packages (from scikit-learn) (1.21.5)\n"
     ]
    },
    {
     "data": {
      "image/png": "[encoded data removed]",
      "text/plain": [
       "<Figure size 432x288 with 1 Axes>"
      ]
     },
     "metadata": {
      "needs_background": "light"
     },
     "output_type": "display_data"
    }
   ],
   "source": [
    "import sys\n",
    "!{sys.executable} -m pip install scikit-learn\n",
    "import sklearn\n",
    "from sklearn.cluster import KMeans\n",
    "\n",
    "\n",
    "# determining the maximum number of clusters\n",
    "# using the simple method\n",
    "dataset = genre_df.drop(columns=[\"top_genre\"]).copy()\n",
    " \n",
    "# selecting optimal value of 'k'\n",
    "# using elbow method\n",
    " \n",
    "# wcss - within cluster sum of\n",
    "# squared distances\n",
    "wcss = {}\n",
    " \n",
    "for k in range(2,10):\n",
    "    model = KMeans(n_clusters=k)\n",
    "    model.fit(dataset)\n",
    "    wcss[k] = model.inertia_\n",
    "     \n",
    "# plotting the wcss values\n",
    "# to find out the elbow value\n",
    "plt.plot(wcss.keys(), wcss.values(), 'gs-')\n",
    "plt.xlabel('Values of \"k\"')\n",
    "plt.ylabel('WCSS')\n",
    "plt.show()"
   ]
  },
  {
   "cell_type": "markdown",
   "id": "30e1fabc",
   "metadata": {},
   "source": [
    "From the plot, we can see that the average distances of each data point for each cluster seems to stabilize around `k = 5`. As such, we'll use `k = 5` as our number of clusters.\n",
    "\n",
    "We then import our own KMeans functions, which we also used for our CSMODEL notebooks."
   ]
  },
  {
   "cell_type": "code",
   "execution_count": 67,
   "id": "fbb5773e",
   "metadata": {},
   "outputs": [],
   "source": [
    "from kmeans import KMeans"
   ]
  },
  {
   "cell_type": "code",
   "execution_count": 68,
   "id": "aaea190f",
   "metadata": {},
   "outputs": [],
   "source": [
    "kmeans = KMeans(5, 0, 5, 1465, genre_df)"
   ]
  },
  {
   "cell_type": "markdown",
   "id": "dc592e69",
   "metadata": {},
   "source": [
    "We first have to initialize the centroids for our dataset."
   ]
  },
  {
   "cell_type": "code",
   "execution_count": 69,
   "id": "e9098701",
   "metadata": {},
   "outputs": [
    {
     "name": "stderr",
     "output_type": "stream",
     "text": [
      "C:\\Users\\Alybee\\Documents\\GitHub\\CSMODEL\\kmeans.py:98: FutureWarning: The frame.append method is deprecated and will be removed from pandas in a future version. Use pandas.concat instead.\n",
      "  self.centroids = self.centroids.append(point, ignore_index=True)\n",
      "C:\\Users\\Alybee\\Documents\\GitHub\\CSMODEL\\kmeans.py:133: FutureWarning: The frame.append method is deprecated and will be removed from pandas in a future version. Use pandas.concat instead.\n",
      "  self.centroids = self.centroids.append(point, ignore_index=True)\n",
      "C:\\Users\\Alybee\\Documents\\GitHub\\CSMODEL\\kmeans.py:133: FutureWarning: The frame.append method is deprecated and will be removed from pandas in a future version. Use pandas.concat instead.\n",
      "  self.centroids = self.centroids.append(point, ignore_index=True)\n",
      "C:\\Users\\Alybee\\Documents\\GitHub\\CSMODEL\\kmeans.py:133: FutureWarning: The frame.append method is deprecated and will be removed from pandas in a future version. Use pandas.concat instead.\n",
      "  self.centroids = self.centroids.append(point, ignore_index=True)\n",
      "C:\\Users\\Alybee\\Documents\\GitHub\\CSMODEL\\kmeans.py:133: FutureWarning: The frame.append method is deprecated and will be removed from pandas in a future version. Use pandas.concat instead.\n",
      "  self.centroids = self.centroids.append(point, ignore_index=True)\n"
     ]
    },
    {
     "data": {
      "text/html": [
       "<div>\n",
       "<style scoped>\n",
       "    .dataframe tbody tr th:only-of-type {\n",
       "        vertical-align: middle;\n",
       "    }\n",
       "\n",
       "    .dataframe tbody tr th {\n",
       "        vertical-align: top;\n",
       "    }\n",
       "\n",
       "    .dataframe thead th {\n",
       "        text-align: right;\n",
       "    }\n",
       "</style>\n",
       "<table border=\"1\" class=\"dataframe\">\n",
       "  <thead>\n",
       "    <tr style=\"text-align: right;\">\n",
       "      <th></th>\n",
       "      <th>energy</th>\n",
       "      <th>danceability</th>\n",
       "      <th>valence</th>\n",
       "      <th>acousticness</th>\n",
       "      <th>speechiness</th>\n",
       "    </tr>\n",
       "  </thead>\n",
       "  <tbody>\n",
       "    <tr>\n",
       "      <th>0</th>\n",
       "      <td>61</td>\n",
       "      <td>43</td>\n",
       "      <td>37</td>\n",
       "      <td>2</td>\n",
       "      <td>3</td>\n",
       "    </tr>\n",
       "    <tr>\n",
       "      <th>1</th>\n",
       "      <td>8</td>\n",
       "      <td>50</td>\n",
       "      <td>13</td>\n",
       "      <td>97</td>\n",
       "      <td>5</td>\n",
       "    </tr>\n",
       "    <tr>\n",
       "      <th>2</th>\n",
       "      <td>54</td>\n",
       "      <td>76</td>\n",
       "      <td>96</td>\n",
       "      <td>79</td>\n",
       "      <td>5</td>\n",
       "    </tr>\n",
       "    <tr>\n",
       "      <th>3</th>\n",
       "      <td>42</td>\n",
       "      <td>88</td>\n",
       "      <td>97</td>\n",
       "      <td>4</td>\n",
       "      <td>5</td>\n",
       "    </tr>\n",
       "    <tr>\n",
       "      <th>4</th>\n",
       "      <td>91</td>\n",
       "      <td>21</td>\n",
       "      <td>45</td>\n",
       "      <td>48</td>\n",
       "      <td>39</td>\n",
       "    </tr>\n",
       "  </tbody>\n",
       "</table>\n",
       "</div>"
      ],
      "text/plain": [
       "  energy danceability valence acousticness speechiness\n",
       "0     61           43      37            2           3\n",
       "1      8           50      13           97           5\n",
       "2     54           76      96           79           5\n",
       "3     42           88      97            4           5\n",
       "4     91           21      45           48          39"
      ]
     },
     "execution_count": 69,
     "metadata": {},
     "output_type": "execute_result"
    }
   ],
   "source": [
    "kmeans.initialize_centroids(genre_df)"
   ]
  },
  {
   "cell_type": "markdown",
   "id": "ad1c36c4",
   "metadata": {},
   "source": [
    "Then, we use the `train()` function from our Python file, which is the main function for processing the clusters."
   ]
  },
  {
   "cell_type": "code",
   "execution_count": 70,
   "id": "c405b8c8",
   "metadata": {},
   "outputs": [
    {
     "name": "stdout",
     "output_type": "stream",
     "text": [
      "Iteration 1\n",
      "Iteration 2\n",
      "Iteration 3\n",
      "Iteration 4\n",
      "Iteration 5\n",
      "Iteration 6\n",
      "Iteration 7\n",
      "Iteration 8\n",
      "Iteration 9\n",
      "Iteration 10\n",
      "Iteration 11\n",
      "Iteration 12\n",
      "Iteration 13\n",
      "Iteration 14\n",
      "Iteration 15\n",
      "Iteration 16\n",
      "Iteration 17\n",
      "Iteration 18\n",
      "Iteration 19\n",
      "Iteration 20\n",
      "Iteration 21\n",
      "Iteration 22\n",
      "Iteration 23\n",
      "Iteration 24\n",
      "Iteration 25\n",
      "Iteration 26\n",
      "Iteration 27\n",
      "Iteration 28\n",
      "Iteration 29\n",
      "Done clustering!\n"
     ]
    }
   ],
   "source": [
    "groups = kmeans.train(genre_df, 300)\n"
   ]
  },
  {
   "cell_type": "markdown",
   "id": "7ed23e5c",
   "metadata": {},
   "source": [
    "Now, using `print_results()`, we can see the final clusters that were generated."
   ]
  },
  {
   "cell_type": "code",
   "execution_count": 71,
   "id": "7aefe9ad",
   "metadata": {},
   "outputs": [
    {
     "name": "stdout",
     "output_type": "stream",
     "text": [
      "Number of data points in each cluster:\n",
      "Cluster 0:\n",
      "Genre album rock:\t 83\n",
      "Genre alternative metal:\t 41\n",
      "Genre classic rock:\t 6\n",
      "Genre pop:\t 6\n",
      "Genre modern rock:\t 25\n",
      "Genre alternative rock:\t 34\n",
      "Genre dutch indie:\t 13\n",
      "Genre dutch cabaret:\t 4\n",
      "Genre permanent wave:\t 12\n",
      "Genre classic uk pop:\t 1\n",
      "Genre dance pop:\t 14\n",
      "Genre dutch pop:\t 24\n",
      "Genre british soul:\t 3\n",
      "Genre irish rock:\t"
     ]
    },
    {
     "name": "stderr",
     "output_type": "stream",
     "text": [
      "C:\\Users\\Alybee\\Documents\\GitHub\\CSMODEL\\kmeans.py:55: FutureWarning: The frame.append method is deprecated and will be removed from pandas in a future version. Use pandas.concat instead.\n",
      "  df=df.append({'Cluster' : i, 'Genre' : genre, 'Count' : cluster.loc[cluster['top_genre'] == genre].shape[0]}, ignore_index = True)\n",
      "C:\\Users\\Alybee\\Documents\\GitHub\\CSMODEL\\kmeans.py:55: FutureWarning: The frame.append method is deprecated and will be removed from pandas in a future version. Use pandas.concat instead.\n",
      "  df=df.append({'Cluster' : i, 'Genre' : genre, 'Count' : cluster.loc[cluster['top_genre'] == genre].shape[0]}, ignore_index = True)\n",
      "C:\\Users\\Alybee\\Documents\\GitHub\\CSMODEL\\kmeans.py:55: FutureWarning: The frame.append method is deprecated and will be removed from pandas in a future version. Use pandas.concat instead.\n",
      "  df=df.append({'Cluster' : i, 'Genre' : genre, 'Count' : cluster.loc[cluster['top_genre'] == genre].shape[0]}, ignore_index = True)\n",
      "C:\\Users\\Alybee\\Documents\\GitHub\\CSMODEL\\kmeans.py:55: FutureWarning: The frame.append method is deprecated and will be removed from pandas in a future version. Use pandas.concat instead.\n",
      "  df=df.append({'Cluster' : i, 'Genre' : genre, 'Count' : cluster.loc[cluster['top_genre'] == genre].shape[0]}, ignore_index = True)\n",
      "C:\\Users\\Alybee\\Documents\\GitHub\\CSMODEL\\kmeans.py:55: FutureWarning: The frame.append method is deprecated and will be removed from pandas in a future version. Use pandas.concat instead.\n",
      "  df=df.append({'Cluster' : i, 'Genre' : genre, 'Count' : cluster.loc[cluster['top_genre'] == genre].shape[0]}, ignore_index = True)\n",
      "C:\\Users\\Alybee\\Documents\\GitHub\\CSMODEL\\kmeans.py:55: FutureWarning: The frame.append method is deprecated and will be removed from pandas in a future version. Use pandas.concat instead.\n",
      "  df=df.append({'Cluster' : i, 'Genre' : genre, 'Count' : cluster.loc[cluster['top_genre'] == genre].shape[0]}, ignore_index = True)\n",
      "C:\\Users\\Alybee\\Documents\\GitHub\\CSMODEL\\kmeans.py:55: FutureWarning: The frame.append method is deprecated and will be removed from pandas in a future version. Use pandas.concat instead.\n",
      "  df=df.append({'Cluster' : i, 'Genre' : genre, 'Count' : cluster.loc[cluster['top_genre'] == genre].shape[0]}, ignore_index = True)\n",
      "C:\\Users\\Alybee\\Documents\\GitHub\\CSMODEL\\kmeans.py:55: FutureWarning: The frame.append method is deprecated and will be removed from pandas in a future version. Use pandas.concat instead.\n",
      "  df=df.append({'Cluster' : i, 'Genre' : genre, 'Count' : cluster.loc[cluster['top_genre'] == genre].shape[0]}, ignore_index = True)\n",
      "C:\\Users\\Alybee\\Documents\\GitHub\\CSMODEL\\kmeans.py:55: FutureWarning: The frame.append method is deprecated and will be removed from pandas in a future version. Use pandas.concat instead.\n",
      "  df=df.append({'Cluster' : i, 'Genre' : genre, 'Count' : cluster.loc[cluster['top_genre'] == genre].shape[0]}, ignore_index = True)\n",
      "C:\\Users\\Alybee\\Documents\\GitHub\\CSMODEL\\kmeans.py:55: FutureWarning: The frame.append method is deprecated and will be removed from pandas in a future version. Use pandas.concat instead.\n",
      "  df=df.append({'Cluster' : i, 'Genre' : genre, 'Count' : cluster.loc[cluster['top_genre'] == genre].shape[0]}, ignore_index = True)\n",
      "C:\\Users\\Alybee\\Documents\\GitHub\\CSMODEL\\kmeans.py:55: FutureWarning: The frame.append method is deprecated and will be removed from pandas in a future version. Use pandas.concat instead.\n",
      "  df=df.append({'Cluster' : i, 'Genre' : genre, 'Count' : cluster.loc[cluster['top_genre'] == genre].shape[0]}, ignore_index = True)\n",
      "C:\\Users\\Alybee\\Documents\\GitHub\\CSMODEL\\kmeans.py:55: FutureWarning: The frame.append method is deprecated and will be removed from pandas in a future version. Use pandas.concat instead.\n",
      "  df=df.append({'Cluster' : i, 'Genre' : genre, 'Count' : cluster.loc[cluster['top_genre'] == genre].shape[0]}, ignore_index = True)\n",
      "C:\\Users\\Alybee\\Documents\\GitHub\\CSMODEL\\kmeans.py:55: FutureWarning: The frame.append method is deprecated and will be removed from pandas in a future version. Use pandas.concat instead.\n",
      "  df=df.append({'Cluster' : i, 'Genre' : genre, 'Count' : cluster.loc[cluster['top_genre'] == genre].shape[0]}, ignore_index = True)\n",
      "C:\\Users\\Alybee\\Documents\\GitHub\\CSMODEL\\kmeans.py:55: FutureWarning: The frame.append method is deprecated and will be removed from pandas in a future version. Use pandas.concat instead.\n",
      "  df=df.append({'Cluster' : i, 'Genre' : genre, 'Count' : cluster.loc[cluster['top_genre'] == genre].shape[0]}, ignore_index = True)\n",
      "C:\\Users\\Alybee\\Documents\\GitHub\\CSMODEL\\kmeans.py:55: FutureWarning: The frame.append method is deprecated and will be removed from pandas in a future version. Use pandas.concat instead.\n",
      "  df=df.append({'Cluster' : i, 'Genre' : genre, 'Count' : cluster.loc[cluster['top_genre'] == genre].shape[0]}, ignore_index = True)\n"
     ]
    },
    {
     "name": "stdout",
     "output_type": "stream",
     "text": [
      " 15\n",
      "Genre art rock:\t 7\n",
      "Genre british invasion:\t 4\n",
      "Genre dance rock:\t 6\n",
      "Genre glam rock:\t 13\n",
      "Genre europop:\t 2\n",
      "\n",
      "\n",
      "Cluster 1:\n",
      "Genre adult standards:\t 50\n",
      "Genre album rock:\t 63\n",
      "Genre alternative metal:\t 7\n",
      "Genre classic rock:\t 12\n",
      "Genre pop:\t 15\n",
      "Genre modern rock:\t 3\n",
      "Genre alternative rock:\t"
     ]
    },
    {
     "name": "stderr",
     "output_type": "stream",
     "text": [
      "C:\\Users\\Alybee\\Documents\\GitHub\\CSMODEL\\kmeans.py:55: FutureWarning: The frame.append method is deprecated and will be removed from pandas in a future version. Use pandas.concat instead.\n",
      "  df=df.append({'Cluster' : i, 'Genre' : genre, 'Count' : cluster.loc[cluster['top_genre'] == genre].shape[0]}, ignore_index = True)\n",
      "C:\\Users\\Alybee\\Documents\\GitHub\\CSMODEL\\kmeans.py:55: FutureWarning: The frame.append method is deprecated and will be removed from pandas in a future version. Use pandas.concat instead.\n",
      "  df=df.append({'Cluster' : i, 'Genre' : genre, 'Count' : cluster.loc[cluster['top_genre'] == genre].shape[0]}, ignore_index = True)\n",
      "C:\\Users\\Alybee\\Documents\\GitHub\\CSMODEL\\kmeans.py:55: FutureWarning: The frame.append method is deprecated and will be removed from pandas in a future version. Use pandas.concat instead.\n",
      "  df=df.append({'Cluster' : i, 'Genre' : genre, 'Count' : cluster.loc[cluster['top_genre'] == genre].shape[0]}, ignore_index = True)\n",
      "C:\\Users\\Alybee\\Documents\\GitHub\\CSMODEL\\kmeans.py:55: FutureWarning: The frame.append method is deprecated and will be removed from pandas in a future version. Use pandas.concat instead.\n",
      "  df=df.append({'Cluster' : i, 'Genre' : genre, 'Count' : cluster.loc[cluster['top_genre'] == genre].shape[0]}, ignore_index = True)\n",
      "C:\\Users\\Alybee\\Documents\\GitHub\\CSMODEL\\kmeans.py:55: FutureWarning: The frame.append method is deprecated and will be removed from pandas in a future version. Use pandas.concat instead.\n",
      "  df=df.append({'Cluster' : i, 'Genre' : genre, 'Count' : cluster.loc[cluster['top_genre'] == genre].shape[0]}, ignore_index = True)\n",
      "C:\\Users\\Alybee\\Documents\\GitHub\\CSMODEL\\kmeans.py:55: FutureWarning: The frame.append method is deprecated and will be removed from pandas in a future version. Use pandas.concat instead.\n",
      "  df=df.append({'Cluster' : i, 'Genre' : genre, 'Count' : cluster.loc[cluster['top_genre'] == genre].shape[0]}, ignore_index = True)\n",
      "C:\\Users\\Alybee\\Documents\\GitHub\\CSMODEL\\kmeans.py:55: FutureWarning: The frame.append method is deprecated and will be removed from pandas in a future version. Use pandas.concat instead.\n",
      "  df=df.append({'Cluster' : i, 'Genre' : genre, 'Count' : cluster.loc[cluster['top_genre'] == genre].shape[0]}, ignore_index = True)\n",
      "C:\\Users\\Alybee\\Documents\\GitHub\\CSMODEL\\kmeans.py:55: FutureWarning: The frame.append method is deprecated and will be removed from pandas in a future version. Use pandas.concat instead.\n",
      "  df=df.append({'Cluster' : i, 'Genre' : genre, 'Count' : cluster.loc[cluster['top_genre'] == genre].shape[0]}, ignore_index = True)\n",
      "C:\\Users\\Alybee\\Documents\\GitHub\\CSMODEL\\kmeans.py:55: FutureWarning: The frame.append method is deprecated and will be removed from pandas in a future version. Use pandas.concat instead.\n",
      "  df=df.append({'Cluster' : i, 'Genre' : genre, 'Count' : cluster.loc[cluster['top_genre'] == genre].shape[0]}, ignore_index = True)\n",
      "C:\\Users\\Alybee\\Documents\\GitHub\\CSMODEL\\kmeans.py:55: FutureWarning: The frame.append method is deprecated and will be removed from pandas in a future version. Use pandas.concat instead.\n",
      "  df=df.append({'Cluster' : i, 'Genre' : genre, 'Count' : cluster.loc[cluster['top_genre'] == genre].shape[0]}, ignore_index = True)\n",
      "C:\\Users\\Alybee\\Documents\\GitHub\\CSMODEL\\kmeans.py:55: FutureWarning: The frame.append method is deprecated and will be removed from pandas in a future version. Use pandas.concat instead.\n",
      "  df=df.append({'Cluster' : i, 'Genre' : genre, 'Count' : cluster.loc[cluster['top_genre'] == genre].shape[0]}, ignore_index = True)\n",
      "C:\\Users\\Alybee\\Documents\\GitHub\\CSMODEL\\kmeans.py:55: FutureWarning: The frame.append method is deprecated and will be removed from pandas in a future version. Use pandas.concat instead.\n",
      "  df=df.append({'Cluster' : i, 'Genre' : genre, 'Count' : cluster.loc[cluster['top_genre'] == genre].shape[0]}, ignore_index = True)\n",
      "C:\\Users\\Alybee\\Documents\\GitHub\\CSMODEL\\kmeans.py:55: FutureWarning: The frame.append method is deprecated and will be removed from pandas in a future version. Use pandas.concat instead.\n",
      "  df=df.append({'Cluster' : i, 'Genre' : genre, 'Count' : cluster.loc[cluster['top_genre'] == genre].shape[0]}, ignore_index = True)\n"
     ]
    },
    {
     "name": "stdout",
     "output_type": "stream",
     "text": [
      " 8\n",
      "Genre dutch indie:\t 20\n",
      "Genre dutch cabaret:\t 17\n",
      "Genre permanent wave:\t 8\n",
      "Genre classic uk pop:\t 4\n",
      "Genre dance pop:\t 13\n",
      "Genre dutch pop:\t 20\n",
      "Genre british soul:\t 10\n",
      "Genre irish rock:\t 2\n",
      "Genre art rock:\t 3\n",
      "Genre british invasion:\t 6\n",
      "Genre dance rock:\t 2\n",
      "Genre glam rock:\t 7\n",
      "Genre europop:\t 5\n",
      "\n",
      "\n",
      "Cluster 2:\n",
      "Genre adult standards:\t 28\n",
      "Genre album rock:\t"
     ]
    },
    {
     "name": "stderr",
     "output_type": "stream",
     "text": [
      "C:\\Users\\Alybee\\Documents\\GitHub\\CSMODEL\\kmeans.py:55: FutureWarning: The frame.append method is deprecated and will be removed from pandas in a future version. Use pandas.concat instead.\n",
      "  df=df.append({'Cluster' : i, 'Genre' : genre, 'Count' : cluster.loc[cluster['top_genre'] == genre].shape[0]}, ignore_index = True)\n",
      "C:\\Users\\Alybee\\Documents\\GitHub\\CSMODEL\\kmeans.py:55: FutureWarning: The frame.append method is deprecated and will be removed from pandas in a future version. Use pandas.concat instead.\n",
      "  df=df.append({'Cluster' : i, 'Genre' : genre, 'Count' : cluster.loc[cluster['top_genre'] == genre].shape[0]}, ignore_index = True)\n",
      "C:\\Users\\Alybee\\Documents\\GitHub\\CSMODEL\\kmeans.py:55: FutureWarning: The frame.append method is deprecated and will be removed from pandas in a future version. Use pandas.concat instead.\n",
      "  df=df.append({'Cluster' : i, 'Genre' : genre, 'Count' : cluster.loc[cluster['top_genre'] == genre].shape[0]}, ignore_index = True)\n",
      "C:\\Users\\Alybee\\Documents\\GitHub\\CSMODEL\\kmeans.py:55: FutureWarning: The frame.append method is deprecated and will be removed from pandas in a future version. Use pandas.concat instead.\n",
      "  df=df.append({'Cluster' : i, 'Genre' : genre, 'Count' : cluster.loc[cluster['top_genre'] == genre].shape[0]}, ignore_index = True)\n",
      "C:\\Users\\Alybee\\Documents\\GitHub\\CSMODEL\\kmeans.py:55: FutureWarning: The frame.append method is deprecated and will be removed from pandas in a future version. Use pandas.concat instead.\n",
      "  df=df.append({'Cluster' : i, 'Genre' : genre, 'Count' : cluster.loc[cluster['top_genre'] == genre].shape[0]}, ignore_index = True)\n",
      "C:\\Users\\Alybee\\Documents\\GitHub\\CSMODEL\\kmeans.py:55: FutureWarning: The frame.append method is deprecated and will be removed from pandas in a future version. Use pandas.concat instead.\n",
      "  df=df.append({'Cluster' : i, 'Genre' : genre, 'Count' : cluster.loc[cluster['top_genre'] == genre].shape[0]}, ignore_index = True)\n",
      "C:\\Users\\Alybee\\Documents\\GitHub\\CSMODEL\\kmeans.py:55: FutureWarning: The frame.append method is deprecated and will be removed from pandas in a future version. Use pandas.concat instead.\n",
      "  df=df.append({'Cluster' : i, 'Genre' : genre, 'Count' : cluster.loc[cluster['top_genre'] == genre].shape[0]}, ignore_index = True)\n",
      "C:\\Users\\Alybee\\Documents\\GitHub\\CSMODEL\\kmeans.py:55: FutureWarning: The frame.append method is deprecated and will be removed from pandas in a future version. Use pandas.concat instead.\n",
      "  df=df.append({'Cluster' : i, 'Genre' : genre, 'Count' : cluster.loc[cluster['top_genre'] == genre].shape[0]}, ignore_index = True)\n",
      "C:\\Users\\Alybee\\Documents\\GitHub\\CSMODEL\\kmeans.py:55: FutureWarning: The frame.append method is deprecated and will be removed from pandas in a future version. Use pandas.concat instead.\n",
      "  df=df.append({'Cluster' : i, 'Genre' : genre, 'Count' : cluster.loc[cluster['top_genre'] == genre].shape[0]}, ignore_index = True)\n",
      "C:\\Users\\Alybee\\Documents\\GitHub\\CSMODEL\\kmeans.py:55: FutureWarning: The frame.append method is deprecated and will be removed from pandas in a future version. Use pandas.concat instead.\n",
      "  df=df.append({'Cluster' : i, 'Genre' : genre, 'Count' : cluster.loc[cluster['top_genre'] == genre].shape[0]}, ignore_index = True)\n",
      "C:\\Users\\Alybee\\Documents\\GitHub\\CSMODEL\\kmeans.py:55: FutureWarning: The frame.append method is deprecated and will be removed from pandas in a future version. Use pandas.concat instead.\n",
      "  df=df.append({'Cluster' : i, 'Genre' : genre, 'Count' : cluster.loc[cluster['top_genre'] == genre].shape[0]}, ignore_index = True)\n",
      "C:\\Users\\Alybee\\Documents\\GitHub\\CSMODEL\\kmeans.py:55: FutureWarning: The frame.append method is deprecated and will be removed from pandas in a future version. Use pandas.concat instead.\n",
      "  df=df.append({'Cluster' : i, 'Genre' : genre, 'Count' : cluster.loc[cluster['top_genre'] == genre].shape[0]}, ignore_index = True)\n",
      "C:\\Users\\Alybee\\Documents\\GitHub\\CSMODEL\\kmeans.py:55: FutureWarning: The frame.append method is deprecated and will be removed from pandas in a future version. Use pandas.concat instead.\n",
      "  df=df.append({'Cluster' : i, 'Genre' : genre, 'Count' : cluster.loc[cluster['top_genre'] == genre].shape[0]}, ignore_index = True)\n",
      "C:\\Users\\Alybee\\Documents\\GitHub\\CSMODEL\\kmeans.py:55: FutureWarning: The frame.append method is deprecated and will be removed from pandas in a future version. Use pandas.concat instead.\n",
      "  df=df.append({'Cluster' : i, 'Genre' : genre, 'Count' : cluster.loc[cluster['top_genre'] == genre].shape[0]}, ignore_index = True)\n"
     ]
    },
    {
     "name": "stdout",
     "output_type": "stream",
     "text": [
      " 68\n",
      "Genre alternative metal:\t 2\n",
      "Genre classic rock:\t 10\n",
      "Genre pop:\t 10\n",
      "Genre modern rock:\t 1\n",
      "Genre alternative rock:\t 2\n",
      "Genre dutch indie:\t 11\n",
      "Genre dutch cabaret:\t 14\n",
      "Genre permanent wave:\t 2\n",
      "Genre classic uk pop:\t 3\n",
      "Genre dance pop:\t 4\n",
      "Genre dutch pop:\t 10\n",
      "Genre british soul:\t 4\n",
      "Genre art rock:\t 4\n",
      "Genre british invasion:\t 12\n"
     ]
    },
    {
     "name": "stderr",
     "output_type": "stream",
     "text": [
      "C:\\Users\\Alybee\\Documents\\GitHub\\CSMODEL\\kmeans.py:55: FutureWarning: The frame.append method is deprecated and will be removed from pandas in a future version. Use pandas.concat instead.\n",
      "  df=df.append({'Cluster' : i, 'Genre' : genre, 'Count' : cluster.loc[cluster['top_genre'] == genre].shape[0]}, ignore_index = True)\n",
      "C:\\Users\\Alybee\\Documents\\GitHub\\CSMODEL\\kmeans.py:55: FutureWarning: The frame.append method is deprecated and will be removed from pandas in a future version. Use pandas.concat instead.\n",
      "  df=df.append({'Cluster' : i, 'Genre' : genre, 'Count' : cluster.loc[cluster['top_genre'] == genre].shape[0]}, ignore_index = True)\n",
      "C:\\Users\\Alybee\\Documents\\GitHub\\CSMODEL\\kmeans.py:55: FutureWarning: The frame.append method is deprecated and will be removed from pandas in a future version. Use pandas.concat instead.\n",
      "  df=df.append({'Cluster' : i, 'Genre' : genre, 'Count' : cluster.loc[cluster['top_genre'] == genre].shape[0]}, ignore_index = True)\n",
      "C:\\Users\\Alybee\\Documents\\GitHub\\CSMODEL\\kmeans.py:55: FutureWarning: The frame.append method is deprecated and will be removed from pandas in a future version. Use pandas.concat instead.\n",
      "  df=df.append({'Cluster' : i, 'Genre' : genre, 'Count' : cluster.loc[cluster['top_genre'] == genre].shape[0]}, ignore_index = True)\n",
      "C:\\Users\\Alybee\\Documents\\GitHub\\CSMODEL\\kmeans.py:55: FutureWarning: The frame.append method is deprecated and will be removed from pandas in a future version. Use pandas.concat instead.\n",
      "  df=df.append({'Cluster' : i, 'Genre' : genre, 'Count' : cluster.loc[cluster['top_genre'] == genre].shape[0]}, ignore_index = True)\n",
      "C:\\Users\\Alybee\\Documents\\GitHub\\CSMODEL\\kmeans.py:55: FutureWarning: The frame.append method is deprecated and will be removed from pandas in a future version. Use pandas.concat instead.\n",
      "  df=df.append({'Cluster' : i, 'Genre' : genre, 'Count' : cluster.loc[cluster['top_genre'] == genre].shape[0]}, ignore_index = True)\n",
      "C:\\Users\\Alybee\\Documents\\GitHub\\CSMODEL\\kmeans.py:55: FutureWarning: The frame.append method is deprecated and will be removed from pandas in a future version. Use pandas.concat instead.\n",
      "  df=df.append({'Cluster' : i, 'Genre' : genre, 'Count' : cluster.loc[cluster['top_genre'] == genre].shape[0]}, ignore_index = True)\n",
      "C:\\Users\\Alybee\\Documents\\GitHub\\CSMODEL\\kmeans.py:55: FutureWarning: The frame.append method is deprecated and will be removed from pandas in a future version. Use pandas.concat instead.\n",
      "  df=df.append({'Cluster' : i, 'Genre' : genre, 'Count' : cluster.loc[cluster['top_genre'] == genre].shape[0]}, ignore_index = True)\n",
      "C:\\Users\\Alybee\\Documents\\GitHub\\CSMODEL\\kmeans.py:55: FutureWarning: The frame.append method is deprecated and will be removed from pandas in a future version. Use pandas.concat instead.\n",
      "  df=df.append({'Cluster' : i, 'Genre' : genre, 'Count' : cluster.loc[cluster['top_genre'] == genre].shape[0]}, ignore_index = True)\n",
      "C:\\Users\\Alybee\\Documents\\GitHub\\CSMODEL\\kmeans.py:55: FutureWarning: The frame.append method is deprecated and will be removed from pandas in a future version. Use pandas.concat instead.\n",
      "  df=df.append({'Cluster' : i, 'Genre' : genre, 'Count' : cluster.loc[cluster['top_genre'] == genre].shape[0]}, ignore_index = True)\n",
      "C:\\Users\\Alybee\\Documents\\GitHub\\CSMODEL\\kmeans.py:55: FutureWarning: The frame.append method is deprecated and will be removed from pandas in a future version. Use pandas.concat instead.\n",
      "  df=df.append({'Cluster' : i, 'Genre' : genre, 'Count' : cluster.loc[cluster['top_genre'] == genre].shape[0]}, ignore_index = True)\n",
      "C:\\Users\\Alybee\\Documents\\GitHub\\CSMODEL\\kmeans.py:55: FutureWarning: The frame.append method is deprecated and will be removed from pandas in a future version. Use pandas.concat instead.\n",
      "  df=df.append({'Cluster' : i, 'Genre' : genre, 'Count' : cluster.loc[cluster['top_genre'] == genre].shape[0]}, ignore_index = True)\n",
      "C:\\Users\\Alybee\\Documents\\GitHub\\CSMODEL\\kmeans.py:55: FutureWarning: The frame.append method is deprecated and will be removed from pandas in a future version. Use pandas.concat instead.\n",
      "  df=df.append({'Cluster' : i, 'Genre' : genre, 'Count' : cluster.loc[cluster['top_genre'] == genre].shape[0]}, ignore_index = True)\n",
      "C:\\Users\\Alybee\\Documents\\GitHub\\CSMODEL\\kmeans.py:55: FutureWarning: The frame.append method is deprecated and will be removed from pandas in a future version. Use pandas.concat instead.\n",
      "  df=df.append({'Cluster' : i, 'Genre' : genre, 'Count' : cluster.loc[cluster['top_genre'] == genre].shape[0]}, ignore_index = True)\n",
      "C:\\Users\\Alybee\\Documents\\GitHub\\CSMODEL\\kmeans.py:55: FutureWarning: The frame.append method is deprecated and will be removed from pandas in a future version. Use pandas.concat instead.\n",
      "  df=df.append({'Cluster' : i, 'Genre' : genre, 'Count' : cluster.loc[cluster['top_genre'] == genre].shape[0]}, ignore_index = True)\n"
     ]
    },
    {
     "name": "stdout",
     "output_type": "stream",
     "text": [
      "Genre dance rock:\t 6\n",
      "Genre glam rock:\t 8\n",
      "Genre europop:\t 7\n",
      "\n",
      "\n",
      "Cluster 3:\n",
      "Genre adult standards:\t 28\n",
      "Genre album rock:\t 120\n",
      "Genre alternative metal:\t 11\n",
      "Genre classic rock:\t 17\n",
      "Genre pop:\t 15\n",
      "Genre modern rock:\t 12\n",
      "Genre alternative rock:\t 22\n",
      "Genre dutch indie:\t 21\n",
      "Genre dutch cabaret:\t 8\n",
      "Genre permanent wave:\t 2\n",
      "Genre classic uk pop:\t"
     ]
    },
    {
     "name": "stderr",
     "output_type": "stream",
     "text": [
      "C:\\Users\\Alybee\\Documents\\GitHub\\CSMODEL\\kmeans.py:55: FutureWarning: The frame.append method is deprecated and will be removed from pandas in a future version. Use pandas.concat instead.\n",
      "  df=df.append({'Cluster' : i, 'Genre' : genre, 'Count' : cluster.loc[cluster['top_genre'] == genre].shape[0]}, ignore_index = True)\n",
      "C:\\Users\\Alybee\\Documents\\GitHub\\CSMODEL\\kmeans.py:55: FutureWarning: The frame.append method is deprecated and will be removed from pandas in a future version. Use pandas.concat instead.\n",
      "  df=df.append({'Cluster' : i, 'Genre' : genre, 'Count' : cluster.loc[cluster['top_genre'] == genre].shape[0]}, ignore_index = True)\n",
      "C:\\Users\\Alybee\\Documents\\GitHub\\CSMODEL\\kmeans.py:55: FutureWarning: The frame.append method is deprecated and will be removed from pandas in a future version. Use pandas.concat instead.\n",
      "  df=df.append({'Cluster' : i, 'Genre' : genre, 'Count' : cluster.loc[cluster['top_genre'] == genre].shape[0]}, ignore_index = True)\n",
      "C:\\Users\\Alybee\\Documents\\GitHub\\CSMODEL\\kmeans.py:55: FutureWarning: The frame.append method is deprecated and will be removed from pandas in a future version. Use pandas.concat instead.\n",
      "  df=df.append({'Cluster' : i, 'Genre' : genre, 'Count' : cluster.loc[cluster['top_genre'] == genre].shape[0]}, ignore_index = True)\n",
      "C:\\Users\\Alybee\\Documents\\GitHub\\CSMODEL\\kmeans.py:55: FutureWarning: The frame.append method is deprecated and will be removed from pandas in a future version. Use pandas.concat instead.\n",
      "  df=df.append({'Cluster' : i, 'Genre' : genre, 'Count' : cluster.loc[cluster['top_genre'] == genre].shape[0]}, ignore_index = True)\n",
      "C:\\Users\\Alybee\\Documents\\GitHub\\CSMODEL\\kmeans.py:55: FutureWarning: The frame.append method is deprecated and will be removed from pandas in a future version. Use pandas.concat instead.\n",
      "  df=df.append({'Cluster' : i, 'Genre' : genre, 'Count' : cluster.loc[cluster['top_genre'] == genre].shape[0]}, ignore_index = True)\n",
      "C:\\Users\\Alybee\\Documents\\GitHub\\CSMODEL\\kmeans.py:55: FutureWarning: The frame.append method is deprecated and will be removed from pandas in a future version. Use pandas.concat instead.\n",
      "  df=df.append({'Cluster' : i, 'Genre' : genre, 'Count' : cluster.loc[cluster['top_genre'] == genre].shape[0]}, ignore_index = True)\n",
      "C:\\Users\\Alybee\\Documents\\GitHub\\CSMODEL\\kmeans.py:55: FutureWarning: The frame.append method is deprecated and will be removed from pandas in a future version. Use pandas.concat instead.\n",
      "  df=df.append({'Cluster' : i, 'Genre' : genre, 'Count' : cluster.loc[cluster['top_genre'] == genre].shape[0]}, ignore_index = True)\n",
      "C:\\Users\\Alybee\\Documents\\GitHub\\CSMODEL\\kmeans.py:55: FutureWarning: The frame.append method is deprecated and will be removed from pandas in a future version. Use pandas.concat instead.\n",
      "  df=df.append({'Cluster' : i, 'Genre' : genre, 'Count' : cluster.loc[cluster['top_genre'] == genre].shape[0]}, ignore_index = True)\n",
      "C:\\Users\\Alybee\\Documents\\GitHub\\CSMODEL\\kmeans.py:55: FutureWarning: The frame.append method is deprecated and will be removed from pandas in a future version. Use pandas.concat instead.\n",
      "  df=df.append({'Cluster' : i, 'Genre' : genre, 'Count' : cluster.loc[cluster['top_genre'] == genre].shape[0]}, ignore_index = True)\n",
      "C:\\Users\\Alybee\\Documents\\GitHub\\CSMODEL\\kmeans.py:55: FutureWarning: The frame.append method is deprecated and will be removed from pandas in a future version. Use pandas.concat instead.\n",
      "  df=df.append({'Cluster' : i, 'Genre' : genre, 'Count' : cluster.loc[cluster['top_genre'] == genre].shape[0]}, ignore_index = True)\n",
      "C:\\Users\\Alybee\\Documents\\GitHub\\CSMODEL\\kmeans.py:55: FutureWarning: The frame.append method is deprecated and will be removed from pandas in a future version. Use pandas.concat instead.\n",
      "  df=df.append({'Cluster' : i, 'Genre' : genre, 'Count' : cluster.loc[cluster['top_genre'] == genre].shape[0]}, ignore_index = True)\n",
      "C:\\Users\\Alybee\\Documents\\GitHub\\CSMODEL\\kmeans.py:55: FutureWarning: The frame.append method is deprecated and will be removed from pandas in a future version. Use pandas.concat instead.\n",
      "  df=df.append({'Cluster' : i, 'Genre' : genre, 'Count' : cluster.loc[cluster['top_genre'] == genre].shape[0]}, ignore_index = True)\n",
      "C:\\Users\\Alybee\\Documents\\GitHub\\CSMODEL\\kmeans.py:55: FutureWarning: The frame.append method is deprecated and will be removed from pandas in a future version. Use pandas.concat instead.\n",
      "  df=df.append({'Cluster' : i, 'Genre' : genre, 'Count' : cluster.loc[cluster['top_genre'] == genre].shape[0]}, ignore_index = True)\n",
      "C:\\Users\\Alybee\\Documents\\GitHub\\CSMODEL\\kmeans.py:55: FutureWarning: The frame.append method is deprecated and will be removed from pandas in a future version. Use pandas.concat instead.\n",
      "  df=df.append({'Cluster' : i, 'Genre' : genre, 'Count' : cluster.loc[cluster['top_genre'] == genre].shape[0]}, ignore_index = True)\n"
     ]
    },
    {
     "name": "stdout",
     "output_type": "stream",
     "text": [
      " 5\n",
      "Genre dance pop:\t 34\n",
      "Genre dutch pop:\t 14\n",
      "Genre british soul:\t 8\n",
      "Genre irish rock:\t 8\n",
      "Genre art rock:\t 18\n",
      "Genre british invasion:\t 7\n",
      "Genre dance rock:\t 28\n",
      "Genre glam rock:\t 7\n",
      "Genre europop:\t 10\n",
      "\n",
      "\n",
      "Cluster 4:\n",
      "Genre adult standards:\t 17\n",
      "Genre album rock:\t 79\n",
      "Genre alternative metal:\t 9\n",
      "Genre classic rock:\t 6\n",
      "Genre pop:\t 1\n"
     ]
    },
    {
     "name": "stderr",
     "output_type": "stream",
     "text": [
      "C:\\Users\\Alybee\\Documents\\GitHub\\CSMODEL\\kmeans.py:55: FutureWarning: The frame.append method is deprecated and will be removed from pandas in a future version. Use pandas.concat instead.\n",
      "  df=df.append({'Cluster' : i, 'Genre' : genre, 'Count' : cluster.loc[cluster['top_genre'] == genre].shape[0]}, ignore_index = True)\n",
      "C:\\Users\\Alybee\\Documents\\GitHub\\CSMODEL\\kmeans.py:55: FutureWarning: The frame.append method is deprecated and will be removed from pandas in a future version. Use pandas.concat instead.\n",
      "  df=df.append({'Cluster' : i, 'Genre' : genre, 'Count' : cluster.loc[cluster['top_genre'] == genre].shape[0]}, ignore_index = True)\n",
      "C:\\Users\\Alybee\\Documents\\GitHub\\CSMODEL\\kmeans.py:55: FutureWarning: The frame.append method is deprecated and will be removed from pandas in a future version. Use pandas.concat instead.\n",
      "  df=df.append({'Cluster' : i, 'Genre' : genre, 'Count' : cluster.loc[cluster['top_genre'] == genre].shape[0]}, ignore_index = True)\n",
      "C:\\Users\\Alybee\\Documents\\GitHub\\CSMODEL\\kmeans.py:55: FutureWarning: The frame.append method is deprecated and will be removed from pandas in a future version. Use pandas.concat instead.\n",
      "  df=df.append({'Cluster' : i, 'Genre' : genre, 'Count' : cluster.loc[cluster['top_genre'] == genre].shape[0]}, ignore_index = True)\n",
      "C:\\Users\\Alybee\\Documents\\GitHub\\CSMODEL\\kmeans.py:55: FutureWarning: The frame.append method is deprecated and will be removed from pandas in a future version. Use pandas.concat instead.\n",
      "  df=df.append({'Cluster' : i, 'Genre' : genre, 'Count' : cluster.loc[cluster['top_genre'] == genre].shape[0]}, ignore_index = True)\n",
      "C:\\Users\\Alybee\\Documents\\GitHub\\CSMODEL\\kmeans.py:55: FutureWarning: The frame.append method is deprecated and will be removed from pandas in a future version. Use pandas.concat instead.\n",
      "  df=df.append({'Cluster' : i, 'Genre' : genre, 'Count' : cluster.loc[cluster['top_genre'] == genre].shape[0]}, ignore_index = True)\n",
      "C:\\Users\\Alybee\\Documents\\GitHub\\CSMODEL\\kmeans.py:55: FutureWarning: The frame.append method is deprecated and will be removed from pandas in a future version. Use pandas.concat instead.\n",
      "  df=df.append({'Cluster' : i, 'Genre' : genre, 'Count' : cluster.loc[cluster['top_genre'] == genre].shape[0]}, ignore_index = True)\n",
      "C:\\Users\\Alybee\\Documents\\GitHub\\CSMODEL\\kmeans.py:55: FutureWarning: The frame.append method is deprecated and will be removed from pandas in a future version. Use pandas.concat instead.\n",
      "  df=df.append({'Cluster' : i, 'Genre' : genre, 'Count' : cluster.loc[cluster['top_genre'] == genre].shape[0]}, ignore_index = True)\n",
      "C:\\Users\\Alybee\\Documents\\GitHub\\CSMODEL\\kmeans.py:55: FutureWarning: The frame.append method is deprecated and will be removed from pandas in a future version. Use pandas.concat instead.\n",
      "  df=df.append({'Cluster' : i, 'Genre' : genre, 'Count' : cluster.loc[cluster['top_genre'] == genre].shape[0]}, ignore_index = True)\n",
      "C:\\Users\\Alybee\\Documents\\GitHub\\CSMODEL\\kmeans.py:55: FutureWarning: The frame.append method is deprecated and will be removed from pandas in a future version. Use pandas.concat instead.\n",
      "  df=df.append({'Cluster' : i, 'Genre' : genre, 'Count' : cluster.loc[cluster['top_genre'] == genre].shape[0]}, ignore_index = True)\n",
      "C:\\Users\\Alybee\\Documents\\GitHub\\CSMODEL\\kmeans.py:55: FutureWarning: The frame.append method is deprecated and will be removed from pandas in a future version. Use pandas.concat instead.\n",
      "  df=df.append({'Cluster' : i, 'Genre' : genre, 'Count' : cluster.loc[cluster['top_genre'] == genre].shape[0]}, ignore_index = True)\n",
      "C:\\Users\\Alybee\\Documents\\GitHub\\CSMODEL\\kmeans.py:55: FutureWarning: The frame.append method is deprecated and will be removed from pandas in a future version. Use pandas.concat instead.\n",
      "  df=df.append({'Cluster' : i, 'Genre' : genre, 'Count' : cluster.loc[cluster['top_genre'] == genre].shape[0]}, ignore_index = True)\n",
      "C:\\Users\\Alybee\\Documents\\GitHub\\CSMODEL\\kmeans.py:55: FutureWarning: The frame.append method is deprecated and will be removed from pandas in a future version. Use pandas.concat instead.\n",
      "  df=df.append({'Cluster' : i, 'Genre' : genre, 'Count' : cluster.loc[cluster['top_genre'] == genre].shape[0]}, ignore_index = True)\n",
      "C:\\Users\\Alybee\\Documents\\GitHub\\CSMODEL\\kmeans.py:55: FutureWarning: The frame.append method is deprecated and will be removed from pandas in a future version. Use pandas.concat instead.\n",
      "  df=df.append({'Cluster' : i, 'Genre' : genre, 'Count' : cluster.loc[cluster['top_genre'] == genre].shape[0]}, ignore_index = True)\n"
     ]
    },
    {
     "name": "stdout",
     "output_type": "stream",
     "text": [
      "Genre modern rock:\t 8\n",
      "Genre alternative rock:\t 20\n",
      "Genre dutch indie:\t 10\n",
      "Genre dutch cabaret:\t 8\n",
      "Genre permanent wave:\t 14\n",
      "Genre classic uk pop:\t 9\n",
      "Genre dance pop:\t 18\n",
      "Genre dutch pop:\t 20\n",
      "Genre british soul:\t 6\n",
      "Genre irish rock:\t 9\n",
      "Genre art rock:\t 8\n",
      "Genre british invasion:\t 7\n",
      "Genre dance rock:\t 10\n",
      "Genre glam rock:\t 14\n",
      "Genre europop:\t 3\n",
      "\n",
      "\n",
      "   Cluster              Genre Count\n",
      "0        0         album rock    83\n",
      "1        0  alternative metal    41\n",
      "2        0       classic rock     6\n",
      "3        0                pop     6\n",
      "4        0        modern rock    25\n",
      "..     ...                ...   ...\n",
      "93       4           art rock     8\n",
      "94       4   british invasion     7\n",
      "95       4         dance rock    10\n",
      "96       4          glam rock    14\n",
      "97       4            europop     3\n",
      "\n",
      "[98 rows x 3 columns]\n"
     ]
    },
    {
     "name": "stderr",
     "output_type": "stream",
     "text": [
      "C:\\Users\\Alybee\\Documents\\GitHub\\CSMODEL\\kmeans.py:55: FutureWarning: The frame.append method is deprecated and will be removed from pandas in a future version. Use pandas.concat instead.\n",
      "  df=df.append({'Cluster' : i, 'Genre' : genre, 'Count' : cluster.loc[cluster['top_genre'] == genre].shape[0]}, ignore_index = True)\n",
      "C:\\Users\\Alybee\\Documents\\GitHub\\CSMODEL\\kmeans.py:55: FutureWarning: The frame.append method is deprecated and will be removed from pandas in a future version. Use pandas.concat instead.\n",
      "  df=df.append({'Cluster' : i, 'Genre' : genre, 'Count' : cluster.loc[cluster['top_genre'] == genre].shape[0]}, ignore_index = True)\n",
      "C:\\Users\\Alybee\\Documents\\GitHub\\CSMODEL\\kmeans.py:55: FutureWarning: The frame.append method is deprecated and will be removed from pandas in a future version. Use pandas.concat instead.\n",
      "  df=df.append({'Cluster' : i, 'Genre' : genre, 'Count' : cluster.loc[cluster['top_genre'] == genre].shape[0]}, ignore_index = True)\n",
      "C:\\Users\\Alybee\\Documents\\GitHub\\CSMODEL\\kmeans.py:55: FutureWarning: The frame.append method is deprecated and will be removed from pandas in a future version. Use pandas.concat instead.\n",
      "  df=df.append({'Cluster' : i, 'Genre' : genre, 'Count' : cluster.loc[cluster['top_genre'] == genre].shape[0]}, ignore_index = True)\n",
      "C:\\Users\\Alybee\\Documents\\GitHub\\CSMODEL\\kmeans.py:55: FutureWarning: The frame.append method is deprecated and will be removed from pandas in a future version. Use pandas.concat instead.\n",
      "  df=df.append({'Cluster' : i, 'Genre' : genre, 'Count' : cluster.loc[cluster['top_genre'] == genre].shape[0]}, ignore_index = True)\n",
      "C:\\Users\\Alybee\\Documents\\GitHub\\CSMODEL\\kmeans.py:55: FutureWarning: The frame.append method is deprecated and will be removed from pandas in a future version. Use pandas.concat instead.\n",
      "  df=df.append({'Cluster' : i, 'Genre' : genre, 'Count' : cluster.loc[cluster['top_genre'] == genre].shape[0]}, ignore_index = True)\n",
      "C:\\Users\\Alybee\\Documents\\GitHub\\CSMODEL\\kmeans.py:55: FutureWarning: The frame.append method is deprecated and will be removed from pandas in a future version. Use pandas.concat instead.\n",
      "  df=df.append({'Cluster' : i, 'Genre' : genre, 'Count' : cluster.loc[cluster['top_genre'] == genre].shape[0]}, ignore_index = True)\n",
      "C:\\Users\\Alybee\\Documents\\GitHub\\CSMODEL\\kmeans.py:55: FutureWarning: The frame.append method is deprecated and will be removed from pandas in a future version. Use pandas.concat instead.\n",
      "  df=df.append({'Cluster' : i, 'Genre' : genre, 'Count' : cluster.loc[cluster['top_genre'] == genre].shape[0]}, ignore_index = True)\n",
      "C:\\Users\\Alybee\\Documents\\GitHub\\CSMODEL\\kmeans.py:55: FutureWarning: The frame.append method is deprecated and will be removed from pandas in a future version. Use pandas.concat instead.\n",
      "  df=df.append({'Cluster' : i, 'Genre' : genre, 'Count' : cluster.loc[cluster['top_genre'] == genre].shape[0]}, ignore_index = True)\n",
      "C:\\Users\\Alybee\\Documents\\GitHub\\CSMODEL\\kmeans.py:55: FutureWarning: The frame.append method is deprecated and will be removed from pandas in a future version. Use pandas.concat instead.\n",
      "  df=df.append({'Cluster' : i, 'Genre' : genre, 'Count' : cluster.loc[cluster['top_genre'] == genre].shape[0]}, ignore_index = True)\n",
      "C:\\Users\\Alybee\\Documents\\GitHub\\CSMODEL\\kmeans.py:55: FutureWarning: The frame.append method is deprecated and will be removed from pandas in a future version. Use pandas.concat instead.\n",
      "  df=df.append({'Cluster' : i, 'Genre' : genre, 'Count' : cluster.loc[cluster['top_genre'] == genre].shape[0]}, ignore_index = True)\n",
      "C:\\Users\\Alybee\\Documents\\GitHub\\CSMODEL\\kmeans.py:55: FutureWarning: The frame.append method is deprecated and will be removed from pandas in a future version. Use pandas.concat instead.\n",
      "  df=df.append({'Cluster' : i, 'Genre' : genre, 'Count' : cluster.loc[cluster['top_genre'] == genre].shape[0]}, ignore_index = True)\n"
     ]
    }
   ],
   "source": [
    "test=kmeans.print_results(groups[0], -1, genre_df)"
   ]
  },
  {
   "cell_type": "markdown",
   "id": "e519ce00",
   "metadata": {},
   "source": [
    "After running the K-Means clustering algorithm on the dataset through 32 iterations, we've finished with 7 different clusters. Let's explore them each individually"
   ]
  },
  {
   "cell_type": "markdown",
   "id": "cef42db4",
   "metadata": {},
   "source": [
    "Normally, we would visualize the clustered result on a plotted axis, however, due to its multidimensionality, we found it very difficult and inefficient to do so. Instead, we've decided to analyze the clustering results both per cluster, and per genre."
   ]
  },
  {
   "cell_type": "markdown",
   "id": "7abb5e51",
   "metadata": {},
   "source": [
    "### Analysis Per Cluster\n"
   ]
  },
  {
   "cell_type": "markdown",
   "id": "73b43180",
   "metadata": {},
   "source": [
    "Let's first analyze the different genres per cluster and see which genres dominate which clusters."
   ]
  },
  {
   "cell_type": "code",
   "execution_count": 72,
   "id": "83806509",
   "metadata": {},
   "outputs": [
    {
     "data": {
      "image/png": "[encoded data removed]",
      "text/plain": [
       "<Figure size 432x288 with 1 Axes>"
      ]
     },
     "metadata": {
      "needs_background": "light"
     },
     "output_type": "display_data"
    }
   ],
   "source": [
    "import matplotlib.pyplot as plt\n",
    "\n",
    "cluster_0 = test[test['Cluster'] == 0].sort_values(by='Count', ascending=False).copy()\n",
    "\n",
    "plt.barh(cluster_0['Genre'],cluster_0['Count'])\n",
    "plt.show()"
   ]
  },
  {
   "cell_type": "code",
   "execution_count": 73,
   "id": "ceaa3f7c",
   "metadata": {},
   "outputs": [
    {
     "data": {
      "text/html": [
       "<div>\n",
       "<style scoped>\n",
       "    .dataframe tbody tr th:only-of-type {\n",
       "        vertical-align: middle;\n",
       "    }\n",
       "\n",
       "    .dataframe tbody tr th {\n",
       "        vertical-align: top;\n",
       "    }\n",
       "\n",
       "    .dataframe thead th {\n",
       "        text-align: right;\n",
       "    }\n",
       "</style>\n",
       "<table border=\"1\" class=\"dataframe\">\n",
       "  <thead>\n",
       "    <tr style=\"text-align: right;\">\n",
       "      <th></th>\n",
       "      <th>Cluster</th>\n",
       "      <th>Genre</th>\n",
       "      <th>Count</th>\n",
       "    </tr>\n",
       "  </thead>\n",
       "  <tbody>\n",
       "    <tr>\n",
       "      <th>0</th>\n",
       "      <td>0</td>\n",
       "      <td>album rock</td>\n",
       "      <td>83</td>\n",
       "    </tr>\n",
       "    <tr>\n",
       "      <th>1</th>\n",
       "      <td>0</td>\n",
       "      <td>alternative metal</td>\n",
       "      <td>41</td>\n",
       "    </tr>\n",
       "    <tr>\n",
       "      <th>5</th>\n",
       "      <td>0</td>\n",
       "      <td>alternative rock</td>\n",
       "      <td>34</td>\n",
       "    </tr>\n",
       "    <tr>\n",
       "      <th>4</th>\n",
       "      <td>0</td>\n",
       "      <td>modern rock</td>\n",
       "      <td>25</td>\n",
       "    </tr>\n",
       "    <tr>\n",
       "      <th>11</th>\n",
       "      <td>0</td>\n",
       "      <td>dutch pop</td>\n",
       "      <td>24</td>\n",
       "    </tr>\n",
       "    <tr>\n",
       "      <th>13</th>\n",
       "      <td>0</td>\n",
       "      <td>irish rock</td>\n",
       "      <td>15</td>\n",
       "    </tr>\n",
       "    <tr>\n",
       "      <th>10</th>\n",
       "      <td>0</td>\n",
       "      <td>dance pop</td>\n",
       "      <td>14</td>\n",
       "    </tr>\n",
       "    <tr>\n",
       "      <th>6</th>\n",
       "      <td>0</td>\n",
       "      <td>dutch indie</td>\n",
       "      <td>13</td>\n",
       "    </tr>\n",
       "    <tr>\n",
       "      <th>17</th>\n",
       "      <td>0</td>\n",
       "      <td>glam rock</td>\n",
       "      <td>13</td>\n",
       "    </tr>\n",
       "    <tr>\n",
       "      <th>8</th>\n",
       "      <td>0</td>\n",
       "      <td>permanent wave</td>\n",
       "      <td>12</td>\n",
       "    </tr>\n",
       "    <tr>\n",
       "      <th>14</th>\n",
       "      <td>0</td>\n",
       "      <td>art rock</td>\n",
       "      <td>7</td>\n",
       "    </tr>\n",
       "    <tr>\n",
       "      <th>3</th>\n",
       "      <td>0</td>\n",
       "      <td>pop</td>\n",
       "      <td>6</td>\n",
       "    </tr>\n",
       "    <tr>\n",
       "      <th>2</th>\n",
       "      <td>0</td>\n",
       "      <td>classic rock</td>\n",
       "      <td>6</td>\n",
       "    </tr>\n",
       "    <tr>\n",
       "      <th>16</th>\n",
       "      <td>0</td>\n",
       "      <td>dance rock</td>\n",
       "      <td>6</td>\n",
       "    </tr>\n",
       "    <tr>\n",
       "      <th>7</th>\n",
       "      <td>0</td>\n",
       "      <td>dutch cabaret</td>\n",
       "      <td>4</td>\n",
       "    </tr>\n",
       "    <tr>\n",
       "      <th>15</th>\n",
       "      <td>0</td>\n",
       "      <td>british invasion</td>\n",
       "      <td>4</td>\n",
       "    </tr>\n",
       "    <tr>\n",
       "      <th>12</th>\n",
       "      <td>0</td>\n",
       "      <td>british soul</td>\n",
       "      <td>3</td>\n",
       "    </tr>\n",
       "    <tr>\n",
       "      <th>18</th>\n",
       "      <td>0</td>\n",
       "      <td>europop</td>\n",
       "      <td>2</td>\n",
       "    </tr>\n",
       "    <tr>\n",
       "      <th>9</th>\n",
       "      <td>0</td>\n",
       "      <td>classic uk pop</td>\n",
       "      <td>1</td>\n",
       "    </tr>\n",
       "  </tbody>\n",
       "</table>\n",
       "</div>"
      ],
      "text/plain": [
       "   Cluster              Genre Count\n",
       "0        0         album rock    83\n",
       "1        0  alternative metal    41\n",
       "5        0   alternative rock    34\n",
       "4        0        modern rock    25\n",
       "11       0          dutch pop    24\n",
       "13       0         irish rock    15\n",
       "10       0          dance pop    14\n",
       "6        0        dutch indie    13\n",
       "17       0          glam rock    13\n",
       "8        0     permanent wave    12\n",
       "14       0           art rock     7\n",
       "3        0                pop     6\n",
       "2        0       classic rock     6\n",
       "16       0         dance rock     6\n",
       "7        0      dutch cabaret     4\n",
       "15       0   british invasion     4\n",
       "12       0       british soul     3\n",
       "18       0            europop     2\n",
       "9        0     classic uk pop     1"
      ]
     },
     "execution_count": 73,
     "metadata": {},
     "output_type": "execute_result"
    }
   ],
   "source": [
    "cluster_0"
   ]
  },
  {
   "cell_type": "code",
   "execution_count": 74,
   "id": "f7731d58",
   "metadata": {},
   "outputs": [
    {
     "data": {
      "text/plain": [
       "313"
      ]
     },
     "execution_count": 74,
     "metadata": {},
     "output_type": "execute_result"
    }
   ],
   "source": [
    "cluster_0['Count'].sum()"
   ]
  },
  {
   "cell_type": "markdown",
   "id": "494d3130",
   "metadata": {},
   "source": [
    "As we can see from the results, Cluster 0 is mostly dominated by `Rock` and `Metal` genres such as `Album Rock` ,`Alternative Metal`, `Modern Rock`, and `Alternative Rock` to name a few."
   ]
  },
  {
   "cell_type": "code",
   "execution_count": 75,
   "id": "c5245bab",
   "metadata": {},
   "outputs": [
    {
     "data": {
      "image/png": "[encoded data removed]",
      "text/plain": [
       "<Figure size 432x288 with 1 Axes>"
      ]
     },
     "metadata": {
      "needs_background": "light"
     },
     "output_type": "display_data"
    }
   ],
   "source": [
    "cluster_1 = test[test['Cluster'] == 1].sort_values(by='Count', ascending=False).copy()\n",
    "\n",
    "plt.barh(cluster_1['Genre'],cluster_1['Count'])\n",
    "plt.show()"
   ]
  },
  {
   "cell_type": "code",
   "execution_count": 76,
   "id": "074b1301",
   "metadata": {},
   "outputs": [
    {
     "data": {
      "text/html": [
       "<div>\n",
       "<style scoped>\n",
       "    .dataframe tbody tr th:only-of-type {\n",
       "        vertical-align: middle;\n",
       "    }\n",
       "\n",
       "    .dataframe tbody tr th {\n",
       "        vertical-align: top;\n",
       "    }\n",
       "\n",
       "    .dataframe thead th {\n",
       "        text-align: right;\n",
       "    }\n",
       "</style>\n",
       "<table border=\"1\" class=\"dataframe\">\n",
       "  <thead>\n",
       "    <tr style=\"text-align: right;\">\n",
       "      <th></th>\n",
       "      <th>Cluster</th>\n",
       "      <th>Genre</th>\n",
       "      <th>Count</th>\n",
       "    </tr>\n",
       "  </thead>\n",
       "  <tbody>\n",
       "    <tr>\n",
       "      <th>20</th>\n",
       "      <td>1</td>\n",
       "      <td>album rock</td>\n",
       "      <td>63</td>\n",
       "    </tr>\n",
       "    <tr>\n",
       "      <th>19</th>\n",
       "      <td>1</td>\n",
       "      <td>adult standards</td>\n",
       "      <td>50</td>\n",
       "    </tr>\n",
       "    <tr>\n",
       "      <th>26</th>\n",
       "      <td>1</td>\n",
       "      <td>dutch indie</td>\n",
       "      <td>20</td>\n",
       "    </tr>\n",
       "    <tr>\n",
       "      <th>31</th>\n",
       "      <td>1</td>\n",
       "      <td>dutch pop</td>\n",
       "      <td>20</td>\n",
       "    </tr>\n",
       "    <tr>\n",
       "      <th>27</th>\n",
       "      <td>1</td>\n",
       "      <td>dutch cabaret</td>\n",
       "      <td>17</td>\n",
       "    </tr>\n",
       "    <tr>\n",
       "      <th>23</th>\n",
       "      <td>1</td>\n",
       "      <td>pop</td>\n",
       "      <td>15</td>\n",
       "    </tr>\n",
       "    <tr>\n",
       "      <th>30</th>\n",
       "      <td>1</td>\n",
       "      <td>dance pop</td>\n",
       "      <td>13</td>\n",
       "    </tr>\n",
       "    <tr>\n",
       "      <th>22</th>\n",
       "      <td>1</td>\n",
       "      <td>classic rock</td>\n",
       "      <td>12</td>\n",
       "    </tr>\n",
       "    <tr>\n",
       "      <th>32</th>\n",
       "      <td>1</td>\n",
       "      <td>british soul</td>\n",
       "      <td>10</td>\n",
       "    </tr>\n",
       "    <tr>\n",
       "      <th>25</th>\n",
       "      <td>1</td>\n",
       "      <td>alternative rock</td>\n",
       "      <td>8</td>\n",
       "    </tr>\n",
       "    <tr>\n",
       "      <th>28</th>\n",
       "      <td>1</td>\n",
       "      <td>permanent wave</td>\n",
       "      <td>8</td>\n",
       "    </tr>\n",
       "    <tr>\n",
       "      <th>21</th>\n",
       "      <td>1</td>\n",
       "      <td>alternative metal</td>\n",
       "      <td>7</td>\n",
       "    </tr>\n",
       "    <tr>\n",
       "      <th>37</th>\n",
       "      <td>1</td>\n",
       "      <td>glam rock</td>\n",
       "      <td>7</td>\n",
       "    </tr>\n",
       "    <tr>\n",
       "      <th>35</th>\n",
       "      <td>1</td>\n",
       "      <td>british invasion</td>\n",
       "      <td>6</td>\n",
       "    </tr>\n",
       "    <tr>\n",
       "      <th>38</th>\n",
       "      <td>1</td>\n",
       "      <td>europop</td>\n",
       "      <td>5</td>\n",
       "    </tr>\n",
       "    <tr>\n",
       "      <th>29</th>\n",
       "      <td>1</td>\n",
       "      <td>classic uk pop</td>\n",
       "      <td>4</td>\n",
       "    </tr>\n",
       "    <tr>\n",
       "      <th>34</th>\n",
       "      <td>1</td>\n",
       "      <td>art rock</td>\n",
       "      <td>3</td>\n",
       "    </tr>\n",
       "    <tr>\n",
       "      <th>24</th>\n",
       "      <td>1</td>\n",
       "      <td>modern rock</td>\n",
       "      <td>3</td>\n",
       "    </tr>\n",
       "    <tr>\n",
       "      <th>33</th>\n",
       "      <td>1</td>\n",
       "      <td>irish rock</td>\n",
       "      <td>2</td>\n",
       "    </tr>\n",
       "    <tr>\n",
       "      <th>36</th>\n",
       "      <td>1</td>\n",
       "      <td>dance rock</td>\n",
       "      <td>2</td>\n",
       "    </tr>\n",
       "  </tbody>\n",
       "</table>\n",
       "</div>"
      ],
      "text/plain": [
       "   Cluster              Genre Count\n",
       "20       1         album rock    63\n",
       "19       1    adult standards    50\n",
       "26       1        dutch indie    20\n",
       "31       1          dutch pop    20\n",
       "27       1      dutch cabaret    17\n",
       "23       1                pop    15\n",
       "30       1          dance pop    13\n",
       "22       1       classic rock    12\n",
       "32       1       british soul    10\n",
       "25       1   alternative rock     8\n",
       "28       1     permanent wave     8\n",
       "21       1  alternative metal     7\n",
       "37       1          glam rock     7\n",
       "35       1   british invasion     6\n",
       "38       1            europop     5\n",
       "29       1     classic uk pop     4\n",
       "34       1           art rock     3\n",
       "24       1        modern rock     3\n",
       "33       1         irish rock     2\n",
       "36       1         dance rock     2"
      ]
     },
     "execution_count": 76,
     "metadata": {},
     "output_type": "execute_result"
    }
   ],
   "source": [
    "cluster_1"
   ]
  },
  {
   "cell_type": "code",
   "execution_count": 77,
   "id": "0a40d584",
   "metadata": {},
   "outputs": [
    {
     "data": {
      "text/plain": [
       "275"
      ]
     },
     "execution_count": 77,
     "metadata": {},
     "output_type": "execute_result"
    }
   ],
   "source": [
    "cluster_1['Count'].sum()"
   ]
  },
  {
   "cell_type": "markdown",
   "id": "8b297a1c",
   "metadata": {},
   "source": [
    "As we can see from the results, Cluster 1 is mostly dominated by `Rock` and `Pop` genres such `Dutch Pop`, and `Album Rock`. It was also dominated by `Adult Standards`."
   ]
  },
  {
   "cell_type": "code",
   "execution_count": 78,
   "id": "40c9a7b4",
   "metadata": {},
   "outputs": [
    {
     "data": {
      "image/png": "[encoded data removed]",
      "text/plain": [
       "<Figure size 432x288 with 1 Axes>"
      ]
     },
     "metadata": {
      "needs_background": "light"
     },
     "output_type": "display_data"
    }
   ],
   "source": [
    "cluster_2 = test[test['Cluster'] == 2].sort_values(by='Count', ascending=False).copy()\n",
    "\n",
    "plt.barh(cluster_2['Genre'],cluster_2['Count'])\n",
    "plt.show()"
   ]
  },
  {
   "cell_type": "code",
   "execution_count": 79,
   "id": "4afd20e1",
   "metadata": {},
   "outputs": [
    {
     "data": {
      "text/html": [
       "<div>\n",
       "<style scoped>\n",
       "    .dataframe tbody tr th:only-of-type {\n",
       "        vertical-align: middle;\n",
       "    }\n",
       "\n",
       "    .dataframe tbody tr th {\n",
       "        vertical-align: top;\n",
       "    }\n",
       "\n",
       "    .dataframe thead th {\n",
       "        text-align: right;\n",
       "    }\n",
       "</style>\n",
       "<table border=\"1\" class=\"dataframe\">\n",
       "  <thead>\n",
       "    <tr style=\"text-align: right;\">\n",
       "      <th></th>\n",
       "      <th>Cluster</th>\n",
       "      <th>Genre</th>\n",
       "      <th>Count</th>\n",
       "    </tr>\n",
       "  </thead>\n",
       "  <tbody>\n",
       "    <tr>\n",
       "      <th>40</th>\n",
       "      <td>2</td>\n",
       "      <td>album rock</td>\n",
       "      <td>68</td>\n",
       "    </tr>\n",
       "    <tr>\n",
       "      <th>39</th>\n",
       "      <td>2</td>\n",
       "      <td>adult standards</td>\n",
       "      <td>28</td>\n",
       "    </tr>\n",
       "    <tr>\n",
       "      <th>47</th>\n",
       "      <td>2</td>\n",
       "      <td>dutch cabaret</td>\n",
       "      <td>14</td>\n",
       "    </tr>\n",
       "    <tr>\n",
       "      <th>54</th>\n",
       "      <td>2</td>\n",
       "      <td>british invasion</td>\n",
       "      <td>12</td>\n",
       "    </tr>\n",
       "    <tr>\n",
       "      <th>46</th>\n",
       "      <td>2</td>\n",
       "      <td>dutch indie</td>\n",
       "      <td>11</td>\n",
       "    </tr>\n",
       "    <tr>\n",
       "      <th>42</th>\n",
       "      <td>2</td>\n",
       "      <td>classic rock</td>\n",
       "      <td>10</td>\n",
       "    </tr>\n",
       "    <tr>\n",
       "      <th>43</th>\n",
       "      <td>2</td>\n",
       "      <td>pop</td>\n",
       "      <td>10</td>\n",
       "    </tr>\n",
       "    <tr>\n",
       "      <th>51</th>\n",
       "      <td>2</td>\n",
       "      <td>dutch pop</td>\n",
       "      <td>10</td>\n",
       "    </tr>\n",
       "    <tr>\n",
       "      <th>56</th>\n",
       "      <td>2</td>\n",
       "      <td>glam rock</td>\n",
       "      <td>8</td>\n",
       "    </tr>\n",
       "    <tr>\n",
       "      <th>57</th>\n",
       "      <td>2</td>\n",
       "      <td>europop</td>\n",
       "      <td>7</td>\n",
       "    </tr>\n",
       "    <tr>\n",
       "      <th>55</th>\n",
       "      <td>2</td>\n",
       "      <td>dance rock</td>\n",
       "      <td>6</td>\n",
       "    </tr>\n",
       "    <tr>\n",
       "      <th>50</th>\n",
       "      <td>2</td>\n",
       "      <td>dance pop</td>\n",
       "      <td>4</td>\n",
       "    </tr>\n",
       "    <tr>\n",
       "      <th>52</th>\n",
       "      <td>2</td>\n",
       "      <td>british soul</td>\n",
       "      <td>4</td>\n",
       "    </tr>\n",
       "    <tr>\n",
       "      <th>53</th>\n",
       "      <td>2</td>\n",
       "      <td>art rock</td>\n",
       "      <td>4</td>\n",
       "    </tr>\n",
       "    <tr>\n",
       "      <th>49</th>\n",
       "      <td>2</td>\n",
       "      <td>classic uk pop</td>\n",
       "      <td>3</td>\n",
       "    </tr>\n",
       "    <tr>\n",
       "      <th>45</th>\n",
       "      <td>2</td>\n",
       "      <td>alternative rock</td>\n",
       "      <td>2</td>\n",
       "    </tr>\n",
       "    <tr>\n",
       "      <th>41</th>\n",
       "      <td>2</td>\n",
       "      <td>alternative metal</td>\n",
       "      <td>2</td>\n",
       "    </tr>\n",
       "    <tr>\n",
       "      <th>48</th>\n",
       "      <td>2</td>\n",
       "      <td>permanent wave</td>\n",
       "      <td>2</td>\n",
       "    </tr>\n",
       "    <tr>\n",
       "      <th>44</th>\n",
       "      <td>2</td>\n",
       "      <td>modern rock</td>\n",
       "      <td>1</td>\n",
       "    </tr>\n",
       "  </tbody>\n",
       "</table>\n",
       "</div>"
      ],
      "text/plain": [
       "   Cluster              Genre Count\n",
       "40       2         album rock    68\n",
       "39       2    adult standards    28\n",
       "47       2      dutch cabaret    14\n",
       "54       2   british invasion    12\n",
       "46       2        dutch indie    11\n",
       "42       2       classic rock    10\n",
       "43       2                pop    10\n",
       "51       2          dutch pop    10\n",
       "56       2          glam rock     8\n",
       "57       2            europop     7\n",
       "55       2         dance rock     6\n",
       "50       2          dance pop     4\n",
       "52       2       british soul     4\n",
       "53       2           art rock     4\n",
       "49       2     classic uk pop     3\n",
       "45       2   alternative rock     2\n",
       "41       2  alternative metal     2\n",
       "48       2     permanent wave     2\n",
       "44       2        modern rock     1"
      ]
     },
     "execution_count": 79,
     "metadata": {},
     "output_type": "execute_result"
    }
   ],
   "source": [
    "cluster_2"
   ]
  },
  {
   "cell_type": "code",
   "execution_count": 80,
   "id": "b06afefc",
   "metadata": {},
   "outputs": [
    {
     "data": {
      "text/plain": [
       "206"
      ]
     },
     "execution_count": 80,
     "metadata": {},
     "output_type": "execute_result"
    }
   ],
   "source": [
    "cluster_2['Count'].sum()"
   ]
  },
  {
   "cell_type": "markdown",
   "id": "08845cd2",
   "metadata": {},
   "source": [
    "Cluster 2 was dominated by `album rock` followed by `adult standards` and `dutch cabaret`."
   ]
  },
  {
   "cell_type": "code",
   "execution_count": 81,
   "id": "d51ff553",
   "metadata": {},
   "outputs": [
    {
     "data": {
      "image/png": "[encoded data removed]",
      "text/plain": [
       "<Figure size 432x288 with 1 Axes>"
      ]
     },
     "metadata": {
      "needs_background": "light"
     },
     "output_type": "display_data"
    }
   ],
   "source": [
    "cluster_3 = test[test['Cluster'] == 3].sort_values(by='Count', ascending=False).copy()\n",
    "\n",
    "plt.barh(cluster_3['Genre'],cluster_3['Count'])\n",
    "plt.show()"
   ]
  },
  {
   "cell_type": "code",
   "execution_count": 82,
   "id": "ae668cd1",
   "metadata": {},
   "outputs": [
    {
     "data": {
      "text/html": [
       "<div>\n",
       "<style scoped>\n",
       "    .dataframe tbody tr th:only-of-type {\n",
       "        vertical-align: middle;\n",
       "    }\n",
       "\n",
       "    .dataframe tbody tr th {\n",
       "        vertical-align: top;\n",
       "    }\n",
       "\n",
       "    .dataframe thead th {\n",
       "        text-align: right;\n",
       "    }\n",
       "</style>\n",
       "<table border=\"1\" class=\"dataframe\">\n",
       "  <thead>\n",
       "    <tr style=\"text-align: right;\">\n",
       "      <th></th>\n",
       "      <th>Cluster</th>\n",
       "      <th>Genre</th>\n",
       "      <th>Count</th>\n",
       "    </tr>\n",
       "  </thead>\n",
       "  <tbody>\n",
       "    <tr>\n",
       "      <th>59</th>\n",
       "      <td>3</td>\n",
       "      <td>album rock</td>\n",
       "      <td>120</td>\n",
       "    </tr>\n",
       "    <tr>\n",
       "      <th>69</th>\n",
       "      <td>3</td>\n",
       "      <td>dance pop</td>\n",
       "      <td>34</td>\n",
       "    </tr>\n",
       "    <tr>\n",
       "      <th>58</th>\n",
       "      <td>3</td>\n",
       "      <td>adult standards</td>\n",
       "      <td>28</td>\n",
       "    </tr>\n",
       "    <tr>\n",
       "      <th>75</th>\n",
       "      <td>3</td>\n",
       "      <td>dance rock</td>\n",
       "      <td>28</td>\n",
       "    </tr>\n",
       "    <tr>\n",
       "      <th>64</th>\n",
       "      <td>3</td>\n",
       "      <td>alternative rock</td>\n",
       "      <td>22</td>\n",
       "    </tr>\n",
       "    <tr>\n",
       "      <th>65</th>\n",
       "      <td>3</td>\n",
       "      <td>dutch indie</td>\n",
       "      <td>21</td>\n",
       "    </tr>\n",
       "    <tr>\n",
       "      <th>73</th>\n",
       "      <td>3</td>\n",
       "      <td>art rock</td>\n",
       "      <td>18</td>\n",
       "    </tr>\n",
       "    <tr>\n",
       "      <th>61</th>\n",
       "      <td>3</td>\n",
       "      <td>classic rock</td>\n",
       "      <td>17</td>\n",
       "    </tr>\n",
       "    <tr>\n",
       "      <th>62</th>\n",
       "      <td>3</td>\n",
       "      <td>pop</td>\n",
       "      <td>15</td>\n",
       "    </tr>\n",
       "    <tr>\n",
       "      <th>70</th>\n",
       "      <td>3</td>\n",
       "      <td>dutch pop</td>\n",
       "      <td>14</td>\n",
       "    </tr>\n",
       "    <tr>\n",
       "      <th>63</th>\n",
       "      <td>3</td>\n",
       "      <td>modern rock</td>\n",
       "      <td>12</td>\n",
       "    </tr>\n",
       "    <tr>\n",
       "      <th>60</th>\n",
       "      <td>3</td>\n",
       "      <td>alternative metal</td>\n",
       "      <td>11</td>\n",
       "    </tr>\n",
       "    <tr>\n",
       "      <th>77</th>\n",
       "      <td>3</td>\n",
       "      <td>europop</td>\n",
       "      <td>10</td>\n",
       "    </tr>\n",
       "    <tr>\n",
       "      <th>71</th>\n",
       "      <td>3</td>\n",
       "      <td>british soul</td>\n",
       "      <td>8</td>\n",
       "    </tr>\n",
       "    <tr>\n",
       "      <th>72</th>\n",
       "      <td>3</td>\n",
       "      <td>irish rock</td>\n",
       "      <td>8</td>\n",
       "    </tr>\n",
       "    <tr>\n",
       "      <th>66</th>\n",
       "      <td>3</td>\n",
       "      <td>dutch cabaret</td>\n",
       "      <td>8</td>\n",
       "    </tr>\n",
       "    <tr>\n",
       "      <th>74</th>\n",
       "      <td>3</td>\n",
       "      <td>british invasion</td>\n",
       "      <td>7</td>\n",
       "    </tr>\n",
       "    <tr>\n",
       "      <th>76</th>\n",
       "      <td>3</td>\n",
       "      <td>glam rock</td>\n",
       "      <td>7</td>\n",
       "    </tr>\n",
       "    <tr>\n",
       "      <th>68</th>\n",
       "      <td>3</td>\n",
       "      <td>classic uk pop</td>\n",
       "      <td>5</td>\n",
       "    </tr>\n",
       "    <tr>\n",
       "      <th>67</th>\n",
       "      <td>3</td>\n",
       "      <td>permanent wave</td>\n",
       "      <td>2</td>\n",
       "    </tr>\n",
       "  </tbody>\n",
       "</table>\n",
       "</div>"
      ],
      "text/plain": [
       "   Cluster              Genre Count\n",
       "59       3         album rock   120\n",
       "69       3          dance pop    34\n",
       "58       3    adult standards    28\n",
       "75       3         dance rock    28\n",
       "64       3   alternative rock    22\n",
       "65       3        dutch indie    21\n",
       "73       3           art rock    18\n",
       "61       3       classic rock    17\n",
       "62       3                pop    15\n",
       "70       3          dutch pop    14\n",
       "63       3        modern rock    12\n",
       "60       3  alternative metal    11\n",
       "77       3            europop    10\n",
       "71       3       british soul     8\n",
       "72       3         irish rock     8\n",
       "66       3      dutch cabaret     8\n",
       "74       3   british invasion     7\n",
       "76       3          glam rock     7\n",
       "68       3     classic uk pop     5\n",
       "67       3     permanent wave     2"
      ]
     },
     "execution_count": 82,
     "metadata": {},
     "output_type": "execute_result"
    }
   ],
   "source": [
    "cluster_3"
   ]
  },
  {
   "cell_type": "code",
   "execution_count": 83,
   "id": "aba4cccd",
   "metadata": {},
   "outputs": [
    {
     "data": {
      "text/plain": [
       "395"
      ]
     },
     "execution_count": 83,
     "metadata": {},
     "output_type": "execute_result"
    }
   ],
   "source": [
    "cluster_3['Count'].sum()"
   ]
  },
  {
   "cell_type": "markdown",
   "id": "fd0831cc",
   "metadata": {},
   "source": [
    "A majority of `Cluster 3` also consisted of `album rock` and `dance pop`."
   ]
  },
  {
   "cell_type": "code",
   "execution_count": 84,
   "id": "acddd73f",
   "metadata": {},
   "outputs": [
    {
     "data": {
      "text/html": [
       "<div>\n",
       "<style scoped>\n",
       "    .dataframe tbody tr th:only-of-type {\n",
       "        vertical-align: middle;\n",
       "    }\n",
       "\n",
       "    .dataframe tbody tr th {\n",
       "        vertical-align: top;\n",
       "    }\n",
       "\n",
       "    .dataframe thead th {\n",
       "        text-align: right;\n",
       "    }\n",
       "</style>\n",
       "<table border=\"1\" class=\"dataframe\">\n",
       "  <thead>\n",
       "    <tr style=\"text-align: right;\">\n",
       "      <th></th>\n",
       "      <th>energy</th>\n",
       "      <th>danceability</th>\n",
       "      <th>valence</th>\n",
       "      <th>acousticness</th>\n",
       "      <th>speechiness</th>\n",
       "    </tr>\n",
       "    <tr>\n",
       "      <th>group</th>\n",
       "      <th></th>\n",
       "      <th></th>\n",
       "      <th></th>\n",
       "      <th></th>\n",
       "      <th></th>\n",
       "    </tr>\n",
       "  </thead>\n",
       "  <tbody>\n",
       "    <tr>\n",
       "      <th>0</th>\n",
       "      <td>80.009585</td>\n",
       "      <td>45.469649</td>\n",
       "      <td>41.175719</td>\n",
       "      <td>5.932907</td>\n",
       "      <td>5.530351</td>\n",
       "    </tr>\n",
       "    <tr>\n",
       "      <th>1</th>\n",
       "      <td>31.101818</td>\n",
       "      <td>45.520000</td>\n",
       "      <td>28.320000</td>\n",
       "      <td>73.763636</td>\n",
       "      <td>3.763636</td>\n",
       "    </tr>\n",
       "    <tr>\n",
       "      <th>2</th>\n",
       "      <td>57.131068</td>\n",
       "      <td>61.029126</td>\n",
       "      <td>65.771845</td>\n",
       "      <td>50.567961</td>\n",
       "      <td>4.631068</td>\n",
       "    </tr>\n",
       "    <tr>\n",
       "      <th>3</th>\n",
       "      <td>73.032911</td>\n",
       "      <td>63.473418</td>\n",
       "      <td>78.491139</td>\n",
       "      <td>10.131646</td>\n",
       "      <td>5.106329</td>\n",
       "    </tr>\n",
       "    <tr>\n",
       "      <th>4</th>\n",
       "      <td>47.025362</td>\n",
       "      <td>44.391304</td>\n",
       "      <td>28.112319</td>\n",
       "      <td>19.137681</td>\n",
       "      <td>3.800725</td>\n",
       "    </tr>\n",
       "  </tbody>\n",
       "</table>\n",
       "</div>"
      ],
      "text/plain": [
       "          energy  danceability    valence  acousticness  speechiness\n",
       "group                                                               \n",
       "0      80.009585     45.469649  41.175719      5.932907     5.530351\n",
       "1      31.101818     45.520000  28.320000     73.763636     3.763636\n",
       "2      57.131068     61.029126  65.771845     50.567961     4.631068\n",
       "3      73.032911     63.473418  78.491139     10.131646     5.106329\n",
       "4      47.025362     44.391304  28.112319     19.137681     3.800725"
      ]
     },
     "execution_count": 84,
     "metadata": {},
     "output_type": "execute_result"
    }
   ],
   "source": [
    "groups[1]"
   ]
  },
  {
   "cell_type": "code",
   "execution_count": 85,
   "id": "0bc91c72",
   "metadata": {},
   "outputs": [
    {
     "data": {
      "image/png": "[encoded data removed]",
      "text/plain": [
       "<Figure size 432x288 with 1 Axes>"
      ]
     },
     "metadata": {
      "needs_background": "light"
     },
     "output_type": "display_data"
    }
   ],
   "source": [
    "cluster_4 = test[test['Cluster'] == 4].sort_values(by='Count', ascending=False).copy()\n",
    "\n",
    "plt.barh(cluster_4['Genre'],cluster_4['Count'])\n",
    "plt.show()"
   ]
  },
  {
   "cell_type": "code",
   "execution_count": 86,
   "id": "1d2ef884",
   "metadata": {},
   "outputs": [
    {
     "data": {
      "text/html": [
       "<div>\n",
       "<style scoped>\n",
       "    .dataframe tbody tr th:only-of-type {\n",
       "        vertical-align: middle;\n",
       "    }\n",
       "\n",
       "    .dataframe tbody tr th {\n",
       "        vertical-align: top;\n",
       "    }\n",
       "\n",
       "    .dataframe thead th {\n",
       "        text-align: right;\n",
       "    }\n",
       "</style>\n",
       "<table border=\"1\" class=\"dataframe\">\n",
       "  <thead>\n",
       "    <tr style=\"text-align: right;\">\n",
       "      <th></th>\n",
       "      <th>Cluster</th>\n",
       "      <th>Genre</th>\n",
       "      <th>Count</th>\n",
       "    </tr>\n",
       "  </thead>\n",
       "  <tbody>\n",
       "    <tr>\n",
       "      <th>79</th>\n",
       "      <td>4</td>\n",
       "      <td>album rock</td>\n",
       "      <td>79</td>\n",
       "    </tr>\n",
       "    <tr>\n",
       "      <th>90</th>\n",
       "      <td>4</td>\n",
       "      <td>dutch pop</td>\n",
       "      <td>20</td>\n",
       "    </tr>\n",
       "    <tr>\n",
       "      <th>84</th>\n",
       "      <td>4</td>\n",
       "      <td>alternative rock</td>\n",
       "      <td>20</td>\n",
       "    </tr>\n",
       "    <tr>\n",
       "      <th>89</th>\n",
       "      <td>4</td>\n",
       "      <td>dance pop</td>\n",
       "      <td>18</td>\n",
       "    </tr>\n",
       "    <tr>\n",
       "      <th>78</th>\n",
       "      <td>4</td>\n",
       "      <td>adult standards</td>\n",
       "      <td>17</td>\n",
       "    </tr>\n",
       "    <tr>\n",
       "      <th>96</th>\n",
       "      <td>4</td>\n",
       "      <td>glam rock</td>\n",
       "      <td>14</td>\n",
       "    </tr>\n",
       "    <tr>\n",
       "      <th>87</th>\n",
       "      <td>4</td>\n",
       "      <td>permanent wave</td>\n",
       "      <td>14</td>\n",
       "    </tr>\n",
       "    <tr>\n",
       "      <th>95</th>\n",
       "      <td>4</td>\n",
       "      <td>dance rock</td>\n",
       "      <td>10</td>\n",
       "    </tr>\n",
       "    <tr>\n",
       "      <th>85</th>\n",
       "      <td>4</td>\n",
       "      <td>dutch indie</td>\n",
       "      <td>10</td>\n",
       "    </tr>\n",
       "    <tr>\n",
       "      <th>92</th>\n",
       "      <td>4</td>\n",
       "      <td>irish rock</td>\n",
       "      <td>9</td>\n",
       "    </tr>\n",
       "    <tr>\n",
       "      <th>88</th>\n",
       "      <td>4</td>\n",
       "      <td>classic uk pop</td>\n",
       "      <td>9</td>\n",
       "    </tr>\n",
       "    <tr>\n",
       "      <th>80</th>\n",
       "      <td>4</td>\n",
       "      <td>alternative metal</td>\n",
       "      <td>9</td>\n",
       "    </tr>\n",
       "    <tr>\n",
       "      <th>86</th>\n",
       "      <td>4</td>\n",
       "      <td>dutch cabaret</td>\n",
       "      <td>8</td>\n",
       "    </tr>\n",
       "    <tr>\n",
       "      <th>83</th>\n",
       "      <td>4</td>\n",
       "      <td>modern rock</td>\n",
       "      <td>8</td>\n",
       "    </tr>\n",
       "    <tr>\n",
       "      <th>93</th>\n",
       "      <td>4</td>\n",
       "      <td>art rock</td>\n",
       "      <td>8</td>\n",
       "    </tr>\n",
       "    <tr>\n",
       "      <th>94</th>\n",
       "      <td>4</td>\n",
       "      <td>british invasion</td>\n",
       "      <td>7</td>\n",
       "    </tr>\n",
       "    <tr>\n",
       "      <th>91</th>\n",
       "      <td>4</td>\n",
       "      <td>british soul</td>\n",
       "      <td>6</td>\n",
       "    </tr>\n",
       "    <tr>\n",
       "      <th>81</th>\n",
       "      <td>4</td>\n",
       "      <td>classic rock</td>\n",
       "      <td>6</td>\n",
       "    </tr>\n",
       "    <tr>\n",
       "      <th>97</th>\n",
       "      <td>4</td>\n",
       "      <td>europop</td>\n",
       "      <td>3</td>\n",
       "    </tr>\n",
       "    <tr>\n",
       "      <th>82</th>\n",
       "      <td>4</td>\n",
       "      <td>pop</td>\n",
       "      <td>1</td>\n",
       "    </tr>\n",
       "  </tbody>\n",
       "</table>\n",
       "</div>"
      ],
      "text/plain": [
       "   Cluster              Genre Count\n",
       "79       4         album rock    79\n",
       "90       4          dutch pop    20\n",
       "84       4   alternative rock    20\n",
       "89       4          dance pop    18\n",
       "78       4    adult standards    17\n",
       "96       4          glam rock    14\n",
       "87       4     permanent wave    14\n",
       "95       4         dance rock    10\n",
       "85       4        dutch indie    10\n",
       "92       4         irish rock     9\n",
       "88       4     classic uk pop     9\n",
       "80       4  alternative metal     9\n",
       "86       4      dutch cabaret     8\n",
       "83       4        modern rock     8\n",
       "93       4           art rock     8\n",
       "94       4   british invasion     7\n",
       "91       4       british soul     6\n",
       "81       4       classic rock     6\n",
       "97       4            europop     3\n",
       "82       4                pop     1"
      ]
     },
     "execution_count": 86,
     "metadata": {},
     "output_type": "execute_result"
    }
   ],
   "source": [
    "cluster_4"
   ]
  },
  {
   "cell_type": "code",
   "execution_count": 87,
   "id": "b192b443",
   "metadata": {},
   "outputs": [
    {
     "data": {
      "text/plain": [
       "276"
      ]
     },
     "execution_count": 87,
     "metadata": {},
     "output_type": "execute_result"
    }
   ],
   "source": [
    "cluster_4['Count'].sum()"
   ]
  },
  {
   "cell_type": "code",
   "execution_count": 88,
   "id": "14cb260b",
   "metadata": {},
   "outputs": [
    {
     "data": {
      "text/html": [
       "<div>\n",
       "<style scoped>\n",
       "    .dataframe tbody tr th:only-of-type {\n",
       "        vertical-align: middle;\n",
       "    }\n",
       "\n",
       "    .dataframe tbody tr th {\n",
       "        vertical-align: top;\n",
       "    }\n",
       "\n",
       "    .dataframe thead th {\n",
       "        text-align: right;\n",
       "    }\n",
       "</style>\n",
       "<table border=\"1\" class=\"dataframe\">\n",
       "  <thead>\n",
       "    <tr style=\"text-align: right;\">\n",
       "      <th></th>\n",
       "      <th>energy</th>\n",
       "      <th>danceability</th>\n",
       "      <th>valence</th>\n",
       "      <th>acousticness</th>\n",
       "      <th>speechiness</th>\n",
       "    </tr>\n",
       "    <tr>\n",
       "      <th>group</th>\n",
       "      <th></th>\n",
       "      <th></th>\n",
       "      <th></th>\n",
       "      <th></th>\n",
       "      <th></th>\n",
       "    </tr>\n",
       "  </thead>\n",
       "  <tbody>\n",
       "    <tr>\n",
       "      <th>0</th>\n",
       "      <td>80.009585</td>\n",
       "      <td>45.469649</td>\n",
       "      <td>41.175719</td>\n",
       "      <td>5.932907</td>\n",
       "      <td>5.530351</td>\n",
       "    </tr>\n",
       "    <tr>\n",
       "      <th>1</th>\n",
       "      <td>31.101818</td>\n",
       "      <td>45.520000</td>\n",
       "      <td>28.320000</td>\n",
       "      <td>73.763636</td>\n",
       "      <td>3.763636</td>\n",
       "    </tr>\n",
       "    <tr>\n",
       "      <th>2</th>\n",
       "      <td>57.131068</td>\n",
       "      <td>61.029126</td>\n",
       "      <td>65.771845</td>\n",
       "      <td>50.567961</td>\n",
       "      <td>4.631068</td>\n",
       "    </tr>\n",
       "    <tr>\n",
       "      <th>3</th>\n",
       "      <td>73.032911</td>\n",
       "      <td>63.473418</td>\n",
       "      <td>78.491139</td>\n",
       "      <td>10.131646</td>\n",
       "      <td>5.106329</td>\n",
       "    </tr>\n",
       "    <tr>\n",
       "      <th>4</th>\n",
       "      <td>47.025362</td>\n",
       "      <td>44.391304</td>\n",
       "      <td>28.112319</td>\n",
       "      <td>19.137681</td>\n",
       "      <td>3.800725</td>\n",
       "    </tr>\n",
       "  </tbody>\n",
       "</table>\n",
       "</div>"
      ],
      "text/plain": [
       "          energy  danceability    valence  acousticness  speechiness\n",
       "group                                                               \n",
       "0      80.009585     45.469649  41.175719      5.932907     5.530351\n",
       "1      31.101818     45.520000  28.320000     73.763636     3.763636\n",
       "2      57.131068     61.029126  65.771845     50.567961     4.631068\n",
       "3      73.032911     63.473418  78.491139     10.131646     5.106329\n",
       "4      47.025362     44.391304  28.112319     19.137681     3.800725"
      ]
     },
     "execution_count": 88,
     "metadata": {},
     "output_type": "execute_result"
    }
   ],
   "source": [
    "groups[1]"
   ]
  },
  {
   "cell_type": "markdown",
   "id": "316d656f",
   "metadata": {},
   "source": [
    "`Cluster 4` was dominated by `album rock` and `dutch pop`."
   ]
  },
  {
   "cell_type": "code",
   "execution_count": 89,
   "id": "eaa5b6e5",
   "metadata": {},
   "outputs": [
    {
     "data": {
      "text/html": [
       "<div>\n",
       "<style scoped>\n",
       "    .dataframe tbody tr th:only-of-type {\n",
       "        vertical-align: middle;\n",
       "    }\n",
       "\n",
       "    .dataframe tbody tr th {\n",
       "        vertical-align: top;\n",
       "    }\n",
       "\n",
       "    .dataframe thead th {\n",
       "        text-align: right;\n",
       "    }\n",
       "</style>\n",
       "<table border=\"1\" class=\"dataframe\">\n",
       "  <thead>\n",
       "    <tr style=\"text-align: right;\">\n",
       "      <th></th>\n",
       "      <th>energy</th>\n",
       "      <th>danceability</th>\n",
       "      <th>valence</th>\n",
       "      <th>acousticness</th>\n",
       "      <th>speechiness</th>\n",
       "    </tr>\n",
       "    <tr>\n",
       "      <th>group</th>\n",
       "      <th></th>\n",
       "      <th></th>\n",
       "      <th></th>\n",
       "      <th></th>\n",
       "      <th></th>\n",
       "    </tr>\n",
       "  </thead>\n",
       "  <tbody>\n",
       "    <tr>\n",
       "      <th>0</th>\n",
       "      <td>80.009585</td>\n",
       "      <td>45.469649</td>\n",
       "      <td>41.175719</td>\n",
       "      <td>5.932907</td>\n",
       "      <td>5.530351</td>\n",
       "    </tr>\n",
       "    <tr>\n",
       "      <th>1</th>\n",
       "      <td>31.101818</td>\n",
       "      <td>45.520000</td>\n",
       "      <td>28.320000</td>\n",
       "      <td>73.763636</td>\n",
       "      <td>3.763636</td>\n",
       "    </tr>\n",
       "    <tr>\n",
       "      <th>2</th>\n",
       "      <td>57.131068</td>\n",
       "      <td>61.029126</td>\n",
       "      <td>65.771845</td>\n",
       "      <td>50.567961</td>\n",
       "      <td>4.631068</td>\n",
       "    </tr>\n",
       "    <tr>\n",
       "      <th>3</th>\n",
       "      <td>73.032911</td>\n",
       "      <td>63.473418</td>\n",
       "      <td>78.491139</td>\n",
       "      <td>10.131646</td>\n",
       "      <td>5.106329</td>\n",
       "    </tr>\n",
       "    <tr>\n",
       "      <th>4</th>\n",
       "      <td>47.025362</td>\n",
       "      <td>44.391304</td>\n",
       "      <td>28.112319</td>\n",
       "      <td>19.137681</td>\n",
       "      <td>3.800725</td>\n",
       "    </tr>\n",
       "  </tbody>\n",
       "</table>\n",
       "</div>"
      ],
      "text/plain": [
       "          energy  danceability    valence  acousticness  speechiness\n",
       "group                                                               \n",
       "0      80.009585     45.469649  41.175719      5.932907     5.530351\n",
       "1      31.101818     45.520000  28.320000     73.763636     3.763636\n",
       "2      57.131068     61.029126  65.771845     50.567961     4.631068\n",
       "3      73.032911     63.473418  78.491139     10.131646     5.106329\n",
       "4      47.025362     44.391304  28.112319     19.137681     3.800725"
      ]
     },
     "execution_count": 89,
     "metadata": {},
     "output_type": "execute_result"
    }
   ],
   "source": [
    "groups[1]"
   ]
  },
  {
   "cell_type": "markdown",
   "id": "63f57c95",
   "metadata": {},
   "source": [
    "We can see here that `Cluster 0` has the highest `energy` and `speechiness` out of all the clusters, while also having the lowest `acousticness`. The prominence of `rock` and `metal` tracks in the cluster makes sense, as songs from the aforementioned genres tend to use a lot of electronic sounds and instruments, thus lowering its acousticness. \n",
    "\n",
    "Songs from `Cluster 1`, on the other hand, had the lowest `energy` and `speechiness`, as well as relatively low `valence`. It also had the highest `acousticness`. Low `valence` indicates more negative-sounding songs, which can have emotions such as sadness, depression, anger, etc. But because its `energy` is really low relatively speaking, we can speculate that the songs in this cluster have more of an sad and depressive mood because of the assumption that songs with a sadder, melancholic mood would have less `energy` as well. Its high marks in `acousticness` also supports this assumption, as a lot of sad and emotional songs tend to be sang acoustically. \n",
    "\n",
    "`Cluster 2`'s Songs had relatively high `danceability`, `acousticness` and `valence`. This would explain the prominence of songs from the genre of `Dutch Cabaret`, which tends to be played with non-electric instruments and a more positive tune. It is also often danced to.\n",
    "\n",
    "Songs from `Cluster 3` had the highest `danceability` and `valence`, as well as relatively high `energy` and `speechiness`, while having relatively low `acousticness`. Songs with high `valence` tend to be associated with high `energy` and `danceability` as it helps create a more upbeat mood and environment. Its low `acousticness` implies the use of electronic sounds and instruments, which would explain the prominence of `rock` and `dance pop` in the cluster.\n",
    "\n",
    "`Cluster 4`'s songs had the lowest `danceability`, and `valence`, as well as relatively low `energy` and `speechiness`. "
   ]
  },
  {
   "cell_type": "markdown",
   "id": "cb35d582",
   "metadata": {},
   "source": [
    "**Analysis Per Genre**"
   ]
  },
  {
   "cell_type": "markdown",
   "id": "1e4e788d",
   "metadata": {},
   "source": [
    "Due to the wide variety of different genres, we'll only be looking at and analyzing the Top 3 Genres with the higest count of tracks."
   ]
  },
  {
   "cell_type": "code",
   "execution_count": 90,
   "id": "093a2b03",
   "metadata": {},
   "outputs": [
    {
     "name": "stdout",
     "output_type": "stream",
     "text": [
      "album rock           413\n",
      "adult standards      123\n",
      "dutch pop             88\n",
      "alternative rock      86\n",
      "dance pop             83\n",
      "dutch indie           75\n",
      "alternative metal     70\n",
      "dance rock            52\n",
      "dutch cabaret         51\n",
      "classic rock          51\n",
      "glam rock             49\n",
      "modern rock           49\n",
      "pop                   47\n",
      "art rock              40\n",
      "permanent wave        38\n",
      "british invasion      36\n",
      "irish rock            34\n",
      "british soul          31\n",
      "europop               27\n",
      "classic uk pop        22\n",
      "Name: top_genre, dtype: int64\n"
     ]
    }
   ],
   "source": [
    "print(genre_df['top_genre'].value_counts())"
   ]
  },
  {
   "cell_type": "markdown",
   "id": "f59a6d37",
   "metadata": {},
   "source": [
    "Let's first look at the genre `Album Rock`"
   ]
  },
  {
   "cell_type": "code",
   "execution_count": 91,
   "id": "dafcfc20",
   "metadata": {},
   "outputs": [
    {
     "data": {
      "text/html": [
       "<div>\n",
       "<style scoped>\n",
       "    .dataframe tbody tr th:only-of-type {\n",
       "        vertical-align: middle;\n",
       "    }\n",
       "\n",
       "    .dataframe tbody tr th {\n",
       "        vertical-align: top;\n",
       "    }\n",
       "\n",
       "    .dataframe thead th {\n",
       "        text-align: right;\n",
       "    }\n",
       "</style>\n",
       "<table border=\"1\" class=\"dataframe\">\n",
       "  <thead>\n",
       "    <tr style=\"text-align: right;\">\n",
       "      <th></th>\n",
       "      <th>Cluster</th>\n",
       "      <th>Genre</th>\n",
       "      <th>Count</th>\n",
       "    </tr>\n",
       "  </thead>\n",
       "  <tbody>\n",
       "    <tr>\n",
       "      <th>0</th>\n",
       "      <td>0</td>\n",
       "      <td>album rock</td>\n",
       "      <td>83</td>\n",
       "    </tr>\n",
       "    <tr>\n",
       "      <th>20</th>\n",
       "      <td>1</td>\n",
       "      <td>album rock</td>\n",
       "      <td>63</td>\n",
       "    </tr>\n",
       "    <tr>\n",
       "      <th>40</th>\n",
       "      <td>2</td>\n",
       "      <td>album rock</td>\n",
       "      <td>68</td>\n",
       "    </tr>\n",
       "    <tr>\n",
       "      <th>59</th>\n",
       "      <td>3</td>\n",
       "      <td>album rock</td>\n",
       "      <td>120</td>\n",
       "    </tr>\n",
       "    <tr>\n",
       "      <th>79</th>\n",
       "      <td>4</td>\n",
       "      <td>album rock</td>\n",
       "      <td>79</td>\n",
       "    </tr>\n",
       "  </tbody>\n",
       "</table>\n",
       "</div>"
      ],
      "text/plain": [
       "   Cluster       Genre Count\n",
       "0        0  album rock    83\n",
       "20       1  album rock    63\n",
       "40       2  album rock    68\n",
       "59       3  album rock   120\n",
       "79       4  album rock    79"
      ]
     },
     "execution_count": 91,
     "metadata": {},
     "output_type": "execute_result"
    }
   ],
   "source": [
    "test.loc[test[\"Genre\"]==\"album rock\"]"
   ]
  },
  {
   "cell_type": "code",
   "execution_count": 92,
   "id": "2302b95f",
   "metadata": {},
   "outputs": [
    {
     "data": {
      "image/png": "[encoded data removed]",
      "text/plain": [
       "<Figure size 432x288 with 1 Axes>"
      ]
     },
     "metadata": {
      "needs_background": "light"
     },
     "output_type": "display_data"
    }
   ],
   "source": [
    "plt.bar(test.loc[test[\"Genre\"]==\"album rock\"]['Cluster'],test.loc[test[\"Genre\"]==\"album rock\"]['Count'])\n",
    "plt.show()"
   ]
  },
  {
   "cell_type": "markdown",
   "id": "de6e1c14",
   "metadata": {},
   "source": [
    "122 of the album rock tracks went to the `Cluster 3`, making it the most prominent Cluster for the genre. It was least prominent in `Cluster 1`"
   ]
  },
  {
   "cell_type": "markdown",
   "id": "6516116d",
   "metadata": {},
   "source": [
    "Next, let's look at `Adult Standards`"
   ]
  },
  {
   "cell_type": "code",
   "execution_count": 93,
   "id": "9f51a77f",
   "metadata": {},
   "outputs": [
    {
     "data": {
      "text/html": [
       "<div>\n",
       "<style scoped>\n",
       "    .dataframe tbody tr th:only-of-type {\n",
       "        vertical-align: middle;\n",
       "    }\n",
       "\n",
       "    .dataframe tbody tr th {\n",
       "        vertical-align: top;\n",
       "    }\n",
       "\n",
       "    .dataframe thead th {\n",
       "        text-align: right;\n",
       "    }\n",
       "</style>\n",
       "<table border=\"1\" class=\"dataframe\">\n",
       "  <thead>\n",
       "    <tr style=\"text-align: right;\">\n",
       "      <th></th>\n",
       "      <th>Cluster</th>\n",
       "      <th>Genre</th>\n",
       "      <th>Count</th>\n",
       "    </tr>\n",
       "  </thead>\n",
       "  <tbody>\n",
       "    <tr>\n",
       "      <th>19</th>\n",
       "      <td>1</td>\n",
       "      <td>adult standards</td>\n",
       "      <td>50</td>\n",
       "    </tr>\n",
       "    <tr>\n",
       "      <th>39</th>\n",
       "      <td>2</td>\n",
       "      <td>adult standards</td>\n",
       "      <td>28</td>\n",
       "    </tr>\n",
       "    <tr>\n",
       "      <th>58</th>\n",
       "      <td>3</td>\n",
       "      <td>adult standards</td>\n",
       "      <td>28</td>\n",
       "    </tr>\n",
       "    <tr>\n",
       "      <th>78</th>\n",
       "      <td>4</td>\n",
       "      <td>adult standards</td>\n",
       "      <td>17</td>\n",
       "    </tr>\n",
       "  </tbody>\n",
       "</table>\n",
       "</div>"
      ],
      "text/plain": [
       "   Cluster            Genre Count\n",
       "19       1  adult standards    50\n",
       "39       2  adult standards    28\n",
       "58       3  adult standards    28\n",
       "78       4  adult standards    17"
      ]
     },
     "execution_count": 93,
     "metadata": {},
     "output_type": "execute_result"
    }
   ],
   "source": [
    "test.loc[test[\"Genre\"]==\"adult standards\"]"
   ]
  },
  {
   "cell_type": "code",
   "execution_count": 94,
   "id": "1d2f70fa",
   "metadata": {},
   "outputs": [
    {
     "data": {
      "image/png": "[encoded data removed]",
      "text/plain": [
       "<Figure size 432x288 with 1 Axes>"
      ]
     },
     "metadata": {
      "needs_background": "light"
     },
     "output_type": "display_data"
    }
   ],
   "source": [
    "plt.bar(test.loc[test[\"Genre\"]==\"adult standards\"]['Cluster'],test.loc[test[\"Genre\"]==\"adult standards\"]['Count'])\n",
    "plt.show()"
   ]
  },
  {
   "cell_type": "markdown",
   "id": "79dae24b",
   "metadata": {},
   "source": [
    "Majority of songs belonging to the `adult standards` genre was grouped into `Cluster 1`. Songs from this genre had no presence whatsoever in `Cluster 0`."
   ]
  },
  {
   "cell_type": "markdown",
   "id": "83ceac3c",
   "metadata": {},
   "source": [
    "Lastly, let's look at `dutch pop`"
   ]
  },
  {
   "cell_type": "code",
   "execution_count": 95,
   "id": "6d2f99a3",
   "metadata": {},
   "outputs": [
    {
     "data": {
      "text/html": [
       "<div>\n",
       "<style scoped>\n",
       "    .dataframe tbody tr th:only-of-type {\n",
       "        vertical-align: middle;\n",
       "    }\n",
       "\n",
       "    .dataframe tbody tr th {\n",
       "        vertical-align: top;\n",
       "    }\n",
       "\n",
       "    .dataframe thead th {\n",
       "        text-align: right;\n",
       "    }\n",
       "</style>\n",
       "<table border=\"1\" class=\"dataframe\">\n",
       "  <thead>\n",
       "    <tr style=\"text-align: right;\">\n",
       "      <th></th>\n",
       "      <th>Cluster</th>\n",
       "      <th>Genre</th>\n",
       "      <th>Count</th>\n",
       "    </tr>\n",
       "  </thead>\n",
       "  <tbody>\n",
       "    <tr>\n",
       "      <th>11</th>\n",
       "      <td>0</td>\n",
       "      <td>dutch pop</td>\n",
       "      <td>24</td>\n",
       "    </tr>\n",
       "    <tr>\n",
       "      <th>31</th>\n",
       "      <td>1</td>\n",
       "      <td>dutch pop</td>\n",
       "      <td>20</td>\n",
       "    </tr>\n",
       "    <tr>\n",
       "      <th>51</th>\n",
       "      <td>2</td>\n",
       "      <td>dutch pop</td>\n",
       "      <td>10</td>\n",
       "    </tr>\n",
       "    <tr>\n",
       "      <th>70</th>\n",
       "      <td>3</td>\n",
       "      <td>dutch pop</td>\n",
       "      <td>14</td>\n",
       "    </tr>\n",
       "    <tr>\n",
       "      <th>90</th>\n",
       "      <td>4</td>\n",
       "      <td>dutch pop</td>\n",
       "      <td>20</td>\n",
       "    </tr>\n",
       "  </tbody>\n",
       "</table>\n",
       "</div>"
      ],
      "text/plain": [
       "   Cluster      Genre Count\n",
       "11       0  dutch pop    24\n",
       "31       1  dutch pop    20\n",
       "51       2  dutch pop    10\n",
       "70       3  dutch pop    14\n",
       "90       4  dutch pop    20"
      ]
     },
     "execution_count": 95,
     "metadata": {},
     "output_type": "execute_result"
    }
   ],
   "source": [
    "test.loc[test[\"Genre\"]==\"dutch pop\"]"
   ]
  },
  {
   "cell_type": "code",
   "execution_count": 96,
   "id": "798ef4d7",
   "metadata": {},
   "outputs": [
    {
     "data": {
      "image/png": "[encoded data removed]",
      "text/plain": [
       "<Figure size 432x288 with 1 Axes>"
      ]
     },
     "metadata": {
      "needs_background": "light"
     },
     "output_type": "display_data"
    }
   ],
   "source": [
    "plt.bar(test.loc[test[\"Genre\"]==\"dutch pop\"]['Cluster'],test.loc[test[\"Genre\"]==\"dutch pop\"]['Count'])\n",
    "plt.show()"
   ]
  },
  {
   "cell_type": "markdown",
   "id": "dd697e06",
   "metadata": {},
   "source": [
    "`dutch pop` was most prominent in `Cluster 0` with 24 entries, and least prominent in `Cluster 3` and `Cluster 2`."
   ]
  },
  {
   "cell_type": "code",
   "execution_count": 97,
   "id": "6b69a05a",
   "metadata": {},
   "outputs": [
    {
     "data": {
      "text/html": [
       "<div>\n",
       "<style scoped>\n",
       "    .dataframe tbody tr th:only-of-type {\n",
       "        vertical-align: middle;\n",
       "    }\n",
       "\n",
       "    .dataframe tbody tr th {\n",
       "        vertical-align: top;\n",
       "    }\n",
       "\n",
       "    .dataframe thead th {\n",
       "        text-align: right;\n",
       "    }\n",
       "</style>\n",
       "<table border=\"1\" class=\"dataframe\">\n",
       "  <thead>\n",
       "    <tr style=\"text-align: right;\">\n",
       "      <th></th>\n",
       "      <th>index</th>\n",
       "      <th>title</th>\n",
       "      <th>artist</th>\n",
       "      <th>top_genre</th>\n",
       "      <th>period</th>\n",
       "      <th>year</th>\n",
       "      <th>bpm</th>\n",
       "      <th>energy</th>\n",
       "      <th>danceability</th>\n",
       "      <th>loudness</th>\n",
       "      <th>liveness</th>\n",
       "      <th>valence</th>\n",
       "      <th>length</th>\n",
       "      <th>acousticness</th>\n",
       "      <th>speechiness</th>\n",
       "      <th>popularity</th>\n",
       "    </tr>\n",
       "  </thead>\n",
       "  <tbody>\n",
       "    <tr>\n",
       "      <th>472</th>\n",
       "      <td>473</td>\n",
       "      <td>Damn Those Eyes</td>\n",
       "      <td>Kane</td>\n",
       "      <td>dutch pop</td>\n",
       "      <td>2010-2019</td>\n",
       "      <td>2011</td>\n",
       "      <td>172</td>\n",
       "      <td>76</td>\n",
       "      <td>34</td>\n",
       "      <td>-7</td>\n",
       "      <td>35</td>\n",
       "      <td>33</td>\n",
       "      <td>251</td>\n",
       "      <td>0</td>\n",
       "      <td>4</td>\n",
       "      <td>39</td>\n",
       "    </tr>\n",
       "    <tr>\n",
       "      <th>480</th>\n",
       "      <td>481</td>\n",
       "      <td>Zo Stil</td>\n",
       "      <td>BLØF</td>\n",
       "      <td>dutch pop</td>\n",
       "      <td>2010-2019</td>\n",
       "      <td>2012</td>\n",
       "      <td>170</td>\n",
       "      <td>69</td>\n",
       "      <td>57</td>\n",
       "      <td>-7</td>\n",
       "      <td>11</td>\n",
       "      <td>78</td>\n",
       "      <td>237</td>\n",
       "      <td>4</td>\n",
       "      <td>3</td>\n",
       "      <td>54</td>\n",
       "    </tr>\n",
       "    <tr>\n",
       "      <th>489</th>\n",
       "      <td>490</td>\n",
       "      <td>Home Again</td>\n",
       "      <td>Kensington</td>\n",
       "      <td>dutch pop</td>\n",
       "      <td>2010-2019</td>\n",
       "      <td>2012</td>\n",
       "      <td>142</td>\n",
       "      <td>75</td>\n",
       "      <td>50</td>\n",
       "      <td>-6</td>\n",
       "      <td>35</td>\n",
       "      <td>30</td>\n",
       "      <td>197</td>\n",
       "      <td>1</td>\n",
       "      <td>4</td>\n",
       "      <td>44</td>\n",
       "    </tr>\n",
       "    <tr>\n",
       "      <th>492</th>\n",
       "      <td>493</td>\n",
       "      <td>Droomland</td>\n",
       "      <td>Andre Hazes</td>\n",
       "      <td>dutch pop</td>\n",
       "      <td>2010-2019</td>\n",
       "      <td>2012</td>\n",
       "      <td>100</td>\n",
       "      <td>47</td>\n",
       "      <td>32</td>\n",
       "      <td>-7</td>\n",
       "      <td>95</td>\n",
       "      <td>25</td>\n",
       "      <td>208</td>\n",
       "      <td>26</td>\n",
       "      <td>3</td>\n",
       "      <td>42</td>\n",
       "    </tr>\n",
       "    <tr>\n",
       "      <th>493</th>\n",
       "      <td>494</td>\n",
       "      <td>Wat Zou Je Doen?</td>\n",
       "      <td>BLØF</td>\n",
       "      <td>dutch pop</td>\n",
       "      <td>2010-2019</td>\n",
       "      <td>2012</td>\n",
       "      <td>184</td>\n",
       "      <td>51</td>\n",
       "      <td>35</td>\n",
       "      <td>-8</td>\n",
       "      <td>71</td>\n",
       "      <td>22</td>\n",
       "      <td>291</td>\n",
       "      <td>40</td>\n",
       "      <td>3</td>\n",
       "      <td>51</td>\n",
       "    </tr>\n",
       "    <tr>\n",
       "      <th>509</th>\n",
       "      <td>510</td>\n",
       "      <td>Zaterdag</td>\n",
       "      <td>BLØF</td>\n",
       "      <td>dutch pop</td>\n",
       "      <td>2010-2019</td>\n",
       "      <td>2012</td>\n",
       "      <td>141</td>\n",
       "      <td>71</td>\n",
       "      <td>75</td>\n",
       "      <td>-10</td>\n",
       "      <td>10</td>\n",
       "      <td>90</td>\n",
       "      <td>283</td>\n",
       "      <td>9</td>\n",
       "      <td>3</td>\n",
       "      <td>41</td>\n",
       "    </tr>\n",
       "    <tr>\n",
       "      <th>513</th>\n",
       "      <td>514</td>\n",
       "      <td>Later Als Ik Groter Ben</td>\n",
       "      <td>BLØF</td>\n",
       "      <td>dutch pop</td>\n",
       "      <td>2010-2019</td>\n",
       "      <td>2012</td>\n",
       "      <td>130</td>\n",
       "      <td>73</td>\n",
       "      <td>53</td>\n",
       "      <td>-5</td>\n",
       "      <td>8</td>\n",
       "      <td>57</td>\n",
       "      <td>205</td>\n",
       "      <td>0</td>\n",
       "      <td>3</td>\n",
       "      <td>48</td>\n",
       "    </tr>\n",
       "    <tr>\n",
       "      <th>544</th>\n",
       "      <td>545</td>\n",
       "      <td>Watermensen</td>\n",
       "      <td>3JS</td>\n",
       "      <td>dutch pop</td>\n",
       "      <td>2010-2019</td>\n",
       "      <td>2013</td>\n",
       "      <td>144</td>\n",
       "      <td>40</td>\n",
       "      <td>56</td>\n",
       "      <td>-8</td>\n",
       "      <td>11</td>\n",
       "      <td>46</td>\n",
       "      <td>209</td>\n",
       "      <td>66</td>\n",
       "      <td>3</td>\n",
       "      <td>36</td>\n",
       "    </tr>\n",
       "    <tr>\n",
       "      <th>564</th>\n",
       "      <td>565</td>\n",
       "      <td>Streets</td>\n",
       "      <td>Kensington</td>\n",
       "      <td>dutch pop</td>\n",
       "      <td>2010-2019</td>\n",
       "      <td>2014</td>\n",
       "      <td>168</td>\n",
       "      <td>77</td>\n",
       "      <td>38</td>\n",
       "      <td>-6</td>\n",
       "      <td>27</td>\n",
       "      <td>42</td>\n",
       "      <td>185</td>\n",
       "      <td>0</td>\n",
       "      <td>4</td>\n",
       "      <td>57</td>\n",
       "    </tr>\n",
       "    <tr>\n",
       "      <th>570</th>\n",
       "      <td>571</td>\n",
       "      <td>War</td>\n",
       "      <td>Kensington</td>\n",
       "      <td>dutch pop</td>\n",
       "      <td>2010-2019</td>\n",
       "      <td>2014</td>\n",
       "      <td>126</td>\n",
       "      <td>81</td>\n",
       "      <td>64</td>\n",
       "      <td>-6</td>\n",
       "      <td>7</td>\n",
       "      <td>72</td>\n",
       "      <td>177</td>\n",
       "      <td>8</td>\n",
       "      <td>3</td>\n",
       "      <td>59</td>\n",
       "    </tr>\n",
       "    <tr>\n",
       "      <th>574</th>\n",
       "      <td>575</td>\n",
       "      <td>Riddles</td>\n",
       "      <td>Kensington</td>\n",
       "      <td>dutch pop</td>\n",
       "      <td>2010-2019</td>\n",
       "      <td>2014</td>\n",
       "      <td>148</td>\n",
       "      <td>70</td>\n",
       "      <td>49</td>\n",
       "      <td>-8</td>\n",
       "      <td>8</td>\n",
       "      <td>62</td>\n",
       "      <td>209</td>\n",
       "      <td>4</td>\n",
       "      <td>4</td>\n",
       "      <td>52</td>\n",
       "    </tr>\n",
       "    <tr>\n",
       "      <th>578</th>\n",
       "      <td>579</td>\n",
       "      <td>All For Nothing</td>\n",
       "      <td>Kensington</td>\n",
       "      <td>dutch pop</td>\n",
       "      <td>2010-2019</td>\n",
       "      <td>2014</td>\n",
       "      <td>152</td>\n",
       "      <td>86</td>\n",
       "      <td>46</td>\n",
       "      <td>-6</td>\n",
       "      <td>10</td>\n",
       "      <td>37</td>\n",
       "      <td>289</td>\n",
       "      <td>0</td>\n",
       "      <td>7</td>\n",
       "      <td>47</td>\n",
       "    </tr>\n",
       "    <tr>\n",
       "      <th>581</th>\n",
       "      <td>582</td>\n",
       "      <td>Home</td>\n",
       "      <td>Dotan</td>\n",
       "      <td>dutch pop</td>\n",
       "      <td>2010-2019</td>\n",
       "      <td>2014</td>\n",
       "      <td>130</td>\n",
       "      <td>70</td>\n",
       "      <td>76</td>\n",
       "      <td>-9</td>\n",
       "      <td>4</td>\n",
       "      <td>30</td>\n",
       "      <td>268</td>\n",
       "      <td>7</td>\n",
       "      <td>4</td>\n",
       "      <td>42</td>\n",
       "    </tr>\n",
       "    <tr>\n",
       "      <th>597</th>\n",
       "      <td>598</td>\n",
       "      <td>Sexy Als Ik Dans</td>\n",
       "      <td>Nielson</td>\n",
       "      <td>dutch pop</td>\n",
       "      <td>2010-2019</td>\n",
       "      <td>2014</td>\n",
       "      <td>94</td>\n",
       "      <td>54</td>\n",
       "      <td>79</td>\n",
       "      <td>-7</td>\n",
       "      <td>20</td>\n",
       "      <td>89</td>\n",
       "      <td>215</td>\n",
       "      <td>9</td>\n",
       "      <td>5</td>\n",
       "      <td>49</td>\n",
       "    </tr>\n",
       "    <tr>\n",
       "      <th>598</th>\n",
       "      <td>599</td>\n",
       "      <td>Done With It</td>\n",
       "      <td>Kensington</td>\n",
       "      <td>dutch pop</td>\n",
       "      <td>2010-2019</td>\n",
       "      <td>2014</td>\n",
       "      <td>116</td>\n",
       "      <td>78</td>\n",
       "      <td>65</td>\n",
       "      <td>-7</td>\n",
       "      <td>10</td>\n",
       "      <td>63</td>\n",
       "      <td>203</td>\n",
       "      <td>13</td>\n",
       "      <td>4</td>\n",
       "      <td>49</td>\n",
       "    </tr>\n",
       "    <tr>\n",
       "      <th>608</th>\n",
       "      <td>609</td>\n",
       "      <td>Dat Ik Je Mis</td>\n",
       "      <td>Maaike Ouboter</td>\n",
       "      <td>dutch pop</td>\n",
       "      <td>2010-2019</td>\n",
       "      <td>2015</td>\n",
       "      <td>174</td>\n",
       "      <td>13</td>\n",
       "      <td>50</td>\n",
       "      <td>-13</td>\n",
       "      <td>10</td>\n",
       "      <td>28</td>\n",
       "      <td>256</td>\n",
       "      <td>88</td>\n",
       "      <td>6</td>\n",
       "      <td>29</td>\n",
       "    </tr>\n",
       "    <tr>\n",
       "      <th>610</th>\n",
       "      <td>611</td>\n",
       "      <td>Zeg Maar Niets Meer - Remastered</td>\n",
       "      <td>Andre Hazes</td>\n",
       "      <td>dutch pop</td>\n",
       "      <td>2010-2019</td>\n",
       "      <td>2015</td>\n",
       "      <td>95</td>\n",
       "      <td>79</td>\n",
       "      <td>36</td>\n",
       "      <td>-8</td>\n",
       "      <td>91</td>\n",
       "      <td>30</td>\n",
       "      <td>167</td>\n",
       "      <td>16</td>\n",
       "      <td>4</td>\n",
       "      <td>26</td>\n",
       "    </tr>\n",
       "    <tr>\n",
       "      <th>646</th>\n",
       "      <td>647</td>\n",
       "      <td>Sorry</td>\n",
       "      <td>Kensington</td>\n",
       "      <td>dutch pop</td>\n",
       "      <td>2010-2019</td>\n",
       "      <td>2016</td>\n",
       "      <td>134</td>\n",
       "      <td>41</td>\n",
       "      <td>46</td>\n",
       "      <td>-8</td>\n",
       "      <td>10</td>\n",
       "      <td>9</td>\n",
       "      <td>227</td>\n",
       "      <td>50</td>\n",
       "      <td>3</td>\n",
       "      <td>63</td>\n",
       "    </tr>\n",
       "    <tr>\n",
       "      <th>649</th>\n",
       "      <td>650</td>\n",
       "      <td>Leef</td>\n",
       "      <td>André Hazes Jr.</td>\n",
       "      <td>dutch pop</td>\n",
       "      <td>2010-2019</td>\n",
       "      <td>2016</td>\n",
       "      <td>121</td>\n",
       "      <td>73</td>\n",
       "      <td>67</td>\n",
       "      <td>-7</td>\n",
       "      <td>18</td>\n",
       "      <td>78</td>\n",
       "      <td>218</td>\n",
       "      <td>28</td>\n",
       "      <td>4</td>\n",
       "      <td>62</td>\n",
       "    </tr>\n",
       "    <tr>\n",
       "      <th>654</th>\n",
       "      <td>655</td>\n",
       "      <td>Do I Ever</td>\n",
       "      <td>Kensington</td>\n",
       "      <td>dutch pop</td>\n",
       "      <td>2010-2019</td>\n",
       "      <td>2016</td>\n",
       "      <td>163</td>\n",
       "      <td>79</td>\n",
       "      <td>39</td>\n",
       "      <td>-6</td>\n",
       "      <td>40</td>\n",
       "      <td>34</td>\n",
       "      <td>204</td>\n",
       "      <td>0</td>\n",
       "      <td>5</td>\n",
       "      <td>53</td>\n",
       "    </tr>\n",
       "    <tr>\n",
       "      <th>661</th>\n",
       "      <td>662</td>\n",
       "      <td>Bridges</td>\n",
       "      <td>Kensington</td>\n",
       "      <td>dutch pop</td>\n",
       "      <td>2010-2019</td>\n",
       "      <td>2016</td>\n",
       "      <td>150</td>\n",
       "      <td>83</td>\n",
       "      <td>38</td>\n",
       "      <td>-7</td>\n",
       "      <td>7</td>\n",
       "      <td>45</td>\n",
       "      <td>220</td>\n",
       "      <td>0</td>\n",
       "      <td>6</td>\n",
       "      <td>49</td>\n",
       "    </tr>\n",
       "    <tr>\n",
       "      <th>681</th>\n",
       "      <td>682</td>\n",
       "      <td>Zoutelande - feat. Geike</td>\n",
       "      <td>BLØF</td>\n",
       "      <td>dutch pop</td>\n",
       "      <td>2010-2019</td>\n",
       "      <td>2017</td>\n",
       "      <td>129</td>\n",
       "      <td>64</td>\n",
       "      <td>67</td>\n",
       "      <td>-7</td>\n",
       "      <td>14</td>\n",
       "      <td>89</td>\n",
       "      <td>223</td>\n",
       "      <td>22</td>\n",
       "      <td>3</td>\n",
       "      <td>41</td>\n",
       "    </tr>\n",
       "    <tr>\n",
       "      <th>727</th>\n",
       "      <td>728</td>\n",
       "      <td>Kleine Jongen</td>\n",
       "      <td>Andre Hazes</td>\n",
       "      <td>dutch pop</td>\n",
       "      <td>2010-2019</td>\n",
       "      <td>2018</td>\n",
       "      <td>91</td>\n",
       "      <td>70</td>\n",
       "      <td>54</td>\n",
       "      <td>-6</td>\n",
       "      <td>10</td>\n",
       "      <td>56</td>\n",
       "      <td>221</td>\n",
       "      <td>5</td>\n",
       "      <td>3</td>\n",
       "      <td>30</td>\n",
       "    </tr>\n",
       "    <tr>\n",
       "      <th>728</th>\n",
       "      <td>729</td>\n",
       "      <td>Duurt Te Lang</td>\n",
       "      <td>Davina Michelle</td>\n",
       "      <td>dutch pop</td>\n",
       "      <td>2010-2019</td>\n",
       "      <td>2018</td>\n",
       "      <td>174</td>\n",
       "      <td>44</td>\n",
       "      <td>64</td>\n",
       "      <td>-14</td>\n",
       "      <td>9</td>\n",
       "      <td>15</td>\n",
       "      <td>154</td>\n",
       "      <td>13</td>\n",
       "      <td>20</td>\n",
       "      <td>68</td>\n",
       "    </tr>\n",
       "    <tr>\n",
       "      <th>734</th>\n",
       "      <td>735</td>\n",
       "      <td>Zij Gelooft In Mij</td>\n",
       "      <td>Andre Hazes</td>\n",
       "      <td>dutch pop</td>\n",
       "      <td>2010-2019</td>\n",
       "      <td>2018</td>\n",
       "      <td>152</td>\n",
       "      <td>60</td>\n",
       "      <td>32</td>\n",
       "      <td>-6</td>\n",
       "      <td>25</td>\n",
       "      <td>18</td>\n",
       "      <td>240</td>\n",
       "      <td>11</td>\n",
       "      <td>3</td>\n",
       "      <td>30</td>\n",
       "    </tr>\n",
       "    <tr>\n",
       "      <th>736</th>\n",
       "      <td>737</td>\n",
       "      <td>Als Het Avond Is</td>\n",
       "      <td>Suzan &amp; Freek</td>\n",
       "      <td>dutch pop</td>\n",
       "      <td>2010-2019</td>\n",
       "      <td>2018</td>\n",
       "      <td>105</td>\n",
       "      <td>47</td>\n",
       "      <td>72</td>\n",
       "      <td>-7</td>\n",
       "      <td>11</td>\n",
       "      <td>45</td>\n",
       "      <td>206</td>\n",
       "      <td>53</td>\n",
       "      <td>3</td>\n",
       "      <td>65</td>\n",
       "    </tr>\n",
       "    <tr>\n",
       "      <th>737</th>\n",
       "      <td>738</td>\n",
       "      <td>De Vlieger</td>\n",
       "      <td>Andre Hazes</td>\n",
       "      <td>dutch pop</td>\n",
       "      <td>2010-2019</td>\n",
       "      <td>2018</td>\n",
       "      <td>105</td>\n",
       "      <td>66</td>\n",
       "      <td>40</td>\n",
       "      <td>-7</td>\n",
       "      <td>23</td>\n",
       "      <td>39</td>\n",
       "      <td>217</td>\n",
       "      <td>3</td>\n",
       "      <td>3</td>\n",
       "      <td>27</td>\n",
       "    </tr>\n",
       "    <tr>\n",
       "      <th>738</th>\n",
       "      <td>739</td>\n",
       "      <td>Geef Mij Je Angst</td>\n",
       "      <td>Andre Hazes</td>\n",
       "      <td>dutch pop</td>\n",
       "      <td>2010-2019</td>\n",
       "      <td>2018</td>\n",
       "      <td>140</td>\n",
       "      <td>57</td>\n",
       "      <td>34</td>\n",
       "      <td>-7</td>\n",
       "      <td>42</td>\n",
       "      <td>37</td>\n",
       "      <td>257</td>\n",
       "      <td>6</td>\n",
       "      <td>3</td>\n",
       "      <td>30</td>\n",
       "    </tr>\n",
       "    <tr>\n",
       "      <th>740</th>\n",
       "      <td>741</td>\n",
       "      <td>IJskoud</td>\n",
       "      <td>Nielson</td>\n",
       "      <td>dutch pop</td>\n",
       "      <td>2010-2019</td>\n",
       "      <td>2018</td>\n",
       "      <td>98</td>\n",
       "      <td>73</td>\n",
       "      <td>67</td>\n",
       "      <td>-7</td>\n",
       "      <td>37</td>\n",
       "      <td>15</td>\n",
       "      <td>210</td>\n",
       "      <td>4</td>\n",
       "      <td>5</td>\n",
       "      <td>65</td>\n",
       "    </tr>\n",
       "    <tr>\n",
       "      <th>750</th>\n",
       "      <td>751</td>\n",
       "      <td>Een Beetje Verliefd</td>\n",
       "      <td>Andre Hazes</td>\n",
       "      <td>dutch pop</td>\n",
       "      <td>2010-2019</td>\n",
       "      <td>2018</td>\n",
       "      <td>198</td>\n",
       "      <td>61</td>\n",
       "      <td>30</td>\n",
       "      <td>-7</td>\n",
       "      <td>15</td>\n",
       "      <td>33</td>\n",
       "      <td>251</td>\n",
       "      <td>6</td>\n",
       "      <td>3</td>\n",
       "      <td>32</td>\n",
       "    </tr>\n",
       "    <tr>\n",
       "      <th>752</th>\n",
       "      <td>753</td>\n",
       "      <td>Banger Hart - Radio Mix</td>\n",
       "      <td>Rob De Nijs</td>\n",
       "      <td>dutch pop</td>\n",
       "      <td>2010-2019</td>\n",
       "      <td>2018</td>\n",
       "      <td>124</td>\n",
       "      <td>89</td>\n",
       "      <td>77</td>\n",
       "      <td>-9</td>\n",
       "      <td>6</td>\n",
       "      <td>97</td>\n",
       "      <td>261</td>\n",
       "      <td>7</td>\n",
       "      <td>4</td>\n",
       "      <td>16</td>\n",
       "    </tr>\n",
       "    <tr>\n",
       "      <th>753</th>\n",
       "      <td>754</td>\n",
       "      <td>Malle Babbe</td>\n",
       "      <td>Rob De Nijs</td>\n",
       "      <td>dutch pop</td>\n",
       "      <td>2010-2019</td>\n",
       "      <td>2018</td>\n",
       "      <td>87</td>\n",
       "      <td>38</td>\n",
       "      <td>35</td>\n",
       "      <td>-10</td>\n",
       "      <td>12</td>\n",
       "      <td>53</td>\n",
       "      <td>253</td>\n",
       "      <td>73</td>\n",
       "      <td>4</td>\n",
       "      <td>15</td>\n",
       "    </tr>\n",
       "    <tr>\n",
       "      <th>757</th>\n",
       "      <td>758</td>\n",
       "      <td>Het Is Koud Zonder Jou</td>\n",
       "      <td>Andre Hazes</td>\n",
       "      <td>dutch pop</td>\n",
       "      <td>2010-2019</td>\n",
       "      <td>2018</td>\n",
       "      <td>197</td>\n",
       "      <td>64</td>\n",
       "      <td>18</td>\n",
       "      <td>-7</td>\n",
       "      <td>12</td>\n",
       "      <td>52</td>\n",
       "      <td>241</td>\n",
       "      <td>11</td>\n",
       "      <td>4</td>\n",
       "      <td>30</td>\n",
       "    </tr>\n",
       "    <tr>\n",
       "      <th>758</th>\n",
       "      <td>759</td>\n",
       "      <td>N Vriend</td>\n",
       "      <td>Andre Hazes</td>\n",
       "      <td>dutch pop</td>\n",
       "      <td>2010-2019</td>\n",
       "      <td>2018</td>\n",
       "      <td>68</td>\n",
       "      <td>58</td>\n",
       "      <td>23</td>\n",
       "      <td>-7</td>\n",
       "      <td>9</td>\n",
       "      <td>49</td>\n",
       "      <td>292</td>\n",
       "      <td>8</td>\n",
       "      <td>3</td>\n",
       "      <td>31</td>\n",
       "    </tr>\n",
       "    <tr>\n",
       "      <th>770</th>\n",
       "      <td>771</td>\n",
       "      <td>Het Laatste Rondje - Remastered</td>\n",
       "      <td>Andre Hazes</td>\n",
       "      <td>dutch pop</td>\n",
       "      <td>2010-2019</td>\n",
       "      <td>2018</td>\n",
       "      <td>103</td>\n",
       "      <td>76</td>\n",
       "      <td>53</td>\n",
       "      <td>-7</td>\n",
       "      <td>14</td>\n",
       "      <td>84</td>\n",
       "      <td>258</td>\n",
       "      <td>6</td>\n",
       "      <td>4</td>\n",
       "      <td>33</td>\n",
       "    </tr>\n",
       "    <tr>\n",
       "      <th>773</th>\n",
       "      <td>774</td>\n",
       "      <td>Hou Vol Hou Vast</td>\n",
       "      <td>BLØF</td>\n",
       "      <td>dutch pop</td>\n",
       "      <td>2010-2019</td>\n",
       "      <td>2018</td>\n",
       "      <td>86</td>\n",
       "      <td>61</td>\n",
       "      <td>51</td>\n",
       "      <td>-5</td>\n",
       "      <td>8</td>\n",
       "      <td>23</td>\n",
       "      <td>295</td>\n",
       "      <td>0</td>\n",
       "      <td>2</td>\n",
       "      <td>12</td>\n",
       "    </tr>\n",
       "    <tr>\n",
       "      <th>779</th>\n",
       "      <td>780</td>\n",
       "      <td>Arcade</td>\n",
       "      <td>Duncan Laurence</td>\n",
       "      <td>dutch pop</td>\n",
       "      <td>2010-2019</td>\n",
       "      <td>2019</td>\n",
       "      <td>72</td>\n",
       "      <td>33</td>\n",
       "      <td>45</td>\n",
       "      <td>-13</td>\n",
       "      <td>14</td>\n",
       "      <td>27</td>\n",
       "      <td>184</td>\n",
       "      <td>82</td>\n",
       "      <td>4</td>\n",
       "      <td>73</td>\n",
       "    </tr>\n",
       "    <tr>\n",
       "      <th>792</th>\n",
       "      <td>793</td>\n",
       "      <td>Phantom Of The Opera</td>\n",
       "      <td>Floor Jansen</td>\n",
       "      <td>dutch pop</td>\n",
       "      <td>2010-2019</td>\n",
       "      <td>2019</td>\n",
       "      <td>132</td>\n",
       "      <td>87</td>\n",
       "      <td>47</td>\n",
       "      <td>-6</td>\n",
       "      <td>25</td>\n",
       "      <td>27</td>\n",
       "      <td>244</td>\n",
       "      <td>0</td>\n",
       "      <td>5</td>\n",
       "      <td>56</td>\n",
       "    </tr>\n",
       "    <tr>\n",
       "      <th>794</th>\n",
       "      <td>795</td>\n",
       "      <td>Blauwe Dag</td>\n",
       "      <td>Suzan &amp; Freek</td>\n",
       "      <td>dutch pop</td>\n",
       "      <td>2010-2019</td>\n",
       "      <td>2019</td>\n",
       "      <td>98</td>\n",
       "      <td>56</td>\n",
       "      <td>70</td>\n",
       "      <td>-7</td>\n",
       "      <td>28</td>\n",
       "      <td>51</td>\n",
       "      <td>183</td>\n",
       "      <td>25</td>\n",
       "      <td>5</td>\n",
       "      <td>68</td>\n",
       "    </tr>\n",
       "    <tr>\n",
       "      <th>796</th>\n",
       "      <td>797</td>\n",
       "      <td>Uncharted</td>\n",
       "      <td>Kensington</td>\n",
       "      <td>dutch pop</td>\n",
       "      <td>2010-2019</td>\n",
       "      <td>2019</td>\n",
       "      <td>139</td>\n",
       "      <td>53</td>\n",
       "      <td>59</td>\n",
       "      <td>-7</td>\n",
       "      <td>29</td>\n",
       "      <td>23</td>\n",
       "      <td>241</td>\n",
       "      <td>14</td>\n",
       "      <td>3</td>\n",
       "      <td>65</td>\n",
       "    </tr>\n",
       "  </tbody>\n",
       "</table>\n",
       "</div>"
      ],
      "text/plain": [
       "     index                             title           artist  top_genre  \\\n",
       "472    473                   Damn Those Eyes             Kane  dutch pop   \n",
       "480    481                           Zo Stil             BLØF  dutch pop   \n",
       "489    490                        Home Again       Kensington  dutch pop   \n",
       "492    493                         Droomland      Andre Hazes  dutch pop   \n",
       "493    494                  Wat Zou Je Doen?             BLØF  dutch pop   \n",
       "509    510                          Zaterdag             BLØF  dutch pop   \n",
       "513    514           Later Als Ik Groter Ben             BLØF  dutch pop   \n",
       "544    545                       Watermensen              3JS  dutch pop   \n",
       "564    565                           Streets       Kensington  dutch pop   \n",
       "570    571                               War       Kensington  dutch pop   \n",
       "574    575                           Riddles       Kensington  dutch pop   \n",
       "578    579                   All For Nothing       Kensington  dutch pop   \n",
       "581    582                              Home            Dotan  dutch pop   \n",
       "597    598                  Sexy Als Ik Dans          Nielson  dutch pop   \n",
       "598    599                      Done With It       Kensington  dutch pop   \n",
       "608    609                     Dat Ik Je Mis   Maaike Ouboter  dutch pop   \n",
       "610    611  Zeg Maar Niets Meer - Remastered      Andre Hazes  dutch pop   \n",
       "646    647                             Sorry       Kensington  dutch pop   \n",
       "649    650                              Leef  André Hazes Jr.  dutch pop   \n",
       "654    655                         Do I Ever       Kensington  dutch pop   \n",
       "661    662                           Bridges       Kensington  dutch pop   \n",
       "681    682          Zoutelande - feat. Geike             BLØF  dutch pop   \n",
       "727    728                     Kleine Jongen      Andre Hazes  dutch pop   \n",
       "728    729                     Duurt Te Lang  Davina Michelle  dutch pop   \n",
       "734    735                Zij Gelooft In Mij      Andre Hazes  dutch pop   \n",
       "736    737                  Als Het Avond Is    Suzan & Freek  dutch pop   \n",
       "737    738                        De Vlieger      Andre Hazes  dutch pop   \n",
       "738    739                 Geef Mij Je Angst      Andre Hazes  dutch pop   \n",
       "740    741                           IJskoud          Nielson  dutch pop   \n",
       "750    751               Een Beetje Verliefd      Andre Hazes  dutch pop   \n",
       "752    753           Banger Hart - Radio Mix      Rob De Nijs  dutch pop   \n",
       "753    754                       Malle Babbe      Rob De Nijs  dutch pop   \n",
       "757    758            Het Is Koud Zonder Jou      Andre Hazes  dutch pop   \n",
       "758    759                          N Vriend      Andre Hazes  dutch pop   \n",
       "770    771   Het Laatste Rondje - Remastered      Andre Hazes  dutch pop   \n",
       "773    774                  Hou Vol Hou Vast             BLØF  dutch pop   \n",
       "779    780                            Arcade  Duncan Laurence  dutch pop   \n",
       "792    793              Phantom Of The Opera     Floor Jansen  dutch pop   \n",
       "794    795                        Blauwe Dag    Suzan & Freek  dutch pop   \n",
       "796    797                         Uncharted       Kensington  dutch pop   \n",
       "\n",
       "        period  year  bpm  energy  danceability  loudness  liveness  valence  \\\n",
       "472  2010-2019  2011  172      76            34        -7        35       33   \n",
       "480  2010-2019  2012  170      69            57        -7        11       78   \n",
       "489  2010-2019  2012  142      75            50        -6        35       30   \n",
       "492  2010-2019  2012  100      47            32        -7        95       25   \n",
       "493  2010-2019  2012  184      51            35        -8        71       22   \n",
       "509  2010-2019  2012  141      71            75       -10        10       90   \n",
       "513  2010-2019  2012  130      73            53        -5         8       57   \n",
       "544  2010-2019  2013  144      40            56        -8        11       46   \n",
       "564  2010-2019  2014  168      77            38        -6        27       42   \n",
       "570  2010-2019  2014  126      81            64        -6         7       72   \n",
       "574  2010-2019  2014  148      70            49        -8         8       62   \n",
       "578  2010-2019  2014  152      86            46        -6        10       37   \n",
       "581  2010-2019  2014  130      70            76        -9         4       30   \n",
       "597  2010-2019  2014   94      54            79        -7        20       89   \n",
       "598  2010-2019  2014  116      78            65        -7        10       63   \n",
       "608  2010-2019  2015  174      13            50       -13        10       28   \n",
       "610  2010-2019  2015   95      79            36        -8        91       30   \n",
       "646  2010-2019  2016  134      41            46        -8        10        9   \n",
       "649  2010-2019  2016  121      73            67        -7        18       78   \n",
       "654  2010-2019  2016  163      79            39        -6        40       34   \n",
       "661  2010-2019  2016  150      83            38        -7         7       45   \n",
       "681  2010-2019  2017  129      64            67        -7        14       89   \n",
       "727  2010-2019  2018   91      70            54        -6        10       56   \n",
       "728  2010-2019  2018  174      44            64       -14         9       15   \n",
       "734  2010-2019  2018  152      60            32        -6        25       18   \n",
       "736  2010-2019  2018  105      47            72        -7        11       45   \n",
       "737  2010-2019  2018  105      66            40        -7        23       39   \n",
       "738  2010-2019  2018  140      57            34        -7        42       37   \n",
       "740  2010-2019  2018   98      73            67        -7        37       15   \n",
       "750  2010-2019  2018  198      61            30        -7        15       33   \n",
       "752  2010-2019  2018  124      89            77        -9         6       97   \n",
       "753  2010-2019  2018   87      38            35       -10        12       53   \n",
       "757  2010-2019  2018  197      64            18        -7        12       52   \n",
       "758  2010-2019  2018   68      58            23        -7         9       49   \n",
       "770  2010-2019  2018  103      76            53        -7        14       84   \n",
       "773  2010-2019  2018   86      61            51        -5         8       23   \n",
       "779  2010-2019  2019   72      33            45       -13        14       27   \n",
       "792  2010-2019  2019  132      87            47        -6        25       27   \n",
       "794  2010-2019  2019   98      56            70        -7        28       51   \n",
       "796  2010-2019  2019  139      53            59        -7        29       23   \n",
       "\n",
       "     length  acousticness  speechiness  popularity  \n",
       "472     251             0            4          39  \n",
       "480     237             4            3          54  \n",
       "489     197             1            4          44  \n",
       "492     208            26            3          42  \n",
       "493     291            40            3          51  \n",
       "509     283             9            3          41  \n",
       "513     205             0            3          48  \n",
       "544     209            66            3          36  \n",
       "564     185             0            4          57  \n",
       "570     177             8            3          59  \n",
       "574     209             4            4          52  \n",
       "578     289             0            7          47  \n",
       "581     268             7            4          42  \n",
       "597     215             9            5          49  \n",
       "598     203            13            4          49  \n",
       "608     256            88            6          29  \n",
       "610     167            16            4          26  \n",
       "646     227            50            3          63  \n",
       "649     218            28            4          62  \n",
       "654     204             0            5          53  \n",
       "661     220             0            6          49  \n",
       "681     223            22            3          41  \n",
       "727     221             5            3          30  \n",
       "728     154            13           20          68  \n",
       "734     240            11            3          30  \n",
       "736     206            53            3          65  \n",
       "737     217             3            3          27  \n",
       "738     257             6            3          30  \n",
       "740     210             4            5          65  \n",
       "750     251             6            3          32  \n",
       "752     261             7            4          16  \n",
       "753     253            73            4          15  \n",
       "757     241            11            4          30  \n",
       "758     292             8            3          31  \n",
       "770     258             6            4          33  \n",
       "773     295             0            2          12  \n",
       "779     184            82            4          73  \n",
       "792     244             0            5          56  \n",
       "794     183            25            5          68  \n",
       "796     241            14            3          65  "
      ]
     },
     "execution_count": 97,
     "metadata": {},
     "output_type": "execute_result"
    }
   ],
   "source": [
    "df.query(\"top_genre == 'dutch pop' & period == '2010-2019'\")"
   ]
  },
  {
   "cell_type": "markdown",
   "id": "03eea479",
   "metadata": {},
   "source": [
    "## Analysis of Results and Conclusion"
   ]
  },
  {
   "cell_type": "markdown",
   "id": "52e14fb1",
   "metadata": {},
   "source": [
    "Based on our statistical inference and  clustering analysis, we've been able to somewhat conclude which genres are similar based on some of the different sound features used by Spotify, such as `energy`, `danceability`, `acousticness`, `valence`, and `speechiness`. We've found that it was quite difficult to define and highlight a relationship of similarity between two or multiple genres due to the variety of songs each of them cover. However, we believe that we've found sufficient evidence to prove that certain genres can be grouped together based on these sound attributes. `Cluster 0` was heavily dominated by `rock` and `metal` genres, as well as genres that tend to have high `energy` and low `acousticness`. This included `album rock` and `alternative metal`. On the other hand, slower and more emotional songs were most prominent in `Cluster 1`, taking over 40% of songs from the genre, `adult standards`. It's also home to a large chunk of genres `dutch indie` and `dutch pop`. `Cluster 2` can be described to be more \"Musical-ish\", with very upbeat and acoustic tones that make it very easy to dance to. You can also find a huge portion of `dutch cabaret` and `british invasion` in here. In `Cluster 3`, you can expect to find more electronic, upbeat, and danceable genres such as `dance pop` , `album rock` and `dance rock`. Lastly, in `Cluster 4` is where you can find genres with songs that tend be slower and moodier in nature, such as `dutch pop` and `adult standards`.\n",
    "\n",
    "Throughout the analysis and process, we've realized that songs under a single genre can be quite varying in terms of sound features, at least a lot more than we initially expected, which definitely affected the results and steps taken to achieve them. (???? not sure if we should add this)"
   ]
  }
 ],
 "metadata": {
  "kernelspec": {
   "display_name": "Python 3 (ipykernel)",
   "language": "python",
   "name": "python3"
  },
  "language_info": {
   "codemirror_mode": {
    "name": "ipython",
    "version": 3
   },
   "file_extension": ".py",
   "mimetype": "text/x-python",
   "name": "python",
   "nbconvert_exporter": "python",
   "pygments_lexer": "ipython3",
   "version": "3.9.12"
  }
 },
 "nbformat": 4,
 "nbformat_minor": 5
}
