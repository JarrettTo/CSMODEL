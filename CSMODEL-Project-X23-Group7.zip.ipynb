{
 "cells": [
  {
   "cell_type": "markdown",
   "id": "4a754d0e",
   "metadata": {
    "id": "lq-jDrkmr4fM"
   },
   "source": [
    "# Spotify - All Time Top 2000s Mega Dataset\n",
    "by: Bondoc, Alyana; Dalisay, Andres; To, Justin\n",
    "\n",
    "We will be using the dataset [Spotify - All Time Top 2000s Mega Dataset](https://www.kaggle.com/datasets/iamsumat/spotify-top-2000s-mega-dataset) for this project. "
   ]
  },
  {
   "cell_type": "markdown",
   "id": "d0635d2e",
   "metadata": {
    "id": "odsSi-Igr4fU"
   },
   "source": [
    "## Import Libraries"
   ]
  },
  {
   "cell_type": "code",
   "execution_count": null,
   "id": "06c94b47",
   "metadata": {},
   "outputs": [],
   "source": [
    "import numpy as np\n",
    "import pandas as pd\n",
    "import matplotlib.pyplot as plt\n",
    "import scipy.stats as stats\n",
    "from scipy.stats import norm\n",
    "\n",
    "%load_ext autoreload\n",
    "%autoreload 2"
   ]
  },
  {
   "cell_type": "markdown",
   "id": "09973cbb",
   "metadata": {
    "id": "wAP6wrLfr4fV"
   },
   "source": [
    "## The Dataset\n",
    "\n",
    "The dataset consists of a list of the top tracks to have come out between 1956 and 2019 that are available on Spotify. It contains information about the track and how it scales across multiple sound features. The dataset was extracted from the playlist, “Top 2000s”, on Spotify. The data was then passed to PlaylistMachinery(@plamere), which was then able to retrieve attributes per song in the playlist. Sumat Singh then scraped the data from the site using Python with Selenium to form the dataset that the group will be using for the analysis.\n",
    "\n",
    "The dataset contains 15 different columns that represent an attribute as well as 1995 different rows wherein 1994 of them represent an observation with 1 representing the column names, thus giving it a shape of (1995,15).\n",
    "\n",
    "The column/variables consist of: \n",
    "\n",
    "- **`Title`**: Title of the track.\n",
    "- **`Artist`**: Artist/group who made the track.\n",
    "- **`Top Genre`**: Genre of the track.\n",
    "- **`Year`**: Year the track was released.\n",
    "- **`Length`**: Duration of the track in seconds.\n",
    "- **`Beats Per Minute`**: Average count of beats per 1 minute interval of the track.\n",
    "- **`Energy`**: Scale measuring how energetic and upbeat the track is. The higher the value, the more energetic.\n",
    "- **`Danceability`**: Scale measuring how usable the track is for dancing. The higher the value, the more danceable.\n",
    "- **`Loudness`**: Scale measuring how loud the track is, measured in decibels. The higher the value, the louder.\n",
    "- **`Valence`**: Scale measuring the mood of the song, whether it be positive or negative. The higher the value, the more positive.\n",
    "- **`Accoustic`**: Scale measuring how acoustic the track is. The higher the value, the more acoustic.\n",
    "- **`Speechiness`**: Scale measuring the track’s word count. The higher the value, the more words were used.\n",
    "- **`Liveliness`**: Scale measuring the likeliness that it is a live recording. The higher the value, the more likely it is that the track was recorded live.\n",
    "- **`Popularity`**: Scale measuring how popular the song is. The higher the value, the more popular the song is as of 2019.\n",
    "\n",
    "All of this data was taken by PlaylistMachinery from the Spotify API. More detailed descriptions of the audio features can be seen in [Spotify's Web API Documentation.](https://developer.spotify.com/documentation/web-api/reference/#/operations/get-audio-features)\n",
    "\n",
    "The dataset was provided as a `.csv` file."
   ]
  },
  {
   "cell_type": "code",
   "execution_count": null,
   "id": "932245e3",
   "metadata": {},
   "outputs": [],
   "source": [
    "df = pd.read_csv(\"Spotify-2000.csv\")\n",
    "df"
   ]
  },
  {
   "cell_type": "code",
   "execution_count": null,
   "id": "0c893338",
   "metadata": {},
   "outputs": [],
   "source": [
    "df.describe()"
   ]
  },
  {
   "cell_type": "markdown",
   "id": "0d4c2243",
   "metadata": {},
   "source": [
    "Let's check the data types of the variables."
   ]
  },
  {
   "cell_type": "code",
   "execution_count": null,
   "id": "812c2bc9",
   "metadata": {},
   "outputs": [],
   "source": [
    "print(df.dtypes);"
   ]
  },
  {
   "cell_type": "markdown",
   "id": "76d1f713",
   "metadata": {},
   "source": [
    "## Cleaning the Dataset\n",
    "\n",
    "Before we can start exploring our dataset, we had to first preprocess the data by cleaning and formatting it into a more usable and ideal form."
   ]
  },
  {
   "cell_type": "markdown",
   "id": "2ed40e07",
   "metadata": {},
   "source": [
    "First, we want to convert each column name into snake_case format so that it'll be much easier to refer to them in our code."
   ]
  },
  {
   "cell_type": "code",
   "execution_count": null,
   "id": "0d5b7455",
   "metadata": {},
   "outputs": [],
   "source": [
    "list(df.columns)"
   ]
  },
  {
   "cell_type": "code",
   "execution_count": null,
   "id": "e4167844",
   "metadata": {},
   "outputs": [],
   "source": [
    "df.rename(columns = {\n",
    "    'Index':'index',\n",
    "    'Title': 'title',\n",
    "    'Artist': 'artist',\n",
    "    'Top Genre': 'top_genre',\n",
    "    'Year': 'year',\n",
    "    'Beats Per Minute (BPM)': 'bpm',\n",
    "    'Energy': 'energy',\n",
    "    'Danceability': 'danceability',\n",
    "    'Loudness (dB)': 'loudness',\n",
    "    'Liveness': 'liveness',\n",
    "    'Valence': 'valence',\n",
    "    'Length (Duration)': 'length',\n",
    "    'Acousticness': 'acousticness',\n",
    "    'Speechiness': 'speechiness',\n",
    "    'Popularity': 'popularity'\n",
    "}, inplace=True)\n",
    "\n",
    "list(df.columns)"
   ]
  },
  {
   "cell_type": "markdown",
   "id": "fec0a765",
   "metadata": {},
   "source": [
    "Looking at the datatypes of each column, the `title`, `artist`, `top_genre`, and `length` columns all had the Object datatype, while the rest of the columns had proper datatypes as integers."
   ]
  },
  {
   "cell_type": "code",
   "execution_count": null,
   "id": "beb05c48",
   "metadata": {},
   "outputs": [],
   "source": [
    "print(df.dtypes);"
   ]
  },
  {
   "cell_type": "markdown",
   "id": "eb58692f",
   "metadata": {},
   "source": [
    "The former three mentioned were converted into Strings, while the `length` column had to be converted into integers. However, the `length` column had some values with 4 digits that were formatted with a comma as seen in the example below:\n",
    "\n",
    "$$ 1,412 $$\n",
    "\n",
    "The column couldn’t be converted into an integer datatype with the commas in its values, so the commas were removed before being converted into an integer."
   ]
  },
  {
   "cell_type": "code",
   "execution_count": null,
   "id": "4cdf112a",
   "metadata": {},
   "outputs": [],
   "source": [
    "df['title'] = df['title'].astype('string');\n",
    "df['artist'] = df['artist'].astype('string');\n",
    "df['top_genre'] = df['top_genre'].astype('string');\n",
    "\n",
    "# Some length values have commas in them, so remove the first before converting to int.\n",
    "df['length'] = df['length'].str.replace(',','');\n",
    "df['length'] = df['length'].astype(str).astype('int64');"
   ]
  },
  {
   "cell_type": "markdown",
   "id": "1212518c",
   "metadata": {},
   "source": [
    "To check that the proper datatypes were used, the datatypes were printed out."
   ]
  },
  {
   "cell_type": "code",
   "execution_count": null,
   "id": "84ae5ac1",
   "metadata": {},
   "outputs": [],
   "source": [
    "print(df.dtypes);"
   ]
  },
  {
   "cell_type": "markdown",
   "id": "8bd7cc4c",
   "metadata": {},
   "source": [
    "Next, we thought that specific years wouldn't be too useful in our analysis, so we decided to bin them into decades; that is, year ranges such as 1960-1969, 2000-2009, etc. The only bin that wouldn't be complete would be the 1950-1959 bin, since the earliest year recorded in the data was 1956. We decided to make it into a 1956-1959 bin instead of dropping all records with those years altogether because we thought the song attributes for those songs could still be useful."
   ]
  },
  {
   "cell_type": "code",
   "execution_count": null,
   "id": "181f2e31",
   "metadata": {},
   "outputs": [],
   "source": [
    "df['period'] = pd.cut(x = df['year'], bins = [1956, 1960, 1970, 1980, 1990, 2000, 2010, 2019], labels = ['1956-1959', '1960-1969', '1970-1979', '1980-1989', '1990-1999', '2000-2009','2010-2019'], include_lowest = True)\n",
    "df = df[['index', 'title', 'artist', 'top_genre', 'period', 'year', 'bpm', 'energy', 'danceability', 'loudness', 'liveness', 'valence', 'length', 'acousticness', 'speechiness', 'popularity']]\n",
    "df"
   ]
  },
  {
   "cell_type": "markdown",
   "id": "f9b4bdc6",
   "metadata": {},
   "source": [
    "# Exploratory Data Analysis"
   ]
  },
  {
   "cell_type": "markdown",
   "id": "eacdc7ca",
   "metadata": {},
   "source": [
    "## What is the average danceability of each genre?"
   ]
  },
  {
   "cell_type": "markdown",
   "id": "5b0821bf",
   "metadata": {},
   "source": [
    "To answer this question, the variables of interest are:\n",
    "- **`top_genre`**: Genre of the track.\n",
    "- **`danceability`**: Scale measuring how usable the track is for dancing. The higher the value, the more danceable."
   ]
  },
  {
   "cell_type": "markdown",
   "id": "514d756a",
   "metadata": {},
   "source": [
    "First, we make a sliced copy of the main DataFrame with only the `top_genre` and `danceability` columns."
   ]
  },
  {
   "cell_type": "code",
   "execution_count": null,
   "id": "0e2b74f3",
   "metadata": {},
   "outputs": [],
   "source": [
    "genre_dance = df[['top_genre', 'danceability']].copy()\n",
    "genre_dance"
   ]
  },
  {
   "cell_type": "markdown",
   "id": "ba41ff64",
   "metadata": {},
   "source": [
    "Let's take a look at the distribution of danceability values."
   ]
  },
  {
   "cell_type": "code",
   "execution_count": null,
   "id": "c60b6d56",
   "metadata": {},
   "outputs": [],
   "source": [
    "genre_dance.hist('danceability', edgecolor='w', figsize=(8,4))"
   ]
  },
  {
   "cell_type": "code",
   "execution_count": null,
   "id": "c814787b",
   "metadata": {},
   "outputs": [],
   "source": [
    "genre_dance['danceability'].skew()"
   ]
  },
  {
   "cell_type": "markdown",
   "id": "1b838b39",
   "metadata": {},
   "source": [
    "As we can see from the histogram and the skew value, the distribution is very close to normal. This means we can confidently use the mean to get the average for danceability across all the genres."
   ]
  },
  {
   "cell_type": "code",
   "execution_count": null,
   "id": "e8d46913",
   "metadata": {},
   "outputs": [],
   "source": [
    "genre_dance.agg({'danceability' : ['mean', 'median', 'std']})"
   ]
  },
  {
   "cell_type": "markdown",
   "id": "4838a636",
   "metadata": {},
   "source": [
    "The average danceability of all the songs in the dataset is a value of **53.24**."
   ]
  },
  {
   "cell_type": "markdown",
   "id": "75947af6",
   "metadata": {},
   "source": [
    "Next, let's group all the records by genre, and take some summary statistics from them"
   ]
  },
  {
   "cell_type": "code",
   "execution_count": null,
   "id": "1e02fad4",
   "metadata": {},
   "outputs": [],
   "source": [
    "genre_dance_summary = genre_dance.groupby('top_genre').agg({'danceability': ['skew', 'mean', 'median', 'std', 'count']})\n",
    "\n",
    "genre_dance_summary.sort_values(('danceability', 'mean'), ascending=False).head(10)"
   ]
  },
  {
   "cell_type": "markdown",
   "id": "c9b3abcb",
   "metadata": {},
   "source": [
    "As there are some genres in the dataset that are represented by one song only, they may not be a very good representation of other songs in that genre. So let's remove those first by using `.dropna()` to take out all the records with `NaN` values in the `std` and `skew` columns (They're `NaN` because they cannot compute without more than one value.)"
   ]
  },
  {
   "cell_type": "code",
   "execution_count": null,
   "id": "d09af892",
   "metadata": {},
   "outputs": [],
   "source": [
    "genre_dance_summary.sort_values(('danceability', 'mean'), ascending=False).dropna().head(10)"
   ]
  },
  {
   "cell_type": "markdown",
   "id": "8aec5c3b",
   "metadata": {},
   "source": [
    "Here, we can see the full list of song genres with more than one record. Note that the `skew` value was included in order to determine whether it would be more accurate to use the `mean` or `median` as the measure of central tendency."
   ]
  },
  {
   "cell_type": "markdown",
   "id": "486b2165",
   "metadata": {},
   "source": [
    "From the results, we can see that `reggae fusion` has the highest average `danceability` value. However, it is only represented by a count of 4 songs. \n",
    "\n",
    "The next largest `danceability` average with a genre represented by >=10 songs would be `disco`. Because of its `skew` value of **-0.52**, the `median` may be more accurate to look at, with a value of **69.0**.\n",
    "\n",
    "Now, let's take a look at the genre with the lowest average `danceability` value."
   ]
  },
  {
   "cell_type": "code",
   "execution_count": null,
   "id": "45643c1b",
   "metadata": {},
   "outputs": [],
   "source": [
    "genre_dance_summary.sort_values(('danceability', 'mean'), ascending=True).dropna().head(10)"
   ]
  },
  {
   "cell_type": "markdown",
   "id": "f82cb6b9",
   "metadata": {},
   "source": [
    "From the DataFrame above, we can see that `chanson`, a lyric-driven French song genre, has the lowest mean `danceability`, with a value of **35.00**."
   ]
  },
  {
   "cell_type": "markdown",
   "id": "786e3ab5",
   "metadata": {},
   "source": [
    "Let's take a look at the first 10 values sorted by `count` and see what the averages for the high-count genres are."
   ]
  },
  {
   "cell_type": "code",
   "execution_count": null,
   "id": "13c6e7c1",
   "metadata": {},
   "outputs": [],
   "source": [
    "genre_dance_summary.sort_values(('danceability', 'count'), ascending=False).dropna().head(10)"
   ]
  },
  {
   "cell_type": "markdown",
   "id": "ad457fff",
   "metadata": {},
   "source": [
    "As we can see, `album rock` with the highest song count has a mean of **51.41**. `dance pop`, rather appropriately, has a relatively high danceability median of **64.0**."
   ]
  },
  {
   "cell_type": "markdown",
   "id": "59d8e016",
   "metadata": {},
   "source": [
    "## Which Attributes and Sound Features are Correlated?"
   ]
  },
  {
   "cell_type": "markdown",
   "id": "351fbc41",
   "metadata": {},
   "source": [
    "To this, we first slice the dataframe and only incorporate the different sound features per top_genre and their mean. Afterwards, we apply panda's **.corr()** function to get the correlation value between them.\n"
   ]
  },
  {
   "cell_type": "code",
   "execution_count": null,
   "id": "8d84cf2f",
   "metadata": {},
   "outputs": [],
   "source": [
    "genre_attributes = df.copy()\n",
    "genre_attributes.drop(['index','period','artist','popularity','title','year'], axis=1, inplace=True)\n",
    "genre_attributes_summary = genre_attributes.groupby('top_genre').agg('mean')\n",
    "genre_attributes_summary.dropna()\n",
    "genre_attributes_summary.corr()"
   ]
  },
  {
   "cell_type": "markdown",
   "id": "762091d3",
   "metadata": {},
   "source": [
    "It has been found that there are a couple of sound features that have correlation between them, such as `energy` and `loudness` which have a positive correlation between them. Let's take a look at the scatterplot for these features."
   ]
  },
  {
   "cell_type": "code",
   "execution_count": null,
   "id": "0afd8978",
   "metadata": {},
   "outputs": [],
   "source": [
    "genre_attributes[['energy', 'loudness']].plot.scatter(x='energy', y='loudness', alpha=0.5)"
   ]
  },
  {
   "cell_type": "markdown",
   "id": "e02f1114",
   "metadata": {},
   "source": [
    "As you can see, there is a distinct upwards trend, denoting a positive correlation. This means that, usually, the louder the song is, the more energy it's perceived to have."
   ]
  },
  {
   "cell_type": "markdown",
   "id": "cc60fa60",
   "metadata": {},
   "source": [
    "Another one is `acousticness` and `energy` with a negative correlation. Let's see the scatterplot for these two."
   ]
  },
  {
   "cell_type": "code",
   "execution_count": null,
   "id": "948892c2",
   "metadata": {},
   "outputs": [],
   "source": [
    "genre_attributes[['acousticness', 'energy']].plot.scatter(x='acousticness', y='energy', alpha=0.5)"
   ]
  },
  {
   "cell_type": "markdown",
   "id": "0c763c86",
   "metadata": {},
   "source": [
    "Given this negative correlation, we can say that the perceived energy in a song tends to lower the more it uses more acoustic elements or instruments rather than more electronic elements."
   ]
  },
  {
   "cell_type": "markdown",
   "id": "175162de",
   "metadata": {},
   "source": [
    " `acousticness` and `loudness` also have a negative correlation between them. Let's see the scatterplot."
   ]
  },
  {
   "cell_type": "code",
   "execution_count": null,
   "id": "569da153",
   "metadata": {},
   "outputs": [],
   "source": [
    "genre_attributes[['acousticness', 'loudness']].plot.scatter(x='acousticness', y='loudness', alpha=0.5)"
   ]
  },
  {
   "cell_type": "markdown",
   "id": "094020e1",
   "metadata": {},
   "source": [
    "From this, similar to the relationship between `acousticness` and `loudness`, the more acoustic elements there are in a song, the more it tends to be louder. This could be because most acoustic instruments are usually limited in terms of how loud a sound they can produce."
   ]
  },
  {
   "cell_type": "markdown",
   "id": "119abe03",
   "metadata": {},
   "source": [
    "Lastly, there is a slightly positive correlation between `valence` and `danceability`."
   ]
  },
  {
   "cell_type": "code",
   "execution_count": null,
   "id": "ae3532b3",
   "metadata": {},
   "outputs": [],
   "source": [
    "genre_attributes[['valence', 'danceability']].plot.scatter(x='valence', y='danceability', alpha=0.5)"
   ]
  },
  {
   "cell_type": "markdown",
   "id": "4594619b",
   "metadata": {},
   "source": [
    "We can infer from this that danceable songs tend to be \"happier\" sounding."
   ]
  },
  {
   "cell_type": "markdown",
   "id": "935c3dde",
   "metadata": {},
   "source": [
    "## What are the energy level intervals of all the songs in the dataset?"
   ]
  },
  {
   "cell_type": "markdown",
   "id": "c56cba54",
   "metadata": {},
   "source": [
    "To answer this question, the variables of interest are:\n",
    "- **`energy`**: Scale measuring how energetic and upbeat the track is. The higher the value, the more energetic."
   ]
  },
  {
   "cell_type": "markdown",
   "id": "1703ef67",
   "metadata": {},
   "source": [
    "Since the sample population is independent and is at least 30, the group will find the confidence interval of the energy level of the songs in the dataset."
   ]
  },
  {
   "cell_type": "markdown",
   "id": "f0ae6475",
   "metadata": {},
   "source": [
    "First, let's take a look if the distribution of values in energy is normal."
   ]
  },
  {
   "cell_type": "code",
   "execution_count": null,
   "id": "4849c32f",
   "metadata": {},
   "outputs": [],
   "source": [
    "df['energy'].skew()"
   ]
  },
  {
   "cell_type": "markdown",
   "id": "c00ef53d",
   "metadata": {},
   "source": [
    "Since the value is negative but still close to zero, it can be said that the distribution is slightly negatively skewed. Let's validate this using a histogram."
   ]
  },
  {
   "cell_type": "code",
   "execution_count": null,
   "id": "e76f7c93",
   "metadata": {},
   "outputs": [],
   "source": [
    "df.hist('energy', edgecolor='w', figsize=(8,4))"
   ]
  },
  {
   "cell_type": "markdown",
   "id": "42af8d72",
   "metadata": {},
   "source": [
    "With this, it can be said that the sample is approximately symmetric.\n",
    "\n",
    "Now, let's take a look at energy's mean, meadian, and standard deviation to get the confidence interval."
   ]
  },
  {
   "cell_type": "code",
   "execution_count": null,
   "id": "b4bbd2ee",
   "metadata": {},
   "outputs": [],
   "source": [
    "energy_agg = df.agg({\"energy\": [\"mean\", \"median\", \"std\"]})\n",
    "\n",
    "sample_mean = energy_agg.loc[\"mean\"][0]\n",
    "sample_median = energy_agg.loc[\"median\"][0]\n",
    "sample_std = energy_agg.loc[\"std\"][0]\n",
    "\n",
    "energy_agg"
   ]
  },
  {
   "cell_type": "markdown",
   "id": "f85f8755",
   "metadata": {},
   "source": [
    "The mean, median, and standard deviation are: **59.68**, **61.00**, and **22.15**."
   ]
  },
  {
   "cell_type": "markdown",
   "id": "421bc217",
   "metadata": {},
   "source": [
    "## Confidence Interval\n",
    "\n",
    "A confidence interval for a population mean is of the following form:\n",
    "\n",
    "$$\\bar{x} \\pm z^* \\frac{s}{\\sqrt{n}}$$\n",
    "\n",
    "Where $z^*$, also known as the **critical value**, is the z-score that corresponds to the middle 95% of the data."
   ]
  },
  {
   "cell_type": "markdown",
   "id": "754a920a",
   "metadata": {},
   "source": [
    "The z-score of a 95% confidence is **1.96**. Let's validate the critical value of a 95% confidence interval using the formula below. "
   ]
  },
  {
   "cell_type": "code",
   "execution_count": null,
   "id": "4abec8e4",
   "metadata": {
    "scrolled": true
   },
   "outputs": [],
   "source": [
    "z_star_95 = norm.ppf(0.975)\n",
    "print('{:.2f}'.format(z_star_95))"
   ]
  },
  {
   "cell_type": "markdown",
   "id": "b18dfc34",
   "metadata": {},
   "source": [
    "## Margin of Error\n",
    "\n",
    "We can compute the **margin of error** using the formula\n",
    "\n",
    "$$z^* \\frac{s}{\\sqrt{n}}$$\n",
    "\n",
    "Compute and display the margin of error given a 95% confidence level."
   ]
  },
  {
   "cell_type": "code",
   "execution_count": null,
   "id": "acf0c850",
   "metadata": {
    "scrolled": true
   },
   "outputs": [],
   "source": [
    "n = df['index'].count()\n",
    "\n",
    "margin_of_error = z_star_95 * (sample_std / np.sqrt(n))\n",
    "print('Margin of Error: {:.2f}'.format(margin_of_error))"
   ]
  },
  {
   "cell_type": "markdown",
   "id": "536c2ad7",
   "metadata": {},
   "source": [
    "Now, let's compute for the 95% confidence interval of the dataset. The 95% confidence interval is the sample mean $\\pm$ the margin of error. "
   ]
  },
  {
   "cell_type": "code",
   "execution_count": null,
   "id": "ffae8db4",
   "metadata": {},
   "outputs": [],
   "source": [
    "minimum_value = sample_mean - margin_of_error\n",
    "maximum_value = sample_mean + margin_of_error\n",
    "print('({:.2f},'.format(minimum_value), '{:.2f})'.format(maximum_value))"
   ]
  },
  {
   "cell_type": "markdown",
   "id": "9074a39a",
   "metadata": {},
   "source": [
    "With this, even though we do not have the complete list of the popular songs of spotify, we are 95% confident that the true average energy level is between **58.71** to **60.65**."
   ]
  },
  {
   "cell_type": "markdown",
   "id": "2f2515d8",
   "metadata": {},
   "source": [
    "# Research Question"
   ]
  },
  {
   "cell_type": "markdown",
   "id": "9995cc40",
   "metadata": {},
   "source": [
    "Based on the results of our EDAs, we found that the `danceability` feature had varying averages across different genres, with some genres having similar averages. This leads us to question whether we could possibly find similar average values for other song features across genres, and find out how many features between certain genres are similar.\n",
    "\n",
    "We also found evidence that a couple of sound features had relationships between them. These correlations lead us to believe that these sound features could possibly be utilized to find relationships and similarities between the different genres as well.\n",
    "\n",
    "We also discovered that the the 95% confidence interval for all the songs across all genres in the dataset was between 58.71 and 60.65. To find out if certain genres are similar from another, it would be important to look at their confidence interval. If the intervals overlap, it can be said that the difference between them are not statistically significant.\n",
    "\n",
    "Given all of this information we've acquired about our dataset, we have decided on the research question, **\"Based on the attributes and features of songs, which music genres are similar (or dissimilar) to one another?\"**\n",
    "\n",
    "Music is arguably one of mankind's most significant innovations as it is able to transcend past the visual barriers and limitations by stimulating our imagination and emotions through sound. From Beethoven's Waldstein, to Tupac's All Eyez on Me, to Taylor Swift's Midnight Rain; each and every one of these songs from completely different genre's are able to tell different stories and provoke different emotions. With that said, given the amount of songs and genres available, it can be quite difficult to find the right songs given a certain taste in music. \n",
    "\n",
    "Being able to know which genres go well or are similar with others can definitely help the selection and filtration process. The group plans to answer this question with the use of cossine similarity and data mining techniques, such as clustering, using the given sound feature data per genre. The resulting data may also be used in recommender systems for music platforms, much like Spotify, to boost their efficiency by manipulating the algorithm into looking for suggestions from genres in the same or closest clusters first, instead of searching for recommendations randomly across the different genres."
   ]
  }
 ],
 "metadata": {
  "kernelspec": {
   "display_name": "Python 3 (ipykernel)",
   "language": "python",
   "name": "python3"
  },
  "language_info": {
   "codemirror_mode": {
    "name": "ipython",
    "version": 3
   },
   "file_extension": ".py",
   "mimetype": "text/x-python",
   "name": "python",
   "nbconvert_exporter": "python",
   "pygments_lexer": "ipython3",
   "version": "3.9.12"
  }
 },
 "nbformat": 4,
 "nbformat_minor": 5
}
