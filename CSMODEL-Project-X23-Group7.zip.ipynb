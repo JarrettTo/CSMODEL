{
 "cells": [
  {
   "cell_type": "markdown",
   "id": "4a754d0e",
   "metadata": {
    "id": "lq-jDrkmr4fM"
   },
   "source": [
    "# Spotify - All Time Top 2000s Mega Dataset\n",
    "by: Bondoc, Alyana; Dalisay, Andres; To, Justin\n",
    "\n",
    "We will be using the dataset [Spotify - All Time Top 2000s Mega Dataset](https://www.kaggle.com/datasets/iamsumat/spotify-top-2000s-mega-dataset) for this project. "
   ]
  },
  {
   "cell_type": "markdown",
   "id": "f72affc6",
   "metadata": {},
   "source": [
    "# Phase 1"
   ]
  },
  {
   "cell_type": "markdown",
   "id": "d0635d2e",
   "metadata": {
    "id": "odsSi-Igr4fU"
   },
   "source": [
    "## Import Libraries"
   ]
  },
  {
   "cell_type": "code",
   "execution_count": null,
   "id": "06c94b47",
   "metadata": {},
   "outputs": [],
   "source": [
    "import numpy as np\n",
    "import pandas as pd\n",
    "import matplotlib.pyplot as plt\n",
    "import scipy.stats as stats\n",
    "from scipy.stats import norm\n",
    "from scipy.stats import chi2_contingency\n",
    "from scipy.stats import f_oneway\n",
    "\n",
    "%load_ext autoreload\n",
    "%autoreload 2"
   ]
  },
  {
   "cell_type": "markdown",
   "id": "09973cbb",
   "metadata": {
    "id": "wAP6wrLfr4fV"
   },
   "source": [
    "## The Dataset\n",
    "\n",
    "The dataset consists of a list of the top tracks to have come out between 1956 and 2019 that are available on Spotify. It contains information about the track and how it scales across multiple sound features. The dataset was extracted from the playlist, “Top 2000s”, on Spotify. The data was then passed to PlaylistMachinery(@plamere), which was then able to retrieve attributes per song in the playlist. Sumat Singh then scraped the data from the site using Python with Selenium to form the dataset that the group will be using for the analysis.\n",
    "\n",
    "The dataset contains 15 different columns that represent an attribute as well as 1995 different rows wherein 1994 of them represent an observation with 1 representing the column names, thus giving it a shape of (1995,15).\n",
    "\n",
    "The column/variables consist of: \n",
    "\n",
    "- **`Title`**: Title of the track.\n",
    "- **`Artist`**: Artist/group who made the track.\n",
    "- **`Top Genre`**: Genre of the track.\n",
    "- **`Year`**: Year the track was released.\n",
    "- **`Length`**: Duration of the track in seconds.\n",
    "- **`Beats Per Minute`**: Average count of beats per 1 minute interval of the track.\n",
    "- **`Energy`**: Scale measuring how energetic and upbeat the track is. The higher the value, the more energetic.\n",
    "- **`Danceability`**: Scale measuring how usable the track is for dancing. The higher the value, the more danceable.\n",
    "- **`Loudness`**: Scale measuring how loud the track is, measured in decibels. The higher the value, the louder.\n",
    "- **`Valence`**: Scale measuring the mood of the song, whether it be positive or negative. The higher the value, the more positive.\n",
    "- **`Accoustic`**: Scale measuring how acoustic the track is. The higher the value, the more acoustic.\n",
    "- **`Speechiness`**: Scale measuring the track’s word count. The higher the value, the more words were used.\n",
    "- **`Liveliness`**: Scale measuring the likeliness that it is a live recording. The higher the value, the more likely it is that the track was recorded live.\n",
    "- **`Popularity`**: Scale measuring how popular the song is. The higher the value, the more popular the song is as of 2019.\n",
    "\n",
    "All of this data was taken by PlaylistMachinery from the Spotify API. More detailed descriptions of the audio features can be seen in [Spotify's Web API Documentation.](https://developer.spotify.com/documentation/web-api/reference/#/operations/get-audio-features)\n",
    "\n",
    "The dataset was provided as a `.csv` file."
   ]
  },
  {
   "cell_type": "code",
   "execution_count": null,
   "id": "932245e3",
   "metadata": {},
   "outputs": [],
   "source": [
    "df = pd.read_csv(\"Spotify-2000.csv\")\n",
    "df"
   ]
  },
  {
   "cell_type": "code",
   "execution_count": null,
   "id": "0c893338",
   "metadata": {},
   "outputs": [],
   "source": [
    "df.describe()"
   ]
  },
  {
   "cell_type": "markdown",
   "id": "0d4c2243",
   "metadata": {},
   "source": [
    "Let's check the data types of the variables."
   ]
  },
  {
   "cell_type": "code",
   "execution_count": null,
   "id": "812c2bc9",
   "metadata": {},
   "outputs": [],
   "source": [
    "print(df.dtypes);"
   ]
  },
  {
   "cell_type": "markdown",
   "id": "76d1f713",
   "metadata": {},
   "source": [
    "### Cleaning the Dataset\n",
    "\n",
    "Before we can start exploring our dataset, we had to first preprocess the data by cleaning and formatting it into a more usable and ideal form."
   ]
  },
  {
   "cell_type": "markdown",
   "id": "ca6f65fd",
   "metadata": {},
   "source": [
    "First, let's check if there are any null values in the dataset that need to be taken care of."
   ]
  },
  {
   "cell_type": "code",
   "execution_count": null,
   "id": "97362579",
   "metadata": {},
   "outputs": [],
   "source": [
    "df.isnull().values.any()"
   ]
  },
  {
   "cell_type": "markdown",
   "id": "0b3b9a3c",
   "metadata": {},
   "source": [
    "We can conclude there aren't any missing or null values in our dataset."
   ]
  },
  {
   "cell_type": "markdown",
   "id": "05f28f80",
   "metadata": {},
   "source": [
    "Let us then look for duplicate values in the dataset, and if there are, understand the context behind them and decided on how to deal with them.\n",
    "\n",
    "The field that requires investigation is the `Title`, as it is the one that is commonly used to identify its record."
   ]
  },
  {
   "cell_type": "code",
   "execution_count": null,
   "id": "73e87c77",
   "metadata": {},
   "outputs": [],
   "source": [
    "df['Title'].value_counts()"
   ]
  },
  {
   "cell_type": "markdown",
   "id": "9047bb05",
   "metadata": {},
   "source": [
    "As we can see here, we have detected multiple iterations of certain track `Titles`. Let's investigate further by including the `Artist's` name in the value count."
   ]
  },
  {
   "cell_type": "code",
   "execution_count": null,
   "id": "549157bf",
   "metadata": {},
   "outputs": [],
   "source": [
    "(df['Title']+\" \"+df['Artist']).value_counts()"
   ]
  },
  {
   "cell_type": "markdown",
   "id": "daea8567",
   "metadata": {},
   "source": [
    "Thus, we conclude that the duplicate entities in the title field actually belong to different `Artists`. With that said, we can also say that there are no duplicate song entries in the database"
   ]
  },
  {
   "cell_type": "markdown",
   "id": "2153f7a7",
   "metadata": {},
   "source": [
    "Now, we are going to be looking at categorical values to see if they happen to have duplicate iterations.\n",
    "\n",
    "The two columns that contain categorical values are `Year` and `Top Genre`"
   ]
  },
  {
   "cell_type": "code",
   "execution_count": null,
   "id": "cc4b2660",
   "metadata": {},
   "outputs": [],
   "source": [
    "print(df['Year'].value_counts())"
   ]
  },
  {
   "cell_type": "markdown",
   "id": "23f14364",
   "metadata": {},
   "source": [
    "We can see that there aren't really any categorical duplicates or different iterations of similar categorical values for the field `Year`"
   ]
  },
  {
   "cell_type": "code",
   "execution_count": null,
   "id": "99f00f82",
   "metadata": {},
   "outputs": [],
   "source": [
    "print(df['Top Genre'].value_counts())"
   ]
  },
  {
   "cell_type": "markdown",
   "id": "cf1ac234",
   "metadata": {},
   "source": [
    "We can see that there also aren't really any categorical duplicates or different iterations of similar categorical values for the field `Top Genre`"
   ]
  },
  {
   "cell_type": "markdown",
   "id": "2ed40e07",
   "metadata": {},
   "source": [
    "Next, we want to convert each column name into snake_case format so that it'll be much easier to refer to them in our code."
   ]
  },
  {
   "cell_type": "code",
   "execution_count": null,
   "id": "0d5b7455",
   "metadata": {},
   "outputs": [],
   "source": [
    "list(df.columns)"
   ]
  },
  {
   "cell_type": "code",
   "execution_count": null,
   "id": "e4167844",
   "metadata": {},
   "outputs": [],
   "source": [
    "df.rename(columns = {\n",
    "    'Index':'index',\n",
    "    'Title': 'title',\n",
    "    'Artist': 'artist',\n",
    "    'Top Genre': 'top_genre',\n",
    "    'Year': 'year',\n",
    "    'Beats Per Minute (BPM)': 'bpm',\n",
    "    'Energy': 'energy',\n",
    "    'Danceability': 'danceability',\n",
    "    'Loudness (dB)': 'loudness',\n",
    "    'Liveness': 'liveness',\n",
    "    'Valence': 'valence',\n",
    "    'Length (Duration)': 'length',\n",
    "    'Acousticness': 'acousticness',\n",
    "    'Speechiness': 'speechiness',\n",
    "    'Popularity': 'popularity'\n",
    "}, inplace=True)\n",
    "\n",
    "list(df.columns)"
   ]
  },
  {
   "cell_type": "markdown",
   "id": "fec0a765",
   "metadata": {},
   "source": [
    "Looking at the datatypes of each column, the `title`, `artist`, `top_genre`, and `length` columns all had the Object datatype, while the rest of the columns had proper datatypes as integers."
   ]
  },
  {
   "cell_type": "code",
   "execution_count": null,
   "id": "beb05c48",
   "metadata": {},
   "outputs": [],
   "source": [
    "print(df.dtypes);"
   ]
  },
  {
   "cell_type": "markdown",
   "id": "eb58692f",
   "metadata": {},
   "source": [
    "The former three mentioned were converted into Strings, while the `length` column had to be converted into integers. However, the `length` column had some values with 4 digits that were formatted with a comma as seen in the example below:\n",
    "\n",
    "$$ 1,412 $$\n",
    "\n",
    "The column couldn’t be converted into an integer datatype with the commas in its values, so the commas were removed before being converted into an integer."
   ]
  },
  {
   "cell_type": "code",
   "execution_count": null,
   "id": "4cdf112a",
   "metadata": {},
   "outputs": [],
   "source": [
    "df['title'] = df['title'].astype('string');\n",
    "df['artist'] = df['artist'].astype('string');\n",
    "df['top_genre'] = df['top_genre'].astype('string');\n",
    "\n",
    "# Some length values have commas in them, so remove the first before converting to int.\n",
    "df['length'] = df['length'].str.replace(',','');\n",
    "df['length'] = df['length'].astype(str).astype('int64');"
   ]
  },
  {
   "cell_type": "markdown",
   "id": "1212518c",
   "metadata": {},
   "source": [
    "To check that the proper datatypes were used, the datatypes were printed out."
   ]
  },
  {
   "cell_type": "code",
   "execution_count": null,
   "id": "84ae5ac1",
   "metadata": {},
   "outputs": [],
   "source": [
    "print(df.dtypes);"
   ]
  },
  {
   "cell_type": "markdown",
   "id": "8bd7cc4c",
   "metadata": {},
   "source": [
    "Next, we thought that specific years wouldn't be too useful in our analysis, so we decided to bin them into decades; that is, year ranges such as 1960-1969, 2000-2009, etc. The only bin that wouldn't be complete would be the 1950-1959 bin, since the earliest year recorded in the data was 1956. We decided to make it into a 1956-1959 bin instead of dropping all records with those years altogether because we thought the song attributes for those songs could still be useful."
   ]
  },
  {
   "cell_type": "code",
   "execution_count": null,
   "id": "181f2e31",
   "metadata": {},
   "outputs": [],
   "source": [
    "df['period'] = pd.cut(x = df['year'], bins = [1956, 1960, 1970, 1980, 1990, 2000, 2010, 2019], labels = ['1956-1959', '1960-1969', '1970-1979', '1980-1989', '1990-1999', '2000-2009','2010-2019'], include_lowest = True)\n",
    "df = df[['index', 'title', 'artist', 'top_genre', 'period', 'year', 'bpm', 'energy', 'danceability', 'loudness', 'liveness', 'valence', 'length', 'acousticness', 'speechiness', 'popularity']]\n",
    "df"
   ]
  },
  {
   "cell_type": "markdown",
   "id": "f9b4bdc6",
   "metadata": {},
   "source": [
    "## Exploratory Data Analysis"
   ]
  },
  {
   "cell_type": "markdown",
   "id": "eacdc7ca",
   "metadata": {},
   "source": [
    "### What is the average danceability of each genre?"
   ]
  },
  {
   "cell_type": "markdown",
   "id": "5b0821bf",
   "metadata": {},
   "source": [
    "To answer this question, the variables of interest are:\n",
    "- **`top_genre`**: Genre of the track.\n",
    "- **`danceability`**: Scale measuring how usable the track is for dancing. The higher the value, the more danceable."
   ]
  },
  {
   "cell_type": "markdown",
   "id": "514d756a",
   "metadata": {},
   "source": [
    "First, we make a sliced copy of the main DataFrame with only the `top_genre` and `danceability` columns."
   ]
  },
  {
   "cell_type": "code",
   "execution_count": null,
   "id": "0e2b74f3",
   "metadata": {},
   "outputs": [],
   "source": [
    "genre_dance = df[['top_genre', 'danceability']].copy()\n",
    "genre_dance"
   ]
  },
  {
   "cell_type": "markdown",
   "id": "ba41ff64",
   "metadata": {},
   "source": [
    "Let's take a look at the distribution of danceability values."
   ]
  },
  {
   "cell_type": "code",
   "execution_count": null,
   "id": "c60b6d56",
   "metadata": {},
   "outputs": [],
   "source": [
    "genre_dance.hist('danceability', edgecolor='w', figsize=(8,4))"
   ]
  },
  {
   "cell_type": "code",
   "execution_count": null,
   "id": "c814787b",
   "metadata": {},
   "outputs": [],
   "source": [
    "genre_dance['danceability'].skew()"
   ]
  },
  {
   "cell_type": "markdown",
   "id": "1b838b39",
   "metadata": {},
   "source": [
    "As we can see from the histogram and the skew value, the distribution is very close to normal. This means we can confidently use the mean to get the average for danceability across all the genres."
   ]
  },
  {
   "cell_type": "code",
   "execution_count": null,
   "id": "e8d46913",
   "metadata": {},
   "outputs": [],
   "source": [
    "genre_dance.agg({'danceability' : ['mean', 'median', 'std']})"
   ]
  },
  {
   "cell_type": "markdown",
   "id": "4838a636",
   "metadata": {},
   "source": [
    "The average danceability of all the songs in the dataset is a value of **53.24**."
   ]
  },
  {
   "cell_type": "markdown",
   "id": "75947af6",
   "metadata": {},
   "source": [
    "Next, let's group all the records by genre, and take some summary statistics from them"
   ]
  },
  {
   "cell_type": "code",
   "execution_count": null,
   "id": "1e02fad4",
   "metadata": {},
   "outputs": [],
   "source": [
    "genre_dance_summary = genre_dance.groupby('top_genre').agg({'danceability': ['skew', 'mean', 'median', 'std', 'count']})\n",
    "\n",
    "genre_dance_summary.sort_values(('danceability', 'mean'), ascending=False).head(10)"
   ]
  },
  {
   "cell_type": "markdown",
   "id": "c9b3abcb",
   "metadata": {},
   "source": [
    "As there are some genres in the dataset that are represented by one song only, they may not be a very good representation of other songs in that genre. So let's remove those first by using `.dropna()` to take out all the records with `NaN` values in the `std` and `skew` columns (They're `NaN` because they cannot compute without more than one value.)"
   ]
  },
  {
   "cell_type": "code",
   "execution_count": null,
   "id": "d09af892",
   "metadata": {},
   "outputs": [],
   "source": [
    "genre_dance_summary.sort_values(('danceability', 'mean'), ascending=False).dropna().head(10)"
   ]
  },
  {
   "cell_type": "markdown",
   "id": "8aec5c3b",
   "metadata": {},
   "source": [
    "Here, we can see the full list of song genres with more than one record. Note that the `skew` value was included in order to determine whether it would be more accurate to use the `mean` or `median` as the measure of central tendency."
   ]
  },
  {
   "cell_type": "markdown",
   "id": "486b2165",
   "metadata": {},
   "source": [
    "From the results, we can see that `reggae fusion` has the highest average `danceability` value. However, it is only represented by a count of 4 songs. \n",
    "\n",
    "The next largest `danceability` average with a genre represented by >=10 songs would be `disco`. Because of its `skew` value of **-0.52**, the `median` may be more accurate to look at, with a value of **69.0**.\n",
    "\n",
    "Now, let's take a look at the genre with the lowest average `danceability` value."
   ]
  },
  {
   "cell_type": "code",
   "execution_count": null,
   "id": "45643c1b",
   "metadata": {},
   "outputs": [],
   "source": [
    "genre_dance_summary.sort_values(('danceability', 'mean'), ascending=True).dropna().head(10)"
   ]
  },
  {
   "cell_type": "markdown",
   "id": "f82cb6b9",
   "metadata": {},
   "source": [
    "From the DataFrame above, we can see that `chanson`, a lyric-driven French song genre, has the lowest mean `danceability`, with a value of **35.00**."
   ]
  },
  {
   "cell_type": "markdown",
   "id": "786e3ab5",
   "metadata": {},
   "source": [
    "Let's take a look at the first 10 values sorted by `count` and see what the averages for the high-count genres are."
   ]
  },
  {
   "cell_type": "code",
   "execution_count": null,
   "id": "13c6e7c1",
   "metadata": {},
   "outputs": [],
   "source": [
    "genre_dance_summary.sort_values(('danceability', 'count'), ascending=False).dropna().head(10)"
   ]
  },
  {
   "cell_type": "markdown",
   "id": "ad457fff",
   "metadata": {},
   "source": [
    "As we can see, `album rock` with the highest song count has a mean of **51.41**. `dance pop`, rather appropriately, has a relatively high danceability median of **64.0**."
   ]
  },
  {
   "cell_type": "markdown",
   "id": "59d8e016",
   "metadata": {},
   "source": [
    "### Which Attributes and Sound Features are Correlated?"
   ]
  },
  {
   "cell_type": "markdown",
   "id": "351fbc41",
   "metadata": {},
   "source": [
    "To this, we first slice the dataframe and only incorporate the different sound features per top_genre and their mean. Afterwards, we apply panda's **.corr()** function to get the correlation value between them.\n"
   ]
  },
  {
   "cell_type": "code",
   "execution_count": null,
   "id": "8d84cf2f",
   "metadata": {},
   "outputs": [],
   "source": [
    "genre_attributes = df.copy()\n",
    "genre_attributes.drop(['index','period','artist','popularity','title','year'], axis=1, inplace=True)\n",
    "genre_attributes_summary = genre_attributes.groupby('top_genre').agg('mean')\n",
    "genre_attributes_summary.dropna()\n",
    "genre_attributes_summary.corr()"
   ]
  },
  {
   "cell_type": "markdown",
   "id": "762091d3",
   "metadata": {},
   "source": [
    "It has been found that there are a couple of sound features that have correlation between them, such as `energy` and `loudness` which have a positive correlation between them. Let's take a look at the scatterplot for these features."
   ]
  },
  {
   "cell_type": "code",
   "execution_count": null,
   "id": "0afd8978",
   "metadata": {},
   "outputs": [],
   "source": [
    "genre_attributes[['energy', 'loudness']].plot.scatter(x='energy', y='loudness', alpha=0.5)"
   ]
  },
  {
   "cell_type": "markdown",
   "id": "e02f1114",
   "metadata": {},
   "source": [
    "As you can see, there is a distinct upwards trend, denoting a positive correlation. This means that, usually, the louder the song is, the more energy it's perceived to have."
   ]
  },
  {
   "cell_type": "markdown",
   "id": "cc60fa60",
   "metadata": {},
   "source": [
    "Another one is `acousticness` and `energy` with a negative correlation. Let's see the scatterplot for these two."
   ]
  },
  {
   "cell_type": "code",
   "execution_count": null,
   "id": "948892c2",
   "metadata": {},
   "outputs": [],
   "source": [
    "genre_attributes[['acousticness', 'energy']].plot.scatter(x='acousticness', y='energy', alpha=0.5)"
   ]
  },
  {
   "cell_type": "markdown",
   "id": "0c763c86",
   "metadata": {},
   "source": [
    "Given this negative correlation, we can say that the perceived energy in a song tends to lower the more it uses more acoustic elements or instruments rather than more electronic elements."
   ]
  },
  {
   "cell_type": "markdown",
   "id": "175162de",
   "metadata": {},
   "source": [
    " `acousticness` and `loudness` also have a negative correlation between them. Let's see the scatterplot."
   ]
  },
  {
   "cell_type": "code",
   "execution_count": null,
   "id": "569da153",
   "metadata": {},
   "outputs": [],
   "source": [
    "genre_attributes[['acousticness', 'loudness']].plot.scatter(x='acousticness', y='loudness', alpha=0.5)"
   ]
  },
  {
   "cell_type": "markdown",
   "id": "094020e1",
   "metadata": {},
   "source": [
    "From this, similar to the relationship between `acousticness` and `loudness`, the more acoustic elements there are in a song, the more it tends to be louder. This could be because most acoustic instruments are usually limited in terms of how loud a sound they can produce."
   ]
  },
  {
   "cell_type": "markdown",
   "id": "119abe03",
   "metadata": {},
   "source": [
    "Lastly, there is a slightly positive correlation between `valence` and `danceability`."
   ]
  },
  {
   "cell_type": "code",
   "execution_count": null,
   "id": "ae3532b3",
   "metadata": {},
   "outputs": [],
   "source": [
    "genre_attributes[['valence', 'danceability']].plot.scatter(x='valence', y='danceability', alpha=0.5)"
   ]
  },
  {
   "cell_type": "markdown",
   "id": "4594619b",
   "metadata": {},
   "source": [
    "We can infer from this that danceable songs tend to be \"happier\" sounding."
   ]
  },
  {
   "cell_type": "markdown",
   "id": "935c3dde",
   "metadata": {},
   "source": [
    "### What are the energy level intervals of all the songs in the dataset?"
   ]
  },
  {
   "cell_type": "markdown",
   "id": "c56cba54",
   "metadata": {},
   "source": [
    "To answer this question, the variables of interest are:\n",
    "- **`energy`**: Scale measuring how energetic and upbeat the track is. The higher the value, the more energetic."
   ]
  },
  {
   "cell_type": "markdown",
   "id": "1703ef67",
   "metadata": {},
   "source": [
    "Since the sample population is independent and is at least 30, the group will find the confidence interval of the energy level of the songs in the dataset."
   ]
  },
  {
   "cell_type": "markdown",
   "id": "f0ae6475",
   "metadata": {},
   "source": [
    "First, let's take a look if the distribution of values in energy is normal."
   ]
  },
  {
   "cell_type": "code",
   "execution_count": null,
   "id": "4849c32f",
   "metadata": {},
   "outputs": [],
   "source": [
    "df['energy'].skew()"
   ]
  },
  {
   "cell_type": "markdown",
   "id": "c00ef53d",
   "metadata": {},
   "source": [
    "Since the value is negative but still close to zero, it can be said that the distribution is slightly negatively skewed. Let's validate this using a histogram."
   ]
  },
  {
   "cell_type": "code",
   "execution_count": null,
   "id": "e76f7c93",
   "metadata": {},
   "outputs": [],
   "source": [
    "df.hist('energy', edgecolor='w', figsize=(8,4))"
   ]
  },
  {
   "cell_type": "markdown",
   "id": "42af8d72",
   "metadata": {},
   "source": [
    "With this, it can be said that the sample is approximately symmetric.\n",
    "\n",
    "Now, let's take a look at energy's mean, meadian, and standard deviation to get the confidence interval."
   ]
  },
  {
   "cell_type": "code",
   "execution_count": null,
   "id": "b4bbd2ee",
   "metadata": {},
   "outputs": [],
   "source": [
    "energy_agg = df.agg({\"energy\": [\"mean\", \"median\", \"std\"]})\n",
    "\n",
    "sample_mean = energy_agg.loc[\"mean\"][0]\n",
    "sample_median = energy_agg.loc[\"median\"][0]\n",
    "sample_std = energy_agg.loc[\"std\"][0]\n",
    "\n",
    "energy_agg"
   ]
  },
  {
   "cell_type": "markdown",
   "id": "f85f8755",
   "metadata": {},
   "source": [
    "The mean, median, and standard deviation are: **59.68**, **61.00**, and **22.15**."
   ]
  },
  {
   "cell_type": "markdown",
   "id": "421bc217",
   "metadata": {},
   "source": [
    "#### Confidence Interval\n",
    "\n",
    "A confidence interval for a population mean is of the following form:\n",
    "\n",
    "$$\\bar{x} \\pm z^* \\frac{s}{\\sqrt{n}}$$\n",
    "\n",
    "Where $z^*$, also known as the **critical value**, is the z-score that corresponds to the middle 95% of the data."
   ]
  },
  {
   "cell_type": "markdown",
   "id": "754a920a",
   "metadata": {},
   "source": [
    "The z-score of a 95% confidence is **1.96**. Let's validate the critical value of a 95% confidence interval using the formula below. "
   ]
  },
  {
   "cell_type": "code",
   "execution_count": null,
   "id": "4abec8e4",
   "metadata": {
    "scrolled": true
   },
   "outputs": [],
   "source": [
    "z_star_95 = norm.ppf(0.975)\n",
    "print('{:.2f}'.format(z_star_95))"
   ]
  },
  {
   "cell_type": "markdown",
   "id": "b18dfc34",
   "metadata": {},
   "source": [
    "#### Margin of Error\n",
    "\n",
    "We can compute the **margin of error** using the formula\n",
    "\n",
    "$$z^* \\frac{s}{\\sqrt{n}}$$\n",
    "\n",
    "Compute and display the margin of error given a 95% confidence level."
   ]
  },
  {
   "cell_type": "code",
   "execution_count": null,
   "id": "acf0c850",
   "metadata": {
    "scrolled": true
   },
   "outputs": [],
   "source": [
    "n = df['index'].count()\n",
    "\n",
    "margin_of_error = z_star_95 * (sample_std / np.sqrt(n))\n",
    "print('Margin of Error: {:.2f}'.format(margin_of_error))"
   ]
  },
  {
   "cell_type": "markdown",
   "id": "536c2ad7",
   "metadata": {},
   "source": [
    "Now, let's compute for the 95% confidence interval of the dataset. The 95% confidence interval is the sample mean $\\pm$ the margin of error. "
   ]
  },
  {
   "cell_type": "code",
   "execution_count": null,
   "id": "ffae8db4",
   "metadata": {},
   "outputs": [],
   "source": [
    "minimum_value = sample_mean - margin_of_error\n",
    "maximum_value = sample_mean + margin_of_error\n",
    "print('({:.2f},'.format(minimum_value), '{:.2f})'.format(maximum_value))"
   ]
  },
  {
   "cell_type": "markdown",
   "id": "9074a39a",
   "metadata": {},
   "source": [
    "With this, even though we do not have the complete list of the popular songs of spotify, we are 95% confident that the true average energy level is between **58.71** to **60.65**."
   ]
  },
  {
   "cell_type": "markdown",
   "id": "2f2515d8",
   "metadata": {},
   "source": [
    "## Research Question"
   ]
  },
  {
   "cell_type": "markdown",
   "id": "9995cc40",
   "metadata": {},
   "source": [
    "Based on the results of our EDAs, we found that the `danceability` feature had varying averages across different genres, with some genres having similar averages. This leads us to question whether we could possibly find similar average values for other song features across genres, and find out how many features between certain genres are similar.\n",
    "\n",
    "We also found evidence that a couple of sound features had relationships between them. These correlations lead us to believe that these sound features could possibly be utilized to find relationships and similarities between the different genres as well.\n",
    "\n",
    "We also discovered that the the 95% confidence interval for all the songs across all genres in the dataset was between 58.71 and 60.65. To find out if certain genres are similar from another, it would be important to look at their confidence interval. If the intervals overlap, it can be said that the difference between them are not statistically significant.\n",
    "\n",
    "Given all of this information we've acquired about our dataset, we have decided on the research question, **\"Based on the attributes and features of songs, which music genres are similar (or dissimilar) to one another?\"**\n",
    "\n",
    "Music is arguably one of mankind's most significant innovations as it is able to transcend past the visual barriers and limitations by stimulating our imagination and emotions through sound. From Beethoven's Waldstein, to Tupac's All Eyez on Me, to Taylor Swift's Midnight Rain; each and every one of these songs from completely different genre's are able to tell different stories and provoke different emotions. With that said, given the amount of songs and genres available, it can be quite difficult to find the right songs given a certain taste in music. \n",
    "\n",
    "Being able to know which genres go well or are similar with others can definitely help the selection and filtration process. The group plans to answer this question with the use of cossine similarity and data mining techniques, such as clustering, using the given sound feature data per genre. The resulting data may also be used in recommender systems for music platforms, much like Spotify, to boost their efficiency by manipulating the algorithm into looking for suggestions from genres in the same or closest clusters first, instead of searching for recommendations randomly across the different genres."
   ]
  },
  {
   "cell_type": "markdown",
   "id": "a6348e73",
   "metadata": {},
   "source": [
    "# Phase 2"
   ]
  },
  {
   "cell_type": "markdown",
   "id": "7e763497",
   "metadata": {},
   "source": [
    "## Data Pre-processing"
   ]
  },
  {
   "cell_type": "markdown",
   "id": "71110df9",
   "metadata": {},
   "source": [
    "### Limiting Genres"
   ]
  },
  {
   "cell_type": "markdown",
   "id": "70c15167",
   "metadata": {},
   "source": [
    "Since the number of songs per genre in the dataset varies, we decided to get the top 20 genres with the most song counts.\n",
    "\n",
    "We decided to get the top 20 genres instead of setting a threshold number of songs since we also wanted to limit the amount of genres we'd have to analyze once we clustered our dataset."
   ]
  },
  {
   "cell_type": "code",
   "execution_count": null,
   "id": "85e0f818",
   "metadata": {},
   "outputs": [],
   "source": [
    "genre_df = df.copy()\n",
    "genre_df = genre_df[genre_df['top_genre'].isin(genre_df['top_genre'].value_counts().loc[lambda x: x>20].reset_index()['index'])]\n",
    "\n",
    "genre_df.info()"
   ]
  },
  {
   "cell_type": "markdown",
   "id": "9b7b9d2e",
   "metadata": {},
   "source": [
    "Here are the 20 genres left after filtering."
   ]
  },
  {
   "cell_type": "code",
   "execution_count": null,
   "id": "e45ba4c4",
   "metadata": {},
   "outputs": [],
   "source": [
    "genre_df['top_genre'].unique()"
   ]
  },
  {
   "cell_type": "markdown",
   "id": "4be4543a",
   "metadata": {},
   "source": [
    "### Choosing Columns"
   ]
  },
  {
   "cell_type": "markdown",
   "id": "754c9556",
   "metadata": {},
   "source": [
    "In order to answer our research question, we will employ the use of k-means clustering.\n",
    "\n",
    "But before clustering our data, we want to check which song attributes can be considered factors for data modelling. Let's take a look at the columns available in our DataFrame:"
   ]
  },
  {
   "cell_type": "code",
   "execution_count": null,
   "id": "54496307",
   "metadata": {},
   "outputs": [],
   "source": [
    "for col in df.columns:\n",
    "    print(col)"
   ]
  },
  {
   "cell_type": "markdown",
   "id": "313bddaf",
   "metadata": {},
   "source": [
    "From these columns, we want to get the ones that refer to each song's musical attributes. These will be `energy`, `danceability`, `liveness`, `valence`, `acousticness`, and `speechiness`. We chose these attributes because these are values that are computed from Spotify's algorithms based on things like a song's key, beats per minute (BPM), loudness, etc., and are good metrics for representing a song's musical and emotional qualities. \n",
    "\n",
    "There are a few columns that we considered to add, but ultimately decided not to for various reasons:\n",
    "\n",
    ">`bpm`: We decided not to add this because this value is already used to compute the other attributes mentioned above. Thus, we feel it would be redundant to consider this as a factor for data modelling by itself.\n",
    ">\n",
    ">`loudness`: Similar to `bpm`, this is also a value already used to compute the attributes mentioned above.\n",
    ">\n",
    ">`length`: We believe that the length of a song isn't necessarily indicative of a song's musical qualities. In addition, there are some outlier songs with abnormally long durations that may affect our data modelling results.\n",
    ">\n",
    ">`popularity`: The popularity of a song is a more subjective metric that isn't really indicative of a song's musical qualities."
   ]
  },
  {
   "cell_type": "code",
   "execution_count": null,
   "id": "e0fb2d07",
   "metadata": {},
   "outputs": [],
   "source": [
    "genre_df = genre_df[[\"energy\", \"danceability\", \"liveness\", \"valence\", \"acousticness\", \"speechiness\", \"top_genre\"]]\n",
    "genre_df.reset_index(drop = True, inplace = True)\n",
    "genre_df.info()"
   ]
  },
  {
   "cell_type": "code",
   "execution_count": null,
   "id": "14786760",
   "metadata": {},
   "outputs": [],
   "source": [
    "genre_df['top_genre'].value_counts()"
   ]
  },
  {
   "cell_type": "markdown",
   "id": "dc305821",
   "metadata": {},
   "source": [
    "In order for our KMeans code to work later for our data modelling, we have to set `top_genre`'s datatype to an object."
   ]
  },
  {
   "cell_type": "code",
   "execution_count": null,
   "id": "5bf7da8e",
   "metadata": {},
   "outputs": [],
   "source": [
    "genre_df['top_genre'] = genre_df['top_genre'].astype('object')\n",
    "genre_df.info()"
   ]
  },
  {
   "cell_type": "markdown",
   "id": "47d23ce2",
   "metadata": {},
   "source": [
    "In addition, because these attributes are already set on a scale from 0 to 100, normalization is not needed anymore."
   ]
  },
  {
   "cell_type": "markdown",
   "id": "0763efa0",
   "metadata": {},
   "source": [
    "Before using `energy`, `danceability`, `liveness`, `valence`, `acousticness`, and `speechiness` for clustering though, we first perform statistical inference on these attributes in order to see if they're actually significant enough to be considered factors for data modelling."
   ]
  },
  {
   "cell_type": "markdown",
   "id": "9b3c96db",
   "metadata": {},
   "source": [
    "## Data Cleaning for Statistical Inference"
   ]
  },
  {
   "cell_type": "markdown",
   "id": "d9eaaca7",
   "metadata": {},
   "source": [
    "First, let's check whether all factors to be used, `energy`, `danceability`, `liveness`, `valence`, `acousticness`, and `speechiness`, are normally distributed so that we know whether we can perform ANOVA on them."
   ]
  },
  {
   "cell_type": "code",
   "execution_count": null,
   "id": "fe3f22ca",
   "metadata": {},
   "outputs": [],
   "source": [
    "genre_df['energy'].skew()"
   ]
  },
  {
   "cell_type": "markdown",
   "id": "96386fe6",
   "metadata": {},
   "source": [
    "`energy` is fairly symmetrical."
   ]
  },
  {
   "cell_type": "code",
   "execution_count": null,
   "id": "cf123e3c",
   "metadata": {},
   "outputs": [],
   "source": [
    "genre_df['danceability'].skew()"
   ]
  },
  {
   "cell_type": "markdown",
   "id": "93bb2991",
   "metadata": {},
   "source": [
    "`danceability` is fairly symmetrical."
   ]
  },
  {
   "cell_type": "code",
   "execution_count": null,
   "id": "b3f509a8",
   "metadata": {},
   "outputs": [],
   "source": [
    "genre_df['liveness'].skew()"
   ]
  },
  {
   "cell_type": "markdown",
   "id": "79ff78d9",
   "metadata": {},
   "source": [
    "`liveness` has a highly skewed distribution. Let's normalize this using the boxcox transformation which was adapted from [Geeks for Geeks](https://www.geeksforgeeks.org/box-cox-transformation-using-python/)."
   ]
  },
  {
   "cell_type": "code",
   "execution_count": null,
   "id": "0c577ebd",
   "metadata": {},
   "outputs": [],
   "source": [
    "genre_df_std = genre_df.copy()\n",
    "\n",
    "fitted_data, fitted_lambda = stats.boxcox(genre_df_std['liveness'])\n",
    "\n",
    "genre_df_std = genre_df.drop(columns=[\"liveness\"]).copy()\n",
    "genre_df_std.insert(2, \"liveness\", fitted_data)\n",
    "genre_df_std['liveness'].skew()"
   ]
  },
  {
   "cell_type": "markdown",
   "id": "7ca475d2",
   "metadata": {},
   "source": [
    "Now `liveness` is fairly symmetrical."
   ]
  },
  {
   "cell_type": "code",
   "execution_count": null,
   "id": "fbd99da4",
   "metadata": {},
   "outputs": [],
   "source": [
    "genre_df['valence'].skew()"
   ]
  },
  {
   "cell_type": "markdown",
   "id": "ae299cd3",
   "metadata": {},
   "source": [
    "`valence` is fairly symmetrical."
   ]
  },
  {
   "cell_type": "code",
   "execution_count": null,
   "id": "668150a1",
   "metadata": {},
   "outputs": [],
   "source": [
    "genre_df['acousticness'].skew()"
   ]
  },
  {
   "cell_type": "markdown",
   "id": "ae41bc74",
   "metadata": {},
   "source": [
    "`danceability` is only moderately skewed."
   ]
  },
  {
   "cell_type": "code",
   "execution_count": null,
   "id": "3bbdf4e4",
   "metadata": {},
   "outputs": [],
   "source": [
    "genre_df['speechiness'].skew()"
   ]
  },
  {
   "cell_type": "markdown",
   "id": "3725d272",
   "metadata": {},
   "source": [
    "`speechiness` has a highly skewed distribution. Let's normalize this using the boxcox transformation. "
   ]
  },
  {
   "cell_type": "code",
   "execution_count": null,
   "id": "868e5a4f",
   "metadata": {},
   "outputs": [],
   "source": [
    "fitted_data, fitted_lambda = stats.boxcox(genre_df_std['speechiness'])\n",
    "\n",
    "genre_df_std = genre_df_std.drop(columns=[\"speechiness\"])\n",
    "genre_df_std.insert(5, \"speechiness\", fitted_data)\n",
    "genre_df_std['speechiness'].skew()"
   ]
  },
  {
   "cell_type": "markdown",
   "id": "d2c296a7",
   "metadata": {},
   "source": [
    "Now `speechiness` is fairly symmetrical."
   ]
  },
  {
   "cell_type": "markdown",
   "id": "c1ace5d7",
   "metadata": {},
   "source": [
    "## Statistical Inference"
   ]
  },
  {
   "cell_type": "markdown",
   "id": "be0c94ef",
   "metadata": {},
   "source": [
    "Here are the means of the different attributes for each genre."
   ]
  },
  {
   "cell_type": "code",
   "execution_count": null,
   "id": "a2f7f0d5",
   "metadata": {},
   "outputs": [],
   "source": [
    "genre_df.groupby('top_genre').agg(\"mean\")"
   ]
  },
  {
   "cell_type": "code",
   "execution_count": null,
   "id": "63a1f6a6",
   "metadata": {},
   "outputs": [],
   "source": [
    "genre_df_std.groupby('top_genre').agg(\"mean\")"
   ]
  },
  {
   "cell_type": "markdown",
   "id": "5558231a",
   "metadata": {},
   "source": [
    "For statistical testing, ANOVA will be used. "
   ]
  },
  {
   "cell_type": "markdown",
   "id": "c4aa7994",
   "metadata": {},
   "source": [
    "### First Statistical Test - Energy\n",
    "\n",
    "For the first statistical test, let's check whether there is a significant difference in the mean of `energy`.\n",
    "\n",
    "**Null Hypothesis**: There is no difference in energy per genre.\n",
    "\n",
    "**Alternative Hypothesis**: There is a difference in energy per genre."
   ]
  },
  {
   "cell_type": "markdown",
   "id": "7b9b6929",
   "metadata": {},
   "source": [
    "Let's first visualize the mean using a box plot."
   ]
  },
  {
   "cell_type": "code",
   "execution_count": null,
   "id": "64091fa2",
   "metadata": {},
   "outputs": [],
   "source": [
    "genre_df.boxplot(\"energy\", by=\"top_genre\", figsize=(15,10))\n",
    "plt.show()"
   ]
  },
  {
   "cell_type": "markdown",
   "id": "3ab2c44f",
   "metadata": {},
   "source": [
    "It can be seen that their means do differ with one another, however let's validate this using one-way ANOVA."
   ]
  },
  {
   "cell_type": "code",
   "execution_count": null,
   "id": "cca4161f",
   "metadata": {},
   "outputs": [],
   "source": [
    "values = []\n",
    "for i in genre_df_std['top_genre'].unique():\n",
    "    _df = genre_df_std[genre_df_std['top_genre']==i]\n",
    "    values.append(_df['energy'].values)\n",
    "    \n",
    "f_oneway(*values)"
   ]
  },
  {
   "cell_type": "markdown",
   "id": "25654d76",
   "metadata": {},
   "source": [
    "Since the p-value **5.3529e-30** is less than the significance level of 0.05, we can reject the null hypothesis. Therefore, energy has a **significant difference** and will be a factor in clustering."
   ]
  },
  {
   "cell_type": "markdown",
   "id": "383f0a37",
   "metadata": {},
   "source": [
    "### Second Statistical Test - Danceability\n",
    "\n",
    "For the second statistical test, let's check whether there is a significant difference in the mean of `danceability`.\n",
    "\n",
    "**Null Hypothesis**: There is no difference in danceability per genre.\n",
    "\n",
    "**Alternative Hypothesis**: There is a difference in danceability per genre."
   ]
  },
  {
   "cell_type": "markdown",
   "id": "6e6a58cf",
   "metadata": {},
   "source": [
    "Let's first visualize the mean using a box plot."
   ]
  },
  {
   "cell_type": "code",
   "execution_count": null,
   "id": "bb62b7a5",
   "metadata": {},
   "outputs": [],
   "source": [
    "genre_df_std.boxplot(\"danceability\", by=\"top_genre\", figsize=(15,10))\n",
    "plt.show()"
   ]
  },
  {
   "cell_type": "markdown",
   "id": "32060b79",
   "metadata": {},
   "source": [
    "It can be seen that their means do differ with one another, however let's validate this using one-way ANOVA."
   ]
  },
  {
   "cell_type": "code",
   "execution_count": null,
   "id": "637963df",
   "metadata": {},
   "outputs": [],
   "source": [
    "values = []\n",
    "for i in genre_df_std['top_genre'].unique():\n",
    "    _df = genre_df_std[genre_df_std['top_genre']==i]\n",
    "    values.append(_df['danceability'].values)\n",
    "    \n",
    "f_oneway(*values)"
   ]
  },
  {
   "cell_type": "markdown",
   "id": "88c847ff",
   "metadata": {},
   "source": [
    "Since the p-value **8.8769e-16** is less than the significance level of 0.05, we can reject the null hypothesis. Therefore, danceability has a **significant difference** and will be a factor in clustering."
   ]
  },
  {
   "cell_type": "markdown",
   "id": "023d3d72",
   "metadata": {},
   "source": [
    "### Third Statistical Test - liveness\n",
    "\n",
    "For the third statistical test, let's check whether there is a significant difference in the mean of `liveness`.\n",
    "\n",
    "**Null Hypothesis**: There is no difference in liveness per genre.\n",
    "\n",
    "**Alternative Hypothesis**: There is a difference in liveness per genre."
   ]
  },
  {
   "cell_type": "markdown",
   "id": "1e39da84",
   "metadata": {},
   "source": [
    "Let's first visualize the mean using a box plot."
   ]
  },
  {
   "cell_type": "code",
   "execution_count": null,
   "id": "5a3db245",
   "metadata": {},
   "outputs": [],
   "source": [
    "genre_df_std.boxplot(\"liveness\", by=\"top_genre\", figsize=(15,10))\n",
    "plt.show()"
   ]
  },
  {
   "cell_type": "markdown",
   "id": "cbd1f774",
   "metadata": {},
   "source": [
    "It may seem that their means are close to one another in this case. Let's validate this using one-way ANOVA."
   ]
  },
  {
   "cell_type": "code",
   "execution_count": null,
   "id": "ccf0f1bd",
   "metadata": {},
   "outputs": [],
   "source": [
    "values = []\n",
    "for i in genre_df_std['top_genre'].unique():\n",
    "    _df = genre_df_std[genre_df_std['top_genre']==i]\n",
    "    values.append(_df['liveness'].values)\n",
    "    \n",
    "f_oneway(*values)"
   ]
  },
  {
   "cell_type": "markdown",
   "id": "7da89593",
   "metadata": {},
   "source": [
    "Since the p-value **0.7180** is greater than the significance level of 0.05, we can accept the null hypothesis. Therefore, liveness has **no significant difference** and will not be a factor in clustering."
   ]
  },
  {
   "cell_type": "markdown",
   "id": "f771e300",
   "metadata": {},
   "source": [
    "### Fourth Statistical Test - valence\n",
    "\n",
    "For the fourth statistical test, let's check whether there is a significant difference in the mean of `valence`.\n",
    "\n",
    "**Null Hypothesis**: There is no difference in valence per genre.\n",
    "\n",
    "**Alternative Hypothesis**: There is a difference in valence per genre."
   ]
  },
  {
   "cell_type": "markdown",
   "id": "98f31ff1",
   "metadata": {},
   "source": [
    "Let's first visualize the mean using a box plot."
   ]
  },
  {
   "cell_type": "code",
   "execution_count": null,
   "id": "ae06f066",
   "metadata": {},
   "outputs": [],
   "source": [
    "genre_df_std.boxplot(\"valence\", by=\"top_genre\", figsize=(15,10))\n",
    "plt.show()"
   ]
  },
  {
   "cell_type": "markdown",
   "id": "0fe197ec",
   "metadata": {},
   "source": [
    "It can be seen that their means do differ with one another, however let's validate this using one-way ANOVA."
   ]
  },
  {
   "cell_type": "code",
   "execution_count": null,
   "id": "c4c514c2",
   "metadata": {},
   "outputs": [],
   "source": [
    "values = []\n",
    "for i in genre_df_std['top_genre'].unique():\n",
    "    _df = genre_df_std[genre_df_std['top_genre']==i]\n",
    "    values.append(_df['valence'].values)\n",
    "    \n",
    "f_oneway(*values)"
   ]
  },
  {
   "cell_type": "markdown",
   "id": "81519e22",
   "metadata": {},
   "source": [
    "Since the p-value **4.6986e-13** is less than the significance level of 0.05, we can reject the null hypothesis. Therefore, valence has a **significant difference** and will be a factor in clustering."
   ]
  },
  {
   "cell_type": "markdown",
   "id": "c8ee3aa1",
   "metadata": {},
   "source": [
    "### Fifth Statistical Test - acousticness\n",
    "\n",
    "For the fifth statistical test, let's check whether there is a significant difference in the mean of `acousticness`.\n",
    "\n",
    "**Null Hypothesis**: There is no difference in acousticness per genre.\n",
    "\n",
    "**Alternative Hypothesis**: There is a difference in acousticness per genre."
   ]
  },
  {
   "cell_type": "markdown",
   "id": "54b089ee",
   "metadata": {},
   "source": [
    "Let's first visualize the mean using a box plot."
   ]
  },
  {
   "cell_type": "code",
   "execution_count": null,
   "id": "95bb0cca",
   "metadata": {},
   "outputs": [],
   "source": [
    "genre_df_std.boxplot(\"acousticness\", by=\"top_genre\", figsize=(15,10))\n",
    "plt.show()"
   ]
  },
  {
   "cell_type": "markdown",
   "id": "d808ed56",
   "metadata": {},
   "source": [
    "It can be seen that their means do differ with one another, however let's validate this using one-way ANOVA."
   ]
  },
  {
   "cell_type": "code",
   "execution_count": null,
   "id": "6bed9d7d",
   "metadata": {},
   "outputs": [],
   "source": [
    "values = []\n",
    "for i in genre_df_std['top_genre'].unique():\n",
    "    _df = genre_df_std[genre_df_std['top_genre']==i]\n",
    "    values.append(_df['acousticness'].values)\n",
    "    \n",
    "f_oneway(*values)"
   ]
  },
  {
   "cell_type": "markdown",
   "id": "13db0f9c",
   "metadata": {},
   "source": [
    "Since the p-value **9.5081e-39** is less than the significance level of 0.05, we can reject the null hypothesis. Therefore, acousticness has a **significant difference** and will be a factor in clustering."
   ]
  },
  {
   "cell_type": "markdown",
   "id": "21a77d19",
   "metadata": {},
   "source": [
    "### Sixth Statistical Test - speechiness\n",
    "\n",
    "For the second statistical test, let's check whether there is a significant difference in the mean of `speechiness`.\n",
    "\n",
    "**Null Hypothesis**: There is no difference in speechiness per genre.\n",
    "\n",
    "**Alternative Hypothesis**: There is a difference in speechiness per genre."
   ]
  },
  {
   "cell_type": "markdown",
   "id": "c9a8dd29",
   "metadata": {},
   "source": [
    "Let's first visualize the mean using a box plot."
   ]
  },
  {
   "cell_type": "code",
   "execution_count": null,
   "id": "94caa8e2",
   "metadata": {},
   "outputs": [],
   "source": [
    "genre_df_std.boxplot(\"speechiness\", by=\"top_genre\", figsize=(15,10))\n",
    "plt.show()"
   ]
  },
  {
   "cell_type": "markdown",
   "id": "920b464d",
   "metadata": {},
   "source": [
    "In this case, we're not sure whether there is a significant difference in their mean so let's validate this using one-way ANOVA."
   ]
  },
  {
   "cell_type": "code",
   "execution_count": null,
   "id": "e62d5462",
   "metadata": {},
   "outputs": [],
   "source": [
    "values = []\n",
    "for i in genre_df_std['top_genre'].unique():\n",
    "    _df = genre_df_std[genre_df_std['top_genre']==i]\n",
    "    values.append(_df['speechiness'].values)\n",
    "    \n",
    "f_oneway(*values)"
   ]
  },
  {
   "cell_type": "markdown",
   "id": "8d1e1793",
   "metadata": {},
   "source": [
    "Since the p-value **7.5578e-09** is less than the significance level of 0.05, we can reject the null hypothesis. Therefore, speechiness has a **significant difference** and will be a factor in clustering."
   ]
  },
  {
   "cell_type": "markdown",
   "id": "26aaff1c",
   "metadata": {},
   "source": [
    "With this, only the 5 factors `energy`, `danceability`, `valence`, `acousticness`, and `speechiness` would be significant for clustering. `liveliness` would not be significant so it will be excluded in clustering."
   ]
  },
  {
   "cell_type": "code",
   "execution_count": null,
   "id": "2b093bb3",
   "metadata": {},
   "outputs": [],
   "source": [
    "genre_df = genre_df.drop(columns=[\"liveness\"])\n",
    "genre_df.info()"
   ]
  },
  {
   "cell_type": "markdown",
   "id": "9cfc291b",
   "metadata": {},
   "source": [
    "## Data Modelling"
   ]
  },
  {
   "cell_type": "markdown",
   "id": "df97a90c",
   "metadata": {},
   "source": [
    "As stated earlier at the start of the Phase 2 section, we will employ the use of k-means clustering in order to answer our research question. Through clustering, we'll be able to see which genres are clustered together, along with how many songs of each genre there are in each cluster.\n",
    "\n",
    "First, let's take a look at our DataFrame again."
   ]
  },
  {
   "cell_type": "code",
   "execution_count": null,
   "id": "d6d0d34c",
   "metadata": {},
   "outputs": [],
   "source": [
    "genre_df.info()"
   ]
  },
  {
   "cell_type": "markdown",
   "id": "920673db",
   "metadata": {},
   "source": [
    "Next, let's check the number of songs per genre."
   ]
  },
  {
   "cell_type": "code",
   "execution_count": null,
   "id": "bb44a52f",
   "metadata": {},
   "outputs": [],
   "source": [
    "genre_df['top_genre'].value_counts()"
   ]
  },
  {
   "cell_type": "markdown",
   "id": "08f54e7f",
   "metadata": {},
   "source": [
    "Now, in order for us to select a good value for `k`, we'll use the elbow method. The following code for visualizing the line graph for the elbow method was adapted from [Geeks for Geeks](https://www.geeksforgeeks.org/determining-the-number-of-clusters-in-data-mining/)."
   ]
  },
  {
   "cell_type": "code",
   "execution_count": null,
   "id": "0d499127",
   "metadata": {},
   "outputs": [],
   "source": [
    "import sys\n",
    "!{sys.executable} -m pip install scikit-learn\n",
    "import sklearn\n",
    "from sklearn.cluster import KMeans\n",
    "\n",
    "\n",
    "# determining the maximum number of clusters\n",
    "# using the simple method\n",
    "dataset = genre_df.drop(columns=[\"top_genre\"]).copy()\n",
    " \n",
    "# selecting optimal value of 'k'\n",
    "# using elbow method\n",
    " \n",
    "# wcss - within cluster sum of\n",
    "# squared distances\n",
    "wcss = {}\n",
    " \n",
    "for k in range(2,10):\n",
    "    model = KMeans(n_clusters=k)\n",
    "    model.fit(dataset)\n",
    "    wcss[k] = model.inertia_\n",
    "     \n",
    "# plotting the wcss values\n",
    "# to find out the elbow value\n",
    "plt.plot(wcss.keys(), wcss.values(), 'gs-')\n",
    "plt.xlabel('Values of \"k\"')\n",
    "plt.ylabel('WCSS')\n",
    "plt.show()"
   ]
  },
  {
   "cell_type": "markdown",
   "id": "30e1fabc",
   "metadata": {},
   "source": [
    "From the plot, we can see that the average distances of each data point for each cluster seems to stabilize around `k = 5`. As such, we'll use `k = 5` as our number of clusters.\n",
    "\n",
    "We then import our own KMeans functions, which we also used for our CSMODEL notebooks."
   ]
  },
  {
   "cell_type": "code",
   "execution_count": null,
   "id": "fbb5773e",
   "metadata": {},
   "outputs": [],
   "source": [
    "from kmeans import KMeans"
   ]
  },
  {
   "cell_type": "code",
   "execution_count": null,
   "id": "aaea190f",
   "metadata": {},
   "outputs": [],
   "source": [
    "kmeans = KMeans(5, 0, 5, 1465, genre_df)"
   ]
  },
  {
   "cell_type": "markdown",
   "id": "dc592e69",
   "metadata": {},
   "source": [
    "We first have to initialize the centroids for our dataset."
   ]
  },
  {
   "cell_type": "code",
   "execution_count": null,
   "id": "e9098701",
   "metadata": {},
   "outputs": [],
   "source": [
    "kmeans.initialize_centroids(genre_df)"
   ]
  },
  {
   "cell_type": "markdown",
   "id": "ad1c36c4",
   "metadata": {},
   "source": [
    "Then, we use the `train()` function from our Python file, which is the main function for processing the clusters."
   ]
  },
  {
   "cell_type": "code",
   "execution_count": null,
   "id": "c405b8c8",
   "metadata": {},
   "outputs": [],
   "source": [
    "groups = kmeans.train(genre_df, 300)\n"
   ]
  },
  {
   "cell_type": "markdown",
   "id": "7ed23e5c",
   "metadata": {},
   "source": [
    "Now, using `print_results()`, we can see the final clusters that were generated."
   ]
  },
  {
   "cell_type": "code",
   "execution_count": null,
   "id": "7aefe9ad",
   "metadata": {},
   "outputs": [],
   "source": [
    "test=kmeans.print_results(groups[0], -1, genre_df)"
   ]
  },
  {
   "cell_type": "markdown",
   "id": "e519ce00",
   "metadata": {},
   "source": [
    "After running the K-Means clustering algorithm on the dataset through 29 iterations, we've finished with 5 different clusters. Let's explore them each individually"
   ]
  },
  {
   "cell_type": "markdown",
   "id": "cef42db4",
   "metadata": {},
   "source": [
    "Normally, we would visualize the clustered result on a plotted axis, however, due to its multidimensionality, we found it very difficult and inefficient to do so. Instead, we've decided to analyze the clustering results both per cluster, and per genre."
   ]
  },
  {
   "cell_type": "markdown",
   "id": "7abb5e51",
   "metadata": {},
   "source": [
    "### Analysis Per Cluster\n"
   ]
  },
  {
   "cell_type": "markdown",
   "id": "73b43180",
   "metadata": {},
   "source": [
    "Let's first analyze the different genres per cluster and see which genres dominate which clusters."
   ]
  },
  {
   "cell_type": "markdown",
   "id": "c03315c3",
   "metadata": {},
   "source": [
    "#### Cluster 0"
   ]
  },
  {
   "cell_type": "code",
   "execution_count": null,
   "id": "83806509",
   "metadata": {},
   "outputs": [],
   "source": [
    "import matplotlib.pyplot as plt\n",
    "\n",
    "cluster_0 = test[test['Cluster'] == 0].sort_values(by='Count', ascending=False).copy()\n",
    "\n",
    "plt.barh(cluster_0['Genre'],cluster_0['Count'])\n",
    "plt.show()"
   ]
  },
  {
   "cell_type": "code",
   "execution_count": null,
   "id": "ceaa3f7c",
   "metadata": {},
   "outputs": [],
   "source": [
    "cluster_0"
   ]
  },
  {
   "cell_type": "code",
   "execution_count": null,
   "id": "f7731d58",
   "metadata": {},
   "outputs": [],
   "source": [
    "cluster_0['Count'].sum()"
   ]
  },
  {
   "cell_type": "markdown",
   "id": "494d3130",
   "metadata": {},
   "source": [
    "As we can see from the results, Cluster 0 is mostly dominated by `Rock` and `Metal` genres such as `Album Rock` ,`Alternative Metal`, `Modern Rock`, and `Alternative Rock` to name a few. Cluster 0 had a total of 313 songs in it."
   ]
  },
  {
   "cell_type": "markdown",
   "id": "bd9fff1e",
   "metadata": {},
   "source": [
    "#### Cluster 1"
   ]
  },
  {
   "cell_type": "code",
   "execution_count": null,
   "id": "c5245bab",
   "metadata": {},
   "outputs": [],
   "source": [
    "cluster_1 = test[test['Cluster'] == 1].sort_values(by='Count', ascending=False).copy()\n",
    "\n",
    "plt.barh(cluster_1['Genre'],cluster_1['Count'])\n",
    "plt.show()"
   ]
  },
  {
   "cell_type": "code",
   "execution_count": null,
   "id": "074b1301",
   "metadata": {},
   "outputs": [],
   "source": [
    "cluster_1"
   ]
  },
  {
   "cell_type": "code",
   "execution_count": null,
   "id": "0a40d584",
   "metadata": {},
   "outputs": [],
   "source": [
    "cluster_1['Count'].sum()"
   ]
  },
  {
   "cell_type": "markdown",
   "id": "8b297a1c",
   "metadata": {},
   "source": [
    "As we can see from the results, Cluster 1 is mostly dominated by `Rock` and `Pop` genres such `Dutch Pop`, and `Album Rock`. It was also dominated by `Adult Standards`."
   ]
  },
  {
   "cell_type": "markdown",
   "id": "7ca4032f",
   "metadata": {},
   "source": [
    "#### Cluster 2"
   ]
  },
  {
   "cell_type": "code",
   "execution_count": null,
   "id": "40c9a7b4",
   "metadata": {},
   "outputs": [],
   "source": [
    "cluster_2 = test[test['Cluster'] == 2].sort_values(by='Count', ascending=False).copy()\n",
    "\n",
    "plt.barh(cluster_2['Genre'],cluster_2['Count'])\n",
    "plt.show()"
   ]
  },
  {
   "cell_type": "code",
   "execution_count": null,
   "id": "4afd20e1",
   "metadata": {},
   "outputs": [],
   "source": [
    "cluster_2"
   ]
  },
  {
   "cell_type": "code",
   "execution_count": null,
   "id": "b06afefc",
   "metadata": {},
   "outputs": [],
   "source": [
    "cluster_2['Count'].sum()"
   ]
  },
  {
   "cell_type": "markdown",
   "id": "08845cd2",
   "metadata": {},
   "source": [
    "Cluster 2 was dominated by `album rock` followed by `adult standards` and `dutch cabaret`.\n",
    "\n",
    "---"
   ]
  },
  {
   "cell_type": "markdown",
   "id": "33c574de",
   "metadata": {},
   "source": [
    "#### Cluster 3"
   ]
  },
  {
   "cell_type": "code",
   "execution_count": null,
   "id": "d51ff553",
   "metadata": {},
   "outputs": [],
   "source": [
    "cluster_3 = test[test['Cluster'] == 3].sort_values(by='Count', ascending=False).copy()\n",
    "\n",
    "plt.barh(cluster_3['Genre'],cluster_3['Count'])\n",
    "plt.show()"
   ]
  },
  {
   "cell_type": "code",
   "execution_count": null,
   "id": "ae668cd1",
   "metadata": {},
   "outputs": [],
   "source": [
    "cluster_3"
   ]
  },
  {
   "cell_type": "code",
   "execution_count": null,
   "id": "aba4cccd",
   "metadata": {},
   "outputs": [],
   "source": [
    "cluster_3['Count'].sum()"
   ]
  },
  {
   "cell_type": "markdown",
   "id": "fd0831cc",
   "metadata": {},
   "source": [
    "A majority of `Cluster 3` also consisted of `album rock` and `dance pop`.\n",
    "\n",
    "---"
   ]
  },
  {
   "cell_type": "markdown",
   "id": "80952471",
   "metadata": {},
   "source": [
    "#### Cluster 4"
   ]
  },
  {
   "cell_type": "code",
   "execution_count": null,
   "id": "0bc91c72",
   "metadata": {},
   "outputs": [],
   "source": [
    "cluster_4 = test[test['Cluster'] == 4].sort_values(by='Count', ascending=False).copy()\n",
    "\n",
    "plt.barh(cluster_4['Genre'],cluster_4['Count'])\n",
    "plt.show()"
   ]
  },
  {
   "cell_type": "code",
   "execution_count": null,
   "id": "1d2ef884",
   "metadata": {},
   "outputs": [],
   "source": [
    "cluster_4"
   ]
  },
  {
   "cell_type": "code",
   "execution_count": null,
   "id": "b192b443",
   "metadata": {},
   "outputs": [],
   "source": [
    "cluster_4['Count'].sum()"
   ]
  },
  {
   "cell_type": "code",
   "execution_count": null,
   "id": "14cb260b",
   "metadata": {},
   "outputs": [],
   "source": [
    "groups[1]"
   ]
  },
  {
   "cell_type": "markdown",
   "id": "316d656f",
   "metadata": {},
   "source": [
    "`Cluster 4` was dominated by `album rock` and `dutch pop`."
   ]
  },
  {
   "cell_type": "code",
   "execution_count": null,
   "id": "eaa5b6e5",
   "metadata": {},
   "outputs": [],
   "source": [
    "groups[1]"
   ]
  },
  {
   "cell_type": "markdown",
   "id": "63f57c95",
   "metadata": {},
   "source": [
    "We can see here that `Cluster 0` has the highest `energy` and `speechiness` out of all the clusters, while also having the lowest `acousticness`. The prominence of `rock` and `metal` tracks in the cluster makes sense, as songs from the aforementioned genres tend to use a lot of electronic sounds and instruments, thus lowering its acousticness. \n",
    "\n",
    "Songs from `Cluster 1`, on the other hand, had the lowest `energy` and `speechiness`, as well as relatively low `valence`. It also had the highest `acousticness`. Low `valence` indicates more negative-sounding songs, which can have emotions such as sadness, depression, anger, etc. But because its `energy` is really low relatively speaking, we can speculate that the songs in this cluster have more of an sad and depressive mood because of the assumption that songs with a sadder, melancholic mood would have less `energy` as well. Its high marks in `acousticness` also supports this assumption, as a lot of sad and emotional songs tend to be sang acoustically. \n",
    "\n",
    "`Cluster 2`'s Songs had relatively high `danceability`, `acousticness` and `valence`. This would explain the prominence of songs from the genre of `Dutch Cabaret`, which tends to be played with non-electric instruments and a more positive tune. It is also often danced to.\n",
    "\n",
    "Songs from `Cluster 3` had the highest `danceability` and `valence`, as well as relatively high `energy` and `speechiness`, while having relatively low `acousticness`. Songs with high `valence` tend to be associated with high `energy` and `danceability` as it helps create a more upbeat mood and environment. Its low `acousticness` implies the use of electronic sounds and instruments, which would explain the prominence of `rock` and `dance pop` in the cluster.\n",
    "\n",
    "`Cluster 4`'s songs had the lowest `danceability`, and `valence`, as well as relatively low `energy` and `speechiness`. "
   ]
  },
  {
   "cell_type": "markdown",
   "id": "cb35d582",
   "metadata": {},
   "source": [
    "### Analysis Per Genre"
   ]
  },
  {
   "cell_type": "markdown",
   "id": "1e4e788d",
   "metadata": {},
   "source": [
    "Due to the wide variety of different genres, we'll only be looking at and analyzing the Top 3 Genres with the higest count of tracks."
   ]
  },
  {
   "cell_type": "code",
   "execution_count": null,
   "id": "093a2b03",
   "metadata": {},
   "outputs": [],
   "source": [
    "print(genre_df['top_genre'].value_counts())"
   ]
  },
  {
   "cell_type": "markdown",
   "id": "f59a6d37",
   "metadata": {},
   "source": [
    "Let's first look at the genre `Album Rock`"
   ]
  },
  {
   "cell_type": "code",
   "execution_count": null,
   "id": "dafcfc20",
   "metadata": {},
   "outputs": [],
   "source": [
    "test.loc[test[\"Genre\"]==\"album rock\"]"
   ]
  },
  {
   "cell_type": "code",
   "execution_count": null,
   "id": "2302b95f",
   "metadata": {},
   "outputs": [],
   "source": [
    "plt.bar(test.loc[test[\"Genre\"]==\"album rock\"]['Cluster'],test.loc[test[\"Genre\"]==\"album rock\"]['Count'])\n",
    "plt.show()"
   ]
  },
  {
   "cell_type": "markdown",
   "id": "de6e1c14",
   "metadata": {},
   "source": [
    "122 of the album rock tracks went to the `Cluster 3`, making it the most prominent Cluster for the genre. It was least prominent in `Cluster 1`"
   ]
  },
  {
   "cell_type": "markdown",
   "id": "6516116d",
   "metadata": {},
   "source": [
    "Next, let's look at `Adult Standards`"
   ]
  },
  {
   "cell_type": "code",
   "execution_count": null,
   "id": "9f51a77f",
   "metadata": {},
   "outputs": [],
   "source": [
    "test.loc[test[\"Genre\"]==\"adult standards\"]"
   ]
  },
  {
   "cell_type": "code",
   "execution_count": null,
   "id": "1d2f70fa",
   "metadata": {},
   "outputs": [],
   "source": [
    "plt.bar(test.loc[test[\"Genre\"]==\"adult standards\"]['Cluster'],test.loc[test[\"Genre\"]==\"adult standards\"]['Count'])\n",
    "plt.show()"
   ]
  },
  {
   "cell_type": "markdown",
   "id": "79dae24b",
   "metadata": {},
   "source": [
    "Majority of songs belonging to the `adult standards` genre was grouped into `Cluster 1`. Songs from this genre had no presence whatsoever in `Cluster 0`."
   ]
  },
  {
   "cell_type": "markdown",
   "id": "83ceac3c",
   "metadata": {},
   "source": [
    "Lastly, let's look at `dutch pop`"
   ]
  },
  {
   "cell_type": "code",
   "execution_count": null,
   "id": "6d2f99a3",
   "metadata": {},
   "outputs": [],
   "source": [
    "test.loc[test[\"Genre\"]==\"dutch pop\"]"
   ]
  },
  {
   "cell_type": "code",
   "execution_count": null,
   "id": "798ef4d7",
   "metadata": {},
   "outputs": [],
   "source": [
    "plt.bar(test.loc[test[\"Genre\"]==\"dutch pop\"]['Cluster'],test.loc[test[\"Genre\"]==\"dutch pop\"]['Count'])\n",
    "plt.show()"
   ]
  },
  {
   "cell_type": "markdown",
   "id": "dd697e06",
   "metadata": {},
   "source": [
    "`dutch pop` was most prominent in `Cluster 0` with 24 entries, and least prominent in `Cluster 3` and `Cluster 2`."
   ]
  },
  {
   "cell_type": "markdown",
   "id": "03eea479",
   "metadata": {},
   "source": [
    "## Insights and Conclusion"
   ]
  },
  {
   "cell_type": "markdown",
   "id": "52e14fb1",
   "metadata": {},
   "source": [
    "Based on our statistical inference and  clustering analysis, we've been able to somewhat conclude which genres are similar based on some of the different sound features used by Spotify, such as `energy`, `danceability`, `acousticness`, `valence`, and `speechiness`. \n",
    "\n",
    "We've found that it was quite difficult to define and highlight a relationship of similarity between two or multiple genres due to the variety of songs each of them cover. However, we believe that we've found sufficient evidence to prove that certain genres can be grouped together based on these sound attributes. \n",
    "\n",
    "Cluster 0 was heavily dominated by `rock` and `metal` genres, as well as genres that tend to have high `energy` and low `acousticness`. This included album rock and alternative metal. \n",
    "\n",
    "On the other hand, slower and more emotional songs were most prominent in Cluster 1, taking over 40% of songs from the genre, `adult standards`. It's also home to a large chunk of genres `dutch indie` and `dutch pop`. \n",
    "\n",
    "Cluster 2 can be described to be more \"Musical-ish\", with very upbeat and acoustic tones that make it very easy to dance to. You can also find a huge portion of `dutch cabaret` and `british invasion` in here. \n",
    "\n",
    "In Cluster 3, you can expect to find more electronic, upbeat, and danceable genres such as `dance pop` , `album rock` and `dance rock`. \n",
    "\n",
    "Lastly, in Cluster 4 is where you can find genres with songs that tend be slower and moodier in nature, such as `dutch pop` and `adult standards`.\n",
    "\n",
    "Among all the genres, though, `album rock` topped pretty much all of the clusters. The fact that it was the genre with the most amount of value counts in the dataset may have contributed to that. However, upon our research, `album rock` is a loosely-bound genre itself. It doesn't necessarily refer to a specific style of rock, but rather its format--rock songs that are part of an album. Because of this, `album rock` attributes naturally vary, and so some album rock songs can be more similar to more heavy rock-oriented genres such as `alternative metal`, while others can be more similar to `pop` or other pop genres.\n",
    "\n",
    "Another prominent genre among the clusters was `adult standards`. According to [Wikipedia](https://en.wikipedia.org/wiki/Adult_standards), the adult standards genre \"is aimed at 'mature' adults, meaning mainly those people over 50 years of age, but it is mostly targeted for senior citizens.\" Similar to `album rock`, it can encompass a fairly wide range of genres as well, and is more indicative of its format than its musical qualities. However, artists commonly associated with `adult standards` such as Frank Sinatra and Ella Fitzgerald do have music which can be described as less \"energetic\" than music in later decades. As such, it's no wonder the genre was absent in `Cluster 0`, which was dominated by heavy rock genres.\n",
    "\n",
    "Throughout the analysis and process, we've realized that songs under a single genre can be quite varying in terms of sound features, at least a lot more than we initially expected, which definitely affected the results and steps we needed to take in order to achieve them. With that said, although no set genre is fully defined by a single cluster, the clustering process still helped us identify which genres are vaguely similar by taking a closer look at the sound features per cluster, which was obtained using the centroids used during the clustering process. These sound features helped us understand the relationships between the genres more, and gave us insight as to how they could be perceived as similar."
   ]
  },
  {
   "cell_type": "code",
   "execution_count": null,
   "id": "8a9289f2",
   "metadata": {},
   "outputs": [],
   "source": []
  }
 ],
 "metadata": {
  "kernelspec": {
   "display_name": "Python 3 (ipykernel)",
   "language": "python",
   "name": "python3"
  },
  "language_info": {
   "codemirror_mode": {
    "name": "ipython",
    "version": 3
   },
   "file_extension": ".py",
   "mimetype": "text/x-python",
   "name": "python",
   "nbconvert_exporter": "python",
   "pygments_lexer": "ipython3",
   "version": "3.9.12"
  }
 },
 "nbformat": 4,
 "nbformat_minor": 5
}
