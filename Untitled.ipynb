{
 "cells": [
  {
   "cell_type": "markdown",
   "id": "4a754d0e",
   "metadata": {
    "id": "lq-jDrkmr4fM"
   },
   "source": [
    "# Spotify - All Time Top 2000s Mega Dataset\n",
    "by: Bondoc, Alyana; Dalisay, Andres; To, Justin\n",
    "\n",
    "We will be using the dataset [Spotify - All Time Top 2000s Mega Dataset](https://www.kaggle.com/datasets/iamsumat/spotify-top-2000s-mega-dataset) for this project. "
   ]
  },
  {
   "cell_type": "markdown",
   "id": "d0635d2e",
   "metadata": {
    "id": "odsSi-Igr4fU"
   },
   "source": [
    "## Import\n",
    "Import **numpy** and **pandas**.\n",
    "\n",
    "\n",
    "* **`pandas`** is a software library for Python that is designed for data manipulation and data analysis. \n",
    "* **`matplotlib`** is a software libary for data visualization, which allows us to easily render various types of graphs. "
   ]
  },
  {
   "cell_type": "code",
   "execution_count": 1,
   "id": "06c94b47",
   "metadata": {},
   "outputs": [],
   "source": [
    "import numpy as np\n",
    "import pandas as pd\n",
    "import matplotlib.pyplot as plt\n",
    "\n",
    "%load_ext autoreload\n",
    "%autoreload 2"
   ]
  },
  {
   "cell_type": "markdown",
   "id": "09973cbb",
   "metadata": {
    "id": "wAP6wrLfr4fV"
   },
   "source": [
    "## The Dataset\n",
    "\n",
    "The dataset consists of a list of the top tracks to have come out between 1956 and 2019 that are available on Spotify. It contains information about the track and how it scales across multiple sound features. The dataset was extracted from the playlist, “Top 2000s”, on Spotify. The data was then passed to PlaylistMachinery(@plamere), which was then able to retrieve attributes per song in the playlist. Sumat Singh then scraped the data from the site using Python with Selenium to form the dataset that the group will be using for the analysis.\n",
    "\n",
    "The dataset contains 15 different columns that represent an attribute as well as 1995 different rows wherein 1994 of them represent an observation with 1 representing the column names, thus giving it a shape of (1995,15).\n",
    "\n",
    "The column/variables consist of: \n",
    "\n",
    "- **`Title`**: Title of the track.\n",
    "- **`Artist`**: Artist/group who made the track.\n",
    "- **`Top Genre`**: Genre of the track.\n",
    "- **`Year`**: Year the track was released.\n",
    "- **`Length`**: Duration of the track in seconds.\n",
    "- **`Beats Per Minute`**: Average count of beats per 1 minute interval of the track.\n",
    "- **`Energy`**: Scale measuring how energetic and upbeat the track is. The higher the value, the more energetic.\n",
    "- **`Danceability`**: Scale measuring how usable the track is for dancing. The higher the value, the more danceable.\n",
    "- **`Loudness`**: Scale measuring how loud the track is, measured in decibels. The higher the value, the louder.\n",
    "- **`Valence`**: Scale measuring the mood of the song, whether it be positive or negative. The higher the value, the more positive.\n",
    "- **`Accoustic`**: Scale measuring how acoustic the track is. The higher the value, the more acoustic.\n",
    "- **`Speechiness`**: Scale measuring the track’s word count. The higher the value, the more words were used.\n",
    "- **`Liveliness`**: Scale measuring the likeliness that it is a live recording. The higher the value, the more likely it is that the track was recorded live.\n",
    "- **`Popularity`**: Scale measuring how popular the song is. The higher the value, the more popular the song is as of 2019.\n",
    "\n",
    "\n",
    "The dataset is provided to you as a `.csv` file. `.csv` means comma-separated values. "
   ]
  },
  {
   "cell_type": "code",
   "execution_count": 2,
   "id": "932245e3",
   "metadata": {},
   "outputs": [
    {
     "data": {
      "text/html": [
       "<div>\n",
       "<style scoped>\n",
       "    .dataframe tbody tr th:only-of-type {\n",
       "        vertical-align: middle;\n",
       "    }\n",
       "\n",
       "    .dataframe tbody tr th {\n",
       "        vertical-align: top;\n",
       "    }\n",
       "\n",
       "    .dataframe thead th {\n",
       "        text-align: right;\n",
       "    }\n",
       "</style>\n",
       "<table border=\"1\" class=\"dataframe\">\n",
       "  <thead>\n",
       "    <tr style=\"text-align: right;\">\n",
       "      <th></th>\n",
       "      <th>Index</th>\n",
       "      <th>Title</th>\n",
       "      <th>Artist</th>\n",
       "      <th>Top Genre</th>\n",
       "      <th>Year</th>\n",
       "      <th>Beats Per Minute (BPM)</th>\n",
       "      <th>Energy</th>\n",
       "      <th>Danceability</th>\n",
       "      <th>Loudness (dB)</th>\n",
       "      <th>Liveness</th>\n",
       "      <th>Valence</th>\n",
       "      <th>Length (Duration)</th>\n",
       "      <th>Acousticness</th>\n",
       "      <th>Speechiness</th>\n",
       "      <th>Popularity</th>\n",
       "    </tr>\n",
       "  </thead>\n",
       "  <tbody>\n",
       "    <tr>\n",
       "      <th>0</th>\n",
       "      <td>1</td>\n",
       "      <td>Sunrise</td>\n",
       "      <td>Norah Jones</td>\n",
       "      <td>adult standards</td>\n",
       "      <td>2004</td>\n",
       "      <td>157</td>\n",
       "      <td>30</td>\n",
       "      <td>53</td>\n",
       "      <td>-14</td>\n",
       "      <td>11</td>\n",
       "      <td>68</td>\n",
       "      <td>201</td>\n",
       "      <td>94</td>\n",
       "      <td>3</td>\n",
       "      <td>71</td>\n",
       "    </tr>\n",
       "    <tr>\n",
       "      <th>1</th>\n",
       "      <td>2</td>\n",
       "      <td>Black Night</td>\n",
       "      <td>Deep Purple</td>\n",
       "      <td>album rock</td>\n",
       "      <td>2000</td>\n",
       "      <td>135</td>\n",
       "      <td>79</td>\n",
       "      <td>50</td>\n",
       "      <td>-11</td>\n",
       "      <td>17</td>\n",
       "      <td>81</td>\n",
       "      <td>207</td>\n",
       "      <td>17</td>\n",
       "      <td>7</td>\n",
       "      <td>39</td>\n",
       "    </tr>\n",
       "    <tr>\n",
       "      <th>2</th>\n",
       "      <td>3</td>\n",
       "      <td>Clint Eastwood</td>\n",
       "      <td>Gorillaz</td>\n",
       "      <td>alternative hip hop</td>\n",
       "      <td>2001</td>\n",
       "      <td>168</td>\n",
       "      <td>69</td>\n",
       "      <td>66</td>\n",
       "      <td>-9</td>\n",
       "      <td>7</td>\n",
       "      <td>52</td>\n",
       "      <td>341</td>\n",
       "      <td>2</td>\n",
       "      <td>17</td>\n",
       "      <td>69</td>\n",
       "    </tr>\n",
       "    <tr>\n",
       "      <th>3</th>\n",
       "      <td>4</td>\n",
       "      <td>The Pretender</td>\n",
       "      <td>Foo Fighters</td>\n",
       "      <td>alternative metal</td>\n",
       "      <td>2007</td>\n",
       "      <td>173</td>\n",
       "      <td>96</td>\n",
       "      <td>43</td>\n",
       "      <td>-4</td>\n",
       "      <td>3</td>\n",
       "      <td>37</td>\n",
       "      <td>269</td>\n",
       "      <td>0</td>\n",
       "      <td>4</td>\n",
       "      <td>76</td>\n",
       "    </tr>\n",
       "    <tr>\n",
       "      <th>4</th>\n",
       "      <td>5</td>\n",
       "      <td>Waitin' On A Sunny Day</td>\n",
       "      <td>Bruce Springsteen</td>\n",
       "      <td>classic rock</td>\n",
       "      <td>2002</td>\n",
       "      <td>106</td>\n",
       "      <td>82</td>\n",
       "      <td>58</td>\n",
       "      <td>-5</td>\n",
       "      <td>10</td>\n",
       "      <td>87</td>\n",
       "      <td>256</td>\n",
       "      <td>1</td>\n",
       "      <td>3</td>\n",
       "      <td>59</td>\n",
       "    </tr>\n",
       "    <tr>\n",
       "      <th>...</th>\n",
       "      <td>...</td>\n",
       "      <td>...</td>\n",
       "      <td>...</td>\n",
       "      <td>...</td>\n",
       "      <td>...</td>\n",
       "      <td>...</td>\n",
       "      <td>...</td>\n",
       "      <td>...</td>\n",
       "      <td>...</td>\n",
       "      <td>...</td>\n",
       "      <td>...</td>\n",
       "      <td>...</td>\n",
       "      <td>...</td>\n",
       "      <td>...</td>\n",
       "      <td>...</td>\n",
       "    </tr>\n",
       "    <tr>\n",
       "      <th>1989</th>\n",
       "      <td>1990</td>\n",
       "      <td>Heartbreak Hotel</td>\n",
       "      <td>Elvis Presley</td>\n",
       "      <td>adult standards</td>\n",
       "      <td>1958</td>\n",
       "      <td>94</td>\n",
       "      <td>21</td>\n",
       "      <td>70</td>\n",
       "      <td>-12</td>\n",
       "      <td>11</td>\n",
       "      <td>72</td>\n",
       "      <td>128</td>\n",
       "      <td>84</td>\n",
       "      <td>7</td>\n",
       "      <td>63</td>\n",
       "    </tr>\n",
       "    <tr>\n",
       "      <th>1990</th>\n",
       "      <td>1991</td>\n",
       "      <td>Hound Dog</td>\n",
       "      <td>Elvis Presley</td>\n",
       "      <td>adult standards</td>\n",
       "      <td>1958</td>\n",
       "      <td>175</td>\n",
       "      <td>76</td>\n",
       "      <td>36</td>\n",
       "      <td>-8</td>\n",
       "      <td>76</td>\n",
       "      <td>95</td>\n",
       "      <td>136</td>\n",
       "      <td>73</td>\n",
       "      <td>6</td>\n",
       "      <td>69</td>\n",
       "    </tr>\n",
       "    <tr>\n",
       "      <th>1991</th>\n",
       "      <td>1992</td>\n",
       "      <td>Johnny B. Goode</td>\n",
       "      <td>Chuck Berry</td>\n",
       "      <td>blues rock</td>\n",
       "      <td>1959</td>\n",
       "      <td>168</td>\n",
       "      <td>80</td>\n",
       "      <td>53</td>\n",
       "      <td>-9</td>\n",
       "      <td>31</td>\n",
       "      <td>97</td>\n",
       "      <td>162</td>\n",
       "      <td>74</td>\n",
       "      <td>7</td>\n",
       "      <td>74</td>\n",
       "    </tr>\n",
       "    <tr>\n",
       "      <th>1992</th>\n",
       "      <td>1993</td>\n",
       "      <td>Take Five</td>\n",
       "      <td>The Dave Brubeck Quartet</td>\n",
       "      <td>bebop</td>\n",
       "      <td>1959</td>\n",
       "      <td>174</td>\n",
       "      <td>26</td>\n",
       "      <td>45</td>\n",
       "      <td>-13</td>\n",
       "      <td>7</td>\n",
       "      <td>60</td>\n",
       "      <td>324</td>\n",
       "      <td>54</td>\n",
       "      <td>4</td>\n",
       "      <td>65</td>\n",
       "    </tr>\n",
       "    <tr>\n",
       "      <th>1993</th>\n",
       "      <td>1994</td>\n",
       "      <td>Blueberry Hill</td>\n",
       "      <td>Fats Domino</td>\n",
       "      <td>adult standards</td>\n",
       "      <td>1959</td>\n",
       "      <td>133</td>\n",
       "      <td>50</td>\n",
       "      <td>49</td>\n",
       "      <td>-10</td>\n",
       "      <td>16</td>\n",
       "      <td>83</td>\n",
       "      <td>148</td>\n",
       "      <td>74</td>\n",
       "      <td>3</td>\n",
       "      <td>56</td>\n",
       "    </tr>\n",
       "  </tbody>\n",
       "</table>\n",
       "<p>1994 rows × 15 columns</p>\n",
       "</div>"
      ],
      "text/plain": [
       "      Index                   Title                    Artist  \\\n",
       "0         1                 Sunrise               Norah Jones   \n",
       "1         2             Black Night               Deep Purple   \n",
       "2         3          Clint Eastwood                  Gorillaz   \n",
       "3         4           The Pretender              Foo Fighters   \n",
       "4         5  Waitin' On A Sunny Day         Bruce Springsteen   \n",
       "...     ...                     ...                       ...   \n",
       "1989   1990        Heartbreak Hotel             Elvis Presley   \n",
       "1990   1991               Hound Dog             Elvis Presley   \n",
       "1991   1992         Johnny B. Goode               Chuck Berry   \n",
       "1992   1993               Take Five  The Dave Brubeck Quartet   \n",
       "1993   1994          Blueberry Hill               Fats Domino   \n",
       "\n",
       "                Top Genre  Year  Beats Per Minute (BPM)  Energy  Danceability  \\\n",
       "0         adult standards  2004                     157      30            53   \n",
       "1              album rock  2000                     135      79            50   \n",
       "2     alternative hip hop  2001                     168      69            66   \n",
       "3       alternative metal  2007                     173      96            43   \n",
       "4            classic rock  2002                     106      82            58   \n",
       "...                   ...   ...                     ...     ...           ...   \n",
       "1989      adult standards  1958                      94      21            70   \n",
       "1990      adult standards  1958                     175      76            36   \n",
       "1991           blues rock  1959                     168      80            53   \n",
       "1992                bebop  1959                     174      26            45   \n",
       "1993      adult standards  1959                     133      50            49   \n",
       "\n",
       "      Loudness (dB)  Liveness  Valence Length (Duration)  Acousticness  \\\n",
       "0               -14        11       68               201            94   \n",
       "1               -11        17       81               207            17   \n",
       "2                -9         7       52               341             2   \n",
       "3                -4         3       37               269             0   \n",
       "4                -5        10       87               256             1   \n",
       "...             ...       ...      ...               ...           ...   \n",
       "1989            -12        11       72               128            84   \n",
       "1990             -8        76       95               136            73   \n",
       "1991             -9        31       97               162            74   \n",
       "1992            -13         7       60               324            54   \n",
       "1993            -10        16       83               148            74   \n",
       "\n",
       "      Speechiness  Popularity  \n",
       "0               3          71  \n",
       "1               7          39  \n",
       "2              17          69  \n",
       "3               4          76  \n",
       "4               3          59  \n",
       "...           ...         ...  \n",
       "1989            7          63  \n",
       "1990            6          69  \n",
       "1991            7          74  \n",
       "1992            4          65  \n",
       "1993            3          56  \n",
       "\n",
       "[1994 rows x 15 columns]"
      ]
     },
     "execution_count": 2,
     "metadata": {},
     "output_type": "execute_result"
    }
   ],
   "source": [
    "df = pd.read_csv(\"Spotify-2000.csv\")\n",
    "df"
   ]
  },
  {
   "cell_type": "markdown",
   "id": "0d4c2243",
   "metadata": {},
   "source": [
    "Let's check the data types of the variables."
   ]
  },
  {
   "cell_type": "code",
   "execution_count": 3,
   "id": "812c2bc9",
   "metadata": {},
   "outputs": [
    {
     "name": "stdout",
     "output_type": "stream",
     "text": [
      "Index                      int64\n",
      "Title                     object\n",
      "Artist                    object\n",
      "Top Genre                 object\n",
      "Year                       int64\n",
      "Beats Per Minute (BPM)     int64\n",
      "Energy                     int64\n",
      "Danceability               int64\n",
      "Loudness (dB)              int64\n",
      "Liveness                   int64\n",
      "Valence                    int64\n",
      "Length (Duration)         object\n",
      "Acousticness               int64\n",
      "Speechiness                int64\n",
      "Popularity                 int64\n",
      "dtype: object\n"
     ]
    }
   ],
   "source": [
    "print(df.dtypes);"
   ]
  },
  {
   "cell_type": "markdown",
   "id": "76d1f713",
   "metadata": {},
   "source": [
    "## Cleaning the Dataset\n",
    "\n",
    "Before we can start exploring our dataset, we have to clean it first in case there are inconsistencies that may incur problems in analysis."
   ]
  },
  {
   "cell_type": "markdown",
   "id": "eb58692f",
   "metadata": {},
   "source": [
    "The Title, Artist, Top Genre, and Length (Duration) columns all have the object datatype. In order to ensure the analysis to be accurate, the data type of 'Title', 'Artrist', and 'Top Genre' should be turned into string; and 'Length (Duration)' to int."
   ]
  },
  {
   "cell_type": "code",
   "execution_count": 4,
   "id": "4cdf112a",
   "metadata": {},
   "outputs": [],
   "source": [
    "df['Title'] = df['Title'].astype('string');\n",
    "df['Artist'] = df['Artist'].astype('string');\n",
    "df['Top Genre'] = df['Top Genre'].astype('string');\n",
    "\n",
    "# Some length values have commas in them, so remove the first before converting to int.\n",
    "df['Length (Duration)'] = df['Length (Duration)'].str.replace(',','');\n",
    "df['Length (Duration)'] = df['Length (Duration)'].astype(str).astype('int64');"
   ]
  },
  {
   "cell_type": "code",
   "execution_count": 5,
   "id": "84ae5ac1",
   "metadata": {},
   "outputs": [
    {
     "name": "stdout",
     "output_type": "stream",
     "text": [
      "Index                      int64\n",
      "Title                     string\n",
      "Artist                    string\n",
      "Top Genre                 string\n",
      "Year                       int64\n",
      "Beats Per Minute (BPM)     int64\n",
      "Energy                     int64\n",
      "Danceability               int64\n",
      "Loudness (dB)              int64\n",
      "Liveness                   int64\n",
      "Valence                    int64\n",
      "Length (Duration)          int64\n",
      "Acousticness               int64\n",
      "Speechiness                int64\n",
      "Popularity                 int64\n",
      "dtype: object\n"
     ]
    }
   ],
   "source": [
    "print(df.dtypes);"
   ]
  },
  {
   "cell_type": "markdown",
   "id": "f9b4bdc6",
   "metadata": {},
   "source": [
    "## Exploratory Data Analysis"
   ]
  },
  {
   "cell_type": "markdown",
   "id": "89349508",
   "metadata": {},
   "source": [
    "The `Spotify - All Time Top 2000s Mega Dataset` dataframe is a massive trove of information. Let's think about some questions we might want to answer with these data."
   ]
  },
  {
   "cell_type": "markdown",
   "id": "4edbe936",
   "metadata": {},
   "source": [
    "### Which genre has the highest mean popularity?\n",
    "\n",
    "To answer this question, the variables of interest are:\n",
    "- **`Top Genre`**: Genre of the track.\n",
    "- **`Popularity`**: Scale measuring how popular the song is. The higher the value, the more popular the song is as of 2019."
   ]
  },
  {
   "cell_type": "code",
   "execution_count": 6,
   "id": "504ae9f4",
   "metadata": {},
   "outputs": [
    {
     "data": {
      "text/plain": [
       "album rock              413\n",
       "adult standards         123\n",
       "dutch pop                88\n",
       "alternative rock         86\n",
       "dance pop                83\n",
       "                       ... \n",
       "happy hardcore            1\n",
       "australian americana      1\n",
       "electro house             1\n",
       "afropop                   1\n",
       "bebop                     1\n",
       "Name: Top Genre, Length: 149, dtype: Int64"
      ]
     },
     "execution_count": 6,
     "metadata": {},
     "output_type": "execute_result"
    }
   ],
   "source": [
    "df['Top Genre'].value_counts()"
   ]
  },
  {
   "cell_type": "code",
   "execution_count": 7,
   "id": "c038109f",
   "metadata": {},
   "outputs": [
    {
     "data": {
      "text/plain": [
       "rock              964\n",
       "pop               463\n",
       "easy listening    135\n",
       "folk              128\n",
       "metal              96\n",
       "r&b                64\n",
       "dance              36\n",
       "hip hop            35\n",
       "country            19\n",
       "funk               13\n",
       "reggae             12\n",
       "blues               8\n",
       "world               7\n",
       "punk                4\n",
       "jazz                4\n",
       "latin               3\n",
       "classical           2\n",
       "new age             1\n",
       "Name: Parent Genre, dtype: Int64"
      ]
     },
     "execution_count": 7,
     "metadata": {},
     "output_type": "execute_result"
    }
   ],
   "source": [
    "genre_df = df.copy()\n",
    "\n",
    "genre_df.loc[genre_df['Top Genre'].str.contains('rock', case=False), 'Top Genre'] = 'rock'\n",
    "genre_df.loc[genre_df['Top Genre'].str.contains('country', case=False), 'Top Genre'] = 'country'\n",
    "genre_df.loc[genre_df['Top Genre'].str.contains('pop', case=False), 'Top Genre'] = 'pop'\n",
    "genre_df.loc[genre_df['Top Genre'].str.contains('hip hop', case=False), 'Top Genre'] = 'hip hop'\n",
    "genre_df.loc[genre_df['Top Genre'].str.contains('jazz', case=False), 'Top Genre'] = 'jazz'\n",
    "genre_df.loc[genre_df['Top Genre'].str.contains('punk', case=False), 'Top Genre'] = 'punk'\n",
    "genre_df.loc[genre_df['Top Genre'].str.contains('metal', case=False), 'Top Genre'] = 'metal'\n",
    "genre_df.loc[genre_df['Top Genre'].str.contains('folk', case=False), 'Top Genre'] = 'folk'\n",
    "genre_df.loc[genre_df['Top Genre'].str.contains('reggae', case=False), 'Top Genre'] = 'reggae'\n",
    "genre_df.loc[genre_df['Top Genre'].str.contains('soul', case=False), 'Top Genre'] = 'r&b'\n",
    "genre_df.loc[genre_df['Top Genre'].str.contains('latin', case=False), 'Top Genre'] = 'latin'\n",
    "\n",
    "genre_df['Top Genre'] = genre_df['Top Genre'].replace({'christelijk': 'pop', 'ccm': 'pop',\n",
    "                                                    'carnaval limburg':'pop', 'dutch cabaret': 'pop',\n",
    "                                                    'adult standards': 'easy listening', 'dutch indie': 'folk',\n",
    "                                                    'indie pop':'rock', 'australian indie folk': 'folk',\n",
    "                                                    'alaska indie': 'country', 'icelandic indie': 'classical',\n",
    "                                                    'indie anthem-folk':'folk', 'classic soundtrack': 'easy listening',\n",
    "                                                    'classic schlager': 'pop', 'disco': 'r&b',\n",
    "                                                    'mellow gold':'rock', 'neo mellow': 'folk',\n",
    "                                                    'alternative dance': 'rock', 'eurodance': 'pop',\n",
    "                                                    'australian dance':'pop', 'gangster rap': 'hip hop',\n",
    "                                                    'scottish singer-songwriter': 'world', 'british singer-songwriter': 'folk',\n",
    "                                                    'irish singer-songwriter':'folk', 'diva house': 'dance',\n",
    "                                                    'australian americana': 'country', 'dutch americana': 'folk',\n",
    "                                                    'permanent wave':'rock', 'british invasion': 'rock',\n",
    "                                                    'big beat': 'dance', 'chanson': 'easy listening',\n",
    "                                                    'electro':'dance', 'big room': 'dance',\n",
    "                                                    'boy band': 'pop', 'g funk': 'hip hop',\n",
    "                                                    'dutch prog':'rock', 'celtic': 'world',\n",
    "                                                    'downtempo': 'dance', 'australian psych': 'metal',\n",
    "                                                    'gabba':'easy listening', 'streektaal': 'pop',\n",
    "                                                    'happy hardcore': 'pop', 'electronica': 'rock',\n",
    "                                                    'stomp and holler':'folk', 'laboratorio': 'classical',\n",
    "                                                    'compositional ambient': 'new age', 'basshall': 'dance',\n",
    "                                                    'trance':'dance', 'j-core': 'metal',\n",
    "                                                    'motown': 'r&b', 'levenslied': 'rock',\n",
    "                                                    'bebop':'jazz', 'edm': 'dance', 'electro house': 'dance'})\n",
    "\n",
    "extract = genre_df['Top Genre']\n",
    "df.insert(3, \"Parent Genre\", extract)\n",
    "df['Parent Genre'].value_counts()"
   ]
  },
  {
   "cell_type": "markdown",
   "id": "0acd9959",
   "metadata": {},
   "source": [
    "###  Which genre is the most prominent in the top 2000?\n",
    "\n",
    "To answer this question, the variables of interest is:\n",
    "- **`Top Genre`**: Genre of the track."
   ]
  },
  {
   "cell_type": "code",
   "execution_count": 8,
   "id": "d429b079",
   "metadata": {},
   "outputs": [
    {
     "data": {
      "text/plain": [
       "rock              964\n",
       "pop               463\n",
       "easy listening    135\n",
       "folk              128\n",
       "metal              96\n",
       "r&b                64\n",
       "dance              36\n",
       "hip hop            35\n",
       "country            19\n",
       "funk               13\n",
       "reggae             12\n",
       "blues               8\n",
       "world               7\n",
       "punk                4\n",
       "jazz                4\n",
       "latin               3\n",
       "classical           2\n",
       "new age             1\n",
       "Name: Parent Genre, dtype: Int64"
      ]
     },
     "execution_count": 8,
     "metadata": {},
     "output_type": "execute_result"
    }
   ],
   "source": [
    "genre_count_df = df['Parent Genre'].value_counts()\n",
    "genre_count_df"
   ]
  },
  {
   "cell_type": "code",
   "execution_count": 9,
   "id": "1c635ff1",
   "metadata": {},
   "outputs": [
    {
     "data": {
      "text/plain": [
       "Text(0.5, 1.0, 'Song count per genre')"
      ]
     },
     "execution_count": 9,
     "metadata": {},
     "output_type": "execute_result"
    },
    {
     "data": {
      "image/png": "[encoded data removed]",
      "text/plain": [
       "<Figure size 432x504 with 1 Axes>"
      ]
     },
     "metadata": {
      "needs_background": "light"
     },
     "output_type": "display_data"
    }
   ],
   "source": [
    "genre_count_df.plot.barh(figsize=(6,7)).invert_yaxis()\n",
    "plt.xlabel('Genre')\n",
    "plt.ylabel('Count')\n",
    "plt.title('Song count per genre')"
   ]
  },
  {
   "cell_type": "markdown",
   "id": "baef8a78",
   "metadata": {},
   "source": [
    "### Which half-decades have the most songs that are popular?\n",
    "\n",
    "To answer this question, the variables of interest is:\n",
    "- **`Year`**: Year the track was released."
   ]
  },
  {
   "cell_type": "code",
   "execution_count": 8,
   "id": "219038a1",
   "metadata": {},
   "outputs": [
    {
     "name": "stdout",
     "output_type": "stream",
     "text": [
      "63\n"
     ]
    }
   ],
   "source": [
    "print(df['Year'].nunique())"
   ]
  },
  {
   "cell_type": "code",
   "execution_count": 9,
   "id": "77d23fb4",
   "metadata": {},
   "outputs": [
    {
     "data": {
      "text/plain": [
       "array([[<AxesSubplot:title={'center':'Year'}>]], dtype=object)"
      ]
     },
     "execution_count": 9,
     "metadata": {},
     "output_type": "execute_result"
    },
    {
     "data": {
      "image/png": "[encoded data removed]",
      "text/plain": [
       "<Figure size 576x288 with 1 Axes>"
      ]
     },
     "metadata": {
      "needs_background": "light"
     },
     "output_type": "display_data"
    }
   ],
   "source": [
    "df.hist(\"Year\", bins=[1956, 1960, 1965, 1970, 1975, 1980, 1985, 1990, 1995, 2000, 2005, 2010, 2015, 2019], edgecolor='w', figsize=(8, 4))"
   ]
  },
  {
   "cell_type": "markdown",
   "id": "9e2afb74",
   "metadata": {},
   "source": [
    "As we can see from the histogram, the periods of 1975-1979, 1985-1989, and 2005-2009 were the peaks in terms of the amount of songs that are part of the Top 2000s as of 2019. \n",
    "\n",
    "There is also a steep increase of Top 2000s songs from the period of 1960-1964 to 1965-1969."
   ]
  },
  {
   "cell_type": "code",
   "execution_count": 10,
   "id": "17229ad3",
   "metadata": {},
   "outputs": [
    {
     "data": {
      "text/plain": [
       "115"
      ]
     },
     "execution_count": 10,
     "metadata": {},
     "output_type": "execute_result"
    }
   ],
   "source": [
    "# Number of songs from 1975-1979 with a Popularity value of >=60\n",
    "df.query('Year >= 1975 & Year <= 1979 & Popularity >= 60').sort_values(by=['Popularity'], ascending=False).shape[0]"
   ]
  },
  {
   "cell_type": "code",
   "execution_count": 11,
   "id": "4b8e0311",
   "metadata": {},
   "outputs": [
    {
     "data": {
      "text/plain": [
       "93"
      ]
     },
     "execution_count": 11,
     "metadata": {},
     "output_type": "execute_result"
    }
   ],
   "source": [
    "# Number of songs from 1985-1989 with a Popularity value of >=60\n",
    "df.query('Year >= 1985 & Year <= 1989 & Popularity >= 60').sort_values(by=['Popularity'], ascending=False).shape[0]"
   ]
  },
  {
   "cell_type": "code",
   "execution_count": 12,
   "id": "90531e89",
   "metadata": {},
   "outputs": [
    {
     "data": {
      "text/plain": [
       "95"
      ]
     },
     "execution_count": 12,
     "metadata": {},
     "output_type": "execute_result"
    }
   ],
   "source": [
    "# Number of songs from 2005-2009 with a Popularity value of >=60\n",
    "df.query('Year >= 2005 & Year <= 2009 & Popularity >= 60').sort_values(by=['Popularity'], ascending=False).shape[0]"
   ]
  },
  {
   "cell_type": "code",
   "execution_count": null,
   "id": "7d63c545",
   "metadata": {},
   "outputs": [],
   "source": []
  }
 ],
 "metadata": {
  "kernelspec": {
   "display_name": "Python 3 (ipykernel)",
   "language": "python",
   "name": "python3"
  },
  "language_info": {
   "codemirror_mode": {
    "name": "ipython",
    "version": 3
   },
   "file_extension": ".py",
   "mimetype": "text/x-python",
   "name": "python",
   "nbconvert_exporter": "python",
   "pygments_lexer": "ipython3",
   "version": "3.9.12"
  }
 },
 "nbformat": 4,
 "nbformat_minor": 5
}
